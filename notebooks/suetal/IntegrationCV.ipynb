{
 "cells": [
  {
   "cell_type": "code",
   "execution_count": 1,
   "id": "4119d96b-3371-4ee8-be4e-1057db4b1b95",
   "metadata": {},
   "outputs": [
    {
     "name": "stderr",
     "output_type": "stream",
     "text": [
      "Global seed set to 0\n"
     ]
    }
   ],
   "source": [
    "import torch\n",
    "import numpy as np\n",
    "import scanpy as sc\n",
    "import pandas as pd\n",
    "import matplotlib.pyplot as plt\n",
    "import seaborn as sns\n",
    "from sklearn.metrics import classification_report\n",
    "import json\n",
    "import time\n",
    "import sys\n",
    "\n",
    "from scarches.dataset.trvae.data_handling import remove_sparsity\n",
    "from lataq.models import EMBEDCVAE\n",
    "\n",
    "from sklearn.neighbors import KNeighborsClassifier\n",
    "\n",
    "%load_ext autoreload\n",
    "%autoreload 2"
   ]
  },
  {
   "cell_type": "code",
   "execution_count": 2,
   "id": "87dd001f-a972-4abe-8b4a-07e8f78e3b86",
   "metadata": {},
   "outputs": [
    {
     "name": "stdout",
     "output_type": "stream",
     "text": [
      "Lataq model sample as batch integration covariate\n",
      "load data\n"
     ]
    },
    {
     "name": "stderr",
     "output_type": "stream",
     "text": [
      "/home/icb/carlo.dedonno/anaconda3/envs/lataq_cuda/lib/python3.8/site-packages/IPython/core/interactiveshell.py:3169: DtypeWarning: Columns (4,5,7,8,11) have mixed types.Specify dtype option on import or set low_memory=False.\n",
      "  has_raised = await self.run_ast_nodes(code_ast.body, cell_name,\n"
     ]
    }
   ],
   "source": [
    "covariate_key = 'sample'\n",
    "print(f'Lataq model {covariate_key} as batch integration covariate')\n",
    "print('load data')\n",
    "condition_key = covariate_key\n",
    "cell_type_key = ['predicted.celltype.l1']\n",
    "adata = sc.read(\n",
    "    '../../data/su_2020_rna.h5ad'\n",
    ")\n",
    "fred_full_meta = pd.read_csv('/lustre/groups/ml01/workspace/hediyehzadeh.s/shared_data/multigrate_multimil/notebooks/covid19_datasets_metadata_fredhutch.csv', index_col = 0)\n",
    "\n",
    "datasetkey = 'su_2020'\n",
    "fred_meta = fred_full_meta[fred_full_meta.dataset == datasetkey]\n",
    "adata.obs = fred_meta\n"
   ]
  },
  {
   "cell_type": "code",
   "execution_count": 3,
   "id": "1be375ec-b178-4033-b4fd-01a72e565d9b",
   "metadata": {},
   "outputs": [],
   "source": [
    "from sklearn.model_selection import KFold\n",
    "cv = KFold(n_splits=5, shuffle=True, random_state=42)"
   ]
  },
  {
   "cell_type": "code",
   "execution_count": 4,
   "id": "81c7e580-2f11-4001-a96c-79fb1350e294",
   "metadata": {},
   "outputs": [
    {
     "name": "stderr",
     "output_type": "stream",
     "text": [
      "/home/icb/carlo.dedonno/anaconda3/envs/lataq_cuda/lib/python3.8/site-packages/scanpy/preprocessing/_highly_variable_genes.py:62: UserWarning: `flavor='seurat_v3'` expects raw count data, but non-integers were found.\n",
      "  warnings.warn(\n"
     ]
    }
   ],
   "source": [
    "adata_tmp = adata.copy()\n",
    "sc.pp.normalize_total(adata_tmp)\n",
    "sc.pp.log1p(adata_tmp)\n",
    "sc.pp.highly_variable_genes(\n",
    "    adata_tmp, n_top_genes=2000, flavor=\"seurat_v3\", subset=False\n",
    ")\n",
    "adata = adata[:, adata_tmp.var['highly_variable']]"
   ]
  },
  {
   "cell_type": "code",
   "execution_count": 24,
   "id": "15595438-ce8b-43bd-a107-00c24f8d8cf7",
   "metadata": {},
   "outputs": [],
   "source": [
    "PARAMS = {\n",
    "    'EARLY_STOPPING_KWARGS': {                         #KWARGS FOR EARLY STOPPING\n",
    "        \"early_stopping_metric\": \"val_landmark_loss\",  ####value used for early stopping\n",
    "        \"mode\": \"min\",                                 ####choose if look for min or max\n",
    "        \"threshold\": 0,\n",
    "        \"patience\": 20,\n",
    "        \"reduce_lr\": True,\n",
    "        \"lr_patience\": 13,\n",
    "        \"lr_factor\": 0.1,\n",
    "    },\n",
    "}"
   ]
  },
  {
   "cell_type": "code",
   "execution_count": null,
   "id": "c0dd575f-3147-4558-afc2-da5a5ca565a1",
   "metadata": {},
   "outputs": [],
   "source": [
    "i = 1\n",
    "for train_samples, _ in cv.split(adata.obs['sample'].unique()):\n",
    "    sample_ref = adata.obs['sample'].unique()[train_samples]\n",
    "    query_adata = adata[~adata.obs['sample'].isin(sample_ref)]\n",
    "    labeled_idx = np.where(adata.obs['sample'].isin(sample_ref))[0]\n",
    "    lataq_model = EMBEDCVAE(\n",
    "        adata=adata,\n",
    "        condition_key=condition_key,\n",
    "        labeled_indices=labeled_idx,\n",
    "        cell_type_keys=cell_type_key,\n",
    "        hidden_layer_sizes=[128]*3,\n",
    "        latent_dim=30,\n",
    "        embedding_dim=20,\n",
    "        inject_condition=['encoder', 'decoder']\n",
    "    )\n",
    "    lataq_model.train(\n",
    "        n_epochs=50,\n",
    "        pretraining_epochs=45,\n",
    "        early_stopping_kwargs=PARAMS['EARLY_STOPPING_KWARGS'],\n",
    "        alpha_epoch_anneal=1e3,\n",
    "        eta=1,\n",
    "        clustering_res=2,\n",
    "        weight_decay=0,\n",
    "        use_stratified_sampling=False,\n",
    "        best_reload=False,\n",
    "    )\n",
    "    lataq_model.save(f'model_refandquery_cv{i}', overwrite=True)\n",
    "\n",
    "    lataq_model.model.eval()\n",
    "    adata_emb = sc.AnnData(X=lataq_model.model.embedding.weight.detach().cpu().numpy())\n",
    "    adata_emb.obs = adata.obs.groupby('sample').first().reindex(lataq_model.model.conditions)\n",
    "    adata_emb.obs.disease_severity = adata_emb.obs.disease_severity.astype('string')\n",
    "    adata_emb.obs.disease_severity[adata_emb.obs.disease_severity.isna()] = 'healthy'\n",
    "    adata_emb.obs.disease_severity = adata_emb.obs.disease_severity.astype('category')\n",
    "    adata_emb.obs['batch'] = '0'\n",
    "    adata_emb.obs['batch'][~adata_emb.obs.index.isin(sample_ref)] = '1'\n",
    "    for col in adata_emb.obs.columns:\n",
    "        adata_emb.obs[col] = adata_emb.obs[col].astype(str)\n",
    "    sc.pp.pca(adata_emb)\n",
    "    adata_emb.write(f'embedding_cv{i}.h5ad')\n",
    "    i += 1"
   ]
  },
  {
   "cell_type": "code",
   "execution_count": 5,
   "id": "2a6caba6-261e-4ebd-9055-f5d602f907cf",
   "metadata": {},
   "outputs": [
    {
     "name": "stdout",
     "output_type": "stream",
     "text": [
      "1\n",
      "2\n",
      "3\n",
      "4\n",
      "5\n"
     ]
    }
   ],
   "source": [
    "df_list = []\n",
    "for i in range(1, 6):\n",
    "    print(i)\n",
    "    adata_emb = sc.read(f'embedding_cv{i}.h5ad')\n",
    "    adata_emb.obs['disease_clf'] = adata_emb.obs['disease_severity'].astype('string')\n",
    "    adata_emb.obs['disease_clf'][adata_emb.obs['disease_clf'].isin(['healthy', 'mild'])] = 'healthy'\n",
    "    adata_emb.obs['disease_clf'][~adata_emb.obs['disease_clf'].isin(['healthy', 'mild'])] = 'covid'                             \n",
    "    adata_emb.obs['disease_clf'] = adata_emb.obs['disease_clf'].astype('category')\n",
    "    adata_emb = adata_emb[adata_emb.obs['disease_severity']!='healthy']\n",
    "    sc.pp.pca(adata_emb)\n",
    "    X_train = adata_emb.X[adata_emb.obs['batch']=='0']\n",
    "    X_test = adata_emb.X[adata_emb.obs['batch']=='1']\n",
    "    y_train = adata_emb.obs['disease_severity'][adata_emb.obs['batch']=='0'].values\n",
    "    y_test = adata_emb.obs['disease_severity'][adata_emb.obs['batch']=='1'].values\n",
    "    clf = KNeighborsClassifier(n_neighbors=4).fit(X_train, y_train)\n",
    "    y_pred = clf.predict(X_test)\n",
    "    df_list.append(pd.DataFrame(classification_report(y_test, y_pred, target_names=clf.classes_, output_dict=True)))"
   ]
  },
  {
   "cell_type": "code",
   "execution_count": 6,
   "id": "c47dbc91-e9dc-488c-8089-6a3596557d2d",
   "metadata": {},
   "outputs": [],
   "source": [
    "df_scpoli = pd.concat(df_list)"
   ]
  },
  {
   "cell_type": "code",
   "execution_count": 7,
   "id": "1d1a7908-cfac-46dd-a427-d5def81681b6",
   "metadata": {},
   "outputs": [],
   "source": [
    "from sklearn.model_selection import KFold\n",
    "cv = KFold(n_splits=5, shuffle=True, random_state=42)"
   ]
  },
  {
   "cell_type": "code",
   "execution_count": 8,
   "id": "f060ffe5-72ca-443b-89fe-fe3e735cebc4",
   "metadata": {},
   "outputs": [
    {
     "name": "stderr",
     "output_type": "stream",
     "text": [
      "/home/icb/carlo.dedonno/anaconda3/envs/lataq_cuda/lib/python3.8/site-packages/IPython/core/interactiveshell.py:3169: DtypeWarning: Columns (4,5,7,8,11) have mixed types.Specify dtype option on import or set low_memory=False.\n",
      "  has_raised = await self.run_ast_nodes(code_ast.body, cell_name,\n",
      "<ipython-input-8-777ac6e6ee12>:8: SettingWithCopyWarning: \n",
      "A value is trying to be set on a copy of a slice from a DataFrame\n",
      "\n",
      "See the caveats in the documentation: https://pandas.pydata.org/pandas-docs/stable/user_guide/indexing.html#returning-a-view-versus-a-copy\n",
      "  adata_raw.obs['disease_severity'][adata_raw.obs['disease_severity'].isna()] = 'healthy'\n",
      "/home/icb/carlo.dedonno/anaconda3/envs/lataq_cuda/lib/python3.8/site-packages/pandas/core/series.py:992: SettingWithCopyWarning: \n",
      "A value is trying to be set on a copy of a slice from a DataFrame\n",
      "\n",
      "See the caveats in the documentation: https://pandas.pydata.org/pandas-docs/stable/user_guide/indexing.html#returning-a-view-versus-a-copy\n",
      "  self._where(~key, value, inplace=True)\n"
     ]
    }
   ],
   "source": [
    "adata_raw = sc.read(\n",
    "    '../../data/su_2020_rna.h5ad'\n",
    ")\n",
    "fred_full_meta = pd.read_csv('/lustre/groups/ml01/workspace/hediyehzadeh.s/shared_data/multigrate_multimil/notebooks/covid19_datasets_metadata_fredhutch.csv', index_col = 0)\n",
    "datasetkey = 'su_2020'\n",
    "fred_meta = fred_full_meta[fred_full_meta.dataset == datasetkey]\n",
    "adata_raw.obs = fred_meta\n",
    "adata_raw.obs['disease_severity'][adata_raw.obs['disease_severity'].isna()] = 'healthy'"
   ]
  },
  {
   "cell_type": "code",
   "execution_count": 9,
   "id": "5d22b0e7-3f9b-4f34-a34d-6ac3b19a20ae",
   "metadata": {},
   "outputs": [
    {
     "name": "stderr",
     "output_type": "stream",
     "text": [
      "<ipython-input-9-57873529a024>:10: FutureWarning: X.dtype being converted to np.float32 from object. In the next version of anndata (0.9) conversion will not be automatic. Pass dtype explicitly to avoid this warning. Pass `AnnData(X, dtype=X.dtype, ...)` to get the future behavour.\n",
      "  adata_mean = sc.AnnData(res.values)\n",
      "/home/icb/carlo.dedonno/anaconda3/envs/lataq_cuda/lib/python3.8/site-packages/anndata/_core/anndata.py:798: UserWarning: \n",
      "AnnData expects .obs.index to contain strings, but got values like:\n",
      "    ['1-1', '1-2', '10-1', '10-2', '100-1']\n",
      "\n",
      "    Inferred to be: categorical\n",
      "\n",
      "  value_idx = self._prep_dim_index(value.index, attr)\n"
     ]
    }
   ],
   "source": [
    "sc.pp.normalize_total(adata_raw)\n",
    "sc.pp.log1p(adata_raw)\n",
    "adata_raw = adata_raw[:, adata.var_names].copy()\n",
    "adata_raw.obs['sample'] = adata_raw.obs['sample'].astype('category')\n",
    "res = pd.DataFrame(columns=adata_raw.var_names, index=adata_raw.obs['sample'].cat.categories)                                                                                                 \n",
    "\n",
    "for clust in adata_raw.obs['sample'].cat.categories: \n",
    "    res.loc[clust] = adata_raw[adata_raw.obs['sample'].isin([clust]),:].X.mean(0)\n",
    "    \n",
    "adata_mean = sc.AnnData(res.values)\n",
    "adata_mean.obs = adata_raw.obs.groupby('sample').first()"
   ]
  },
  {
   "cell_type": "code",
   "execution_count": 10,
   "id": "74de4372-766e-480f-befc-d3356d00694f",
   "metadata": {},
   "outputs": [
    {
     "name": "stderr",
     "output_type": "stream",
     "text": [
      "<ipython-input-10-7a0c0a691c5f>:7: SettingWithCopyWarning: \n",
      "A value is trying to be set on a copy of a slice from a DataFrame\n",
      "\n",
      "See the caveats in the documentation: https://pandas.pydata.org/pandas-docs/stable/user_guide/indexing.html#returning-a-view-versus-a-copy\n",
      "  adata_mean.obs['batch'][~adata_mean.obs.index.isin(sample_ref)] = '1'\n",
      "<ipython-input-10-7a0c0a691c5f>:7: SettingWithCopyWarning: \n",
      "A value is trying to be set on a copy of a slice from a DataFrame\n",
      "\n",
      "See the caveats in the documentation: https://pandas.pydata.org/pandas-docs/stable/user_guide/indexing.html#returning-a-view-versus-a-copy\n",
      "  adata_mean.obs['batch'][~adata_mean.obs.index.isin(sample_ref)] = '1'\n",
      "<ipython-input-10-7a0c0a691c5f>:7: SettingWithCopyWarning: \n",
      "A value is trying to be set on a copy of a slice from a DataFrame\n",
      "\n",
      "See the caveats in the documentation: https://pandas.pydata.org/pandas-docs/stable/user_guide/indexing.html#returning-a-view-versus-a-copy\n",
      "  adata_mean.obs['batch'][~adata_mean.obs.index.isin(sample_ref)] = '1'\n",
      "<ipython-input-10-7a0c0a691c5f>:7: SettingWithCopyWarning: \n",
      "A value is trying to be set on a copy of a slice from a DataFrame\n",
      "\n",
      "See the caveats in the documentation: https://pandas.pydata.org/pandas-docs/stable/user_guide/indexing.html#returning-a-view-versus-a-copy\n",
      "  adata_mean.obs['batch'][~adata_mean.obs.index.isin(sample_ref)] = '1'\n",
      "/home/icb/carlo.dedonno/anaconda3/envs/lataq_cuda/lib/python3.8/site-packages/sklearn/metrics/_classification.py:1248: UndefinedMetricWarning: Precision and F-score are ill-defined and being set to 0.0 in labels with no predicted samples. Use `zero_division` parameter to control this behavior.\n",
      "  _warn_prf(average, modifier, msg_start, len(result))\n",
      "/home/icb/carlo.dedonno/anaconda3/envs/lataq_cuda/lib/python3.8/site-packages/sklearn/metrics/_classification.py:1248: UndefinedMetricWarning: Precision and F-score are ill-defined and being set to 0.0 in labels with no predicted samples. Use `zero_division` parameter to control this behavior.\n",
      "  _warn_prf(average, modifier, msg_start, len(result))\n",
      "/home/icb/carlo.dedonno/anaconda3/envs/lataq_cuda/lib/python3.8/site-packages/sklearn/metrics/_classification.py:1248: UndefinedMetricWarning: Precision and F-score are ill-defined and being set to 0.0 in labels with no predicted samples. Use `zero_division` parameter to control this behavior.\n",
      "  _warn_prf(average, modifier, msg_start, len(result))\n",
      "<ipython-input-10-7a0c0a691c5f>:7: SettingWithCopyWarning: \n",
      "A value is trying to be set on a copy of a slice from a DataFrame\n",
      "\n",
      "See the caveats in the documentation: https://pandas.pydata.org/pandas-docs/stable/user_guide/indexing.html#returning-a-view-versus-a-copy\n",
      "  adata_mean.obs['batch'][~adata_mean.obs.index.isin(sample_ref)] = '1'\n"
     ]
    }
   ],
   "source": [
    "i = 1\n",
    "df_list = []\n",
    "#adata_mean = adata_mean[adata_mean.obs['disease_severity']!='healthy']\n",
    "for train_samples, _ in cv.split(adata_mean.obs.index.unique()):\n",
    "    sample_ref = adata_mean.obs.index.unique()[train_samples]\n",
    "    adata_mean.obs['batch'] = '0'\n",
    "    adata_mean.obs['batch'][~adata_mean.obs.index.isin(sample_ref)] = '1'\n",
    "    sc.pp.pca(adata_mean)\n",
    "    X_train = adata_mean[adata_mean.obs['batch']=='0'].obsm['X_pca']\n",
    "    X_test = adata_mean[adata_mean.obs['batch']=='1'].obsm['X_pca']\n",
    "    y_train = adata_mean.obs['disease_severity'][adata_mean.obs['batch']=='0'].values\n",
    "    y_test = adata_mean.obs['disease_severity'][adata_mean.obs['batch']=='1'].values\n",
    "    clf = KNeighborsClassifier(n_neighbors=4).fit(X_train, y_train)\n",
    "    y_pred = clf.predict(X_test)\n",
    "    df_list.append(pd.DataFrame(classification_report(y_test, y_pred, target_names=clf.classes_, output_dict=True)))"
   ]
  },
  {
   "cell_type": "code",
   "execution_count": 11,
   "id": "1943806e-caab-4302-8848-942ec97eb37c",
   "metadata": {},
   "outputs": [],
   "source": [
    "df_meangexp = pd.concat(df_list)"
   ]
  },
  {
   "cell_type": "code",
   "execution_count": 12,
   "id": "da79f2ca-d736-4499-822a-f9811cc5b274",
   "metadata": {},
   "outputs": [],
   "source": [
    "df_full = pd.concat([df_scpoli.assign(model='scPoli'), df_meangexp.assign(model='meanGE')])\n",
    "df_full = df_full.loc['f1-score']"
   ]
  },
  {
   "cell_type": "code",
   "execution_count": 13,
   "id": "c5aa6a47-238a-45b7-8a59-cf49254a1b53",
   "metadata": {},
   "outputs": [
    {
     "data": {
      "text/html": [
       "<div>\n",
       "<style scoped>\n",
       "    .dataframe tbody tr th:only-of-type {\n",
       "        vertical-align: middle;\n",
       "    }\n",
       "\n",
       "    .dataframe tbody tr th {\n",
       "        vertical-align: top;\n",
       "    }\n",
       "\n",
       "    .dataframe thead th {\n",
       "        text-align: right;\n",
       "    }\n",
       "</style>\n",
       "<table border=\"1\" class=\"dataframe\">\n",
       "  <thead>\n",
       "    <tr style=\"text-align: right;\">\n",
       "      <th></th>\n",
       "      <th>mild</th>\n",
       "      <th>moderate</th>\n",
       "      <th>severe</th>\n",
       "      <th>accuracy</th>\n",
       "      <th>macro avg</th>\n",
       "      <th>weighted avg</th>\n",
       "      <th>healthy</th>\n",
       "    </tr>\n",
       "    <tr>\n",
       "      <th>model</th>\n",
       "      <th></th>\n",
       "      <th></th>\n",
       "      <th></th>\n",
       "      <th></th>\n",
       "      <th></th>\n",
       "      <th></th>\n",
       "      <th></th>\n",
       "    </tr>\n",
       "  </thead>\n",
       "  <tbody>\n",
       "    <tr>\n",
       "      <th>meanGE</th>\n",
       "      <td>0.816327</td>\n",
       "      <td>0.585366</td>\n",
       "      <td>0.300000</td>\n",
       "      <td>0.611111</td>\n",
       "      <td>0.452167</td>\n",
       "      <td>0.602385</td>\n",
       "      <td>0.0</td>\n",
       "    </tr>\n",
       "    <tr>\n",
       "      <th>scPoli</th>\n",
       "      <td>0.809524</td>\n",
       "      <td>0.634146</td>\n",
       "      <td>0.307692</td>\n",
       "      <td>0.666667</td>\n",
       "      <td>0.580488</td>\n",
       "      <td>0.643095</td>\n",
       "      <td>NaN</td>\n",
       "    </tr>\n",
       "  </tbody>\n",
       "</table>\n",
       "</div>"
      ],
      "text/plain": [
       "            mild  moderate    severe  accuracy  macro avg  weighted avg  \\\n",
       "model                                                                     \n",
       "meanGE  0.816327  0.585366  0.300000  0.611111   0.452167      0.602385   \n",
       "scPoli  0.809524  0.634146  0.307692  0.666667   0.580488      0.643095   \n",
       "\n",
       "        healthy  \n",
       "model            \n",
       "meanGE      0.0  \n",
       "scPoli      NaN  "
      ]
     },
     "execution_count": 13,
     "metadata": {},
     "output_type": "execute_result"
    }
   ],
   "source": [
    "df_full.groupby('model').median()"
   ]
  },
  {
   "cell_type": "code",
   "execution_count": 41,
   "id": "7bda81c9-51bc-4632-bf27-75d9ddb0c0b9",
   "metadata": {},
   "outputs": [
    {
     "data": {
      "text/plain": [
       "5.000000000000004"
      ]
     },
     "execution_count": 41,
     "metadata": {},
     "output_type": "execute_result"
    }
   ],
   "source": [
    "(0.672 - 0.64) / 0.64 * 100"
   ]
  },
  {
   "cell_type": "code",
   "execution_count": 42,
   "id": "f033f2b7-4b13-4671-9ed8-e911547639c2",
   "metadata": {},
   "outputs": [
    {
     "data": {
      "text/plain": [
       "9.165302782324067"
      ]
     },
     "execution_count": 42,
     "metadata": {},
     "output_type": "execute_result"
    }
   ],
   "source": [
    "(0.667 - 0.611) / 0.611 * 100"
   ]
  },
  {
   "cell_type": "code",
   "execution_count": 43,
   "id": "84b16249-c4a8-43c8-9dbb-fef6c12a0827",
   "metadata": {},
   "outputs": [
    {
     "data": {
      "text/plain": [
       "6.525285481239811"
      ]
     },
     "execution_count": 43,
     "metadata": {},
     "output_type": "execute_result"
    }
   ],
   "source": [
    "(0.653 - 0.613) / 0.613 * 100"
   ]
  },
  {
   "cell_type": "code",
   "execution_count": 44,
   "id": "2ff69690-2e89-4b43-8501-cfce6c5500cf",
   "metadata": {},
   "outputs": [
    {
     "data": {
      "text/plain": [
       "8.646003262642749"
      ]
     },
     "execution_count": 44,
     "metadata": {},
     "output_type": "execute_result"
    }
   ],
   "source": [
    "(0.643 - 0.59) / 0.613 * 100"
   ]
  },
  {
   "cell_type": "code",
   "execution_count": 14,
   "id": "8396b409-5734-4b2d-bb67-27a06b8bdee8",
   "metadata": {},
   "outputs": [
    {
     "data": {
      "image/png": "[encoded data removed]",
      "text/plain": [
       "<Figure size 1200x800 with 2 Axes>"
      ]
     },
     "metadata": {
      "image/png": {
       "height": 769,
       "width": 1169
      },
      "needs_background": "light"
     },
     "output_type": "display_data"
    }
   ],
   "source": [
    "fig, ax = plt.subplots(1, 2, figsize=(6, 4), sharey=False)\n",
    "sns.barplot(x='model', y='accuracy', data=df_full, estimator=np.median, errorbar='se', ax=ax[0], palette=['#BA55D3', '#A0A0A0'])\n",
    "#sns.swarmplot(x='model', y='accuracy', data=df_full, ax=ax[0])\n",
    "ax[0].set_ylim(bottom=0.5)\n",
    "ax[0].grid(False)\n",
    "ax[0].set_ylabel('Accuracy')\n",
    "ax[0].set_xlabel('')\n",
    "sns.barplot(x='model', y='weighted avg', data=df_full, estimator=np.median, errorbar='se', ax=ax[1], palette=['#BA55D3', '#A0A0A0'])\n",
    "#sns.swarmplot(x='model', y='accuracy', data=df_full, ax=ax[1])\n",
    "ax[1].set_ylim(bottom=0.5)\n",
    "ax[1].grid(False)\n",
    "ax[1].set_ylabel('F1 score')\n",
    "ax[1].set_xlabel('')\n",
    "fig.tight_layout()\n",
    "sns.despine(offset=5)\n",
    "fig.savefig('classification_performance.png', dpi=400, bbox_inches='tight')"
   ]
  },
  {
   "cell_type": "code",
   "execution_count": null,
   "id": "7d3af384-a8f9-4818-95d4-984666b06d10",
   "metadata": {},
   "outputs": [],
   "source": []
  }
 ],
 "metadata": {
  "kernelspec": {
   "display_name": "Python 3",
   "language": "python",
   "name": "python3"
  },
  "language_info": {
   "codemirror_mode": {
    "name": "ipython",
    "version": 3
   },
   "file_extension": ".py",
   "mimetype": "text/x-python",
   "name": "python",
   "nbconvert_exporter": "python",
   "pygments_lexer": "ipython3",
   "version": "3.8.0"
  }
 },
 "nbformat": 4,
 "nbformat_minor": 5
}
