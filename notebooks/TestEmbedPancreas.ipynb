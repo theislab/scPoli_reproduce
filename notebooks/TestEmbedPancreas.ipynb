{
 "cells": [
  {
   "cell_type": "code",
   "execution_count": 1,
   "id": "c371501b-ee2a-42e6-a943-544cb13f877f",
   "metadata": {},
   "outputs": [],
   "source": [
    "import numpy as np\n",
    "import scanpy as sc\n",
    "import torch\n",
    "\n",
    "import matplotlib.pyplot as plt\n",
    "from scarches.dataset.trvae.data_handling import remove_sparsity\n",
    "from lataq.models import EMBEDCVAE, TRANVAE\n",
    "from sklearn.metrics import classification_report\n",
    "\n",
    "sc.settings.set_figure_params(dpi=200, frameon=False)\n",
    "sc.set_figure_params(dpi=200)\n",
    "torch.set_printoptions(precision=3, sci_mode=False, edgeitems=7)\n",
    "\n",
    "%load_ext autoreload\n",
    "%autoreload 2"
   ]
  },
  {
   "cell_type": "code",
   "execution_count": 2,
   "id": "2741da39-813c-4b06-be03-81a7b3d2cb6a",
   "metadata": {},
   "outputs": [],
   "source": [
    "unlabeled_strat = \"batch\"\n",
    "cells_per_ct = 2000\n",
    "\n",
    "# Model Params\n",
    "latent_dim = 10\n",
    "use_mmd = False\n",
    "\n",
    "# Training Params\n",
    "alpha_epoch_anneal = 1e6\n",
    "eta = 1\n",
    "tau = 0\n",
    "clustering_res = 2\n",
    "labeled_loss_metric = \"dist\"\n",
    "unlabeled_loss_metric = \"dist\"\n",
    "class_metric = \"dist\"\n",
    "\n",
    "early_stopping_kwargs = {\n",
    "    \"early_stopping_metric\": \"val_classifier_loss\",\n",
    "    \"mode\": \"min\",\n",
    "    \"threshold\": 0,\n",
    "    \"patience\": 20,\n",
    "    \"reduce_lr\": True,\n",
    "    \"lr_patience\": 13,\n",
    "    \"lr_factor\": 0.1,\n",
    "}\n",
    "\n",
    "cell_type_key = [\"cell_type\"]"
   ]
  },
  {
   "cell_type": "code",
   "execution_count": 3,
   "id": "87ab9c03-9019-4a2f-9aa9-dd5d85894785",
   "metadata": {},
   "outputs": [],
   "source": [
    "DATA_DIR = '../../lataq_reproduce/data'\n",
    "adata = sc.read(\n",
    "    f'{DATA_DIR}/pancreas.h5ad'\n",
    ")\n",
    "condition_key = 'study'\n",
    "reference = [\"inDrop1\", \"inDrop2\", \"inDrop3\", \"inDrop4\", \"fluidigmc1\", \"smartseq2\", \"smarter\"]\n",
    "query = [\"celseq\", \"celseq2\"]"
   ]
  },
  {
   "cell_type": "code",
   "execution_count": 4,
   "id": "f3e60f6b-3f06-4955-8478-2e5a55e79d44",
   "metadata": {},
   "outputs": [],
   "source": [
    "adata = remove_sparsity(adata)\n",
    "source_adata = adata[adata.obs[condition_key].isin(reference)]\n",
    "target_adata = adata[adata.obs[condition_key].isin(query)]\n",
    "indices = np.arange(len(adata))\n",
    "#stratified label/unlabeled split\n",
    "if unlabeled_strat == \"batch\":\n",
    "    labeled_ind = indices[adata.obs.study.isin(reference)].tolist()\n",
    "    labeled_adata = adata[adata.obs.study.isin(reference)].copy()\n",
    "    unlabeled_adata = adata[adata.obs.study.isin(query)].copy()\n",
    "if unlabeled_strat == \"ct\":\n",
    "    labeled_ind = []\n",
    "    cts = adata.obs[cell_type_key[0]].unique().tolist()\n",
    "    for celltype in cts:\n",
    "        ct_indices = indices[adata.obs[cell_type_key[0]].isin([celltype])]\n",
    "        ct_sel_ind = np.random.choice(ct_indices, size=cells_per_ct, replace=False)\n",
    "        labeled_ind += ct_sel_ind.tolist()\n",
    "        print(celltype, len(ct_indices), len(ct_sel_ind), len(labeled_ind))\n",
    "    unlabeled_ind = np.delete(indices, labeled_ind).tolist()\n",
    "    labeled_adata = adata[labeled_ind].copy()\n",
    "    unlabeled_adata = adata[unlabeled_ind].copy()"
   ]
  },
  {
   "cell_type": "code",
   "execution_count": 5,
   "id": "5c9e14e7-9d52-4ca6-8707-1e01f946de45",
   "metadata": {},
   "outputs": [
    {
     "name": "stdout",
     "output_type": "stream",
     "text": [
      "Embedding dictionary:\n",
      " \tNum conditions: 7\n",
      " \tEmbedding dim: 10\n",
      "Encoder Architecture:\n",
      "\tInput Layer in, out and cond: 4000 128 0\n",
      "\tHidden Layer 1 in/out: 128 128\n",
      "\tMean/Var Layer in/out: 128 10\n",
      "Decoder Architecture:\n",
      "\tFirst Layer in, out and cond:  10 128 10\n",
      "\tHidden Layer 1 in/out: 128 128\n",
      "\tOutput Layer in/out:  128 4000 \n",
      "\n"
     ]
    }
   ],
   "source": [
    "embed = EMBEDCVAE(\n",
    "    adata=source_adata,\n",
    "    condition_key=condition_key,\n",
    "    inject_condition = ['decoder'],\n",
    "    embedding_dim = 10,\n",
    "    cell_type_keys=cell_type_key,\n",
    "    hidden_layer_sizes=[128, 128],\n",
    "    latent_dim=latent_dim,\n",
    "    use_mmd=use_mmd,\n",
    "    labeled_indices=labeled_ind,\n",
    "    unknown_ct_names=None\n",
    ")"
   ]
  },
  {
   "cell_type": "code",
   "execution_count": null,
   "id": "b45fee64-86e1-4986-b418-875566d5a78c",
   "metadata": {},
   "outputs": [
    {
     "name": "stderr",
     "output_type": "stream",
     "text": [
      "Trying to set attribute `.obs` of view, copying.\n"
     ]
    }
   ],
   "source": [
    "embed.train(\n",
    "    n_epochs=500,\n",
    "    early_stopping_kwargs=early_stopping_kwargs,\n",
    "    pretraining_epochs=400,\n",
    "    alpha_epoch_anneal=alpha_epoch_anneal,\n",
    "    eta=100,\n",
    "    tau=tau,\n",
    "    clustering_res=clustering_res,\n",
    "    labeled_loss_metric=labeled_loss_metric,\n",
    "    unlabeled_loss_metric=unlabeled_loss_metric\n",
    ")"
   ]
  },
  {
   "cell_type": "code",
   "execution_count": null,
   "id": "bb310338-98b9-4374-8e9a-6fa586ff638a",
   "metadata": {},
   "outputs": [],
   "source": [
    "plt.plot(embed.trainer.logs['epoch_loss'])"
   ]
  },
  {
   "cell_type": "code",
   "execution_count": null,
   "id": "274ac7ab-54a7-467a-9a8a-5136bdf5673e",
   "metadata": {},
   "outputs": [],
   "source": [
    "data_latent = embed.get_latent(\n",
    "    labeled_adata.X, \n",
    "    labeled_adata.obs[condition_key].values\n",
    ")\n",
    "adata_latent_embed_dec = sc.AnnData(data_latent)\n",
    "adata_latent_embed_dec.obs['batch'] = labeled_adata.obs[condition_key].tolist()\n",
    "results_dict_embed_dec = embed.classify(\n",
    "    labeled_adata.X, \n",
    "    labeled_adata.obs[condition_key], \n",
    "    metric=class_metric\n",
    ")\n",
    "print(results_dict_embed_dec)\n",
    "sc.pp.neighbors(adata_latent_embed_dec)\n",
    "sc.tl.umap(adata_latent_embed_dec)\n",
    "sc.pl.umap(adata_latent_embed_dec, color='batch')"
   ]
  },
  {
   "cell_type": "code",
   "execution_count": null,
   "id": "8b4ac080-b584-435a-a924-8eb2d32187ec",
   "metadata": {},
   "outputs": [],
   "source": [
    "embedding = embed.model.embedding.weight.detach().cpu().numpy()\n",
    "from sklearn.decomposition import KernelPCA\n",
    "pca = KernelPCA(n_components=2, kernel='cosine')\n",
    "emb_pca = pca.fit_transform(embedding)"
   ]
  },
  {
   "cell_type": "code",
   "execution_count": null,
   "id": "0d8beab6-f593-4278-9724-cda83c4def35",
   "metadata": {},
   "outputs": [],
   "source": [
    "fig, ax = plt.subplots(1, 1, figsize=(5, 5))\n",
    "import seaborn as sns\n",
    "sns.scatterplot(emb_pca[:, 0], emb_pca[:, 1], source_adata.obs[condition_key].unique(), ax=ax)\n",
    "ax.legend(bbox_to_anchor=(1.05, 1), loc=2, borderaxespad=0.)\n",
    "for i, c in enumerate(adata.obs[condition_key].unique()):\n",
    "    ax.text(emb_pca[i, 0], emb_pca[i, 1], c)\n",
    "sns.despine()"
   ]
  },
  {
   "cell_type": "code",
   "execution_count": null,
   "id": "c9b1730c-52d8-4065-ab8e-36a9643293b8",
   "metadata": {},
   "outputs": [],
   "source": [
    "embed.save('tmp', overwrite=True)"
   ]
  },
  {
   "cell_type": "code",
   "execution_count": null,
   "id": "545c8eb0-fbd3-49e2-bcff-08f1930636ab",
   "metadata": {},
   "outputs": [],
   "source": [
    "embed_query = EMBEDCVAE.load_query_data(\n",
    "    adata=target_adata,\n",
    "    reference_model=f'tmp',\n",
    "    labeled_indices=[],\n",
    ")\n",
    "embed_query.train(\n",
    "    n_epochs=500,\n",
    "    early_stopping_kwargs=early_stopping_kwargs,\n",
    "    pretraining_epochs=100,\n",
    "    eta=eta,\n",
    "    tau=tau,\n",
    "    weight_decay=0,\n",
    "    clustering_res=clustering_res,\n",
    "    labeled_loss_metric=labeled_loss_metric,\n",
    "    unlabeled_loss_metric=unlabeled_loss_metric\n",
    ")"
   ]
  },
  {
   "cell_type": "code",
   "execution_count": null,
   "id": "06990e79-91c3-4387-9d4e-1d8215bd83a1",
   "metadata": {},
   "outputs": [],
   "source": [
    "embedding = embed_query.model.embedding.weight.detach().cpu().numpy()\n",
    "from sklearn.decomposition import KernelPCA\n",
    "pca = KernelPCA(n_components=2, kernel='cosine')\n",
    "emb_pca = pca.fit_transform(embedding)"
   ]
  },
  {
   "cell_type": "code",
   "execution_count": null,
   "id": "93b7a207-fcd6-4aab-94ab-65c5094d6c67",
   "metadata": {},
   "outputs": [],
   "source": [
    "fig, ax = plt.subplots(1, 1, figsize=(5, 5))\n",
    "import seaborn as sns\n",
    "sns.scatterplot(emb_pca[:, 0], emb_pca[:, 1], adata.obs[condition_key].unique(), ax=ax)\n",
    "ax.legend(bbox_to_anchor=(1.05, 1), loc=2, borderaxespad=0.)\n",
    "for i, c in enumerate(adata.obs[condition_key].unique()):\n",
    "    ax.text(emb_pca[i, 0], emb_pca[i, 1], c)\n",
    "sns.despine()"
   ]
  },
  {
   "cell_type": "code",
   "execution_count": 14,
   "id": "e484c4b3-cfce-45cc-bdbc-a713951a1d2b",
   "metadata": {},
   "outputs": [
    {
     "ename": "NameError",
     "evalue": "name 'results_dict' is not defined",
     "output_type": "error",
     "traceback": [
      "\u001b[0;31m---------------------------------------------------------------------------\u001b[0m",
      "\u001b[0;31mNameError\u001b[0m                                 Traceback (most recent call last)",
      "\u001b[0;32m<ipython-input-14-07761993228a>\u001b[0m in \u001b[0;36m<module>\u001b[0;34m\u001b[0m\n\u001b[1;32m      1\u001b[0m \u001b[0;32mfor\u001b[0m \u001b[0mi\u001b[0m \u001b[0;32min\u001b[0m \u001b[0mrange\u001b[0m\u001b[0;34m(\u001b[0m\u001b[0mlen\u001b[0m\u001b[0;34m(\u001b[0m\u001b[0mcell_type_key\u001b[0m\u001b[0;34m)\u001b[0m\u001b[0;34m)\u001b[0m\u001b[0;34m:\u001b[0m\u001b[0;34m\u001b[0m\u001b[0;34m\u001b[0m\u001b[0m\n\u001b[0;32m----> 2\u001b[0;31m     \u001b[0mpreds\u001b[0m \u001b[0;34m=\u001b[0m \u001b[0mresults_dict\u001b[0m\u001b[0;34m[\u001b[0m\u001b[0mi\u001b[0m\u001b[0;34m]\u001b[0m\u001b[0;34m[\u001b[0m\u001b[0;34m'preds'\u001b[0m\u001b[0;34m]\u001b[0m\u001b[0;34m\u001b[0m\u001b[0;34m\u001b[0m\u001b[0m\n\u001b[0m\u001b[1;32m      3\u001b[0m     \u001b[0mprobs\u001b[0m \u001b[0;34m=\u001b[0m \u001b[0mresults_dict\u001b[0m\u001b[0;34m[\u001b[0m\u001b[0mi\u001b[0m\u001b[0;34m]\u001b[0m\u001b[0;34m[\u001b[0m\u001b[0;34m'probs'\u001b[0m\u001b[0;34m]\u001b[0m\u001b[0;34m\u001b[0m\u001b[0;34m\u001b[0m\u001b[0m\n\u001b[1;32m      4\u001b[0m \u001b[0;34m\u001b[0m\u001b[0m\n\u001b[1;32m      5\u001b[0m     rep = classification_report(\n",
      "\u001b[0;31mNameError\u001b[0m: name 'results_dict' is not defined"
     ]
    }
   ],
   "source": [
    "for i in range(len(cell_type_key)):\n",
    "    preds = results_dict[i]['preds']\n",
    "    probs = results_dict[i]['probs']\n",
    "\n",
    "    rep = classification_report(\n",
    "            y_true=labeled_adata.obs[cell_type_key[i]],\n",
    "            y_pred=preds,\n",
    "            labels=np.array(labeled_adata.obs[cell_type_key[i]].unique().tolist())\n",
    "        )\n",
    "    correct_probs = probs[preds == labeled_adata.obs[cell_type_key[i]]]\n",
    "    incorrect_probs = probs[preds != labeled_adata.obs[cell_type_key[i]]]\n",
    "    data = [correct_probs, incorrect_probs]\n",
    "            \n",
    "    #correct, incorrect prob plot\n",
    "    fig, ax = plt.subplots()\n",
    "    ax.set_title('Default violin plot')\n",
    "    ax.set_ylabel('Observed values')\n",
    "    ax.violinplot(data)\n",
    "    labels = ['Correct', 'Incorrect']\n",
    "\n",
    "    checks = np.array(len(labeled_adata) * ['incorrect'])\n",
    "    checks[preds == labeled_adata.obs[cell_type_key[i]]] = 'correct'\n",
    "    adata_latent.obs[cell_type_key[i]] = labeled_adata.obs[cell_type_key[i]].tolist()\n",
    "    adata_latent.obs[f'{cell_type_key[i]}_pred'] = preds.tolist()\n",
    "    adata_latent.obs[f'{cell_type_key[i]}_bool'] = checks.tolist()"
   ]
  },
  {
   "cell_type": "code",
   "execution_count": null,
   "id": "59e5902f-2f1c-4a01-a8ba-70c0bd03cd43",
   "metadata": {},
   "outputs": [],
   "source": [
    "for i in range(len(cell_type_key)):\n",
    "    preds = results_dict_embed[i]['preds']\n",
    "    probs = results_dict_embed[i]['probs']\n",
    "\n",
    "    rep = classification_report(\n",
    "            y_true=labeled_adata.obs[cell_type_key[i]],\n",
    "            y_pred=preds,\n",
    "            labels=np.array(labeled_adata.obs[cell_type_key[i]].unique().tolist())\n",
    "        )\n",
    "    correct_probs = probs[preds == labeled_adata.obs[cell_type_key[i]]]\n",
    "    incorrect_probs = probs[preds != labeled_adata.obs[cell_type_key[i]]]\n",
    "    data = [correct_probs, incorrect_probs]\n",
    "            \n",
    "    #correct, incorrect prob plot\n",
    "    fig, ax = plt.subplots()\n",
    "    ax.set_title('Default violin plot')\n",
    "    ax.set_ylabel('Observed values')\n",
    "    ax.violinplot(data)\n",
    "    labels = ['Correct', 'Incorrect']\n",
    "\n",
    "    checks = np.array(len(labeled_adata) * ['incorrect'])\n",
    "    checks[preds == labeled_adata.obs[cell_type_key[i]]] = 'correct'\n",
    "    adata_latent.obs[cell_type_key[i]] = labeled_adata.obs[cell_type_key[i]].tolist()\n",
    "    adata_latent.obs[f'{cell_type_key[i]}_pred'] = preds.tolist()\n",
    "    adata_latent.obs[f'{cell_type_key[i]}_bool'] = checks.tolist()"
   ]
  },
  {
   "cell_type": "code",
   "execution_count": null,
   "id": "1e5b92c4-da34-4008-9782-5af321eafe2c",
   "metadata": {},
   "outputs": [],
   "source": []
  },
  {
   "cell_type": "code",
   "execution_count": null,
   "id": "a70ec689-e16e-4e77-adbf-95be41999d4f",
   "metadata": {},
   "outputs": [],
   "source": []
  }
 ],
 "metadata": {
  "kernelspec": {
   "display_name": "Python 3",
   "language": "python",
   "name": "python3"
  },
  "language_info": {
   "codemirror_mode": {
    "name": "ipython",
    "version": 3
   },
   "file_extension": ".py",
   "mimetype": "text/x-python",
   "name": "python",
   "nbconvert_exporter": "python",
   "pygments_lexer": "ipython3",
   "version": "3.8.0"
  }
 },
 "nbformat": 4,
 "nbformat_minor": 5
}
