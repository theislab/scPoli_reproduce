{
 "cells": [
  {
   "cell_type": "code",
   "execution_count": 1,
   "id": "720326f3",
   "metadata": {},
   "outputs": [],
   "source": [
    "import os\n",
    "import sys\n",
    "module_path = os.path.abspath(os.path.join('..'))\n",
    "if module_path not in sys.path:\n",
    "    sys.path.append(module_path)\n",
    "    \n",
    "import numpy as np\n",
    "import scanpy as sc\n",
    "import torch\n",
    "import matplotlib.pyplot as plt\n",
    "from sklearn.metrics import classification_report\n",
    "\n",
    "sc.settings.set_figure_params(dpi=200, frameon=False)\n",
    "sc.set_figure_params(dpi=200)\n",
    "torch.set_printoptions(precision=3, sci_mode=False, edgeitems=7)\n",
    "\n",
    "def set_axis_style(ax, labels):\n",
    "    ax.get_xaxis().set_tick_params(direction='out')\n",
    "    ax.xaxis.set_ticks_position('bottom')\n",
    "    ax.set_xticks(np.arange(1, len(labels) + 1))\n",
    "    ax.set_xticklabels(labels)\n",
    "    ax.set_xlim(0.25, len(labels) + 0.75)\n",
    "    ax.set_xlabel('Sample name')"
   ]
  },
  {
   "cell_type": "code",
   "execution_count": 2,
   "id": "0d86e126",
   "metadata": {},
   "outputs": [],
   "source": [
    "import scarches\n",
    "from scarches.dataset import remove_sparsity\n",
    "from lataq.models import TRANVAE"
   ]
  },
  {
   "cell_type": "markdown",
   "id": "2ae73378",
   "metadata": {},
   "source": [
    "# Create reference data without Delta cells and query data with Delta cells"
   ]
  },
  {
   "cell_type": "code",
   "execution_count": 3,
   "id": "15d362b7",
   "metadata": {},
   "outputs": [
    {
     "data": {
      "text/plain": [
       "AnnData object with n_obs × n_vars = 16382 × 4000\n",
       "    obs: 'study', 'cell_type', 'pred_label', 'pred_score'\n",
       "    obsm: 'X_seurat', 'X_symphony'"
      ]
     },
     "execution_count": 3,
     "metadata": {},
     "output_type": "execute_result"
    }
   ],
   "source": [
    "adata = sc.read(\n",
    "    f'../data/pancreas.h5ad'\n",
    ")\n",
    "adata"
   ]
  },
  {
   "cell_type": "code",
   "execution_count": 4,
   "id": "778db6b2",
   "metadata": {},
   "outputs": [],
   "source": [
    "condition_key = \"study\"\n",
    "cell_type_keys = [\"cell_type\"]\n",
    "remove_cts = [\"delta\"]\n",
    "\n",
    "reference = [\"inDrop1\", \"inDrop2\", \"inDrop3\", \"inDrop4\", \n",
    "             \"fluidigmc1\", \"smartseq2\", \"smarter\"]\n",
    "query = [\"celseq\", \"celseq2\"]"
   ]
  },
  {
   "cell_type": "code",
   "execution_count": 5,
   "id": "474e1ec7",
   "metadata": {},
   "outputs": [],
   "source": [
    "cell_type_key = cell_type_keys[-1]\n",
    "adata = remove_sparsity(adata)\n",
    "ref_adata = adata[adata.obs.study.isin(reference)].copy()\n",
    "ref_adata = ref_adata[~ref_adata.obs.cell_type.isin(remove_cts)].copy()\n",
    "query_adata = adata[adata.obs.study.isin(query)].copy()\n",
    "adata = ref_adata.concatenate(query_adata)"
   ]
  },
  {
   "cell_type": "markdown",
   "id": "c49557e5",
   "metadata": {},
   "source": [
    "#### Full Data processed"
   ]
  },
  {
   "cell_type": "code",
   "execution_count": 6,
   "id": "0b0667ef",
   "metadata": {},
   "outputs": [
    {
     "name": "stdout",
     "output_type": "stream",
     "text": [
      "AnnData object with n_obs × n_vars = 15580 × 4000\n",
      "    obs: 'study', 'cell_type', 'pred_label', 'pred_score', 'batch'\n",
      "    obsm: 'X_seurat', 'X_symphony'\n",
      "gamma 699\n",
      "acinar 1669\n",
      "alpha 5493\n",
      "beta 4169\n",
      "ductal 2142\n",
      "endothelial 313\n",
      "activated_stellate 464\n",
      "schwann 25\n",
      "mast 42\n",
      "macrophage 79\n",
      "epsilon 32\n",
      "quiescent_stellate 193\n",
      "t_cell 7\n",
      "delta 253\n"
     ]
    }
   ],
   "source": [
    "cts = adata.obs[cell_type_key].unique().tolist()\n",
    "print(adata)\n",
    "for celltype in cts:\n",
    "    print(celltype, len(adata[adata.obs.cell_type.isin([celltype])]))"
   ]
  },
  {
   "cell_type": "markdown",
   "id": "bfef7ed0",
   "metadata": {},
   "source": [
    "#### Reference Data"
   ]
  },
  {
   "cell_type": "code",
   "execution_count": 7,
   "id": "7d46d8a3",
   "metadata": {},
   "outputs": [
    {
     "name": "stdout",
     "output_type": "stream",
     "text": [
      "AnnData object with n_obs × n_vars = 12291 × 4000\n",
      "    obs: 'study', 'cell_type', 'pred_label', 'pred_score'\n",
      "    obsm: 'X_seurat', 'X_symphony'\n",
      "gamma 571\n",
      "acinar 1167\n",
      "alpha 4459\n",
      "beta 3563\n",
      "ductal 1557\n",
      "endothelial 287\n",
      "activated_stellate 355\n",
      "schwann 20\n",
      "mast 35\n",
      "macrophage 63\n",
      "epsilon 27\n",
      "quiescent_stellate 180\n",
      "t_cell 7\n"
     ]
    }
   ],
   "source": [
    "cts = ref_adata.obs[cell_type_key].unique().tolist()\n",
    "print(ref_adata)\n",
    "for celltype in cts:\n",
    "    print(celltype, len(ref_adata[ref_adata.obs.cell_type.isin([celltype])]))"
   ]
  },
  {
   "cell_type": "markdown",
   "id": "bc20d44e",
   "metadata": {},
   "source": [
    "#### Query Data"
   ]
  },
  {
   "cell_type": "code",
   "execution_count": 8,
   "id": "fc5dd0f2",
   "metadata": {},
   "outputs": [
    {
     "name": "stdout",
     "output_type": "stream",
     "text": [
      "AnnData object with n_obs × n_vars = 3289 × 4000\n",
      "    obs: 'study', 'cell_type', 'pred_label', 'pred_score'\n",
      "    obsm: 'X_seurat', 'X_symphony'\n",
      "gamma 128\n",
      "acinar 502\n",
      "alpha 1034\n",
      "delta 253\n",
      "beta 606\n",
      "ductal 585\n",
      "endothelial 26\n",
      "activated_stellate 109\n",
      "schwann 5\n",
      "mast 7\n",
      "macrophage 16\n",
      "epsilon 5\n",
      "quiescent_stellate 13\n"
     ]
    }
   ],
   "source": [
    "cts = query_adata.obs[cell_type_key].unique().tolist()\n",
    "print(query_adata)\n",
    "for celltype in cts:\n",
    "    print(celltype, len(query_adata[query_adata.obs.cell_type.isin([celltype])]))"
   ]
  },
  {
   "cell_type": "markdown",
   "id": "b1184ff5",
   "metadata": {},
   "source": [
    "#### Use the next cell only to simulate a semi labeled reference"
   ]
  },
  {
   "cell_type": "code",
   "execution_count": 9,
   "id": "c22b0c2d-de1a-4699-9a22-ad5964e66bca",
   "metadata": {},
   "outputs": [],
   "source": [
    "#cells_per_ct = 500\n",
    "#cell_type_key = \"cell_type\"\n",
    "#\n",
    "#indices = np.arange(len(ref_adata))\n",
    "#labeled_ind = []\n",
    "#cts = ref_adata.obs[cell_type_key].unique().tolist()\n",
    "#for celltype in cts:\n",
    "#    ct_indices = indices[ref_adata.obs[cell_type_key].isin([celltype])]\n",
    "#    ct_sample_size = cells_per_ct\n",
    "#    if cells_per_ct > len(ct_indices):\n",
    "#        ct_sample_size = len(ct_indices)\n",
    "#    ct_sel_ind = np.random.choice(\n",
    "#        ct_indices, \n",
    "#        size=ct_sample_size, \n",
    "#        replace=False\n",
    "#    )\n",
    "#    labeled_ind += ct_sel_ind.tolist()\n",
    "#    print(celltype, len(ct_indices), len(ct_sel_ind), len(labeled_ind))"
   ]
  },
  {
   "cell_type": "markdown",
   "id": "ec0cd1da",
   "metadata": {},
   "source": [
    "# Supervised Reference Training (100% labels used)"
   ]
  },
  {
   "cell_type": "code",
   "execution_count": 10,
   "id": "1ece1601",
   "metadata": {},
   "outputs": [
    {
     "name": "stdout",
     "output_type": "stream",
     "text": [
      "\n",
      "INITIALIZING NEW NETWORK..............\n",
      "Encoder Architecture:\n",
      "\tInput Layer in, out and cond: 4000 128 7\n",
      "\tHidden Layer 1 in/out: 128 128\n",
      "\tMean/Var Layer in/out: 128 10\n",
      "Decoder Architecture:\n",
      "\tFirst Layer in, out and cond:  10 128 7\n",
      "\tHidden Layer 1 in/out: 128 128\n",
      "\tOutput Layer in/out:  128 4000 \n",
      "\n"
     ]
    }
   ],
   "source": [
    "tranvae_ref = TRANVAE(\n",
    "    adata=ref_adata,\n",
    "    condition_key=condition_key,\n",
    "    cell_type_keys=cell_type_keys,\n",
    "    hidden_layer_sizes=[128, 128],\n",
    ")"
   ]
  },
  {
   "cell_type": "code",
   "execution_count": 11,
   "id": "28133fb7",
   "metadata": {},
   "outputs": [
    {
     "name": "stdout",
     "output_type": "stream",
     "text": [
      " |███████████---------| 58.4%  - val_loss: 998.6225585938 - val_trvae_loss: 998.0628112793 - val_landmark_loss: 0.5597425550 - val_labeled_loss: 0.559742555004\n",
      "ADJUSTED LR\n",
      " |███████████---------| 59.8%  - val_loss: 997.0893371582 - val_trvae_loss: 996.5737976074 - val_landmark_loss: 0.5155391365 - val_labeled_loss: 0.5155391365\n",
      "Stopping early: no improvement of more than 0 nats in 20 epochs\n",
      "If the early stopping criterion is too strong, please instantiate it with different parameters in the train method.\n",
      "Saving best state of network...\n",
      "Best State was in Epoch 277\n"
     ]
    }
   ],
   "source": [
    "early_stopping_kwargs = {\n",
    "    \"early_stopping_metric\": \"val_landmark_loss\",\n",
    "    \"mode\": \"min\",\n",
    "    \"threshold\": 0,\n",
    "    \"patience\": 20,\n",
    "    \"reduce_lr\": True,\n",
    "    \"lr_patience\": 13,\n",
    "    \"lr_factor\": 0.1,\n",
    "}\n",
    "\n",
    "tranvae_ref.train(\n",
    "    n_epochs=500,\n",
    "    early_stopping_kwargs=early_stopping_kwargs,\n",
    "    pretraining_epochs=200,\n",
    "    alpha_epoch_anneal=1e6,\n",
    "    eta=1,\n",
    "    clustering_res=2,\n",
    ")"
   ]
  },
  {
   "cell_type": "markdown",
   "id": "f4032ce4",
   "metadata": {},
   "source": [
    "# Unsupervised Query Training (0 labels used)"
   ]
  },
  {
   "cell_type": "code",
   "execution_count": 12,
   "id": "27a0ed68",
   "metadata": {},
   "outputs": [
    {
     "name": "stdout",
     "output_type": "stream",
     "text": [
      "\n",
      "INITIALIZING NEW NETWORK..............\n",
      "Encoder Architecture:\n",
      "\tInput Layer in, out and cond: 4000 128 9\n",
      "\tHidden Layer 1 in/out: 128 128\n",
      "\tMean/Var Layer in/out: 128 10\n",
      "Decoder Architecture:\n",
      "\tFirst Layer in, out and cond:  10 128 9\n",
      "\tHidden Layer 1 in/out: 128 128\n",
      "\tOutput Layer in/out:  128 4000 \n",
      "\n"
     ]
    }
   ],
   "source": [
    "tranvae = TRANVAE.load_query_data(\n",
    "    adata=query_adata,\n",
    "    reference_model=tranvae_ref,\n",
    "    labeled_indices=[],\n",
    ")"
   ]
  },
  {
   "cell_type": "code",
   "execution_count": 13,
   "id": "27130fab",
   "metadata": {},
   "outputs": [
    {
     "name": "stdout",
     "output_type": "stream",
     "text": [
      "Warning: Labels in adata.obs[cell_type] is not a subset of label-encoder!\n",
      "Therefore integer value of those labels is set to -1\n",
      "Warning: Labels in adata.obs[cell_type] is not a subset of label-encoder!\n",
      "Therefore integer value of those labels is set to -1\n",
      "\n",
      "Initializing unlabeled landmarks with Leiden-Clustering with an unknown number of clusters.\n",
      "Leiden Clustering succesful. Found 23 clusters.\n",
      " |███████████████-----| 77.0%  - val_loss: 1643.7260335286 - val_trvae_loss: 1643.7259114583 - val_landmark_loss: 0.0001158808 - val_unlabeled_loss: 0.1158808370\n",
      "ADJUSTED LR\n",
      " |███████████████-----| 78.4%  - val_loss: 1641.0191650391 - val_trvae_loss: 1641.0190429688 - val_landmark_loss: 0.0001170005 - val_unlabeled_loss: 0.1170005451\n",
      "Stopping early: no improvement of more than 0 nats in 20 epochs\n",
      "If the early stopping criterion is too strong, please instantiate it with different parameters in the train method.\n",
      "Saving best state of network...\n",
      "Best State was in Epoch 370\n"
     ]
    }
   ],
   "source": [
    "early_stopping_kwargs = {\n",
    "    \"early_stopping_metric\": \"val_loss\",\n",
    "    \"mode\": \"min\",\n",
    "    \"threshold\": 0,\n",
    "    \"patience\": 20,\n",
    "    \"reduce_lr\": True,\n",
    "    \"lr_patience\": 13,\n",
    "    \"lr_factor\": 0.1,\n",
    "}\n",
    "\n",
    "tranvae.train(\n",
    "    n_epochs=500,\n",
    "    early_stopping_kwargs=early_stopping_kwargs,\n",
    "    pretraining_epochs=0,\n",
    "    eta=1,\n",
    "    weight_decay=0,\n",
    "    clustering_res=2,\n",
    ")"
   ]
  },
  {
   "cell_type": "code",
   "execution_count": 14,
   "id": "991a4e5b",
   "metadata": {},
   "outputs": [],
   "source": [
    "tranvae.save(\n",
    "    'tmp',\n",
    "    overwrite=True\n",
    ")"
   ]
  },
  {
   "cell_type": "markdown",
   "id": "a1576012",
   "metadata": {},
   "source": [
    "# Reloading point if trained model already exists"
   ]
  },
  {
   "cell_type": "code",
   "execution_count": 15,
   "id": "3303adba",
   "metadata": {},
   "outputs": [
    {
     "name": "stdout",
     "output_type": "stream",
     "text": [
      "AnnData object with n_obs × n_vars = 3289 × 4000\n",
      "    obs: 'study', 'cell_type', 'pred_label', 'pred_score', 'trvae_size_factors', 'trvae_labeled'\n",
      "    obsm: 'X_seurat', 'X_symphony'\n",
      "\n",
      "INITIALIZING NEW NETWORK..............\n",
      "Encoder Architecture:\n",
      "\tInput Layer in, out and cond: 4000 128 9\n",
      "\tHidden Layer 1 in/out: 128 128\n",
      "\tMean/Var Layer in/out: 128 10\n",
      "Decoder Architecture:\n",
      "\tFirst Layer in, out and cond:  10 128 9\n",
      "\tHidden Layer 1 in/out: 128 128\n",
      "\tOutput Layer in/out:  128 4000 \n",
      "\n"
     ]
    }
   ],
   "source": [
    "tranvae = TRANVAE.load(\n",
    "    dir_path='tmp',\n",
    "    adata=query_adata,\n",
    ")"
   ]
  },
  {
   "cell_type": "markdown",
   "id": "c95c73ea",
   "metadata": {},
   "source": [
    "# Visualizing resulting adata latent representation and landmarks"
   ]
  },
  {
   "cell_type": "markdown",
   "id": "118fd12e",
   "metadata": {},
   "source": [
    "#### Unlabeled Query Data accuracy"
   ]
  },
  {
   "cell_type": "code",
   "execution_count": 16,
   "id": "f0ada669",
   "metadata": {},
   "outputs": [
    {
     "name": "stdout",
     "output_type": "stream",
     "text": [
      "                    precision    recall  f1-score   support\n",
      "\n",
      "             gamma       0.61      0.96      0.75       128\n",
      "            acinar       0.95      0.97      0.96       502\n",
      "             alpha       1.00      0.97      0.98      1034\n",
      "             delta       0.00      0.00      0.00       253\n",
      "              beta       0.77      1.00      0.87       606\n",
      "            ductal       0.97      0.96      0.96       585\n",
      "       endothelial       1.00      1.00      1.00        26\n",
      "activated_stellate       0.92      0.99      0.96       109\n",
      "           schwann       0.62      1.00      0.77         5\n",
      "              mast       1.00      0.71      0.83         7\n",
      "        macrophage       1.00      0.94      0.97        16\n",
      "           epsilon       0.22      1.00      0.36         5\n",
      "quiescent_stellate       1.00      0.69      0.82        13\n",
      "\n",
      "          accuracy                           0.90      3289\n",
      "         macro avg       0.77      0.86      0.79      3289\n",
      "      weighted avg       0.85      0.90      0.87      3289\n",
      "\n"
     ]
    },
    {
     "name": "stderr",
     "output_type": "stream",
     "text": [
      "/home/icb/carlo.dedonno/anaconda3/envs/lataq_cuda/lib/python3.8/site-packages/sklearn/metrics/_classification.py:1248: UndefinedMetricWarning: Precision and F-score are ill-defined and being set to 0.0 in labels with no predicted samples. Use `zero_division` parameter to control this behavior.\n",
      "  _warn_prf(average, modifier, msg_start, len(result))\n",
      "/home/icb/carlo.dedonno/anaconda3/envs/lataq_cuda/lib/python3.8/site-packages/sklearn/metrics/_classification.py:1248: UndefinedMetricWarning: Precision and F-score are ill-defined and being set to 0.0 in labels with no predicted samples. Use `zero_division` parameter to control this behavior.\n",
      "  _warn_prf(average, modifier, msg_start, len(result))\n",
      "/home/icb/carlo.dedonno/anaconda3/envs/lataq_cuda/lib/python3.8/site-packages/sklearn/metrics/_classification.py:1248: UndefinedMetricWarning: Precision and F-score are ill-defined and being set to 0.0 in labels with no predicted samples. Use `zero_division` parameter to control this behavior.\n",
      "  _warn_prf(average, modifier, msg_start, len(result))\n"
     ]
    }
   ],
   "source": [
    "results_dict_q = tranvae.classify(\n",
    "    #metric=\"euclidean\"\n",
    ")\n",
    "\n",
    "preds_q = results_dict_q[cell_type_key]['preds']\n",
    "probs_q = results_dict_q[cell_type_key]['probs']\n",
    "print(classification_report(\n",
    "    y_true=query_adata.obs[cell_type_key],\n",
    "    y_pred=preds_q,\n",
    "    labels=np.array(query_adata.obs[cell_type_key].unique().tolist())\n",
    "))"
   ]
  },
  {
   "cell_type": "code",
   "execution_count": 17,
   "id": "08e343b1-67b3-4a46-872a-aee729466af4",
   "metadata": {},
   "outputs": [
    {
     "name": "stdout",
     "output_type": "stream",
     "text": [
      "                    precision    recall  f1-score   support\n",
      "\n",
      "             gamma       0.76      0.95      0.85       128\n",
      "            acinar       0.98      0.93      0.95       502\n",
      "             alpha       0.99      0.98      0.98      1034\n",
      "             delta       0.00      0.00      0.00       253\n",
      "              beta       0.76      1.00      0.86       606\n",
      "            ductal       0.93      0.97      0.95       585\n",
      "       endothelial       1.00      1.00      1.00        26\n",
      "activated_stellate       0.91      0.98      0.95       109\n",
      "           schwann       0.83      1.00      0.91         5\n",
      "              mast       1.00      0.71      0.83         7\n",
      "        macrophage       1.00      0.94      0.97        16\n",
      "           epsilon       0.09      0.80      0.16         5\n",
      "quiescent_stellate       0.82      0.69      0.75        13\n",
      "\n",
      "          accuracy                           0.89      3289\n",
      "         macro avg       0.77      0.84      0.78      3289\n",
      "      weighted avg       0.84      0.89      0.86      3289\n",
      "\n"
     ]
    },
    {
     "name": "stderr",
     "output_type": "stream",
     "text": [
      "/home/icb/carlo.dedonno/anaconda3/envs/lataq_cuda/lib/python3.8/site-packages/sklearn/metrics/_classification.py:1248: UndefinedMetricWarning: Precision and F-score are ill-defined and being set to 0.0 in labels with no predicted samples. Use `zero_division` parameter to control this behavior.\n",
      "  _warn_prf(average, modifier, msg_start, len(result))\n",
      "/home/icb/carlo.dedonno/anaconda3/envs/lataq_cuda/lib/python3.8/site-packages/sklearn/metrics/_classification.py:1248: UndefinedMetricWarning: Precision and F-score are ill-defined and being set to 0.0 in labels with no predicted samples. Use `zero_division` parameter to control this behavior.\n",
      "  _warn_prf(average, modifier, msg_start, len(result))\n",
      "/home/icb/carlo.dedonno/anaconda3/envs/lataq_cuda/lib/python3.8/site-packages/sklearn/metrics/_classification.py:1248: UndefinedMetricWarning: Precision and F-score are ill-defined and being set to 0.0 in labels with no predicted samples. Use `zero_division` parameter to control this behavior.\n",
      "  _warn_prf(average, modifier, msg_start, len(result))\n"
     ]
    }
   ],
   "source": [
    "results_dict_q = tranvae.classify(\n",
    "    metric=\"gaussian\"\n",
    ")\n",
    "\n",
    "preds_q = results_dict_q[cell_type_key]['preds']\n",
    "probs_q = results_dict_q[cell_type_key]['probs']\n",
    "print(classification_report(\n",
    "    y_true=query_adata.obs[cell_type_key],\n",
    "    y_pred=preds_q,\n",
    "    labels=np.array(query_adata.obs[cell_type_key].unique().tolist())\n",
    "))"
   ]
  },
  {
   "cell_type": "markdown",
   "id": "63cd2384",
   "metadata": {},
   "source": [
    "#### Semi-Labeled Full Data accuracy"
   ]
  },
  {
   "cell_type": "code",
   "execution_count": 18,
   "id": "da581d85",
   "metadata": {},
   "outputs": [
    {
     "name": "stdout",
     "output_type": "stream",
     "text": [
      "                    precision    recall  f1-score   support\n",
      "\n",
      "             gamma       0.94      0.99      0.96       699\n",
      "            acinar       0.91      0.96      0.93      1669\n",
      "             alpha       0.99      0.99      0.99      5493\n",
      "              beta       0.95      1.00      0.97      4169\n",
      "            ductal       0.96      0.92      0.94      2142\n",
      "       endothelial       1.00      0.98      0.99       313\n",
      "activated_stellate       0.97      0.97      0.97       464\n",
      "           schwann       0.89      0.96      0.92        25\n",
      "              mast       0.97      0.90      0.94        42\n",
      "        macrophage       0.97      0.99      0.98        79\n",
      "           epsilon       0.40      0.97      0.56        32\n",
      "quiescent_stellate       0.93      0.95      0.94       193\n",
      "            t_cell       0.70      1.00      0.82         7\n",
      "             delta       0.00      0.00      0.00       253\n",
      "\n",
      "          accuracy                           0.96     15580\n",
      "         macro avg       0.83      0.90      0.85     15580\n",
      "      weighted avg       0.95      0.96      0.95     15580\n",
      "\n"
     ]
    },
    {
     "name": "stderr",
     "output_type": "stream",
     "text": [
      "/home/icb/carlo.dedonno/anaconda3/envs/lataq_cuda/lib/python3.8/site-packages/sklearn/metrics/_classification.py:1248: UndefinedMetricWarning: Precision and F-score are ill-defined and being set to 0.0 in labels with no predicted samples. Use `zero_division` parameter to control this behavior.\n",
      "  _warn_prf(average, modifier, msg_start, len(result))\n",
      "/home/icb/carlo.dedonno/anaconda3/envs/lataq_cuda/lib/python3.8/site-packages/sklearn/metrics/_classification.py:1248: UndefinedMetricWarning: Precision and F-score are ill-defined and being set to 0.0 in labels with no predicted samples. Use `zero_division` parameter to control this behavior.\n",
      "  _warn_prf(average, modifier, msg_start, len(result))\n",
      "/home/icb/carlo.dedonno/anaconda3/envs/lataq_cuda/lib/python3.8/site-packages/sklearn/metrics/_classification.py:1248: UndefinedMetricWarning: Precision and F-score are ill-defined and being set to 0.0 in labels with no predicted samples. Use `zero_division` parameter to control this behavior.\n",
      "  _warn_prf(average, modifier, msg_start, len(result))\n"
     ]
    }
   ],
   "source": [
    "results_dict = tranvae.classify(\n",
    "    adata.X,\n",
    "    adata.obs[condition_key],\n",
    "    metric=\"gaussian\",\n",
    ")\n",
    "\n",
    "preds = results_dict[cell_type_key]['preds']\n",
    "probs = results_dict[cell_type_key]['probs']\n",
    "print(classification_report(\n",
    "    y_true=adata.obs[cell_type_key],\n",
    "    y_pred=preds,\n",
    "    labels=np.array(adata.obs[cell_type_key].unique().tolist())\n",
    "))"
   ]
  },
  {
   "cell_type": "markdown",
   "id": "09484f35",
   "metadata": {},
   "source": [
    "#### Get information for both landmark sets"
   ]
  },
  {
   "cell_type": "code",
   "execution_count": 19,
   "id": "bea1d470",
   "metadata": {},
   "outputs": [
    {
     "data": {
      "text/plain": [
       "AnnData object with n_obs × n_vars = 13 × 10\n",
       "    obs: 'study', 'cell_type', 'cell_type_pred', 'cell_type_prob'"
      ]
     },
     "execution_count": 19,
     "metadata": {},
     "output_type": "execute_result"
    }
   ],
   "source": [
    "labeled_set = tranvae.get_landmarks_info(\n",
    "    metric=\"gaussian\",\n",
    ")\n",
    "labeled_set"
   ]
  },
  {
   "cell_type": "code",
   "execution_count": 20,
   "id": "f723efa2",
   "metadata": {},
   "outputs": [
    {
     "data": {
      "text/plain": [
       "AnnData object with n_obs × n_vars = 23 × 10\n",
       "    obs: 'study', 'cell_type', 'cell_type_pred', 'cell_type_prob'"
      ]
     },
     "execution_count": 20,
     "metadata": {},
     "output_type": "execute_result"
    }
   ],
   "source": [
    "unlabeled_set = tranvae.get_landmarks_info(\n",
    "    landmark_set='unlabeled',\n",
    "    metric=\"gaussian\",\n",
    ")\n",
    "unlabeled_set"
   ]
  },
  {
   "cell_type": "markdown",
   "id": "7b7f648f",
   "metadata": {},
   "source": [
    "#### Create adata object with cell  and landmark informations"
   ]
  },
  {
   "cell_type": "code",
   "execution_count": 21,
   "id": "1dbd0925",
   "metadata": {},
   "outputs": [
    {
     "ename": "ValueError",
     "evalue": "Wrong number of items passed 4, placement implies 1",
     "output_type": "error",
     "traceback": [
      "\u001b[0;31m---------------------------------------------------------------------------\u001b[0m",
      "\u001b[0;31mKeyError\u001b[0m                                  Traceback (most recent call last)",
      "\u001b[0;32m~/anaconda3/envs/lataq_cuda/lib/python3.8/site-packages/pandas/core/indexes/base.py\u001b[0m in \u001b[0;36mget_loc\u001b[0;34m(self, key, method, tolerance)\u001b[0m\n\u001b[1;32m   3080\u001b[0m             \u001b[0;32mtry\u001b[0m\u001b[0;34m:\u001b[0m\u001b[0;34m\u001b[0m\u001b[0;34m\u001b[0m\u001b[0m\n\u001b[0;32m-> 3081\u001b[0;31m                 \u001b[0;32mreturn\u001b[0m \u001b[0mself\u001b[0m\u001b[0;34m.\u001b[0m\u001b[0m_engine\u001b[0m\u001b[0;34m.\u001b[0m\u001b[0mget_loc\u001b[0m\u001b[0;34m(\u001b[0m\u001b[0mcasted_key\u001b[0m\u001b[0;34m)\u001b[0m\u001b[0;34m\u001b[0m\u001b[0;34m\u001b[0m\u001b[0m\n\u001b[0m\u001b[1;32m   3082\u001b[0m             \u001b[0;32mexcept\u001b[0m \u001b[0mKeyError\u001b[0m \u001b[0;32mas\u001b[0m \u001b[0merr\u001b[0m\u001b[0;34m:\u001b[0m\u001b[0;34m\u001b[0m\u001b[0;34m\u001b[0m\u001b[0m\n",
      "\u001b[0;32mpandas/_libs/index.pyx\u001b[0m in \u001b[0;36mpandas._libs.index.IndexEngine.get_loc\u001b[0;34m()\u001b[0m\n",
      "\u001b[0;32mpandas/_libs/index.pyx\u001b[0m in \u001b[0;36mpandas._libs.index.IndexEngine.get_loc\u001b[0;34m()\u001b[0m\n",
      "\u001b[0;32mpandas/_libs/hashtable_class_helper.pxi\u001b[0m in \u001b[0;36mpandas._libs.hashtable.PyObjectHashTable.get_item\u001b[0;34m()\u001b[0m\n",
      "\u001b[0;32mpandas/_libs/hashtable_class_helper.pxi\u001b[0m in \u001b[0;36mpandas._libs.hashtable.PyObjectHashTable.get_item\u001b[0;34m()\u001b[0m\n",
      "\u001b[0;31mKeyError\u001b[0m: 'query'",
      "\nThe above exception was the direct cause of the following exception:\n",
      "\u001b[0;31mKeyError\u001b[0m                                  Traceback (most recent call last)",
      "\u001b[0;32m~/anaconda3/envs/lataq_cuda/lib/python3.8/site-packages/pandas/core/generic.py\u001b[0m in \u001b[0;36m_set_item\u001b[0;34m(self, key, value)\u001b[0m\n\u001b[1;32m   3825\u001b[0m         \u001b[0;32mtry\u001b[0m\u001b[0;34m:\u001b[0m\u001b[0;34m\u001b[0m\u001b[0;34m\u001b[0m\u001b[0m\n\u001b[0;32m-> 3826\u001b[0;31m             \u001b[0mloc\u001b[0m \u001b[0;34m=\u001b[0m \u001b[0mself\u001b[0m\u001b[0;34m.\u001b[0m\u001b[0m_info_axis\u001b[0m\u001b[0;34m.\u001b[0m\u001b[0mget_loc\u001b[0m\u001b[0;34m(\u001b[0m\u001b[0mkey\u001b[0m\u001b[0;34m)\u001b[0m\u001b[0;34m\u001b[0m\u001b[0;34m\u001b[0m\u001b[0m\n\u001b[0m\u001b[1;32m   3827\u001b[0m         \u001b[0;32mexcept\u001b[0m \u001b[0mKeyError\u001b[0m\u001b[0;34m:\u001b[0m\u001b[0;34m\u001b[0m\u001b[0;34m\u001b[0m\u001b[0m\n",
      "\u001b[0;32m~/anaconda3/envs/lataq_cuda/lib/python3.8/site-packages/pandas/core/indexes/base.py\u001b[0m in \u001b[0;36mget_loc\u001b[0;34m(self, key, method, tolerance)\u001b[0m\n\u001b[1;32m   3082\u001b[0m             \u001b[0;32mexcept\u001b[0m \u001b[0mKeyError\u001b[0m \u001b[0;32mas\u001b[0m \u001b[0merr\u001b[0m\u001b[0;34m:\u001b[0m\u001b[0;34m\u001b[0m\u001b[0;34m\u001b[0m\u001b[0m\n\u001b[0;32m-> 3083\u001b[0;31m                 \u001b[0;32mraise\u001b[0m \u001b[0mKeyError\u001b[0m\u001b[0;34m(\u001b[0m\u001b[0mkey\u001b[0m\u001b[0;34m)\u001b[0m \u001b[0;32mfrom\u001b[0m \u001b[0merr\u001b[0m\u001b[0;34m\u001b[0m\u001b[0;34m\u001b[0m\u001b[0m\n\u001b[0m\u001b[1;32m   3084\u001b[0m \u001b[0;34m\u001b[0m\u001b[0m\n",
      "\u001b[0;31mKeyError\u001b[0m: 'query'",
      "\nDuring handling of the above exception, another exception occurred:\n",
      "\u001b[0;31mValueError\u001b[0m                                Traceback (most recent call last)",
      "\u001b[0;32m<ipython-input-21-ba2e4baeac0b>\u001b[0m in \u001b[0;36m<module>\u001b[0;34m\u001b[0m\n\u001b[1;32m      5\u001b[0m \u001b[0madata_latent\u001b[0m\u001b[0;34m.\u001b[0m\u001b[0mobs\u001b[0m\u001b[0;34m[\u001b[0m\u001b[0;34mf'{cell_type_key}_pred'\u001b[0m\u001b[0;34m]\u001b[0m \u001b[0;34m=\u001b[0m \u001b[0mpreds_q\u001b[0m\u001b[0;34m.\u001b[0m\u001b[0mtolist\u001b[0m\u001b[0;34m(\u001b[0m\u001b[0;34m)\u001b[0m\u001b[0;34m\u001b[0m\u001b[0;34m\u001b[0m\u001b[0m\n\u001b[1;32m      6\u001b[0m \u001b[0madata_latent\u001b[0m\u001b[0;34m.\u001b[0m\u001b[0mobs\u001b[0m\u001b[0;34m[\u001b[0m\u001b[0;34mf'{cell_type_key}_prob'\u001b[0m\u001b[0;34m]\u001b[0m \u001b[0;34m=\u001b[0m \u001b[0mprobs_q\u001b[0m\u001b[0;34m.\u001b[0m\u001b[0mtolist\u001b[0m\u001b[0;34m(\u001b[0m\u001b[0;34m)\u001b[0m\u001b[0;34m\u001b[0m\u001b[0;34m\u001b[0m\u001b[0m\n\u001b[0;32m----> 7\u001b[0;31m \u001b[0madata_latent\u001b[0m\u001b[0;34m.\u001b[0m\u001b[0mobs\u001b[0m\u001b[0;34m[\u001b[0m\u001b[0;34m'query'\u001b[0m\u001b[0;34m]\u001b[0m \u001b[0;34m=\u001b[0m \u001b[0madata_latent\u001b[0m\u001b[0;34m.\u001b[0m\u001b[0mobs\u001b[0m\u001b[0;34m\u001b[0m\u001b[0;34m\u001b[0m\u001b[0m\n\u001b[0m\u001b[1;32m      8\u001b[0m \u001b[0madata_latent\u001b[0m\u001b[0;34m\u001b[0m\u001b[0;34m\u001b[0m\u001b[0m\n",
      "\u001b[0;32m~/anaconda3/envs/lataq_cuda/lib/python3.8/site-packages/pandas/core/frame.py\u001b[0m in \u001b[0;36m__setitem__\u001b[0;34m(self, key, value)\u001b[0m\n\u001b[1;32m   3161\u001b[0m         \u001b[0;32melse\u001b[0m\u001b[0;34m:\u001b[0m\u001b[0;34m\u001b[0m\u001b[0;34m\u001b[0m\u001b[0m\n\u001b[1;32m   3162\u001b[0m             \u001b[0;31m# set column\u001b[0m\u001b[0;34m\u001b[0m\u001b[0;34m\u001b[0m\u001b[0;34m\u001b[0m\u001b[0m\n\u001b[0;32m-> 3163\u001b[0;31m             \u001b[0mself\u001b[0m\u001b[0;34m.\u001b[0m\u001b[0m_set_item\u001b[0m\u001b[0;34m(\u001b[0m\u001b[0mkey\u001b[0m\u001b[0;34m,\u001b[0m \u001b[0mvalue\u001b[0m\u001b[0;34m)\u001b[0m\u001b[0;34m\u001b[0m\u001b[0;34m\u001b[0m\u001b[0m\n\u001b[0m\u001b[1;32m   3164\u001b[0m \u001b[0;34m\u001b[0m\u001b[0m\n\u001b[1;32m   3165\u001b[0m     \u001b[0;32mdef\u001b[0m \u001b[0m_setitem_slice\u001b[0m\u001b[0;34m(\u001b[0m\u001b[0mself\u001b[0m\u001b[0;34m,\u001b[0m \u001b[0mkey\u001b[0m\u001b[0;34m:\u001b[0m \u001b[0mslice\u001b[0m\u001b[0;34m,\u001b[0m \u001b[0mvalue\u001b[0m\u001b[0;34m)\u001b[0m\u001b[0;34m:\u001b[0m\u001b[0;34m\u001b[0m\u001b[0;34m\u001b[0m\u001b[0m\n",
      "\u001b[0;32m~/anaconda3/envs/lataq_cuda/lib/python3.8/site-packages/pandas/core/frame.py\u001b[0m in \u001b[0;36m_set_item\u001b[0;34m(self, key, value)\u001b[0m\n\u001b[1;32m   3241\u001b[0m         \u001b[0mself\u001b[0m\u001b[0;34m.\u001b[0m\u001b[0m_ensure_valid_index\u001b[0m\u001b[0;34m(\u001b[0m\u001b[0mvalue\u001b[0m\u001b[0;34m)\u001b[0m\u001b[0;34m\u001b[0m\u001b[0;34m\u001b[0m\u001b[0m\n\u001b[1;32m   3242\u001b[0m         \u001b[0mvalue\u001b[0m \u001b[0;34m=\u001b[0m \u001b[0mself\u001b[0m\u001b[0;34m.\u001b[0m\u001b[0m_sanitize_column\u001b[0m\u001b[0;34m(\u001b[0m\u001b[0mkey\u001b[0m\u001b[0;34m,\u001b[0m \u001b[0mvalue\u001b[0m\u001b[0;34m)\u001b[0m\u001b[0;34m\u001b[0m\u001b[0;34m\u001b[0m\u001b[0m\n\u001b[0;32m-> 3243\u001b[0;31m         \u001b[0mNDFrame\u001b[0m\u001b[0;34m.\u001b[0m\u001b[0m_set_item\u001b[0m\u001b[0;34m(\u001b[0m\u001b[0mself\u001b[0m\u001b[0;34m,\u001b[0m \u001b[0mkey\u001b[0m\u001b[0;34m,\u001b[0m \u001b[0mvalue\u001b[0m\u001b[0;34m)\u001b[0m\u001b[0;34m\u001b[0m\u001b[0;34m\u001b[0m\u001b[0m\n\u001b[0m\u001b[1;32m   3244\u001b[0m \u001b[0;34m\u001b[0m\u001b[0m\n\u001b[1;32m   3245\u001b[0m         \u001b[0;31m# check if we are modifying a copy\u001b[0m\u001b[0;34m\u001b[0m\u001b[0;34m\u001b[0m\u001b[0;34m\u001b[0m\u001b[0m\n",
      "\u001b[0;32m~/anaconda3/envs/lataq_cuda/lib/python3.8/site-packages/pandas/core/generic.py\u001b[0m in \u001b[0;36m_set_item\u001b[0;34m(self, key, value)\u001b[0m\n\u001b[1;32m   3827\u001b[0m         \u001b[0;32mexcept\u001b[0m \u001b[0mKeyError\u001b[0m\u001b[0;34m:\u001b[0m\u001b[0;34m\u001b[0m\u001b[0;34m\u001b[0m\u001b[0m\n\u001b[1;32m   3828\u001b[0m             \u001b[0;31m# This item wasn't present, just insert at end\u001b[0m\u001b[0;34m\u001b[0m\u001b[0;34m\u001b[0m\u001b[0;34m\u001b[0m\u001b[0m\n\u001b[0;32m-> 3829\u001b[0;31m             \u001b[0mself\u001b[0m\u001b[0;34m.\u001b[0m\u001b[0m_mgr\u001b[0m\u001b[0;34m.\u001b[0m\u001b[0minsert\u001b[0m\u001b[0;34m(\u001b[0m\u001b[0mlen\u001b[0m\u001b[0;34m(\u001b[0m\u001b[0mself\u001b[0m\u001b[0;34m.\u001b[0m\u001b[0m_info_axis\u001b[0m\u001b[0;34m)\u001b[0m\u001b[0;34m,\u001b[0m \u001b[0mkey\u001b[0m\u001b[0;34m,\u001b[0m \u001b[0mvalue\u001b[0m\u001b[0;34m)\u001b[0m\u001b[0;34m\u001b[0m\u001b[0;34m\u001b[0m\u001b[0m\n\u001b[0m\u001b[1;32m   3830\u001b[0m             \u001b[0;32mreturn\u001b[0m\u001b[0;34m\u001b[0m\u001b[0;34m\u001b[0m\u001b[0m\n\u001b[1;32m   3831\u001b[0m \u001b[0;34m\u001b[0m\u001b[0m\n",
      "\u001b[0;32m~/anaconda3/envs/lataq_cuda/lib/python3.8/site-packages/pandas/core/internals/managers.py\u001b[0m in \u001b[0;36minsert\u001b[0;34m(self, loc, item, value, allow_duplicates)\u001b[0m\n\u001b[1;32m   1201\u001b[0m             \u001b[0mvalue\u001b[0m \u001b[0;34m=\u001b[0m \u001b[0msafe_reshape\u001b[0m\u001b[0;34m(\u001b[0m\u001b[0mvalue\u001b[0m\u001b[0;34m,\u001b[0m \u001b[0;34m(\u001b[0m\u001b[0;36m1\u001b[0m\u001b[0;34m,\u001b[0m\u001b[0;34m)\u001b[0m \u001b[0;34m+\u001b[0m \u001b[0mvalue\u001b[0m\u001b[0;34m.\u001b[0m\u001b[0mshape\u001b[0m\u001b[0;34m)\u001b[0m\u001b[0;34m\u001b[0m\u001b[0;34m\u001b[0m\u001b[0m\n\u001b[1;32m   1202\u001b[0m \u001b[0;34m\u001b[0m\u001b[0m\n\u001b[0;32m-> 1203\u001b[0;31m         \u001b[0mblock\u001b[0m \u001b[0;34m=\u001b[0m \u001b[0mmake_block\u001b[0m\u001b[0;34m(\u001b[0m\u001b[0mvalues\u001b[0m\u001b[0;34m=\u001b[0m\u001b[0mvalue\u001b[0m\u001b[0;34m,\u001b[0m \u001b[0mndim\u001b[0m\u001b[0;34m=\u001b[0m\u001b[0mself\u001b[0m\u001b[0;34m.\u001b[0m\u001b[0mndim\u001b[0m\u001b[0;34m,\u001b[0m \u001b[0mplacement\u001b[0m\u001b[0;34m=\u001b[0m\u001b[0mslice\u001b[0m\u001b[0;34m(\u001b[0m\u001b[0mloc\u001b[0m\u001b[0;34m,\u001b[0m \u001b[0mloc\u001b[0m \u001b[0;34m+\u001b[0m \u001b[0;36m1\u001b[0m\u001b[0;34m)\u001b[0m\u001b[0;34m)\u001b[0m\u001b[0;34m\u001b[0m\u001b[0;34m\u001b[0m\u001b[0m\n\u001b[0m\u001b[1;32m   1204\u001b[0m \u001b[0;34m\u001b[0m\u001b[0m\n\u001b[1;32m   1205\u001b[0m         \u001b[0;32mfor\u001b[0m \u001b[0mblkno\u001b[0m\u001b[0;34m,\u001b[0m \u001b[0mcount\u001b[0m \u001b[0;32min\u001b[0m \u001b[0m_fast_count_smallints\u001b[0m\u001b[0;34m(\u001b[0m\u001b[0mself\u001b[0m\u001b[0;34m.\u001b[0m\u001b[0mblknos\u001b[0m\u001b[0;34m[\u001b[0m\u001b[0mloc\u001b[0m\u001b[0;34m:\u001b[0m\u001b[0;34m]\u001b[0m\u001b[0;34m)\u001b[0m\u001b[0;34m:\u001b[0m\u001b[0;34m\u001b[0m\u001b[0;34m\u001b[0m\u001b[0m\n",
      "\u001b[0;32m~/anaconda3/envs/lataq_cuda/lib/python3.8/site-packages/pandas/core/internals/blocks.py\u001b[0m in \u001b[0;36mmake_block\u001b[0;34m(values, placement, klass, ndim, dtype)\u001b[0m\n\u001b[1;32m   2749\u001b[0m         \u001b[0mvalues\u001b[0m \u001b[0;34m=\u001b[0m \u001b[0mDatetimeArray\u001b[0m\u001b[0;34m.\u001b[0m\u001b[0m_simple_new\u001b[0m\u001b[0;34m(\u001b[0m\u001b[0mvalues\u001b[0m\u001b[0;34m,\u001b[0m \u001b[0mdtype\u001b[0m\u001b[0;34m=\u001b[0m\u001b[0mdtype\u001b[0m\u001b[0;34m)\u001b[0m\u001b[0;34m\u001b[0m\u001b[0;34m\u001b[0m\u001b[0m\n\u001b[1;32m   2750\u001b[0m \u001b[0;34m\u001b[0m\u001b[0m\n\u001b[0;32m-> 2751\u001b[0;31m     \u001b[0;32mreturn\u001b[0m \u001b[0mklass\u001b[0m\u001b[0;34m(\u001b[0m\u001b[0mvalues\u001b[0m\u001b[0;34m,\u001b[0m \u001b[0mndim\u001b[0m\u001b[0;34m=\u001b[0m\u001b[0mndim\u001b[0m\u001b[0;34m,\u001b[0m \u001b[0mplacement\u001b[0m\u001b[0;34m=\u001b[0m\u001b[0mplacement\u001b[0m\u001b[0;34m)\u001b[0m\u001b[0;34m\u001b[0m\u001b[0;34m\u001b[0m\u001b[0m\n\u001b[0m\u001b[1;32m   2752\u001b[0m \u001b[0;34m\u001b[0m\u001b[0m\n\u001b[1;32m   2753\u001b[0m \u001b[0;34m\u001b[0m\u001b[0m\n",
      "\u001b[0;32m~/anaconda3/envs/lataq_cuda/lib/python3.8/site-packages/pandas/core/internals/blocks.py\u001b[0m in \u001b[0;36m__init__\u001b[0;34m(self, values, placement, ndim)\u001b[0m\n\u001b[1;32m    140\u001b[0m \u001b[0;34m\u001b[0m\u001b[0m\n\u001b[1;32m    141\u001b[0m         \u001b[0;32mif\u001b[0m \u001b[0mself\u001b[0m\u001b[0;34m.\u001b[0m\u001b[0m_validate_ndim\u001b[0m \u001b[0;32mand\u001b[0m \u001b[0mself\u001b[0m\u001b[0;34m.\u001b[0m\u001b[0mndim\u001b[0m \u001b[0;32mand\u001b[0m \u001b[0mlen\u001b[0m\u001b[0;34m(\u001b[0m\u001b[0mself\u001b[0m\u001b[0;34m.\u001b[0m\u001b[0mmgr_locs\u001b[0m\u001b[0;34m)\u001b[0m \u001b[0;34m!=\u001b[0m \u001b[0mlen\u001b[0m\u001b[0;34m(\u001b[0m\u001b[0mself\u001b[0m\u001b[0;34m.\u001b[0m\u001b[0mvalues\u001b[0m\u001b[0;34m)\u001b[0m\u001b[0;34m:\u001b[0m\u001b[0;34m\u001b[0m\u001b[0;34m\u001b[0m\u001b[0m\n\u001b[0;32m--> 142\u001b[0;31m             raise ValueError(\n\u001b[0m\u001b[1;32m    143\u001b[0m                 \u001b[0;34mf\"Wrong number of items passed {len(self.values)}, \"\u001b[0m\u001b[0;34m\u001b[0m\u001b[0;34m\u001b[0m\u001b[0m\n\u001b[1;32m    144\u001b[0m                 \u001b[0;34mf\"placement implies {len(self.mgr_locs)}\"\u001b[0m\u001b[0;34m\u001b[0m\u001b[0;34m\u001b[0m\u001b[0m\n",
      "\u001b[0;31mValueError\u001b[0m: Wrong number of items passed 4, placement implies 1"
     ]
    }
   ],
   "source": [
    "data_latent = tranvae.get_latent()\n",
    "adata_latent = sc.AnnData(data_latent)\n",
    "adata_latent.obs[condition_key] = query_adata.obs[condition_key].tolist()\n",
    "adata_latent.obs[cell_type_key] = query_adata.obs[cell_type_key].tolist()\n",
    "adata_latent.obs[f'{cell_type_key}_pred'] = preds_q.tolist()\n",
    "adata_latent.obs[f'{cell_type_key}_prob'] = probs_q.tolist()\n",
    "adata_latent.obs['query'] = adata_latent.obs\n",
    "adata_latent"
   ]
  },
  {
   "cell_type": "code",
   "execution_count": null,
   "id": "80a0ad97",
   "metadata": {},
   "outputs": [],
   "source": [
    "full_latent = adata_latent.concatenate(labeled_set, unlabeled_set)\n",
    "full_latent"
   ]
  },
  {
   "cell_type": "markdown",
   "id": "2a251240",
   "metadata": {},
   "source": [
    "#### Visualize Combined adata object"
   ]
  },
  {
   "cell_type": "code",
   "execution_count": null,
   "id": "986a93ab",
   "metadata": {},
   "outputs": [],
   "source": [
    "sc.pp.neighbors(full_latent, n_neighbors=8)\n",
    "sc.tl.leiden(full_latent)\n",
    "sc.tl.umap(full_latent)"
   ]
  },
  {
   "cell_type": "code",
   "execution_count": null,
   "id": "d52cb8f2-db0d-43fb-b2c4-8582592dfc01",
   "metadata": {},
   "outputs": [],
   "source": [
    "full_latent.obs"
   ]
  },
  {
   "cell_type": "code",
   "execution_count": null,
   "id": "b3b3c1d7-cad1-4b88-907f-390932f433a1",
   "metadata": {},
   "outputs": [],
   "source": [
    "sc.pl.umap(\n",
    "    full_latent,\n",
    "    size=10,\n",
    "    color='query'\n",
    ")"
   ]
  },
  {
   "cell_type": "code",
   "execution_count": null,
   "id": "7e05236b",
   "metadata": {},
   "outputs": [],
   "source": [
    "landmark_keys = [\"Landmark-Set Unlabeled\",\"Landmark-Set Labeled\"]\n",
    "sc.pl.umap(\n",
    "    full_latent[~full_latent.obs[condition_key].isin(landmark_keys)],\n",
    "    size=10,\n",
    "    color=[cell_type_key],\n",
    ")"
   ]
  },
  {
   "cell_type": "code",
   "execution_count": null,
   "id": "cdb7ee3e",
   "metadata": {},
   "outputs": [],
   "source": [
    "ax = sc.pl.umap(full_latent, size=10, show=False)\n",
    "sc.pl.umap(\n",
    "    full_latent[full_latent.obs[condition_key] == \"Landmark-Set Labeled\"],\n",
    "    size=100,\n",
    "    color=[cell_type_key],\n",
    "    ax=ax\n",
    ")"
   ]
  },
  {
   "cell_type": "code",
   "execution_count": null,
   "id": "4130b56f",
   "metadata": {},
   "outputs": [],
   "source": [
    "ax = sc.pl.umap(full_latent, size=10, show=False)\n",
    "sc.pl.umap(\n",
    "    full_latent[full_latent.obs[condition_key] == \"Landmark-Set Unlabeled\"],\n",
    "    size=100,\n",
    "    color=[cell_type_key + '_pred'],\n",
    "    ax=ax\n",
    ")"
   ]
  },
  {
   "cell_type": "markdown",
   "id": "5ab93ab1",
   "metadata": {},
   "source": [
    "# Unseen cell type detection"
   ]
  },
  {
   "cell_type": "markdown",
   "id": "8f7ca01a",
   "metadata": {},
   "source": [
    "#### Check for novel cell types"
   ]
  },
  {
   "cell_type": "code",
   "execution_count": null,
   "id": "e2f817e6",
   "metadata": {},
   "outputs": [],
   "source": [
    "print(unlabeled_set.obs[\"cell_type_prob\"])"
   ]
  },
  {
   "cell_type": "code",
   "execution_count": null,
   "id": "37df2af2",
   "metadata": {},
   "outputs": [],
   "source": [
    "print(unlabeled_set.obs[\"cell_type_pred\"])"
   ]
  },
  {
   "cell_type": "code",
   "execution_count": null,
   "id": "6eddc164",
   "metadata": {},
   "outputs": [],
   "source": [
    "check = np.array([4,19 ,21])\n",
    "check_shifted = check + len(adata_latent) + len(labeled_set)"
   ]
  },
  {
   "cell_type": "code",
   "execution_count": null,
   "id": "a67fe4ee",
   "metadata": {},
   "outputs": [],
   "source": [
    "ax = sc.pl.umap(full_latent, size=10, show=False)\n",
    "\n",
    "sc.pl.umap(\n",
    "    full_latent[check_shifted],\n",
    "    size=100,\n",
    "    color=[cell_type_key + '_pred'],\n",
    "    ax=ax\n",
    ")"
   ]
  },
  {
   "cell_type": "markdown",
   "id": "267560cb",
   "metadata": {},
   "source": [
    "#### Add novel cell type with corresponding landmark(s) to the model"
   ]
  },
  {
   "cell_type": "code",
   "execution_count": null,
   "id": "7dbd7554",
   "metadata": {},
   "outputs": [],
   "source": [
    "tranvae.add_new_cell_type(\n",
    "    \"delta\", \n",
    "    cell_type_key, \n",
    "    check.tolist()\n",
    ")"
   ]
  },
  {
   "cell_type": "markdown",
   "id": "3488cc4a",
   "metadata": {},
   "source": [
    "# Visualize results with updated model"
   ]
  },
  {
   "cell_type": "code",
   "execution_count": null,
   "id": "0bb26f74",
   "metadata": {},
   "outputs": [],
   "source": [
    "results_dict = tranvae.classify(\n",
    "    metric=\"gaussian\"\n",
    ")\n",
    "\n",
    "preds = results_dict[cell_type_key]['preds']\n",
    "probs = results_dict[cell_type_key]['probs']\n",
    "print(classification_report(\n",
    "    y_true=query_adata.obs[cell_type_key],\n",
    "    y_pred=preds,\n",
    "    labels=np.array(query_adata.obs[cell_type_key].unique().tolist())\n",
    "))"
   ]
  },
  {
   "cell_type": "code",
   "execution_count": null,
   "id": "50e76dc8",
   "metadata": {},
   "outputs": [],
   "source": [
    "labeled_set = tranvae.get_landmarks_info(\n",
    "    metric=\"gaussian\",\n",
    ")\n",
    "unlabeled_set = tranvae.get_landmarks_info(\n",
    "    landmark_set='unlabeled',\n",
    "    metric=\"gaussian\",\n",
    ")\n",
    "labeled_set"
   ]
  },
  {
   "cell_type": "code",
   "execution_count": null,
   "id": "cd8b9c5a",
   "metadata": {},
   "outputs": [],
   "source": [
    "results_dict = tranvae.classify(\n",
    "    adata.X,\n",
    "    adata.obs[condition_key],\n",
    "    metric=\"gaussian\",\n",
    ")\n",
    "\n",
    "preds = results_dict[cell_type_key]['preds']\n",
    "probs = results_dict[cell_type_key]['probs']\n",
    "\n",
    "data_latent = tranvae.get_latent(\n",
    "    adata.X,\n",
    "    adata.obs[condition_key],\n",
    ")\n",
    "adata_latent = sc.AnnData(data_latent)\n",
    "adata_latent.obs[condition_key] = adata.obs[condition_key].tolist()\n",
    "adata_latent.obs[cell_type_key] = adata.obs[cell_type_key].tolist()\n",
    "adata_latent.obs[f'{cell_type_key}_pred'] = preds.tolist()\n",
    "adata_latent.obs[f'{cell_type_key}_prob'] = probs.tolist()\n",
    "full_latent = adata_latent.concatenate(labeled_set, unlabeled_set)"
   ]
  },
  {
   "cell_type": "code",
   "execution_count": null,
   "id": "ae2ac648",
   "metadata": {},
   "outputs": [],
   "source": [
    "sc.pp.neighbors(full_latent, n_neighbors=8)\n",
    "sc.tl.leiden(full_latent)\n",
    "sc.tl.umap(full_latent)"
   ]
  },
  {
   "cell_type": "code",
   "execution_count": null,
   "id": "25540e2e",
   "metadata": {},
   "outputs": [],
   "source": [
    "landmark_keys = [\"Landmark-Set Unlabeled\",\"Landmark-Set Labeled\"]\n",
    "sc.pl.umap(\n",
    "    full_latent[~full_latent.obs[condition_key].isin(landmark_keys)],\n",
    "    size=10,\n",
    "    color=[cell_type_key],\n",
    ")"
   ]
  },
  {
   "cell_type": "code",
   "execution_count": null,
   "id": "72d47c4e",
   "metadata": {},
   "outputs": [],
   "source": [
    "ax = sc.pl.umap(full_latent, size=10, show=False)\n",
    "sc.pl.umap(\n",
    "    full_latent[full_latent.obs[condition_key] == \"Landmark-Set Labeled\"],\n",
    "    size=100,\n",
    "    color=[cell_type_key + '_pred'],\n",
    "    ax=ax\n",
    ")"
   ]
  },
  {
   "cell_type": "code",
   "execution_count": null,
   "id": "1568f5ef",
   "metadata": {},
   "outputs": [],
   "source": []
  },
  {
   "cell_type": "code",
   "execution_count": null,
   "id": "710f950d-71f9-4947-9c13-f36fe268e0fa",
   "metadata": {},
   "outputs": [],
   "source": []
  },
  {
   "cell_type": "code",
   "execution_count": null,
   "id": "7eb904e6-e337-45fb-9e71-65617915c09b",
   "metadata": {},
   "outputs": [],
   "source": []
  }
 ],
 "metadata": {
  "kernelspec": {
   "display_name": "Python 3",
   "language": "python",
   "name": "python3"
  },
  "language_info": {
   "codemirror_mode": {
    "name": "ipython",
    "version": 3
   },
   "file_extension": ".py",
   "mimetype": "text/x-python",
   "name": "python",
   "nbconvert_exporter": "python",
   "pygments_lexer": "ipython3",
   "version": "3.8.0"
  }
 },
 "nbformat": 4,
 "nbformat_minor": 5
}
