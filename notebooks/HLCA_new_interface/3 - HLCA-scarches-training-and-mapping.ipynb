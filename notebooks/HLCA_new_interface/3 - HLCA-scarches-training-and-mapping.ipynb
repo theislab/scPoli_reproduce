{
 "cells": [
  {
   "cell_type": "code",
   "execution_count": 1,
   "metadata": {},
   "outputs": [],
   "source": [
    "%load_ext autoreload\n",
    "%autoreload 2"
   ]
  },
  {
   "cell_type": "code",
   "execution_count": 2,
   "metadata": {},
   "outputs": [],
   "source": [
    "from knn_cell_type_assigner import weighted_knn_trainer, weighted_knn_transfer"
   ]
  },
  {
   "cell_type": "code",
   "execution_count": 3,
   "metadata": {},
   "outputs": [],
   "source": [
    "import os\n",
    "import pathlib\n",
    "import pickle\n",
    "\n",
    "import anndata\n",
    "import torch\n",
    "import numpy as np\n",
    "import scanpy as sc\n",
    "import scarches as sca\n",
    "import pandas as pd\n",
    "import matplotlib.pyplot as plt\n",
    "import seaborn as sns\n",
    "from sklearn.metrics import classification_report\n",
    "\n",
    "from scarches.dataset.trvae.data_handling import remove_sparsity\n",
    "\n",
    "sc.settings.set_figure_params(dpi=200, frameon=False)\n",
    "sc.set_figure_params(dpi=500)\n",
    "plt.rcParams['figure.figsize'] = (5, 5)\n",
    "torch.set_printoptions(precision=3, sci_mode=False, edgeitems=7)"
   ]
  },
  {
   "cell_type": "code",
   "execution_count": null,
   "metadata": {},
   "outputs": [],
   "source": []
  },
  {
   "cell_type": "code",
   "execution_count": null,
   "metadata": {},
   "outputs": [],
   "source": []
  },
  {
   "cell_type": "code",
   "execution_count": null,
   "metadata": {},
   "outputs": [],
   "source": []
  },
  {
   "cell_type": "code",
   "execution_count": 4,
   "metadata": {},
   "outputs": [],
   "source": [
    "home_dir = os.path.expanduser(\"~\")"
   ]
  },
  {
   "cell_type": "code",
   "execution_count": 5,
   "metadata": {},
   "outputs": [],
   "source": [
    "condition_key = 'sample'\n",
    "cell_type_key = ['ann_finest_level']\n",
    "\n",
    "HLCA_DATA_PATH = os.path.expanduser('~/io/scpoli_repr/hlca_counts_commonvars.h5ad')\n",
    "HLCA_EXTENDED_DATA_PATH = os.path.expanduser('~/io/scpoli_repr/hlca_extended_commonvars.h5ad')\n",
    "HLCA_CANCER_DATA_PATH = os.path.expanduser('~/io/scpoli_repr/hlca_cancer_commonvars.h5ad')\n",
    "\n",
    "HLCA_SCARCHES_SAVE_MODEL = os.path.join(home_dir, \"io/lataq_repr/scarches_models/HLCA_reference_model_sample/\")\n",
    "HLCA_SCARCHES_SAVE_FINETUNED_MODEL_format = os.path.join(home_dir, \"io/scpoli_repr/scarches_models/HLCA_mapped_model_sample_{}\")\n",
    "HLCA_SCARCHES_SAVE_MAPPED_LATENT_format = os.path.join(home_dir, \"io/scpoli_repr/scarches_models/HLCA_mapped_model_sample_{}.latent.h5ad\")"
   ]
  },
  {
   "cell_type": "code",
   "execution_count": 6,
   "metadata": {},
   "outputs": [],
   "source": [
    "unlabeled_category = \"unlabeled\"\n",
    "\n",
    "vae_epochs = 500\n",
    "scanvi_epochs = 200\n",
    "\n",
    "early_stopping_kwargs = {\n",
    "    \"early_stopping_metric\": \"elbo\",\n",
    "    \"save_best_state_metric\": \"elbo\",\n",
    "    \"patience\": 10,\n",
    "    \"threshold\": 0,\n",
    "    \"reduce_lr_on_plateau\": True,\n",
    "    \"lr_patience\": 8,\n",
    "    \"lr_factor\": 0.1,\n",
    "}\n",
    "early_stopping_kwargs_scanvi = {\n",
    "    \"early_stopping_metric\": \"accuracy\",\n",
    "    \"save_best_state_metric\": \"accuracy\",\n",
    "    \"on\": \"full_dataset\",\n",
    "    \"patience\": 10,\n",
    "    \"threshold\": 0.001,\n",
    "    \"reduce_lr_on_plateau\": True,\n",
    "    \"lr_patience\": 8,\n",
    "    \"lr_factor\": 0.1,\n",
    "}"
   ]
  },
  {
   "cell_type": "code",
   "execution_count": null,
   "metadata": {},
   "outputs": [],
   "source": []
  },
  {
   "cell_type": "code",
   "execution_count": null,
   "metadata": {},
   "outputs": [],
   "source": []
  },
  {
   "cell_type": "code",
   "execution_count": 7,
   "metadata": {},
   "outputs": [
    {
     "data": {
      "text/plain": [
       "AnnData object with n_obs × n_vars = 584884 × 1897\n",
       "    obs: 'is_primary_data', 'assay_ontology_term_id', 'cell_type_ontology_term_id', 'development_stage_ontology_term_id', 'disease_ontology_term_id', 'ethnicity_ontology_term_id', 'tissue_ontology_term_id', 'organism_ontology_term_id', 'sex_ontology_term_id', 'sample', 'study', 'subject_ID', 'smoking_status', 'BMI', 'condition', 'subject_type', 'sample_type', \"3'_or_5'\", 'sequencing_platform', 'cell_ranger_version', 'fresh_or_frozen', 'dataset', 'anatomical_region_level_2', 'anatomical_region_level_3', 'anatomical_region_highest_res', 'age', 'ann_highest_res', 'n_genes', 'size_factors', 'log10_total_counts', 'mito_frac', 'ribo_frac', 'original_ann_level_1', 'original_ann_level_2', 'original_ann_level_3', 'original_ann_level_4', 'original_ann_level_5', 'original_ann_nonharmonized', 'scanvi_label', 'leiden_1', 'leiden_2', 'leiden_3', 'anatomical_region_ccf_score', 'entropy_study_leiden_3', 'entropy_dataset_leiden_3', 'entropy_subject_ID_leiden_3', 'entropy_original_ann_level_1_leiden_3', 'entropy_original_ann_level_2_clean_leiden_3', 'entropy_original_ann_level_3_clean_leiden_3', 'entropy_original_ann_level_4_clean_leiden_3', 'entropy_original_ann_level_5_clean_leiden_3', 'leiden_4', 'reannotation_type', 'leiden_5', 'ann_finest_level', 'ann_level_1', 'ann_level_2', 'ann_level_3', 'ann_level_4', 'ann_level_5', 'ann_coarse_for_GWAS_and_modeling', 'cell_type', 'assay', 'disease', 'organism', 'sex', 'tissue', 'ethnicity', 'development_stage'\n",
       "    var: 'n_cells', 'highly_variable', 'means', 'dispersions', 'feature_biotype', 'feature_is_filtered', 'feature_reference'\n",
       "    uns: 'X_normalization', 'batch_condition', 'contributors', 'default_embedding', 'schema_version', 'title'\n",
       "    obsm: 'X_scanvi_emb', 'X_umap'\n",
       "    obsp: 'connectivities', 'distances'"
      ]
     },
     "execution_count": 7,
     "metadata": {},
     "output_type": "execute_result"
    }
   ],
   "source": [
    "adata = sc.read(HLCA_DATA_PATH)\n",
    "adata.X = adata.X.astype(np.float32)\n",
    "adata"
   ]
  },
  {
   "cell_type": "code",
   "execution_count": 8,
   "metadata": {},
   "outputs": [
    {
     "data": {
      "text/plain": [
       "AnnData object with n_obs × n_vars = 128628 × 1897\n",
       "    obs: 'dataset', 'study', 'original_celltype_ann', 'condition', 'subject_ID', 'sample', 'cells_or_nuclei', 'single_cell_platform', 'sample_type', 'age', 'sex', 'ethnicity', 'BMI', 'smoking_status', 'anatomical_region_level_1', 'anatomical_region_coarse', 'anatomical_region_detailed', 'genome', 'disease', 'ann_finest_level'"
      ]
     },
     "execution_count": 8,
     "metadata": {},
     "output_type": "execute_result"
    }
   ],
   "source": [
    "adata_extended = sc.read(HLCA_EXTENDED_DATA_PATH)\n",
    "adata_extended = adata_extended[adata_extended.obs['study'] == 'Meyer_2021'].copy()\n",
    "adata_extended.X = adata_extended.X.astype(np.float32)\n",
    "adata_extended.obs[cell_type_key[0]] = unlabeled_category\n",
    "adata_extended"
   ]
  },
  {
   "cell_type": "code",
   "execution_count": 9,
   "metadata": {},
   "outputs": [
    {
     "data": {
      "text/plain": [
       "AnnData object with n_obs × n_vars = 93575 × 1897\n",
       "    obs: 'n_genes_detected', 'total_counts', 'cell_from_tumor', 'subject_ID', 'tumor_site', 'original_celltype_ann', 'sample', 'study', 'study_long', 'dataset', 'last_author_PI', 'lung_vs_nasal', 'ann_level_1', 'ann_level_2', 'ann_level_3', 'ann_level_4', 'ann_level_5', 'ann_highest_res', 'ann_new', 'scanvi_label', 'ann_finest_level'\n",
       "    var: 'original_gene_names', 'gene_symbols', 'ensembl'"
      ]
     },
     "execution_count": 9,
     "metadata": {},
     "output_type": "execute_result"
    }
   ],
   "source": [
    "adata_cancer = sc.read(HLCA_CANCER_DATA_PATH)\n",
    "adata_cancer.X = adata_cancer.X.astype(np.float32)\n",
    "adata_cancer.obs[cell_type_key[0]] = unlabeled_category\n",
    "adata_cancer"
   ]
  },
  {
   "cell_type": "markdown",
   "metadata": {},
   "source": [
    "## Training scANVI"
   ]
  },
  {
   "cell_type": "code",
   "execution_count": 9,
   "metadata": {},
   "outputs": [
    {
     "name": "stdout",
     "output_type": "stream",
     "text": [
      "\u001b[34mINFO    \u001b[0m Using batches from adata.obs\u001b[1m[\u001b[0m\u001b[32m\"sample\"\u001b[0m\u001b[1m]\u001b[0m                                              \n",
      "\u001b[34mINFO    \u001b[0m Using labels from adata.obs\u001b[1m[\u001b[0m\u001b[32m\"ann_finest_level\"\u001b[0m\u001b[1m]\u001b[0m                                     \n",
      "\u001b[34mINFO    \u001b[0m Using data from adata.X                                                             \n",
      "\u001b[34mINFO    \u001b[0m Computing library size prior per batch                                              \n",
      "\u001b[34mINFO    \u001b[0m Successfully registered anndata object containing \u001b[1;36m584884\u001b[0m cells, \u001b[1;36m1897\u001b[0m vars, \u001b[1;36m166\u001b[0m      \n",
      "         batches, \u001b[1;36m58\u001b[0m labels, and \u001b[1;36m0\u001b[0m proteins. Also registered \u001b[1;36m0\u001b[0m extra categorical covariates  \n",
      "         and \u001b[1;36m0\u001b[0m extra continuous covariates.                                                  \n",
      "\u001b[34mINFO    \u001b[0m Please do not further modify adata until model is trained.                          \n"
     ]
    }
   ],
   "source": [
    "sca.dataset.setup_anndata(reference_adata, batch_key=condition_key, labels_key=cell_type_key)"
   ]
  },
  {
   "cell_type": "code",
   "execution_count": null,
   "metadata": {},
   "outputs": [],
   "source": [
    "vae = sca.models.SCANVI(\n",
    "    reference_adata,\n",
    "    unlabeled_category,\n",
    "    n_layers=2,\n",
    "    n_latent = 30, # to allow for capturing more heterogeneity\n",
    "    encode_covariates=True,\n",
    "    deeply_inject_covariates=False,\n",
    "    use_layer_norm=\"both\",\n",
    "    use_batch_norm=\"none\",\n",
    "    gene_likelihood=\"nb\", # because we have UMI data\n",
    "    use_cuda=True #to use GPU\n",
    ")\n"
   ]
  },
  {
   "cell_type": "code",
   "execution_count": null,
   "metadata": {},
   "outputs": [],
   "source": [
    "print(\"Labelled Indices: \", len(vae._labeled_indices))\n",
    "print(\"Unlabelled Indices: \", len(vae._unlabeled_indices))"
   ]
  },
  {
   "cell_type": "code",
   "execution_count": null,
   "metadata": {},
   "outputs": [],
   "source": [
    "vae.train(\n",
    "    n_epochs_unsupervised=vae_epochs,\n",
    "    n_epochs_semisupervised=scanvi_epochs,\n",
    "    unsupervised_trainer_kwargs=dict(early_stopping_kwargs=early_stopping_kwargs),\n",
    "    semisupervised_trainer_kwargs=dict(metrics_to_monitor=[\"elbo\", \"accuracy\"],\n",
    "                                       early_stopping_kwargs=early_stopping_kwargs_scanvi),\n",
    "    frequency=1\n",
    ")"
   ]
  },
  {
   "cell_type": "code",
   "execution_count": null,
   "metadata": {},
   "outputs": [],
   "source": [
    "vae.save(HLCA_SCARCHES_SAVE_MODEL, overwrite=False)"
   ]
  },
  {
   "cell_type": "code",
   "execution_count": null,
   "metadata": {},
   "outputs": [],
   "source": []
  },
  {
   "cell_type": "code",
   "execution_count": null,
   "metadata": {},
   "outputs": [],
   "source": []
  },
  {
   "cell_type": "markdown",
   "metadata": {},
   "source": [
    "## Perform surgery on reference model and train on cancer dataset"
   ]
  },
  {
   "cell_type": "code",
   "execution_count": 10,
   "metadata": {},
   "outputs": [],
   "source": [
    "ref_path = HLCA_SCARCHES_SAVE_MODEL\n",
    "adata_query = adata_cancer\n",
    "adata_ref = adata"
   ]
  },
  {
   "cell_type": "code",
   "execution_count": 11,
   "metadata": {},
   "outputs": [
    {
     "name": "stdout",
     "output_type": "stream",
     "text": [
      "\u001b[34mINFO    \u001b[0m Using data from adata.X                                                             \n",
      "\u001b[34mINFO    \u001b[0m Computing library size prior per batch                                              \n"
     ]
    },
    {
     "name": "stderr",
     "output_type": "stream",
     "text": [
      "/home/icb/amirali.moinfar/miniconda3/envs/hlca/lib/python3.7/site-packages/scvi/data/_anndata.py:795: UserWarning: adata.X does not contain unnormalized count data. Are you sure this is what you want?\n",
      "  logger_data_loc\n"
     ]
    },
    {
     "name": "stdout",
     "output_type": "stream",
     "text": [
      "\u001b[34mINFO    \u001b[0m Registered keys:\u001b[1m[\u001b[0m\u001b[32m'X'\u001b[0m, \u001b[32m'batch_indices'\u001b[0m, \u001b[32m'local_l_mean'\u001b[0m, \u001b[32m'local_l_var'\u001b[0m, \u001b[32m'labels'\u001b[0m\u001b[1m]\u001b[0m     \n",
      "\u001b[34mINFO    \u001b[0m Successfully registered anndata object containing \u001b[1;36m584884\u001b[0m cells, \u001b[1;36m1897\u001b[0m vars, \u001b[1;36m166\u001b[0m      \n",
      "         batches, \u001b[1;36m58\u001b[0m labels, and \u001b[1;36m0\u001b[0m proteins. Also registered \u001b[1;36m0\u001b[0m extra categorical covariates  \n",
      "         and \u001b[1;36m0\u001b[0m extra continuous covariates.                                                  \n",
      "\u001b[31mWARNING \u001b[0m Make sure the registered X field in anndata contains unnormalized count data.       \n",
      "\u001b[31mWARNING \u001b[0m Make sure the registered X field in anndata contains unnormalized count data.       \n"
     ]
    }
   ],
   "source": [
    "vae = sca.models.SCANVI.load(HLCA_SCARCHES_SAVE_MODEL, adata_ref)"
   ]
  },
  {
   "cell_type": "code",
   "execution_count": 12,
   "metadata": {},
   "outputs": [
    {
     "name": "stdout",
     "output_type": "stream",
     "text": [
      "\u001b[31mWARNING \u001b[0m Make sure the registered X field in anndata contains unnormalized count data.       \n"
     ]
    }
   ],
   "source": [
    "reference_emb_adata = sc.AnnData(vae.get_latent_representation(\n",
    "    adata_ref\n",
    "), obs=adata_ref.obs.copy())"
   ]
  },
  {
   "cell_type": "code",
   "execution_count": 14,
   "metadata": {},
   "outputs": [
    {
     "name": "stdout",
     "output_type": "stream",
     "text": [
      "\u001b[34mINFO    \u001b[0m Using data from adata.X                                                             \n",
      "\u001b[34mINFO    \u001b[0m Computing library size prior per batch                                              \n",
      "\u001b[34mINFO    \u001b[0m Registered keys:\u001b[1m[\u001b[0m\u001b[32m'X'\u001b[0m, \u001b[32m'batch_indices'\u001b[0m, \u001b[32m'local_l_mean'\u001b[0m, \u001b[32m'local_l_var'\u001b[0m, \u001b[32m'labels'\u001b[0m\u001b[1m]\u001b[0m     \n",
      "\u001b[34mINFO    \u001b[0m Successfully registered anndata object containing \u001b[1;36m93575\u001b[0m cells, \u001b[1;36m1897\u001b[0m vars, \u001b[1;36m202\u001b[0m       \n",
      "         batches, \u001b[1;36m59\u001b[0m labels, and \u001b[1;36m0\u001b[0m proteins. Also registered \u001b[1;36m0\u001b[0m extra categorical covariates  \n",
      "         and \u001b[1;36m0\u001b[0m extra continuous covariates.                                                  \n",
      "\u001b[34mINFO    \u001b[0m Training Unsupervised Trainer for \u001b[1;36m85\u001b[0m epochs.                                        \n",
      "\u001b[34mINFO    \u001b[0m Training SemiSupervised Trainer for \u001b[1;36m500\u001b[0m epochs.                                     \n",
      "\u001b[34mINFO    \u001b[0m KL warmup for \u001b[1;36m400\u001b[0m epochs                                                            \n",
      "Training...:  73%|███████████████████████████████████████████████████████████████████████████████████████████████████▋                                     | 364/500 [2:59:26<58:01, 25.60s/it]\u001b[34mINFO    \u001b[0m Reducing LR on epoch \u001b[1;36m364\u001b[0m.                                                           \n",
      "Training...:  75%|██████████████████████████████████████████████████████████████████████████████████████████████████████▊                                  | 375/500 [3:04:04<52:55, 25.40s/it]\u001b[34mINFO    \u001b[0m Reducing LR on epoch \u001b[1;36m375\u001b[0m.                                                           \n",
      "Training...:  75%|███████████████████████████████████████████████████████████████████████████████████████████████████████▎                                 | 377/500 [3:04:54<51:45, 25.25s/it]\u001b[34mINFO    \u001b[0m                                                                                     \n",
      "         Stopping early: no improvement of more than \u001b[1;36m0.001\u001b[0m nats in \u001b[1;36m10\u001b[0m epochs                 \n",
      "\u001b[34mINFO    \u001b[0m If the early stopping criterion is too strong, please instantiate it with different \n",
      "         parameters in the train method.                                                     \n",
      "Training...:  75%|█████████████████████████████████████████████████████████████████████████████████████████████████████▊                                 | 377/500 [3:05:19<1:00:27, 29.50s/it]\n",
      "\u001b[34mINFO    \u001b[0m Training is still in warming up phase. If your applications rely on the posterior   \n",
      "         quality, consider training for more epochs or reducing the kl warmup.               \n",
      "\u001b[34mINFO    \u001b[0m Training time:  \u001b[1;36m3757\u001b[0m s. \u001b[35m/\u001b[0m \u001b[1;36m500\u001b[0m epochs                                                \n",
      "CPU times: user 8h 7min 15s, sys: 3min 13s, total: 8h 10min 28s\n",
      "Wall time: 3h 6min 36s\n"
     ]
    }
   ],
   "source": [
    "%%time\n",
    "\n",
    "surgery_epochs = 500\n",
    "early_stopping_kwargs_surgery = {\n",
    "    \"early_stopping_metric\": \"elbo\",\n",
    "    \"save_best_state_metric\": \"elbo\",\n",
    "    \"on\": \"full_dataset\",\n",
    "    \"patience\": 10,\n",
    "    \"threshold\": 0.001,\n",
    "    \"reduce_lr_on_plateau\": True,\n",
    "    \"lr_patience\": 8,\n",
    "    \"lr_factor\": 0.1,\n",
    "}\n",
    "\n",
    "model = sca.models.SCANVI.load_query_data(\n",
    "    adata_query,\n",
    "    ref_path,\n",
    "    freeze_dropout = True,\n",
    ")\n",
    "\n",
    "model.train(\n",
    "    n_epochs_semisupervised=surgery_epochs,\n",
    "    train_base_model=False,\n",
    "    semisupervised_trainer_kwargs=dict(\n",
    "        metrics_to_monitor=[\"accuracy\", \"elbo\"], \n",
    "        weight_decay=0,\n",
    "        early_stopping_kwargs=early_stopping_kwargs_surgery\n",
    "    ),\n",
    "    frequency=1\n",
    ")"
   ]
  },
  {
   "cell_type": "code",
   "execution_count": 15,
   "metadata": {},
   "outputs": [],
   "source": [
    "latent_subadata = sc.AnnData(model.get_latent_representation(\n",
    "    adata_query\n",
    "), obs=adata_query.obs.copy())"
   ]
  },
  {
   "cell_type": "code",
   "execution_count": 22,
   "metadata": {},
   "outputs": [],
   "source": [
    "model.save(HLCA_SCARCHES_SAVE_FINETUNED_MODEL_format.format('cancer'))\n",
    "latent_subadata.write(HLCA_SCARCHES_SAVE_MAPPED_LATENT_format.format('cancer'))"
   ]
  },
  {
   "cell_type": "code",
   "execution_count": 17,
   "metadata": {},
   "outputs": [],
   "source": [
    "latent_subadata = sc.read(HLCA_SCARCHES_SAVE_MAPPED_LATENT_format.format('cancer'))"
   ]
  },
  {
   "cell_type": "code",
   "execution_count": 18,
   "metadata": {},
   "outputs": [
    {
     "name": "stdout",
     "output_type": "stream",
     "text": [
      "Weighted KNN with n_neighbors = 50 ... finished!\n",
      "CPU times: user 2h 24min 22s, sys: 3h 38min 21s, total: 6h 2min 44s\n",
      "Wall time: 27min 50s\n"
     ]
    }
   ],
   "source": [
    "%%time\n",
    "\n",
    "# run k-neighbors transformer\n",
    "k_neighbors_transformer = weighted_knn_trainer(\n",
    "    train_adata=reference_emb_adata,\n",
    "    train_adata_emb=\"X\", # location of our joint embedding\n",
    "    label_key=\"ann_finest_level\",\n",
    "    n_neighbors=50,\n",
    "    )    \n",
    "# perform label transfer\n",
    "labels, uncert = weighted_knn_transfer(\n",
    "    k_neighbors_transformer,\n",
    "    query_adata=latent_subadata,\n",
    "    query_adata_emb=\"X\", # location of our joint embedding\n",
    "    label_keys=\"ann_finest_level\",\n",
    "    knn_model=k_neighbors_transformer,\n",
    "    ref_adata_obs = reference_emb_adata.obs\n",
    "    )"
   ]
  },
  {
   "cell_type": "code",
   "execution_count": 22,
   "metadata": {},
   "outputs": [],
   "source": [
    "latent_subadata.obs['pred_ann_class'] = labels[\"ann_finest_level\"].values\n",
    "latent_subadata.obs['pred_ann_uncert'] = uncert[\"ann_finest_level\"].to_numpy().astype(float)"
   ]
  },
  {
   "cell_type": "code",
   "execution_count": 24,
   "metadata": {},
   "outputs": [],
   "source": [
    "latent_subadata.write(HLCA_SCARCHES_SAVE_MAPPED_LATENT_format.format('cancer-knn'))"
   ]
  },
  {
   "cell_type": "code",
   "execution_count": null,
   "metadata": {},
   "outputs": [],
   "source": []
  },
  {
   "cell_type": "markdown",
   "metadata": {},
   "source": [
    "## Perform surgery on reference model and train on healthy dataset"
   ]
  },
  {
   "cell_type": "code",
   "execution_count": 10,
   "metadata": {},
   "outputs": [],
   "source": [
    "ref_path = HLCA_SCARCHES_SAVE_MODEL\n",
    "adata_query = adata_extended\n",
    "adata_ref = adata"
   ]
  },
  {
   "cell_type": "code",
   "execution_count": 11,
   "metadata": {},
   "outputs": [
    {
     "name": "stdout",
     "output_type": "stream",
     "text": [
      "\u001b[34mINFO    \u001b[0m Using data from adata.X                                                             \n",
      "\u001b[34mINFO    \u001b[0m Computing library size prior per batch                                              \n"
     ]
    },
    {
     "name": "stderr",
     "output_type": "stream",
     "text": [
      "/home/icb/amirali.moinfar/miniconda3/envs/hlca/lib/python3.7/site-packages/scvi/data/_anndata.py:795: UserWarning: adata.X does not contain unnormalized count data. Are you sure this is what you want?\n",
      "  logger_data_loc\n"
     ]
    },
    {
     "name": "stdout",
     "output_type": "stream",
     "text": [
      "\u001b[34mINFO    \u001b[0m Registered keys:\u001b[1m[\u001b[0m\u001b[32m'X'\u001b[0m, \u001b[32m'batch_indices'\u001b[0m, \u001b[32m'local_l_mean'\u001b[0m, \u001b[32m'local_l_var'\u001b[0m, \u001b[32m'labels'\u001b[0m\u001b[1m]\u001b[0m     \n",
      "\u001b[34mINFO    \u001b[0m Successfully registered anndata object containing \u001b[1;36m584884\u001b[0m cells, \u001b[1;36m1897\u001b[0m vars, \u001b[1;36m166\u001b[0m      \n",
      "         batches, \u001b[1;36m58\u001b[0m labels, and \u001b[1;36m0\u001b[0m proteins. Also registered \u001b[1;36m0\u001b[0m extra categorical covariates  \n",
      "         and \u001b[1;36m0\u001b[0m extra continuous covariates.                                                  \n",
      "\u001b[31mWARNING \u001b[0m Make sure the registered X field in anndata contains unnormalized count data.       \n",
      "\u001b[31mWARNING \u001b[0m Make sure the registered X field in anndata contains unnormalized count data.       \n"
     ]
    }
   ],
   "source": [
    "vae = sca.models.SCANVI.load(HLCA_SCARCHES_SAVE_MODEL, adata_ref)"
   ]
  },
  {
   "cell_type": "code",
   "execution_count": 12,
   "metadata": {},
   "outputs": [
    {
     "name": "stdout",
     "output_type": "stream",
     "text": [
      "\u001b[31mWARNING \u001b[0m Make sure the registered X field in anndata contains unnormalized count data.       \n"
     ]
    }
   ],
   "source": [
    "reference_emb_adata = sc.AnnData(vae.get_latent_representation(\n",
    "    adata_ref\n",
    "), obs=adata_ref.obs.copy())"
   ]
  },
  {
   "cell_type": "code",
   "execution_count": 13,
   "metadata": {},
   "outputs": [
    {
     "name": "stdout",
     "output_type": "stream",
     "text": [
      "\u001b[34mINFO    \u001b[0m Using data from adata.X                                                             \n",
      "\u001b[34mINFO    \u001b[0m Computing library size prior per batch                                              \n",
      "\u001b[34mINFO    \u001b[0m Registered keys:\u001b[1m[\u001b[0m\u001b[32m'X'\u001b[0m, \u001b[32m'batch_indices'\u001b[0m, \u001b[32m'local_l_mean'\u001b[0m, \u001b[32m'local_l_var'\u001b[0m, \u001b[32m'labels'\u001b[0m\u001b[1m]\u001b[0m     \n",
      "\u001b[34mINFO    \u001b[0m Successfully registered anndata object containing \u001b[1;36m128628\u001b[0m cells, \u001b[1;36m1897\u001b[0m vars, \u001b[1;36m225\u001b[0m      \n",
      "         batches, \u001b[1;36m59\u001b[0m labels, and \u001b[1;36m0\u001b[0m proteins. Also registered \u001b[1;36m0\u001b[0m extra categorical covariates  \n",
      "         and \u001b[1;36m0\u001b[0m extra continuous covariates.                                                  \n",
      "\u001b[34mINFO    \u001b[0m Training Unsupervised Trainer for \u001b[1;36m62\u001b[0m epochs.                                        \n",
      "\u001b[34mINFO    \u001b[0m Training SemiSupervised Trainer for \u001b[1;36m500\u001b[0m epochs.                                     \n",
      "\u001b[34mINFO    \u001b[0m KL warmup for \u001b[1;36m400\u001b[0m epochs                                                            \n",
      "Training...:  84%|███████████████████████████████████████████████████████████████████████████████████████████████████████████████████████████████████████████████████████████████████████████████████████                                   | 420/500 [5:35:46<52:12, 39.16s/it]\u001b[34mINFO    \u001b[0m Reducing LR on epoch \u001b[1;36m420\u001b[0m.                                                           \n",
      "Training...:  86%|████████████████████████████████████████████████████████████████████████████████████████████████████████████████████████████████████████████████████████████████████████████████████████████▎                             | 432/500 [5:43:23<42:49, 37.78s/it]\u001b[34mINFO    \u001b[0m Reducing LR on epoch \u001b[1;36m432\u001b[0m.                                                           \n",
      "Training...:  87%|█████████████████████████████████████████████████████████████████████████████████████████████████████████████████████████████████████████████████████████████████████████████████████████████▏                            | 434/500 [5:44:39<41:47, 37.99s/it]\u001b[34mINFO    \u001b[0m                                                                                     \n",
      "         Stopping early: no improvement of more than \u001b[1;36m0.001\u001b[0m nats in \u001b[1;36m10\u001b[0m epochs                 \n",
      "\u001b[34mINFO    \u001b[0m If the early stopping criterion is too strong, please instantiate it with different \n",
      "         parameters in the train method.                                                     \n",
      "Training...:  87%|█████████████████████████████████████████████████████████████████████████████████████████████████████████████████████████████████████████████████████████████████████████████████████████████▏                            | 434/500 [5:45:20<52:31, 47.74s/it]\n",
      "\u001b[34mINFO    \u001b[0m Training time:  \u001b[1;36m7005\u001b[0m s. \u001b[35m/\u001b[0m \u001b[1;36m500\u001b[0m epochs                                                \n",
      "CPU times: user 13h 42min 16s, sys: 7min 33s, total: 13h 49min 50s\n",
      "Wall time: 5h 46min 35s\n"
     ]
    }
   ],
   "source": [
    "%%time\n",
    "\n",
    "surgery_epochs = 500\n",
    "early_stopping_kwargs_surgery = {\n",
    "    \"early_stopping_metric\": \"elbo\",\n",
    "    \"save_best_state_metric\": \"elbo\",\n",
    "    \"on\": \"full_dataset\",\n",
    "    \"patience\": 10,\n",
    "    \"threshold\": 0.001,\n",
    "    \"reduce_lr_on_plateau\": True,\n",
    "    \"lr_patience\": 8,\n",
    "    \"lr_factor\": 0.1,\n",
    "}\n",
    "\n",
    "model = sca.models.SCANVI.load_query_data(\n",
    "    adata_query,\n",
    "    ref_path,\n",
    "    freeze_dropout = True,\n",
    ")\n",
    "\n",
    "model.train(\n",
    "    n_epochs_semisupervised=surgery_epochs,\n",
    "    train_base_model=False,\n",
    "    semisupervised_trainer_kwargs=dict(\n",
    "        metrics_to_monitor=[\"accuracy\", \"elbo\"], \n",
    "        weight_decay=0,\n",
    "        early_stopping_kwargs=early_stopping_kwargs_surgery\n",
    "    ),\n",
    "    frequency=1\n",
    ")"
   ]
  },
  {
   "cell_type": "code",
   "execution_count": 14,
   "metadata": {},
   "outputs": [],
   "source": [
    "latent_subadata = sc.AnnData(model.get_latent_representation(\n",
    "    adata_query\n",
    "), obs=adata_query.obs.copy())"
   ]
  },
  {
   "cell_type": "code",
   "execution_count": 15,
   "metadata": {},
   "outputs": [],
   "source": [
    "model.save(HLCA_SCARCHES_SAVE_FINETUNED_MODEL_format.format('healthy'))\n",
    "latent_subadata.write(HLCA_SCARCHES_SAVE_MAPPED_LATENT_format.format('healthy'))"
   ]
  },
  {
   "cell_type": "code",
   "execution_count": 16,
   "metadata": {},
   "outputs": [],
   "source": [
    "latent_subadata = sc.read(HLCA_SCARCHES_SAVE_MAPPED_LATENT_format.format('healthy'))"
   ]
  },
  {
   "cell_type": "code",
   "execution_count": 17,
   "metadata": {},
   "outputs": [
    {
     "name": "stdout",
     "output_type": "stream",
     "text": [
      "Weighted KNN with n_neighbors = 50 ... finished!\n",
      "CPU times: user 1h 3min 30s, sys: 33min 11s, total: 1h 36min 41s\n",
      "Wall time: 54min 18s\n"
     ]
    }
   ],
   "source": [
    "%%time\n",
    "\n",
    "# run k-neighbors transformer\n",
    "k_neighbors_transformer = weighted_knn_trainer(\n",
    "    train_adata=reference_emb_adata,\n",
    "    train_adata_emb=\"X\", # location of our joint embedding\n",
    "    label_key=\"ann_finest_level\",\n",
    "    n_neighbors=50,\n",
    "    )    \n",
    "# perform label transfer\n",
    "labels, uncert = weighted_knn_transfer(\n",
    "    k_neighbors_transformer,\n",
    "    query_adata=latent_subadata,\n",
    "    query_adata_emb=\"X\", # location of our joint embedding\n",
    "    label_keys=\"ann_finest_level\",\n",
    "    knn_model=k_neighbors_transformer,\n",
    "    ref_adata_obs = reference_emb_adata.obs\n",
    "    )"
   ]
  },
  {
   "cell_type": "code",
   "execution_count": 20,
   "metadata": {},
   "outputs": [],
   "source": [
    "latent_subadata.obs['pred_ann_class'] = labels[\"ann_finest_level\"].to_numpy()\n",
    "latent_subadata.obs['pred_ann_uncert'] = uncert[\"ann_finest_level\"].to_numpy().astype(np.float32)"
   ]
  },
  {
   "cell_type": "code",
   "execution_count": 21,
   "metadata": {},
   "outputs": [],
   "source": [
    "latent_subadata.write(HLCA_SCARCHES_SAVE_MAPPED_LATENT_format.format('healthy-knn'))"
   ]
  },
  {
   "cell_type": "code",
   "execution_count": null,
   "metadata": {},
   "outputs": [],
   "source": []
  }
 ],
 "metadata": {
  "kernelspec": {
   "display_name": "hlca",
   "language": "python",
   "name": "hlca"
  },
  "language_info": {
   "codemirror_mode": {
    "name": "ipython",
    "version": 3
   },
   "file_extension": ".py",
   "mimetype": "text/x-python",
   "name": "python",
   "nbconvert_exporter": "python",
   "pygments_lexer": "ipython3",
   "version": "3.7.13"
  }
 },
 "nbformat": 4,
 "nbformat_minor": 4
}
