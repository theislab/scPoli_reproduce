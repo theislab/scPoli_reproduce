{
 "cells": [
  {
   "cell_type": "code",
   "execution_count": 11,
   "id": "319d7f81",
   "metadata": {},
   "outputs": [],
   "source": [
    "import os\n",
    "from pathlib import Path\n",
    "\n",
    "import torch\n",
    "import numpy as np\n",
    "import scanpy as sc\n",
    "import pandas as pd\n",
    "import matplotlib.pyplot as plt\n",
    "import seaborn as sns\n",
    "from sklearn.metrics import classification_report"
   ]
  },
  {
   "cell_type": "markdown",
   "id": "35a7517c",
   "metadata": {},
   "source": [
    "---"
   ]
  },
  {
   "cell_type": "code",
   "execution_count": 3,
   "id": "da1be338",
   "metadata": {},
   "outputs": [],
   "source": [
    "adata = sc.read(\n",
    "    '/lustre/groups/ml01/workspace/carlo.dedonno/lataq_reproduce/data/hlca_counts.h5ad'\n",
    ")\n",
    "#adata = adata[:, adata.var.highly_variable].copy()\n",
    "#adata.X"
   ]
  },
  {
   "cell_type": "code",
   "execution_count": 4,
   "id": "a9c8fd99-a7b3-4430-a69d-dea32318b465",
   "metadata": {},
   "outputs": [],
   "source": [
    "adata_cancer = sc.read('/lustre/groups/ml01/workspace/carlo.dedonno/lataq_reproduce/data/lambrechts_sub.h5ad')"
   ]
  },
  {
   "cell_type": "code",
   "execution_count": 5,
   "id": "6a29d541-047c-4eb3-99f4-9d405d62084e",
   "metadata": {},
   "outputs": [],
   "source": [
    "adata_extended = sc.read('/lustre/groups/ml01/workspace/carlo.dedonno/lataq_reproduce/data/extension_data_pooled_raw_2000genes.h5ad')"
   ]
  },
  {
   "cell_type": "code",
   "execution_count": 6,
   "id": "c487bc60-64d2-4430-ad9a-6abfb1550890",
   "metadata": {},
   "outputs": [],
   "source": [
    "adata.var['feature_name'] = adata.var['feature_name'].astype(str)\n",
    "adata.var = adata.var.set_index('feature_name')"
   ]
  },
  {
   "cell_type": "code",
   "execution_count": null,
   "id": "78d371f0-de35-4aaf-a594-49419ffc5741",
   "metadata": {},
   "outputs": [],
   "source": []
  },
  {
   "cell_type": "code",
   "execution_count": 7,
   "id": "58258a0e-3284-4e2b-88af-59ed1e6774ad",
   "metadata": {},
   "outputs": [],
   "source": [
    "common_vars = adata.var_names.intersection(adata_cancer.var_names).intersection(adata_extended.var_names)"
   ]
  },
  {
   "cell_type": "code",
   "execution_count": 13,
   "id": "b58e78b7-e8e0-445a-a2b7-20c6f17ed4c0",
   "metadata": {},
   "outputs": [],
   "source": [
    "Path(os.path.expanduser(\"~/io/scpoli_repr\")).mkdir(parents=True, exist_ok=True)"
   ]
  },
  {
   "cell_type": "code",
   "execution_count": null,
   "id": "70dc6f84-3a6d-4cae-b12a-31a748bd7045",
   "metadata": {},
   "outputs": [],
   "source": []
  },
  {
   "cell_type": "code",
   "execution_count": 14,
   "id": "87a93345-f630-4ef1-982e-113aea9512d4",
   "metadata": {},
   "outputs": [],
   "source": [
    "adata = adata[:, common_vars]"
   ]
  },
  {
   "cell_type": "code",
   "execution_count": 15,
   "id": "2b53bc4a-c5f4-4cb8-b656-fe77c9697f31",
   "metadata": {},
   "outputs": [],
   "source": [
    "adata.write(os.path.expanduser('~/io/scpoli_repr/hlca_counts_commonvars.h5ad'))"
   ]
  },
  {
   "cell_type": "code",
   "execution_count": null,
   "id": "5fea60e3-2e1a-418a-b764-a91d9364d561",
   "metadata": {},
   "outputs": [],
   "source": []
  },
  {
   "cell_type": "code",
   "execution_count": 16,
   "id": "a3d13396-d20e-4768-9d70-fae0fa8deb42",
   "metadata": {},
   "outputs": [],
   "source": [
    "adata_cancer = adata_cancer[:, common_vars]"
   ]
  },
  {
   "cell_type": "code",
   "execution_count": 17,
   "id": "dd41a3a7-6ce9-4d3e-80cd-98a54904d60e",
   "metadata": {},
   "outputs": [],
   "source": [
    "adata_cancer.write(os.path.expanduser('~/io/scpoli_repr/hlca_cancer_commonvars.h5ad'))"
   ]
  },
  {
   "cell_type": "code",
   "execution_count": null,
   "id": "15868dbb-7e22-406d-ab8f-ff8d27a3cfdd",
   "metadata": {},
   "outputs": [],
   "source": []
  },
  {
   "cell_type": "code",
   "execution_count": 18,
   "id": "c928f031-df18-4a59-91a1-e458bdc2721e",
   "metadata": {},
   "outputs": [],
   "source": [
    "adata_extended = adata_extended[:, common_vars]"
   ]
  },
  {
   "cell_type": "code",
   "execution_count": 19,
   "id": "d89a2977-4243-489d-a4d1-2fda8873e393",
   "metadata": {},
   "outputs": [],
   "source": [
    "adata_extended.write(os.path.expanduser('~/io/scpoli_repr/hlca_extended_commonvars.h5ad'))"
   ]
  },
  {
   "cell_type": "code",
   "execution_count": null,
   "id": "8a022125-4b2d-40e6-b477-2429c0e04545",
   "metadata": {},
   "outputs": [],
   "source": []
  }
 ],
 "metadata": {
  "kernelspec": {
   "display_name": "lataq",
   "language": "python",
   "name": "lataq"
  },
  "language_info": {
   "codemirror_mode": {
    "name": "ipython",
    "version": 3
   },
   "file_extension": ".py",
   "mimetype": "text/x-python",
   "name": "python",
   "nbconvert_exporter": "python",
   "pygments_lexer": "ipython3",
   "version": "3.8.13"
  }
 },
 "nbformat": 4,
 "nbformat_minor": 5
}
