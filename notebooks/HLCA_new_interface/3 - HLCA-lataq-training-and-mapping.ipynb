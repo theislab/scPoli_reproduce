{
 "cells": [
  {
   "cell_type": "code",
   "execution_count": 1,
   "metadata": {},
   "outputs": [],
   "source": [
    "%load_ext autoreload\n",
    "%autoreload 2"
   ]
  },
  {
   "cell_type": "code",
   "execution_count": 3,
   "metadata": {},
   "outputs": [],
   "source": [
    "from knn_cell_type_assigner import weighted_knn_trainer, weighted_knn_transfer"
   ]
  },
  {
   "cell_type": "code",
   "execution_count": 4,
   "metadata": {},
   "outputs": [
    {
     "name": "stderr",
     "output_type": "stream",
     "text": [
      "WARNING:root:In order to use the mouse gastrulation seqFISH datsets, please install squidpy (see https://github.com/scverse/squidpy).\n",
      "WARNING:root:In order to use sagenet models, please install pytorch geometric (see https://pytorch-geometric.readthedocs.io) and \n",
      " captum (see https://github.com/pytorch/captum).\n",
      "INFO:lightning_fabric.utilities.seed:[rank: 0] Global seed set to 0\n",
      "WARNING:root:mvTCR is not installed. To use mvTCR models, please install it first using \"pip install mvtcr\"\n",
      "WARNING:root:multigrate is not installed. To use multigrate models, please install it first using \"pip install multigrate\".\n"
     ]
    }
   ],
   "source": [
    "import os\n",
    "import pathlib\n",
    "import pickle\n",
    "\n",
    "import anndata\n",
    "import torch\n",
    "import numpy as np\n",
    "import scanpy as sc\n",
    "import scarches as sca\n",
    "import pandas as pd\n",
    "import matplotlib.pyplot as plt\n",
    "import seaborn as sns\n",
    "from sklearn.metrics import classification_report\n",
    "\n",
    "from scarches.dataset.trvae.data_handling import remove_sparsity\n",
    "from lataq.models import EMBEDCVAE\n",
    "\n",
    "sc.settings.set_figure_params(dpi=200, frameon=False)\n",
    "sc.set_figure_params(dpi=500)\n",
    "plt.rcParams['figure.figsize'] = (5, 5)\n",
    "torch.set_printoptions(precision=3, sci_mode=False, edgeitems=7)"
   ]
  },
  {
   "cell_type": "code",
   "execution_count": null,
   "metadata": {},
   "outputs": [],
   "source": []
  },
  {
   "cell_type": "code",
   "execution_count": null,
   "metadata": {},
   "outputs": [],
   "source": []
  },
  {
   "cell_type": "code",
   "execution_count": null,
   "metadata": {},
   "outputs": [],
   "source": []
  },
  {
   "cell_type": "code",
   "execution_count": 5,
   "metadata": {},
   "outputs": [],
   "source": [
    "home_dir = os.path.expanduser(\"~\")"
   ]
  },
  {
   "cell_type": "code",
   "execution_count": 17,
   "metadata": {},
   "outputs": [],
   "source": [
    "condition_key = 'sample'\n",
    "cell_type_key = ['ann_finest_level']\n",
    "\n",
    "HLCA_DATA_PATH = os.path.expanduser('~/io/scpoli_repr/hlca_counts_commonvars.h5ad')\n",
    "HLCA_EXTENDED_DATA_PATH = os.path.expanduser('~/io/scpoli_repr/hlca_extended_commonvars.h5ad')\n",
    "HLCA_CANCER_DATA_PATH = os.path.expanduser('~/io/scpoli_repr/hlca_cancer_commonvars.h5ad')\n",
    "\n",
    "HLCA_LATAQ_SAVE_MODEL = os.path.join(home_dir, \"io/lataq_repr/lataq_models/hlca_core_sample/\")\n",
    "HLCA_LATAQ_SAVE_FINETUNED_MODEL_format = os.path.join(home_dir, \"io/scpoli_repr/lataq_models/HLCA_mapped_model_sample_{}\")\n",
    "HLCA_LATAQ_SAVE_MAPPED_LATENT_format = os.path.join(home_dir, \"io/scpoli_repr/lataq_models/HLCA_mapped_model_sample_{}.latent.h5ad\")"
   ]
  },
  {
   "cell_type": "code",
   "execution_count": 18,
   "metadata": {},
   "outputs": [],
   "source": [
    "unlabeled_category = \"NA\"\n",
    "\n",
    "\n",
    "PARAMS = {\n",
    "    'EPOCHS': 50,                                      #TOTAL TRAINING EPOCHS\n",
    "    'N_PRE_EPOCHS': 40,                                #EPOCHS OF PRETRAINING WITHOUT LANDMARK LOSS\n",
    "    #'DATA_DIR': '../../lataq_reproduce/data',          #DIRECTORY WHERE THE DATA IS STORED\n",
    "    #'DATA': 'pancreas',                                #DATA USED FOR THE EXPERIMENT\n",
    "    'EARLY_STOPPING_KWARGS': {                         #KWARGS FOR EARLY STOPPING\n",
    "        \"early_stopping_metric\": \"val_landmark_loss\",  ####value used for early stopping\n",
    "        \"mode\": \"min\",                                 ####choose if look for min or max\n",
    "        \"threshold\": 0,\n",
    "        \"patience\": 20,\n",
    "        \"reduce_lr\": True,\n",
    "        \"lr_patience\": 13,\n",
    "        \"lr_factor\": 0.1,\n",
    "    },\n",
    "    'LABELED_LOSS_METRIC': 'dist',           \n",
    "    'UNLABELED_LOSS_METRIC': 'dist',\n",
    "    'LATENT_DIM': 50,\n",
    "    'ALPHA_EPOCH_ANNEAL': 1e3,\n",
    "    'CLUSTERING_RES': 2,\n",
    "    'HIDDEN_LAYERS': 4,\n",
    "    'ETA': 1,\n",
    "}"
   ]
  },
  {
   "cell_type": "code",
   "execution_count": null,
   "metadata": {},
   "outputs": [],
   "source": []
  },
  {
   "cell_type": "code",
   "execution_count": null,
   "metadata": {},
   "outputs": [],
   "source": []
  },
  {
   "cell_type": "code",
   "execution_count": 19,
   "metadata": {},
   "outputs": [
    {
     "data": {
      "text/plain": [
       "AnnData object with n_obs × n_vars = 584884 × 1897\n",
       "    obs: 'is_primary_data', 'assay_ontology_term_id', 'cell_type_ontology_term_id', 'development_stage_ontology_term_id', 'disease_ontology_term_id', 'ethnicity_ontology_term_id', 'tissue_ontology_term_id', 'organism_ontology_term_id', 'sex_ontology_term_id', 'sample', 'study', 'subject_ID', 'smoking_status', 'BMI', 'condition', 'subject_type', 'sample_type', \"3'_or_5'\", 'sequencing_platform', 'cell_ranger_version', 'fresh_or_frozen', 'dataset', 'anatomical_region_level_2', 'anatomical_region_level_3', 'anatomical_region_highest_res', 'age', 'ann_highest_res', 'n_genes', 'size_factors', 'log10_total_counts', 'mito_frac', 'ribo_frac', 'original_ann_level_1', 'original_ann_level_2', 'original_ann_level_3', 'original_ann_level_4', 'original_ann_level_5', 'original_ann_nonharmonized', 'scanvi_label', 'leiden_1', 'leiden_2', 'leiden_3', 'anatomical_region_ccf_score', 'entropy_study_leiden_3', 'entropy_dataset_leiden_3', 'entropy_subject_ID_leiden_3', 'entropy_original_ann_level_1_leiden_3', 'entropy_original_ann_level_2_clean_leiden_3', 'entropy_original_ann_level_3_clean_leiden_3', 'entropy_original_ann_level_4_clean_leiden_3', 'entropy_original_ann_level_5_clean_leiden_3', 'leiden_4', 'reannotation_type', 'leiden_5', 'ann_finest_level', 'ann_level_1', 'ann_level_2', 'ann_level_3', 'ann_level_4', 'ann_level_5', 'ann_coarse_for_GWAS_and_modeling', 'cell_type', 'assay', 'disease', 'organism', 'sex', 'tissue', 'ethnicity', 'development_stage'\n",
       "    var: 'n_cells', 'highly_variable', 'means', 'dispersions', 'feature_biotype', 'feature_is_filtered', 'feature_reference'\n",
       "    uns: 'X_normalization', 'batch_condition', 'contributors', 'default_embedding', 'schema_version', 'title'\n",
       "    obsm: 'X_scanvi_emb', 'X_umap'\n",
       "    obsp: 'connectivities', 'distances'"
      ]
     },
     "execution_count": 28,
     "metadata": {},
     "output_type": "execute_result"
    }
   ],
   "source": [
    "adata = sc.read(HLCA_DATA_PATH)\n",
    "adata.X = adata.X.astype(np.float32)\n",
    "adata"
   ]
  },
  {
   "cell_type": "code",
   "execution_count": 34,
   "metadata": {},
   "outputs": [
    {
     "data": {
      "text/plain": [
       "AnnData object with n_obs × n_vars = 128628 × 1897\n",
       "    obs: 'dataset', 'study', 'original_celltype_ann', 'condition', 'subject_ID', 'sample', 'cells_or_nuclei', 'single_cell_platform', 'sample_type', 'age', 'sex', 'ethnicity', 'BMI', 'smoking_status', 'anatomical_region_level_1', 'anatomical_region_coarse', 'anatomical_region_detailed', 'genome', 'disease', 'ann_finest_level'"
      ]
     },
     "execution_count": 34,
     "metadata": {},
     "output_type": "execute_result"
    }
   ],
   "source": [
    "adata_extended = sc.read(HLCA_EXTENDED_DATA_PATH)\n",
    "adata_extended = adata_extended[adata_extended.obs['study'] == 'Meyer_2021'].copy()\n",
    "adata_extended.X = adata_extended.X.astype(np.float32)\n",
    "adata_extended.obs[cell_type_key[0]] = unlabeled_category\n",
    "adata_extended.X = adata_extended.X.A.astype(np.float32)\n",
    "adata_extended"
   ]
  },
  {
   "cell_type": "code",
   "execution_count": 35,
   "metadata": {},
   "outputs": [
    {
     "data": {
      "text/plain": [
       "AnnData object with n_obs × n_vars = 93575 × 1897\n",
       "    obs: 'n_genes_detected', 'total_counts', 'cell_from_tumor', 'subject_ID', 'tumor_site', 'original_celltype_ann', 'sample', 'study', 'study_long', 'dataset', 'last_author_PI', 'lung_vs_nasal', 'ann_level_1', 'ann_level_2', 'ann_level_3', 'ann_level_4', 'ann_level_5', 'ann_highest_res', 'ann_new', 'scanvi_label', 'ann_finest_level'\n",
       "    var: 'original_gene_names', 'gene_symbols', 'ensembl'"
      ]
     },
     "execution_count": 35,
     "metadata": {},
     "output_type": "execute_result"
    }
   ],
   "source": [
    "adata_cancer = sc.read(HLCA_CANCER_DATA_PATH)\n",
    "adata_cancer.X = adata_cancer.X.astype(np.float32)\n",
    "adata_cancer.obs[cell_type_key[0]] = unlabeled_category\n",
    "adata_cancer.X = adata_cancer.X.A.astype(np.float32)\n",
    "adata_cancer"
   ]
  },
  {
   "cell_type": "markdown",
   "metadata": {},
   "source": [
    "## Training LATAQ"
   ]
  },
  {
   "cell_type": "code",
   "execution_count": null,
   "metadata": {},
   "outputs": [],
   "source": [
    "lataq_model = EMBEDCVAE(\n",
    "    adata=adata,\n",
    "    condition_key=condition_key,\n",
    "    cell_type_keys=cell_type_key,\n",
    "    hidden_layer_sizes=[128]*3,\n",
    "    latent_dim=50,\n",
    "    embedding_dim=20,\n",
    "    inject_condition=['encoder', 'decoder']\n",
    ")"
   ]
  },
  {
   "cell_type": "code",
   "execution_count": null,
   "metadata": {},
   "outputs": [],
   "source": [
    "lataq_model.train(\n",
    "    n_epochs=50,\n",
    "    pretraining_epochs=45,\n",
    "    early_stopping_kwargs=PARAMS['EARLY_STOPPING_KWARGS'],\n",
    "    alpha_epoch_anneal=PARAMS['ALPHA_EPOCH_ANNEAL'],\n",
    "    eta=PARAMS['ETA'],\n",
    "    clustering_res=PARAMS['CLUSTERING_RES'],\n",
    "    labeled_loss_metric=PARAMS['LABELED_LOSS_METRIC'],\n",
    "    unlabeled_loss_metric=PARAMS['UNLABELED_LOSS_METRIC'],\n",
    "    use_stratified_sampling=False,\n",
    "    best_reload=False\n",
    ")"
   ]
  },
  {
   "cell_type": "code",
   "execution_count": null,
   "metadata": {},
   "outputs": [],
   "source": [
    "lataq_model.save(HLCA_LATAQ_SAVE_MODEL, overwrite=True)"
   ]
  },
  {
   "cell_type": "code",
   "execution_count": null,
   "metadata": {},
   "outputs": [],
   "source": []
  },
  {
   "cell_type": "code",
   "execution_count": null,
   "metadata": {},
   "outputs": [],
   "source": []
  },
  {
   "cell_type": "markdown",
   "metadata": {},
   "source": [
    "## Perform surgery on reference model and train on cancer dataset"
   ]
  },
  {
   "cell_type": "code",
   "execution_count": 36,
   "metadata": {},
   "outputs": [],
   "source": [
    "ref_path = HLCA_LATAQ_SAVE_MODEL\n",
    "adata_query = adata_cancer\n",
    "adata_ref = adata"
   ]
  },
  {
   "cell_type": "code",
   "execution_count": 13,
   "metadata": {
    "scrolled": true,
    "tags": []
   },
   "outputs": [
    {
     "name": "stdout",
     "output_type": "stream",
     "text": [
      "AnnData object with n_obs × n_vars = 584884 × 1897\n",
      "    obs: 'is_primary_data', 'assay_ontology_term_id', 'cell_type_ontology_term_id', 'development_stage_ontology_term_id', 'disease_ontology_term_id', 'ethnicity_ontology_term_id', 'tissue_ontology_term_id', 'organism_ontology_term_id', 'sex_ontology_term_id', 'sample', 'study', 'subject_ID', 'smoking_status', 'BMI', 'condition', 'subject_type', 'sample_type', \"3'_or_5'\", 'sequencing_platform', 'cell_ranger_version', 'fresh_or_frozen', 'dataset', 'anatomical_region_level_2', 'anatomical_region_level_3', 'anatomical_region_highest_res', 'age', 'ann_highest_res', 'n_genes', 'size_factors', 'log10_total_counts', 'mito_frac', 'ribo_frac', 'original_ann_level_1', 'original_ann_level_2', 'original_ann_level_3', 'original_ann_level_4', 'original_ann_level_5', 'original_ann_nonharmonized', 'scanvi_label', 'leiden_1', 'leiden_2', 'leiden_3', 'anatomical_region_ccf_score', 'entropy_study_leiden_3', 'entropy_dataset_leiden_3', 'entropy_subject_ID_leiden_3', 'entropy_original_ann_level_1_leiden_3', 'entropy_original_ann_level_2_clean_leiden_3', 'entropy_original_ann_level_3_clean_leiden_3', 'entropy_original_ann_level_4_clean_leiden_3', 'entropy_original_ann_level_5_clean_leiden_3', 'leiden_4', 'reannotation_type', 'leiden_5', 'ann_finest_level', 'ann_level_1', 'ann_level_2', 'ann_level_3', 'ann_level_4', 'ann_level_5', 'ann_coarse_for_GWAS_and_modeling', 'cell_type', 'assay', 'disease', 'organism', 'sex', 'tissue', 'ethnicity', 'development_stage'\n",
      "    var: 'n_cells', 'highly_variable', 'means', 'dispersions', 'feature_biotype', 'feature_is_filtered', 'feature_reference'\n",
      "    uns: 'X_normalization', 'batch_condition', 'contributors', 'default_embedding', 'schema_version', 'title'\n",
      "    obsm: 'X_scanvi_emb', 'X_umap'\n",
      "    obsp: 'connectivities', 'distances'\n",
      "Embedding dictionary:\n",
      " \tNum conditions: 166\n",
      " \tEmbedding dim: 20\n",
      "Encoder Architecture:\n",
      "\tInput Layer in, out and cond: 1897 128 20\n",
      "\tHidden Layer 1 in/out: 128 128\n",
      "\tHidden Layer 2 in/out: 128 128\n",
      "\tMean/Var Layer in/out: 128 50\n",
      "Decoder Architecture:\n",
      "\tFirst Layer in, out and cond:  50 128 20\n",
      "\tHidden Layer 1 in/out: 128 128\n",
      "\tHidden Layer 2 in/out: 128 128\n",
      "\tOutput Layer in/out:  128 1897 \n",
      "\n"
     ]
    },
    {
     "data": {
      "text/plain": [
       "EmbedCVAE(\n",
       "  (embedding): Embedding(166, 20, max_norm=1)\n",
       "  (encoder): Encoder(\n",
       "    (FC): Sequential(\n",
       "      (L0): CondLayers(\n",
       "        (expr_L): Linear(in_features=1897, out_features=128, bias=True)\n",
       "        (cond_L): Linear(in_features=20, out_features=128, bias=False)\n",
       "      )\n",
       "      (N0): LayerNorm((128,), eps=1e-05, elementwise_affine=False)\n",
       "      (A0): ReLU()\n",
       "      (D0): Dropout(p=0.05, inplace=False)\n",
       "      (L1): Linear(in_features=128, out_features=128, bias=True)\n",
       "      (N1): LayerNorm((128,), eps=1e-05, elementwise_affine=False)\n",
       "      (A1): ReLU()\n",
       "      (D1): Dropout(p=0.05, inplace=False)\n",
       "      (L2): Linear(in_features=128, out_features=128, bias=True)\n",
       "      (N2): LayerNorm((128,), eps=1e-05, elementwise_affine=False)\n",
       "      (A2): ReLU()\n",
       "      (D2): Dropout(p=0.05, inplace=False)\n",
       "    )\n",
       "    (mean_encoder): Linear(in_features=128, out_features=50, bias=True)\n",
       "    (log_var_encoder): Linear(in_features=128, out_features=50, bias=True)\n",
       "  )\n",
       "  (decoder): Decoder(\n",
       "    (FirstL): Sequential(\n",
       "      (L0): CondLayers(\n",
       "        (expr_L): Linear(in_features=50, out_features=128, bias=False)\n",
       "        (cond_L): Linear(in_features=20, out_features=128, bias=False)\n",
       "      )\n",
       "      (N0): LayerNorm((128,), eps=1e-05, elementwise_affine=False)\n",
       "      (A0): ReLU()\n",
       "      (D0): Dropout(p=0.05, inplace=False)\n",
       "    )\n",
       "    (HiddenL): Sequential(\n",
       "      (L1): Linear(in_features=128, out_features=128, bias=False)\n",
       "      (N1): LayerNorm((128,), eps=1e-05, elementwise_affine=False)\n",
       "      (A1): ReLU()\n",
       "      (D1): Dropout(p=0.05, inplace=False)\n",
       "      (L2): Linear(in_features=128, out_features=128, bias=False)\n",
       "      (N2): LayerNorm((128,), eps=1e-05, elementwise_affine=False)\n",
       "      (A2): ReLU()\n",
       "      (D2): Dropout(p=0.05, inplace=False)\n",
       "    )\n",
       "    (mean_decoder): Sequential(\n",
       "      (0): Linear(in_features=128, out_features=1897, bias=True)\n",
       "      (1): Softmax(dim=-1)\n",
       "    )\n",
       "  )\n",
       ")"
      ]
     },
     "execution_count": 13,
     "metadata": {},
     "output_type": "execute_result"
    }
   ],
   "source": [
    "lataq_model = EMBEDCVAE.load(\n",
    "    os.path.expanduser(ref_path),\n",
    "    adata\n",
    ")\n",
    "lataq_model.model.cuda()"
   ]
  },
  {
   "cell_type": "code",
   "execution_count": 14,
   "metadata": {},
   "outputs": [],
   "source": [
    "reference_emb_adata = sc.AnnData(lataq_model.get_latent(\n",
    "    adata_ref.X.A.astype('float32'), \n",
    "    adata_ref.obs[condition_key].values,\n",
    "    mean=True,\n",
    "), obs=adata_ref.obs.copy())"
   ]
  },
  {
   "cell_type": "code",
   "execution_count": 53,
   "metadata": {},
   "outputs": [
    {
     "name": "stdout",
     "output_type": "stream",
     "text": [
      "AnnData object with n_obs × n_vars = 93575 × 1897\n",
      "    obs: 'n_genes_detected', 'total_counts', 'cell_from_tumor', 'subject_ID', 'tumor_site', 'original_celltype_ann', 'sample', 'study', 'study_long', 'dataset', 'last_author_PI', 'lung_vs_nasal', 'ann_level_1', 'ann_level_2', 'ann_level_3', 'ann_level_4', 'ann_level_5', 'ann_highest_res', 'ann_new', 'scanvi_label', 'ann_finest_level'\n",
      "    var: 'original_gene_names', 'gene_symbols', 'ensembl'\n",
      "Embedding dictionary:\n",
      " \tNum conditions: 202\n",
      " \tEmbedding dim: 20\n",
      "Encoder Architecture:\n",
      "\tInput Layer in, out and cond: 1897 128 20\n",
      "\tHidden Layer 1 in/out: 128 128\n",
      "\tHidden Layer 2 in/out: 128 128\n",
      "\tMean/Var Layer in/out: 128 50\n",
      "Decoder Architecture:\n",
      "\tFirst Layer in, out and cond:  50 128 20\n",
      "\tHidden Layer 1 in/out: 128 128\n",
      "\tHidden Layer 2 in/out: 128 128\n",
      "\tOutput Layer in/out:  128 1897 \n",
      "\n",
      "166\n",
      "Warning: Labels in adata.obs[ann_finest_level] is not a subset of label-encoder!\n",
      "The missing labels are: {'NA'}\n",
      "Therefore integer value of those labels is set to -1\n",
      "Warning: Labels in adata.obs[ann_finest_level] is not a subset of label-encoder!\n",
      "The missing labels are: {'NA'}\n",
      "Therefore integer value of those labels is set to -1\n",
      "Warning: Labels in adata.obs[ann_finest_level] is not a subset of label-encoder!\n",
      "The missing labels are: {'NA'}\n",
      "Therefore integer value of those labels is set to -1\n",
      "Warning: Labels in adata.obs[ann_finest_level] is not a subset of label-encoder!\n",
      "The missing labels are: {'NA'}\n",
      "Therefore integer value of those labels is set to -1\n",
      "loaders init\n",
      "loaders init done\n",
      "0.02024531364440918\n",
      " |████████████████----| 80.0%  - val_loss: 749.4578197582 - val_trvae_loss: 749.4578197582\n",
      "Initializing unlabeled landmarks with Leiden-Clustering with an unknown number of clusters.\n",
      "Leiden Clustering succesful. Found 48 clusters.\n",
      " |████████████████████| 100.0%  - val_loss: 751.6629721152 - val_trvae_loss: 751.6629721152 - val_landmark_loss: 0.0000000000 - val_unlabeled_loss: 0.7814944620\n",
      "CPU times: user 13min 31s, sys: 31.3 s, total: 14min 2s\n",
      "Wall time: 12min 47s\n"
     ]
    }
   ],
   "source": [
    "%%time\n",
    "\n",
    "model = EMBEDCVAE.load_query_data(\n",
    "    adata=adata_query,\n",
    "    labeled_indices=[],\n",
    "    reference_model=ref_path\n",
    ")\n",
    "\n",
    "model.train(\n",
    "    n_epochs=100,\n",
    "    pretraining_epochs=80,\n",
    "    early_stopping_kwargs=PARAMS['EARLY_STOPPING_KWARGS'],\n",
    "    alpha_epoch_anneal=PARAMS['ALPHA_EPOCH_ANNEAL'],\n",
    "    eta=0,\n",
    "    clustering_res=PARAMS['CLUSTERING_RES'],\n",
    "    labeled_loss_metric=PARAMS['LABELED_LOSS_METRIC'],\n",
    "    unlabeled_loss_metric=PARAMS['UNLABELED_LOSS_METRIC'],\n",
    "    weight_decay=0,\n",
    "    use_stratified_sampling=False,\n",
    "    reload_best=False,\n",
    ")"
   ]
  },
  {
   "cell_type": "code",
   "execution_count": 54,
   "metadata": {},
   "outputs": [],
   "source": [
    "latent_subadata = sc.AnnData(model.get_latent(\n",
    "    adata_query.X, \n",
    "    adata_query.obs[condition_key].values,\n",
    "    mean=True,\n",
    "), obs=adata_query.obs.copy())\n",
    "\n",
    "subdata_predictions = model.classify(\n",
    "    x=adata_query.X,\n",
    "    c=adata_query.obs[condition_key],\n",
    "    metric='dist',\n",
    "    get_prob=False,\n",
    "    threshold=-np.inf\n",
    ")\n",
    "\n",
    "latent_subadata.obs['pred_ann_class'] = subdata_predictions['ann_finest_level']['preds']\n",
    "latent_subadata.obs['pred_ann_uncert'] = subdata_predictions['ann_finest_level']['probs']\n",
    "latent_subadata.obsm['pred_ann_weighted_distances'] = subdata_predictions['ann_finest_level']['weighted_distances']"
   ]
  },
  {
   "cell_type": "code",
   "execution_count": 55,
   "metadata": {},
   "outputs": [],
   "source": [
    "model.save(HLCA_LATAQ_SAVE_FINETUNED_MODEL_format.format('cancer'))\n",
    "latent_subadata.write(HLCA_LATAQ_SAVE_MAPPED_LATENT_format.format('cancer'))"
   ]
  },
  {
   "cell_type": "code",
   "execution_count": 56,
   "metadata": {},
   "outputs": [],
   "source": [
    "latent_subadata = sc.read(HLCA_LATAQ_SAVE_MAPPED_LATENT_format.format('cancer'))"
   ]
  },
  {
   "cell_type": "code",
   "execution_count": 57,
   "metadata": {},
   "outputs": [
    {
     "name": "stdout",
     "output_type": "stream",
     "text": [
      "Weighted KNN with n_neighbors = 50 ... finished!\n",
      "CPU times: user 50min 34s, sys: 26min 52s, total: 1h 17min 27s\n",
      "Wall time: 42min 56s\n"
     ]
    }
   ],
   "source": [
    "%%time\n",
    "\n",
    "# run k-neighbors transformer\n",
    "k_neighbors_transformer = weighted_knn_trainer(\n",
    "    train_adata=reference_emb_adata,\n",
    "    train_adata_emb=\"X\", # location of our joint embedding\n",
    "    label_key=\"ann_finest_level\",\n",
    "    n_neighbors=50,\n",
    "    )    \n",
    "# perform label transfer\n",
    "labels, uncert = weighted_knn_transfer(\n",
    "    k_neighbors_transformer,\n",
    "    query_adata=latent_subadata,\n",
    "    query_adata_emb=\"X\", # location of our joint embedding\n",
    "    label_keys=\"ann_finest_level\",\n",
    "    knn_model=k_neighbors_transformer,\n",
    "    ref_adata_obs = reference_emb_adata.obs\n",
    "    )"
   ]
  },
  {
   "cell_type": "code",
   "execution_count": 61,
   "metadata": {},
   "outputs": [],
   "source": [
    "latent_subadata.obs['pred_ann_class'] = labels[\"ann_finest_level\"].to_numpy()\n",
    "latent_subadata.obs['pred_ann_uncert'] = uncert[\"ann_finest_level\"].to_numpy().astype(np.float32)"
   ]
  },
  {
   "cell_type": "code",
   "execution_count": 62,
   "metadata": {},
   "outputs": [],
   "source": [
    "latent_subadata.write(HLCA_LATAQ_SAVE_MAPPED_LATENT_format.format('cancer-knn'))"
   ]
  },
  {
   "cell_type": "code",
   "execution_count": null,
   "metadata": {},
   "outputs": [],
   "source": []
  },
  {
   "cell_type": "markdown",
   "metadata": {},
   "source": [
    "## Perform surgery on reference model and train on healthy dataset"
   ]
  },
  {
   "cell_type": "code",
   "execution_count": 66,
   "metadata": {},
   "outputs": [],
   "source": [
    "ref_path = HLCA_LATAQ_SAVE_MODEL\n",
    "adata_query = adata_extended\n",
    "adata_ref = adata"
   ]
  },
  {
   "cell_type": "code",
   "execution_count": 67,
   "metadata": {
    "scrolled": true,
    "tags": []
   },
   "outputs": [
    {
     "name": "stdout",
     "output_type": "stream",
     "text": [
      "AnnData object with n_obs × n_vars = 584884 × 1897\n",
      "    obs: 'is_primary_data', 'assay_ontology_term_id', 'cell_type_ontology_term_id', 'development_stage_ontology_term_id', 'disease_ontology_term_id', 'ethnicity_ontology_term_id', 'tissue_ontology_term_id', 'organism_ontology_term_id', 'sex_ontology_term_id', 'sample', 'study', 'subject_ID', 'smoking_status', 'BMI', 'condition', 'subject_type', 'sample_type', \"3'_or_5'\", 'sequencing_platform', 'cell_ranger_version', 'fresh_or_frozen', 'dataset', 'anatomical_region_level_2', 'anatomical_region_level_3', 'anatomical_region_highest_res', 'age', 'ann_highest_res', 'n_genes', 'size_factors', 'log10_total_counts', 'mito_frac', 'ribo_frac', 'original_ann_level_1', 'original_ann_level_2', 'original_ann_level_3', 'original_ann_level_4', 'original_ann_level_5', 'original_ann_nonharmonized', 'scanvi_label', 'leiden_1', 'leiden_2', 'leiden_3', 'anatomical_region_ccf_score', 'entropy_study_leiden_3', 'entropy_dataset_leiden_3', 'entropy_subject_ID_leiden_3', 'entropy_original_ann_level_1_leiden_3', 'entropy_original_ann_level_2_clean_leiden_3', 'entropy_original_ann_level_3_clean_leiden_3', 'entropy_original_ann_level_4_clean_leiden_3', 'entropy_original_ann_level_5_clean_leiden_3', 'leiden_4', 'reannotation_type', 'leiden_5', 'ann_finest_level', 'ann_level_1', 'ann_level_2', 'ann_level_3', 'ann_level_4', 'ann_level_5', 'ann_coarse_for_GWAS_and_modeling', 'cell_type', 'assay', 'disease', 'organism', 'sex', 'tissue', 'ethnicity', 'development_stage'\n",
      "    var: 'n_cells', 'highly_variable', 'means', 'dispersions', 'feature_biotype', 'feature_is_filtered', 'feature_reference'\n",
      "    uns: 'X_normalization', 'batch_condition', 'contributors', 'default_embedding', 'schema_version', 'title'\n",
      "    obsm: 'X_scanvi_emb', 'X_umap'\n",
      "    obsp: 'connectivities', 'distances'\n",
      "Embedding dictionary:\n",
      " \tNum conditions: 166\n",
      " \tEmbedding dim: 20\n",
      "Encoder Architecture:\n",
      "\tInput Layer in, out and cond: 1897 128 20\n",
      "\tHidden Layer 1 in/out: 128 128\n",
      "\tHidden Layer 2 in/out: 128 128\n",
      "\tMean/Var Layer in/out: 128 50\n",
      "Decoder Architecture:\n",
      "\tFirst Layer in, out and cond:  50 128 20\n",
      "\tHidden Layer 1 in/out: 128 128\n",
      "\tHidden Layer 2 in/out: 128 128\n",
      "\tOutput Layer in/out:  128 1897 \n",
      "\n"
     ]
    },
    {
     "data": {
      "text/plain": [
       "EmbedCVAE(\n",
       "  (embedding): Embedding(166, 20, max_norm=1)\n",
       "  (encoder): Encoder(\n",
       "    (FC): Sequential(\n",
       "      (L0): CondLayers(\n",
       "        (expr_L): Linear(in_features=1897, out_features=128, bias=True)\n",
       "        (cond_L): Linear(in_features=20, out_features=128, bias=False)\n",
       "      )\n",
       "      (N0): LayerNorm((128,), eps=1e-05, elementwise_affine=False)\n",
       "      (A0): ReLU()\n",
       "      (D0): Dropout(p=0.05, inplace=False)\n",
       "      (L1): Linear(in_features=128, out_features=128, bias=True)\n",
       "      (N1): LayerNorm((128,), eps=1e-05, elementwise_affine=False)\n",
       "      (A1): ReLU()\n",
       "      (D1): Dropout(p=0.05, inplace=False)\n",
       "      (L2): Linear(in_features=128, out_features=128, bias=True)\n",
       "      (N2): LayerNorm((128,), eps=1e-05, elementwise_affine=False)\n",
       "      (A2): ReLU()\n",
       "      (D2): Dropout(p=0.05, inplace=False)\n",
       "    )\n",
       "    (mean_encoder): Linear(in_features=128, out_features=50, bias=True)\n",
       "    (log_var_encoder): Linear(in_features=128, out_features=50, bias=True)\n",
       "  )\n",
       "  (decoder): Decoder(\n",
       "    (FirstL): Sequential(\n",
       "      (L0): CondLayers(\n",
       "        (expr_L): Linear(in_features=50, out_features=128, bias=False)\n",
       "        (cond_L): Linear(in_features=20, out_features=128, bias=False)\n",
       "      )\n",
       "      (N0): LayerNorm((128,), eps=1e-05, elementwise_affine=False)\n",
       "      (A0): ReLU()\n",
       "      (D0): Dropout(p=0.05, inplace=False)\n",
       "    )\n",
       "    (HiddenL): Sequential(\n",
       "      (L1): Linear(in_features=128, out_features=128, bias=False)\n",
       "      (N1): LayerNorm((128,), eps=1e-05, elementwise_affine=False)\n",
       "      (A1): ReLU()\n",
       "      (D1): Dropout(p=0.05, inplace=False)\n",
       "      (L2): Linear(in_features=128, out_features=128, bias=False)\n",
       "      (N2): LayerNorm((128,), eps=1e-05, elementwise_affine=False)\n",
       "      (A2): ReLU()\n",
       "      (D2): Dropout(p=0.05, inplace=False)\n",
       "    )\n",
       "    (mean_decoder): Sequential(\n",
       "      (0): Linear(in_features=128, out_features=1897, bias=True)\n",
       "      (1): Softmax(dim=-1)\n",
       "    )\n",
       "  )\n",
       ")"
      ]
     },
     "execution_count": 67,
     "metadata": {},
     "output_type": "execute_result"
    }
   ],
   "source": [
    "lataq_model = EMBEDCVAE.load(\n",
    "    os.path.expanduser(ref_path),\n",
    "    adata\n",
    ")\n",
    "lataq_model.model.cuda()"
   ]
  },
  {
   "cell_type": "code",
   "execution_count": 68,
   "metadata": {},
   "outputs": [],
   "source": [
    "reference_emb_adata = sc.AnnData(lataq_model.get_latent(\n",
    "    adata_ref.X.A.astype('float32'), \n",
    "    adata_ref.obs[condition_key].values,\n",
    "    mean=True,\n",
    "), obs=adata_ref.obs.copy())"
   ]
  },
  {
   "cell_type": "code",
   "execution_count": 69,
   "metadata": {},
   "outputs": [
    {
     "name": "stdout",
     "output_type": "stream",
     "text": [
      "AnnData object with n_obs × n_vars = 128628 × 1897\n",
      "    obs: 'dataset', 'study', 'original_celltype_ann', 'condition', 'subject_ID', 'sample', 'cells_or_nuclei', 'single_cell_platform', 'sample_type', 'age', 'sex', 'ethnicity', 'BMI', 'smoking_status', 'anatomical_region_level_1', 'anatomical_region_coarse', 'anatomical_region_detailed', 'genome', 'disease', 'ann_finest_level'\n",
      "Embedding dictionary:\n",
      " \tNum conditions: 225\n",
      " \tEmbedding dim: 20\n",
      "Encoder Architecture:\n",
      "\tInput Layer in, out and cond: 1897 128 20\n",
      "\tHidden Layer 1 in/out: 128 128\n",
      "\tHidden Layer 2 in/out: 128 128\n",
      "\tMean/Var Layer in/out: 128 50\n",
      "Decoder Architecture:\n",
      "\tFirst Layer in, out and cond:  50 128 20\n",
      "\tHidden Layer 1 in/out: 128 128\n",
      "\tHidden Layer 2 in/out: 128 128\n",
      "\tOutput Layer in/out:  128 1897 \n",
      "\n",
      "166\n",
      "Warning: Labels in adata.obs[ann_finest_level] is not a subset of label-encoder!\n",
      "The missing labels are: {'NA'}\n",
      "Therefore integer value of those labels is set to -1\n",
      "Warning: Labels in adata.obs[ann_finest_level] is not a subset of label-encoder!\n",
      "The missing labels are: {'NA'}\n",
      "Therefore integer value of those labels is set to -1\n",
      "Warning: Labels in adata.obs[ann_finest_level] is not a subset of label-encoder!\n",
      "The missing labels are: {'NA'}\n",
      "Therefore integer value of those labels is set to -1\n",
      "Warning: Labels in adata.obs[ann_finest_level] is not a subset of label-encoder!\n",
      "The missing labels are: {'NA'}\n",
      "Therefore integer value of those labels is set to -1\n",
      "loaders init\n",
      "loaders init done\n",
      "0.023081302642822266\n",
      " |████████████████----| 80.0%  - val_loss: 617.8376845558 - val_trvae_loss: 617.8376845558\n",
      "Initializing unlabeled landmarks with Leiden-Clustering with an unknown number of clusters.\n",
      "Leiden Clustering succesful. Found 48 clusters.\n",
      " |████████████████████| 100.0%  - val_loss: 621.4019575969 - val_trvae_loss: 621.4019575969 - val_landmark_loss: 0.0000000000 - val_unlabeled_loss: 0.2592353723\n",
      "CPU times: user 28min 43s, sys: 1min 53s, total: 30min 36s\n",
      "Wall time: 28min 44s\n"
     ]
    }
   ],
   "source": [
    "%%time\n",
    "\n",
    "model = EMBEDCVAE.load_query_data(\n",
    "    adata=adata_query,\n",
    "    labeled_indices=[],\n",
    "    reference_model=ref_path\n",
    ")\n",
    "\n",
    "model.train(\n",
    "    n_epochs=100,\n",
    "    pretraining_epochs=80,\n",
    "    early_stopping_kwargs=PARAMS['EARLY_STOPPING_KWARGS'],\n",
    "    alpha_epoch_anneal=PARAMS['ALPHA_EPOCH_ANNEAL'],\n",
    "    eta=0,\n",
    "    clustering_res=PARAMS['CLUSTERING_RES'],\n",
    "    labeled_loss_metric=PARAMS['LABELED_LOSS_METRIC'],\n",
    "    unlabeled_loss_metric=PARAMS['UNLABELED_LOSS_METRIC'],\n",
    "    weight_decay=0,\n",
    "    use_stratified_sampling=False,\n",
    "    reload_best=False,\n",
    ")"
   ]
  },
  {
   "cell_type": "code",
   "execution_count": 70,
   "metadata": {},
   "outputs": [],
   "source": [
    "latent_subadata = sc.AnnData(model.get_latent(\n",
    "    adata_query.X, \n",
    "    adata_query.obs[condition_key].values,\n",
    "    mean=True,\n",
    "), obs=adata_query.obs.copy())\n",
    "\n",
    "subdata_predictions = model.classify(\n",
    "    x=adata_query.X,\n",
    "    c=adata_query.obs[condition_key],\n",
    "    metric='dist',\n",
    "    get_prob=False,\n",
    "    threshold=-np.inf\n",
    ")\n",
    "\n",
    "latent_subadata.obs['pred_ann_class'] = subdata_predictions['ann_finest_level']['preds']\n",
    "latent_subadata.obs['pred_ann_uncert'] = subdata_predictions['ann_finest_level']['probs']\n",
    "latent_subadata.obsm['pred_ann_weighted_distances'] = subdata_predictions['ann_finest_level']['weighted_distances']"
   ]
  },
  {
   "cell_type": "code",
   "execution_count": 71,
   "metadata": {},
   "outputs": [],
   "source": [
    "model.save(HLCA_LATAQ_SAVE_FINETUNED_MODEL_format.format('healthy'))\n",
    "latent_subadata.write(HLCA_LATAQ_SAVE_MAPPED_LATENT_format.format('healthy'))"
   ]
  },
  {
   "cell_type": "code",
   "execution_count": null,
   "metadata": {},
   "outputs": [],
   "source": [
    "latent_subadata = sc.read(HLCA_LATAQ_SAVE_MAPPED_LATENT_format.format('healthy'))"
   ]
  },
  {
   "cell_type": "code",
   "execution_count": null,
   "metadata": {},
   "outputs": [
    {
     "name": "stdout",
     "output_type": "stream",
     "text": [
      "Weighted KNN with n_neighbors = 50 ... finished!\n",
      "CPU times: user 1h 17min 9s, sys: 46min 23s, total: 2h 3min 32s\n",
      "Wall time: 1h 16min 28s\n"
     ]
    }
   ],
   "source": [
    "%%time\n",
    "\n",
    "# run k-neighbors transformer\n",
    "k_neighbors_transformer = weighted_knn_trainer(\n",
    "    train_adata=reference_emb_adata,\n",
    "    train_adata_emb=\"X\", # location of our joint embedding\n",
    "    label_key=\"ann_finest_level\",\n",
    "    n_neighbors=50,\n",
    "    )    \n",
    "# perform label transfer\n",
    "labels, uncert = weighted_knn_transfer(\n",
    "    k_neighbors_transformer,\n",
    "    query_adata=latent_subadata,\n",
    "    query_adata_emb=\"X\", # location of our joint embedding\n",
    "    label_keys=\"ann_finest_level\",\n",
    "    knn_model=k_neighbors_transformer,\n",
    "    ref_adata_obs = reference_emb_adata.obs\n",
    "    )"
   ]
  },
  {
   "cell_type": "code",
   "execution_count": null,
   "metadata": {},
   "outputs": [],
   "source": [
    "latent_subadata.obs['pred_ann_class'] = labels[\"ann_finest_level\"].to_numpy()\n",
    "latent_subadata.obs['pred_ann_uncert'] = uncert[\"ann_finest_level\"].to_numpy().astype(np.float32)"
   ]
  },
  {
   "cell_type": "code",
   "execution_count": null,
   "metadata": {},
   "outputs": [],
   "source": [
    "latent_subadata.write(HLCA_LATAQ_SAVE_MAPPED_LATENT_format.format('healthy-knn'))"
   ]
  },
  {
   "cell_type": "code",
   "execution_count": 76,
   "metadata": {},
   "outputs": [
    {
     "data": {
      "text/plain": [
       "1"
      ]
     },
     "execution_count": 76,
     "metadata": {},
     "output_type": "execute_result"
    }
   ],
   "source": [
    "1"
   ]
  },
  {
   "cell_type": "code",
   "execution_count": null,
   "metadata": {},
   "outputs": [],
   "source": []
  },
  {
   "cell_type": "code",
   "execution_count": null,
   "metadata": {},
   "outputs": [],
   "source": []
  }
 ],
 "metadata": {
  "kernelspec": {
   "display_name": "lataq",
   "language": "python",
   "name": "lataq"
  },
  "language_info": {
   "codemirror_mode": {
    "name": "ipython",
    "version": 3
   },
   "file_extension": ".py",
   "mimetype": "text/x-python",
   "name": "python",
   "nbconvert_exporter": "python",
   "pygments_lexer": "ipython3",
   "version": "3.8.13"
  }
 },
 "nbformat": 4,
 "nbformat_minor": 4
}
