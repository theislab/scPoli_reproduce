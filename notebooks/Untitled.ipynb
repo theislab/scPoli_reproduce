{
 "cells": [
  {
   "cell_type": "code",
   "execution_count": 1,
   "id": "fd7cc3df-7d9b-4f9a-b802-d163b9cb0664",
   "metadata": {},
   "outputs": [],
   "source": [
    "import scanpy as sc\n",
    "from lataq.models import EMBEDCVAE\n",
    "%load_ext autoreload\n",
    "%autoreload 2"
   ]
  },
  {
   "cell_type": "code",
   "execution_count": 3,
   "id": "e075089e-3202-43c9-ba1d-9499e716d2e1",
   "metadata": {},
   "outputs": [],
   "source": [
    "adata_meyer = sc.read(\n",
    "    '/storage/groups/ml01/workspace/'\n",
    "    'hlca_lisa.sikkema_malte.luecken/'\n",
    "    'HLCA_reproducibility/data/HLCA_extended/'\n",
    "    'extension_datasets/raw/Meyer/Meyer_2021_raw.h5ad'\n",
    ")"
   ]
  },
  {
   "cell_type": "code",
   "execution_count": 5,
   "id": "565e3397-2ecc-4929-a4c8-cc3fff2a4b7b",
   "metadata": {},
   "outputs": [
    {
     "ename": "OSError",
     "evalue": "Unable to open file (unable to open file: name = '/storage/groups/ml01/workspace/hlca_lisa.sikkema_malte.luecken/HLCA_reproducibility/data/HLCA_extended/HLCA_core_plus_single_study.h5ad', errno = 2, error message = 'No such file or directory', flags = 0, o_flags = 0)",
     "output_type": "error",
     "traceback": [
      "\u001b[0;31m---------------------------------------------------------------------------\u001b[0m",
      "\u001b[0;31mOSError\u001b[0m                                   Traceback (most recent call last)",
      "\u001b[0;32m<ipython-input-5-983a00facac1>\u001b[0m in \u001b[0;36m<module>\u001b[0;34m\u001b[0m\n\u001b[0;32m----> 1\u001b[0;31m adata = sc.read(\n\u001b[0m\u001b[1;32m      2\u001b[0m     \u001b[0;34m'/storage/groups/ml01/workspace/'\u001b[0m\u001b[0;34m\u001b[0m\u001b[0;34m\u001b[0m\u001b[0m\n\u001b[1;32m      3\u001b[0m     \u001b[0;34m'hlca_lisa.sikkema_malte.luecken/'\u001b[0m\u001b[0;34m\u001b[0m\u001b[0;34m\u001b[0m\u001b[0m\n\u001b[1;32m      4\u001b[0m     \u001b[0;34m'HLCA_reproducibility/data/HLCA_extended/'\u001b[0m\u001b[0;34m\u001b[0m\u001b[0;34m\u001b[0m\u001b[0m\n\u001b[1;32m      5\u001b[0m     \u001b[0;34m'HLCA_core_plus_single_study.h5ad'\u001b[0m\u001b[0;34m\u001b[0m\u001b[0;34m\u001b[0m\u001b[0m\n",
      "\u001b[0;32m~/anaconda3/envs/lataq_cuda/lib/python3.8/site-packages/scanpy/readwrite.py\u001b[0m in \u001b[0;36mread\u001b[0;34m(filename, backed, sheet, ext, delimiter, first_column_names, backup_url, cache, cache_compression, **kwargs)\u001b[0m\n\u001b[1;32m    110\u001b[0m     \u001b[0mfilename\u001b[0m \u001b[0;34m=\u001b[0m \u001b[0mPath\u001b[0m\u001b[0;34m(\u001b[0m\u001b[0mfilename\u001b[0m\u001b[0;34m)\u001b[0m  \u001b[0;31m# allow passing strings\u001b[0m\u001b[0;34m\u001b[0m\u001b[0;34m\u001b[0m\u001b[0m\n\u001b[1;32m    111\u001b[0m     \u001b[0;32mif\u001b[0m \u001b[0mis_valid_filename\u001b[0m\u001b[0;34m(\u001b[0m\u001b[0mfilename\u001b[0m\u001b[0;34m)\u001b[0m\u001b[0;34m:\u001b[0m\u001b[0;34m\u001b[0m\u001b[0;34m\u001b[0m\u001b[0m\n\u001b[0;32m--> 112\u001b[0;31m         return _read(\n\u001b[0m\u001b[1;32m    113\u001b[0m             \u001b[0mfilename\u001b[0m\u001b[0;34m,\u001b[0m\u001b[0;34m\u001b[0m\u001b[0;34m\u001b[0m\u001b[0m\n\u001b[1;32m    114\u001b[0m             \u001b[0mbacked\u001b[0m\u001b[0;34m=\u001b[0m\u001b[0mbacked\u001b[0m\u001b[0;34m,\u001b[0m\u001b[0;34m\u001b[0m\u001b[0;34m\u001b[0m\u001b[0m\n",
      "\u001b[0;32m~/anaconda3/envs/lataq_cuda/lib/python3.8/site-packages/scanpy/readwrite.py\u001b[0m in \u001b[0;36m_read\u001b[0;34m(filename, backed, sheet, ext, delimiter, first_column_names, backup_url, cache, cache_compression, suppress_cache_warning, **kwargs)\u001b[0m\n\u001b[1;32m    711\u001b[0m     \u001b[0;32mif\u001b[0m \u001b[0mext\u001b[0m \u001b[0;32min\u001b[0m \u001b[0;34m{\u001b[0m\u001b[0;34m'h5'\u001b[0m\u001b[0;34m,\u001b[0m \u001b[0;34m'h5ad'\u001b[0m\u001b[0;34m}\u001b[0m\u001b[0;34m:\u001b[0m\u001b[0;34m\u001b[0m\u001b[0;34m\u001b[0m\u001b[0m\n\u001b[1;32m    712\u001b[0m         \u001b[0;32mif\u001b[0m \u001b[0msheet\u001b[0m \u001b[0;32mis\u001b[0m \u001b[0;32mNone\u001b[0m\u001b[0;34m:\u001b[0m\u001b[0;34m\u001b[0m\u001b[0;34m\u001b[0m\u001b[0m\n\u001b[0;32m--> 713\u001b[0;31m             \u001b[0;32mreturn\u001b[0m \u001b[0mread_h5ad\u001b[0m\u001b[0;34m(\u001b[0m\u001b[0mfilename\u001b[0m\u001b[0;34m,\u001b[0m \u001b[0mbacked\u001b[0m\u001b[0;34m=\u001b[0m\u001b[0mbacked\u001b[0m\u001b[0;34m)\u001b[0m\u001b[0;34m\u001b[0m\u001b[0;34m\u001b[0m\u001b[0m\n\u001b[0m\u001b[1;32m    714\u001b[0m         \u001b[0;32melse\u001b[0m\u001b[0;34m:\u001b[0m\u001b[0;34m\u001b[0m\u001b[0;34m\u001b[0m\u001b[0m\n\u001b[1;32m    715\u001b[0m             \u001b[0mlogg\u001b[0m\u001b[0;34m.\u001b[0m\u001b[0mdebug\u001b[0m\u001b[0;34m(\u001b[0m\u001b[0;34mf'reading sheet {sheet} from file {filename}'\u001b[0m\u001b[0;34m)\u001b[0m\u001b[0;34m\u001b[0m\u001b[0;34m\u001b[0m\u001b[0m\n",
      "\u001b[0;32m~/anaconda3/envs/lataq_cuda/lib/python3.8/site-packages/anndata/_io/h5ad.py\u001b[0m in \u001b[0;36mread_h5ad\u001b[0;34m(filename, backed, as_sparse, as_sparse_fmt, chunk_size)\u001b[0m\n\u001b[1;32m    406\u001b[0m     )\n\u001b[1;32m    407\u001b[0m \u001b[0;34m\u001b[0m\u001b[0m\n\u001b[0;32m--> 408\u001b[0;31m     \u001b[0;32mwith\u001b[0m \u001b[0mh5py\u001b[0m\u001b[0;34m.\u001b[0m\u001b[0mFile\u001b[0m\u001b[0;34m(\u001b[0m\u001b[0mfilename\u001b[0m\u001b[0;34m,\u001b[0m \u001b[0;34m\"r\"\u001b[0m\u001b[0;34m)\u001b[0m \u001b[0;32mas\u001b[0m \u001b[0mf\u001b[0m\u001b[0;34m:\u001b[0m\u001b[0;34m\u001b[0m\u001b[0;34m\u001b[0m\u001b[0m\n\u001b[0m\u001b[1;32m    409\u001b[0m         \u001b[0md\u001b[0m \u001b[0;34m=\u001b[0m \u001b[0;34m{\u001b[0m\u001b[0;34m}\u001b[0m\u001b[0;34m\u001b[0m\u001b[0;34m\u001b[0m\u001b[0m\n\u001b[1;32m    410\u001b[0m         \u001b[0;32mfor\u001b[0m \u001b[0mk\u001b[0m \u001b[0;32min\u001b[0m \u001b[0mf\u001b[0m\u001b[0;34m.\u001b[0m\u001b[0mkeys\u001b[0m\u001b[0;34m(\u001b[0m\u001b[0;34m)\u001b[0m\u001b[0;34m:\u001b[0m\u001b[0;34m\u001b[0m\u001b[0;34m\u001b[0m\u001b[0m\n",
      "\u001b[0;32m~/anaconda3/envs/lataq_cuda/lib/python3.8/site-packages/h5py/_hl/files.py\u001b[0m in \u001b[0;36m__init__\u001b[0;34m(self, name, mode, driver, libver, userblock_size, swmr, rdcc_nslots, rdcc_nbytes, rdcc_w0, track_order, **kwds)\u001b[0m\n\u001b[1;32m    404\u001b[0m             \u001b[0;32mwith\u001b[0m \u001b[0mphil\u001b[0m\u001b[0;34m:\u001b[0m\u001b[0;34m\u001b[0m\u001b[0;34m\u001b[0m\u001b[0m\n\u001b[1;32m    405\u001b[0m                 \u001b[0mfapl\u001b[0m \u001b[0;34m=\u001b[0m \u001b[0mmake_fapl\u001b[0m\u001b[0;34m(\u001b[0m\u001b[0mdriver\u001b[0m\u001b[0;34m,\u001b[0m \u001b[0mlibver\u001b[0m\u001b[0;34m,\u001b[0m \u001b[0mrdcc_nslots\u001b[0m\u001b[0;34m,\u001b[0m \u001b[0mrdcc_nbytes\u001b[0m\u001b[0;34m,\u001b[0m \u001b[0mrdcc_w0\u001b[0m\u001b[0;34m,\u001b[0m \u001b[0;34m**\u001b[0m\u001b[0mkwds\u001b[0m\u001b[0;34m)\u001b[0m\u001b[0;34m\u001b[0m\u001b[0;34m\u001b[0m\u001b[0m\n\u001b[0;32m--> 406\u001b[0;31m                 fid = make_fid(name, mode, userblock_size,\n\u001b[0m\u001b[1;32m    407\u001b[0m                                \u001b[0mfapl\u001b[0m\u001b[0;34m,\u001b[0m \u001b[0mfcpl\u001b[0m\u001b[0;34m=\u001b[0m\u001b[0mmake_fcpl\u001b[0m\u001b[0;34m(\u001b[0m\u001b[0mtrack_order\u001b[0m\u001b[0;34m=\u001b[0m\u001b[0mtrack_order\u001b[0m\u001b[0;34m)\u001b[0m\u001b[0;34m,\u001b[0m\u001b[0;34m\u001b[0m\u001b[0;34m\u001b[0m\u001b[0m\n\u001b[1;32m    408\u001b[0m                                swmr=swmr)\n",
      "\u001b[0;32m~/anaconda3/envs/lataq_cuda/lib/python3.8/site-packages/h5py/_hl/files.py\u001b[0m in \u001b[0;36mmake_fid\u001b[0;34m(name, mode, userblock_size, fapl, fcpl, swmr)\u001b[0m\n\u001b[1;32m    171\u001b[0m         \u001b[0;32mif\u001b[0m \u001b[0mswmr\u001b[0m \u001b[0;32mand\u001b[0m \u001b[0mswmr_support\u001b[0m\u001b[0;34m:\u001b[0m\u001b[0;34m\u001b[0m\u001b[0;34m\u001b[0m\u001b[0m\n\u001b[1;32m    172\u001b[0m             \u001b[0mflags\u001b[0m \u001b[0;34m|=\u001b[0m \u001b[0mh5f\u001b[0m\u001b[0;34m.\u001b[0m\u001b[0mACC_SWMR_READ\u001b[0m\u001b[0;34m\u001b[0m\u001b[0;34m\u001b[0m\u001b[0m\n\u001b[0;32m--> 173\u001b[0;31m         \u001b[0mfid\u001b[0m \u001b[0;34m=\u001b[0m \u001b[0mh5f\u001b[0m\u001b[0;34m.\u001b[0m\u001b[0mopen\u001b[0m\u001b[0;34m(\u001b[0m\u001b[0mname\u001b[0m\u001b[0;34m,\u001b[0m \u001b[0mflags\u001b[0m\u001b[0;34m,\u001b[0m \u001b[0mfapl\u001b[0m\u001b[0;34m=\u001b[0m\u001b[0mfapl\u001b[0m\u001b[0;34m)\u001b[0m\u001b[0;34m\u001b[0m\u001b[0;34m\u001b[0m\u001b[0m\n\u001b[0m\u001b[1;32m    174\u001b[0m     \u001b[0;32melif\u001b[0m \u001b[0mmode\u001b[0m \u001b[0;34m==\u001b[0m \u001b[0;34m'r+'\u001b[0m\u001b[0;34m:\u001b[0m\u001b[0;34m\u001b[0m\u001b[0;34m\u001b[0m\u001b[0m\n\u001b[1;32m    175\u001b[0m         \u001b[0mfid\u001b[0m \u001b[0;34m=\u001b[0m \u001b[0mh5f\u001b[0m\u001b[0;34m.\u001b[0m\u001b[0mopen\u001b[0m\u001b[0;34m(\u001b[0m\u001b[0mname\u001b[0m\u001b[0;34m,\u001b[0m \u001b[0mh5f\u001b[0m\u001b[0;34m.\u001b[0m\u001b[0mACC_RDWR\u001b[0m\u001b[0;34m,\u001b[0m \u001b[0mfapl\u001b[0m\u001b[0;34m=\u001b[0m\u001b[0mfapl\u001b[0m\u001b[0;34m)\u001b[0m\u001b[0;34m\u001b[0m\u001b[0;34m\u001b[0m\u001b[0m\n",
      "\u001b[0;32mh5py/_objects.pyx\u001b[0m in \u001b[0;36mh5py._objects.with_phil.wrapper\u001b[0;34m()\u001b[0m\n",
      "\u001b[0;32mh5py/_objects.pyx\u001b[0m in \u001b[0;36mh5py._objects.with_phil.wrapper\u001b[0;34m()\u001b[0m\n",
      "\u001b[0;32mh5py/h5f.pyx\u001b[0m in \u001b[0;36mh5py.h5f.open\u001b[0;34m()\u001b[0m\n",
      "\u001b[0;31mOSError\u001b[0m: Unable to open file (unable to open file: name = '/storage/groups/ml01/workspace/hlca_lisa.sikkema_malte.luecken/HLCA_reproducibility/data/HLCA_extended/HLCA_core_plus_single_study.h5ad', errno = 2, error message = 'No such file or directory', flags = 0, o_flags = 0)"
     ]
    }
   ],
   "source": [
    "adata = sc.read(\n",
    "    '/storage/groups/ml01/workspace/'\n",
    "    'hlca_lisa.sikkema_malte.luecken/'\n",
    "    'HLCA_reproducibility/data/HLCA_extended/'\n",
    "    'HLCA_core_plus_single_study/'\n",
    ")"
   ]
  },
  {
   "cell_type": "code",
   "execution_count": 4,
   "id": "f924996a-085a-4d7d-825f-68d9316da42a",
   "metadata": {},
   "outputs": [
    {
     "data": {
      "text/plain": [
       "ann_level_5_clean\n",
       "CD4 T cells MAIT       1047\n",
       "CD4 T cells naive      2543\n",
       "CD4T cells TRM         1588\n",
       "CD8 T cells GZMK+      1277\n",
       "CD8 T cells ME         1753\n",
       "CD8 T cells TRM        1044\n",
       "Mature B cells          902\n",
       "NK_ITGAD+               789\n",
       "NK_XCL1+                802\n",
       "Naive B cells           358\n",
       "None                 116468\n",
       "Plasmablasts             57\n",
       "dtype: int64"
      ]
     },
     "execution_count": 4,
     "metadata": {},
     "output_type": "execute_result"
    }
   ],
   "source": [
    "adata_meyer.obs.groupby(['ann_level_5_clean']).size()"
   ]
  },
  {
   "cell_type": "code",
   "execution_count": 12,
   "id": "aa4be5c8-8c15-4727-92ed-216bd4eff9ad",
   "metadata": {},
   "outputs": [],
   "source": [
    "adata = sc.read(\n",
    "    '/storage/groups/ml01/workspace/'\n",
    "    'hlca_lisa.sikkema_malte.luecken/'\n",
    "    'github_repo/data/HLCA_extended/'\n",
    "    'extension_datasets/ready/subsetted/lambrechts_sub.h5ad'\n",
    ")"
   ]
  },
  {
   "cell_type": "code",
   "execution_count": 13,
   "id": "242208cf-1d0b-4671-96da-80a1ca014efe",
   "metadata": {},
   "outputs": [
    {
     "data": {
      "text/plain": [
       "Index(['FGR', 'CFH', 'HS3ST1', 'TMEM176A', 'TFPI', 'HSPB6', 'PDK4', 'ZMYND10',\n",
       "       'WDR54', 'ITGAL',\n",
       "       ...\n",
       "       'AP000769.1', 'AC133644.2', 'TRG-AS1', 'CH17-262H11.1', 'RP1-34B20.21',\n",
       "       'TRBV6-2', 'PRB4', 'PRB1', 'MUC7', 'CRNN'],\n",
       "      dtype='object', length=2000)"
      ]
     },
     "execution_count": 13,
     "metadata": {},
     "output_type": "execute_result"
    }
   ],
   "source": [
    "adata.var_names"
   ]
  },
  {
   "cell_type": "code",
   "execution_count": 14,
   "id": "60dd4027-ba8c-4663-b898-ec2d6a644ccd",
   "metadata": {},
   "outputs": [],
   "source": [
    "adata_meyer.var['gene_symbols'] = adata_meyer.var['gene_symbols'].astype('str')\n",
    "adata_meyer.var.set_index('gene_symbols', inplace=True)"
   ]
  },
  {
   "cell_type": "code",
   "execution_count": 15,
   "id": "469251f5-893e-437f-b244-eaefcbc52fcc",
   "metadata": {},
   "outputs": [],
   "source": [
    "adata_meyer.var_names_make_unique()"
   ]
  },
  {
   "cell_type": "code",
   "execution_count": 16,
   "id": "e03bfdea-18c9-4434-8b7d-a6d287d55015",
   "metadata": {},
   "outputs": [],
   "source": [
    "adata_meyer = adata_meyer[:, adata.var_names]\n",
    "adata_meyer.var_names_make_unique()"
   ]
  },
  {
   "cell_type": "code",
   "execution_count": null,
   "id": "c4032a93-617f-4dd7-af22-b65668b6f719",
   "metadata": {},
   "outputs": [],
   "source": []
  },
  {
   "cell_type": "code",
   "execution_count": 25,
   "id": "92a490b4-263a-4b05-a7cd-129ad8eed6fe",
   "metadata": {},
   "outputs": [],
   "source": [
    "adata_conc = adata_meyer.concatenate([adata_meyer, adata_meyer])"
   ]
  },
  {
   "cell_type": "code",
   "execution_count": 30,
   "id": "4d4a69db-be7b-4a23-b0bd-428659f7b416",
   "metadata": {},
   "outputs": [
    {
     "name": "stdout",
     "output_type": "stream",
     "text": [
      "Embedding dictionary:\n",
      " \tNum conditions: 7\n",
      " \tEmbedding dim: 10\n",
      "Encoder Architecture:\n",
      "\tInput Layer in, out and cond:ERROR! Session/line number was not unique in database. History logging moved to new session 3855\n",
      " 2000 128 0\n",
      "\tHidden Layer 1 in/out: 128 128\n",
      "\tHidden Layer 2 in/out: 128 128\n",
      "\tHidden Layer 3 in/out: 128 128\n",
      "\tMean/Var Layer in/out: 128 50\n",
      "Decoder Architecture:\n",
      "\tFirst Layer in, out and cond:  50 128 10\n",
      "\tHidden Layer 1 in/out: 128 128\n",
      "\tHidden Layer 2 in/out: 128 128\n",
      "\tHidden Layer 3 in/out: 128 128\n",
      "\tOutput Layer in/out:  128 2000 \n",
      "\n",
      "loaders init\n",
      "loaders init done\n",
      "0.0005297660827636719\n",
      " |████████████████████| 100.0%  - val_loss: 536.9392161590 - val_trvae_loss: 536.9392161590\n",
      "65.83386540412903\n"
     ]
    }
   ],
   "source": [
    "import time\n",
    "\n",
    "start = time.time()\n",
    "lataq_model = EMBEDCVAE(\n",
    "    adata=adata_conc,\n",
    "    condition_key='subject_ID',\n",
    "    cell_type_keys=['ann_level_5'],\n",
    "    hidden_layer_sizes=[128]*4,\n",
    "    latent_dim=50,\n",
    ")\n",
    "lataq_model.train(\n",
    "    n_epochs=1,\n",
    "    pretraining_epochs=1,\n",
    "    weight_decay=0,\n",
    "    use_stratified_sampling=False,\n",
    ")\n",
    "print(time.time()-start)"
   ]
  },
  {
   "cell_type": "code",
   "execution_count": 27,
   "id": "3631e508-6922-4d40-bee9-90539e5b6f24",
   "metadata": {},
   "outputs": [
    {
     "data": {
      "text/plain": [
       "AnnData object with n_obs × n_vars = 385884 × 2000\n",
       "    obs: 'sample', 'original_celltype_ann', 'study_long', 'study', 'last_author_PI', 'ann_level_1', 'ann_level_2', 'ann_level_3', 'ann_level_4', 'ann_level_5', 'ann_highest_res', 'ann_new', 'ann_level_1_clean', 'ann_level_2_clean', 'ann_level_3_clean', 'ann_level_4_clean', 'ann_level_5_clean', 'subject_ID', 'subject_ID_as_published', 'Processing_site', 'pre_or_postnatal', 'age_in_years', 'age_range', 'sex', 'ethnicity', 'mixed_ethnicity', 'smoking_status', 'smoking_history', 'BMI', 'known_lung_disease', 'condition', 'subject_type', 'cause_of_death', 'sample_type', 'anatomical_region_coarse', 'anatomical_region_detailed', 'tissue_dissociation_protocol', 'cells_or_nuclei', 'single_cell_platform', \"3'_or_5'\", 'enrichment', 'sequencing_platform', 'reference_genome_coarse', 'ensembl_release_reference_genome', 'cell_ranger_version', 'disease_status', 'fresh_or_frozen', 'cultured', 'cell_viability_%', 'comments', 'dataset', 'trvae_size_factors', 'trvae_labeled', 'batch'"
      ]
     },
     "execution_count": 27,
     "metadata": {},
     "output_type": "execute_result"
    }
   ],
   "source": [
    "adata_conc"
   ]
  },
  {
   "cell_type": "code",
   "execution_count": 19,
   "id": "e758f526-a7ed-4d32-bfc9-6ed23d41ec4d",
   "metadata": {},
   "outputs": [
    {
     "name": "stdout",
     "output_type": "stream",
     "text": [
      "Embedding dictionary:\n",
      " \tNum conditions: 7\n",
      " \tEmbedding dim: 10\n",
      "Encoder Architecture:\n",
      "\tInput Layer in, out and cond: 2000 128 0\n",
      "\tHidden Layer 1 in/out: 128 128\n",
      "\tHidden Layer 2 in/out: 128 128\n",
      "\tHidden Layer 3 in/out: 128 128\n",
      "\tMean/Var Layer in/out: 128 50\n",
      "Decoder Architecture:\n",
      "\tFirst Layer in, out and cond:  50 128 10\n",
      "\tHidden Layer 1 in/out: 128 128\n",
      "\tHidden Layer 2 in/out: 128 128\n",
      "\tHidden Layer 3 in/out: 128 128\n",
      "\tOutput Layer in/out:  128 2000 \n",
      "\n",
      "loaders init\n",
      "loaders init done\n",
      "113.14403486251831\n",
      " |████████████████████| 100.0% \n",
      "133.30422449111938\n"
     ]
    }
   ],
   "source": [
    "start = time.time()\n",
    "lataq_model = EMBEDCVAE(\n",
    "    adata=adata_conc,\n",
    "    condition_key='subject_ID',\n",
    "    hidden_layer_sizes=[128]*4,\n",
    "    latent_dim=50,\n",
    ")\n",
    "lataq_model.train(\n",
    "    n_epochs=1,\n",
    "    pretraining_epochs=1,\n",
    "    weight_decay=0,\n",
    "    train_frac=1,\n",
    ")\n",
    "print(time.time()-start)"
   ]
  },
  {
   "cell_type": "code",
   "execution_count": 20,
   "id": "ae7971f0-2ce9-4a7a-92d3-9aaea0f29463",
   "metadata": {},
   "outputs": [],
   "source": [
    "import scarches as sca"
   ]
  },
  {
   "cell_type": "code",
   "execution_count": 21,
   "id": "9956368a-49e6-4229-867b-92f1c5296a77",
   "metadata": {},
   "outputs": [
    {
     "name": "stdout",
     "output_type": "stream",
     "text": [
      "\n",
      "INITIALIZING NEW NETWORK..............\n",
      "Encoder Architecture:\n",
      "\tInput Layer in, out and cond: 2000 256 7\n",
      "\tHidden Layer 1 in/out: 256 64\n",
      "\tMean/Var Layer in/out: 64 10\n",
      "Decoder Architecture:\n",
      "\tFirst Layer in, out and cond:  10 64 7\n",
      "\tHidden Layer 1 in/out: 64 256\n",
      "\tOutput Layer in/out:  256 2000 \n",
      "\n",
      " |████████████████████| 100.0%  - val_loss: 588.4204047175 - val_recon_loss: 533.3745035606 - val_kl_loss: 13.2457308911 - val_mmd_loss: 41.8001724659\n",
      "Saving best state of network...\n",
      "Best State was in Epoch 0\n",
      "62.29477262496948\n"
     ]
    }
   ],
   "source": [
    "start = time.time()\n",
    "trvae = sca.models.TRVAE(\n",
    "    adata=adata_meyer,\n",
    "    condition_key='subject_ID',\n",
    ")\n",
    "trvae.train(\n",
    "    n_epochs=1,\n",
    ")\n",
    "print(time.time()-start)"
   ]
  },
  {
   "cell_type": "code",
   "execution_count": null,
   "id": "09881e74-6dc3-49bd-9a17-fa1fca14c438",
   "metadata": {},
   "outputs": [],
   "source": []
  }
 ],
 "metadata": {
  "kernelspec": {
   "display_name": "Python 3",
   "language": "python",
   "name": "python3"
  },
  "language_info": {
   "codemirror_mode": {
    "name": "ipython",
    "version": 3
   },
   "file_extension": ".py",
   "mimetype": "text/x-python",
   "name": "python",
   "nbconvert_exporter": "python",
   "pygments_lexer": "ipython3",
   "version": "3.8.0"
  }
 },
 "nbformat": 4,
 "nbformat_minor": 5
}
