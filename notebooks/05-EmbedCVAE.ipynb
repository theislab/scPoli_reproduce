{
 "cells": [
  {
   "cell_type": "code",
   "execution_count": 1,
   "id": "c82705b8-d777-4a4a-a382-153f0d9f8550",
   "metadata": {},
   "outputs": [],
   "source": [
    "import torch\n",
    "import numpy as np\n",
    "import scanpy as sc\n",
    "import pandas as pd\n",
    "import matplotlib.pyplot as plt\n",
    "import seaborn as sns\n",
    "from sklearn.metrics import classification_report\n",
    "\n",
    "from scarches.dataset.trvae.data_handling import remove_sparsity\n",
    "from lataq.models import EMBEDCVAE\n",
    "from lataq.exp_dict import EXPERIMENT_INFO\n",
    "\n",
    "sc.settings.set_figure_params(dpi=200, frameon=False)\n",
    "sc.set_figure_params(dpi=200)\n",
    "torch.set_printoptions(precision=3, sci_mode=False, edgeitems=7)\n",
    "\n",
    "%load_ext autoreload\n",
    "%autoreload 2"
   ]
  },
  {
   "cell_type": "code",
   "execution_count": 2,
   "id": "ee6842be-ab08-4566-988b-3c9122b5b804",
   "metadata": {},
   "outputs": [],
   "source": [
    "PARAMS = {\n",
    "    'EPOCHS': 50,                                      #TOTAL TRAINING EPOCHS\n",
    "    'N_PRE_EPOCHS': 40,                                #EPOCHS OF PRETRAINING WITHOUT LANDMARK LOSS\n",
    "    #'DATA_DIR': '../../lataq_reproduce/data',         #DIRECTORY WHERE THE DATA IS STORED\n",
    "    #'DATA': '',                                       #DATA USED FOR THE EXPERIMENT\n",
    "    'EARLY_STOPPING_KWARGS': {                         #KWARGS FOR EARLY STOPPING\n",
    "        \"early_stopping_metric\": \"val_landmark_loss\",  ####value used for early stopping\n",
    "        \"mode\": \"min\",                                 ####choose if look for min or max\n",
    "        \"threshold\": 0,\n",
    "        \"patience\": 20,\n",
    "        \"reduce_lr\": True,\n",
    "        \"lr_patience\": 13,\n",
    "        \"lr_factor\": 0.1,\n",
    "    },\n",
    "    'LABELED_LOSS_METRIC': 'dist',           \n",
    "    'UNLABELED_LOSS_METRIC': 'dist',\n",
    "    'LATENT_DIM': 10,\n",
    "    'ALPHA_EPOCH_ANNEAL': 1e3,\n",
    "    'CLUSTERING_RES': 2,\n",
    "    'HIDDEN_LAYERS': 3,\n",
    "    'ETA': 10,\n",
    "}"
   ]
  },
  {
   "cell_type": "code",
   "execution_count": 3,
   "id": "b3fd96c4-b3c2-49e3-8ae1-bb3c9e681ed9",
   "metadata": {},
   "outputs": [
    {
     "name": "stderr",
     "output_type": "stream",
     "text": [
      "Trying to set attribute `.obs` of view, copying.\n"
     ]
    }
   ],
   "source": [
    "DATA_DIR = '../data'\n",
    "adata_healthy = sc.read(\n",
    "    f'{DATA_DIR}/haniffa_healthy_obsmProt.h5ad'\n",
    ")\n",
    "adata_disease = sc.read(\n",
    "    f'{DATA_DIR}/haniffa_disease_obsmProt.h5ad'\n",
    ")\n",
    "adata = adata_healthy.concatenate(adata_disease)\n",
    "\n",
    "condition_key = 'patient_id'\n",
    "cell_type_key = [\"initial_clustering\"]\n",
    "\n",
    "#remove small cluster\n",
    "adata = adata[adata.obs[cell_type_key[0]] != 'Mono_prolif']        \n",
    "patients = adata.obs.patient_id.unique()\n",
    "#generate reference and query \n",
    "reference = np.random.choice(patients, size=80, replace=False)\n",
    "query = patients[[patients[x] not in reference for x in range(len(patients))]]\n",
    "adata.obs['query'] = adata.obs[condition_key].isin(query).astype('category')"
   ]
  },
  {
   "cell_type": "code",
   "execution_count": 4,
   "id": "d42044ef-1ada-4fed-a2c3-dad424d648e4",
   "metadata": {},
   "outputs": [],
   "source": [
    "adata.obs['query'] = adata.obs[condition_key].isin(query)\n",
    "adata.obs['query'] = adata.obs['query'].astype('category')"
   ]
  },
  {
   "cell_type": "code",
   "execution_count": 5,
   "id": "883f2015-26cd-41ef-b630-ddfbc431ba8b",
   "metadata": {},
   "outputs": [],
   "source": [
    "adata_tmp = adata.copy()\n",
    "sc.pp.normalize_total(adata_tmp)\n",
    "sc.pp.log1p(adata_tmp)\n",
    "sc.pp.highly_variable_genes(adata_tmp, n_top_genes=4000)\n",
    "adata.var = adata_tmp.var\n",
    "adata = adata[:, adata.var['highly_variable']]\n",
    "source_adata = adata[adata.obs[condition_key].isin(reference)].copy()\n",
    "target_adata = adata[adata.obs[condition_key].isin(query)].copy()"
   ]
  },
  {
   "cell_type": "code",
   "execution_count": 11,
   "id": "37dfb7b7-29c6-41ac-b3af-e5a721a3c478",
   "metadata": {},
   "outputs": [
    {
     "name": "stdout",
     "output_type": "stream",
     "text": [
      "Embedding dictionary:\n",
      " \tNum conditions: 80\n",
      " \tEmbedding dim: 10\n",
      "Encoder Architecture:\n",
      "\tInput Layer in, out and cond: 4000 128 0\n",
      "\tHidden Layer 1 in/out: 128 128\n",
      "\tHidden Layer 2 in/out: 128 128\n",
      "\tMean/Var Layer in/out: 128 10\n",
      "Decoder Architecture:\n",
      "\tFirst Layer in, out and cond:  10 128 10\n",
      "\tHidden Layer 1 in/out: 128 128\n",
      "\tHidden Layer 2 in/out: 128 128\n",
      "\tOutput Layer in/out:  128 4000 \n",
      "\n"
     ]
    }
   ],
   "source": [
    "lataq_model = EMBEDCVAE(\n",
    "    adata=source_adata,\n",
    "    condition_key=condition_key,\n",
    "    cell_type_keys=cell_type_key,\n",
    "    hidden_layer_sizes=[128]*int(PARAMS['HIDDEN_LAYERS']),\n",
    "    latent_dim=PARAMS['LATENT_DIM'],\n",
    ")"
   ]
  },
  {
   "cell_type": "code",
   "execution_count": 12,
   "id": "32896515-5425-46e1-b2dc-5b517e432f1e",
   "metadata": {},
   "outputs": [
    {
     "name": "stdout",
     "output_type": "stream",
     "text": [
      " |████████████████████| 100.0%  - val_loss: 525.1931906680 - val_trvae_loss: 516.6475039519 - val_landmark_loss: 8.5456859928 - val_labeled_loss: 0.8545685981\n",
      "Saving best state of network...\n",
      "Best State was in Epoch 48\n"
     ]
    }
   ],
   "source": [
    "lataq_model.train(\n",
    "    n_epochs=PARAMS['EPOCHS'],\n",
    "    pretraining_epochs=PARAMS['N_PRE_EPOCHS'],\n",
    "    early_stopping_kwargs=PARAMS['EARLY_STOPPING_KWARGS'],\n",
    "    alpha_epoch_anneal=PARAMS['ALPHA_EPOCH_ANNEAL'],\n",
    "    eta=PARAMS['ETA'],\n",
    "    clustering_res=PARAMS['CLUSTERING_RES'],\n",
    "    labeled_loss_metric=PARAMS['LABELED_LOSS_METRIC'],\n",
    "    unlabeled_loss_metric=PARAMS['UNLABELED_LOSS_METRIC'],\n",
    ")"
   ]
  },
  {
   "cell_type": "code",
   "execution_count": 13,
   "id": "0b48a66b-643b-42bc-89e0-8096a03ff773",
   "metadata": {},
   "outputs": [],
   "source": [
    "lataq_model.save('tmp/', overwrite=True)"
   ]
  },
  {
   "cell_type": "code",
   "execution_count": 14,
   "id": "7da78266-0cc2-4c0e-b7ec-2c393a00ef71",
   "metadata": {},
   "outputs": [
    {
     "ename": "EOFError",
     "evalue": "Ran out of input",
     "output_type": "error",
     "traceback": [
      "\u001b[0;31m---------------------------------------------------------------------------\u001b[0m",
      "\u001b[0;31mEOFError\u001b[0m                                  Traceback (most recent call last)",
      "\u001b[0;32m<ipython-input-14-fa71a123f6ce>\u001b[0m in \u001b[0;36m<module>\u001b[0;34m\u001b[0m\n\u001b[0;32m----> 1\u001b[0;31m lataq_query = lataq_model.load_query_data(\n\u001b[0m\u001b[1;32m      2\u001b[0m     \u001b[0madata\u001b[0m\u001b[0;34m=\u001b[0m\u001b[0mtarget_adata\u001b[0m\u001b[0;34m,\u001b[0m\u001b[0;34m\u001b[0m\u001b[0;34m\u001b[0m\u001b[0m\n\u001b[1;32m      3\u001b[0m     \u001b[0mreference_model\u001b[0m\u001b[0;34m=\u001b[0m\u001b[0;34m'tmp/'\u001b[0m\u001b[0;34m,\u001b[0m\u001b[0;34m\u001b[0m\u001b[0;34m\u001b[0m\u001b[0m\n\u001b[1;32m      4\u001b[0m     \u001b[0mlabeled_indices\u001b[0m\u001b[0;34m=\u001b[0m\u001b[0;34m[\u001b[0m\u001b[0;34m]\u001b[0m\u001b[0;34m,\u001b[0m\u001b[0;34m\u001b[0m\u001b[0;34m\u001b[0m\u001b[0m\n\u001b[1;32m      5\u001b[0m )\n",
      "\u001b[0;32m/storage/groups/ml01/workspace/carlo.dedonno/LATAQ/lataq/models/embedcvae/embedcvae_model.py\u001b[0m in \u001b[0;36mload_query_data\u001b[0;34m(cls, adata, reference_model, labeled_indices, unknown_ct_names, freeze, freeze_expression, remove_dropout)\u001b[0m\n\u001b[1;32m    148\u001b[0m         \"\"\"\n\u001b[1;32m    149\u001b[0m         \u001b[0;32mif\u001b[0m \u001b[0misinstance\u001b[0m\u001b[0;34m(\u001b[0m\u001b[0mreference_model\u001b[0m\u001b[0;34m,\u001b[0m \u001b[0mstr\u001b[0m\u001b[0;34m)\u001b[0m\u001b[0;34m:\u001b[0m\u001b[0;34m\u001b[0m\u001b[0;34m\u001b[0m\u001b[0m\n\u001b[0;32m--> 150\u001b[0;31m             \u001b[0mattr_dict\u001b[0m\u001b[0;34m,\u001b[0m \u001b[0mmodel_state_dict\u001b[0m\u001b[0;34m,\u001b[0m \u001b[0mvar_names\u001b[0m \u001b[0;34m=\u001b[0m \u001b[0mcls\u001b[0m\u001b[0;34m.\u001b[0m\u001b[0m_load_params\u001b[0m\u001b[0;34m(\u001b[0m\u001b[0mreference_model\u001b[0m\u001b[0;34m)\u001b[0m\u001b[0;34m\u001b[0m\u001b[0;34m\u001b[0m\u001b[0m\n\u001b[0m\u001b[1;32m    151\u001b[0m             \u001b[0m_validate_var_names\u001b[0m\u001b[0;34m(\u001b[0m\u001b[0madata\u001b[0m\u001b[0;34m,\u001b[0m \u001b[0mvar_names\u001b[0m\u001b[0;34m)\u001b[0m\u001b[0;34m\u001b[0m\u001b[0;34m\u001b[0m\u001b[0m\n\u001b[1;32m    152\u001b[0m         \u001b[0;32melse\u001b[0m\u001b[0;34m:\u001b[0m\u001b[0;34m\u001b[0m\u001b[0;34m\u001b[0m\u001b[0m\n",
      "\u001b[0;32m/storage/groups/ml01/workspace/carlo.dedonno/scarches/scarches/models/base/_base.py\u001b[0m in \u001b[0;36m_load_params\u001b[0;34m(cls, dir_path, map_location)\u001b[0m\n\u001b[1;32m    113\u001b[0m \u001b[0;34m\u001b[0m\u001b[0m\n\u001b[1;32m    114\u001b[0m         \u001b[0;32mwith\u001b[0m \u001b[0mopen\u001b[0m\u001b[0;34m(\u001b[0m\u001b[0msetup_dict_path\u001b[0m\u001b[0;34m,\u001b[0m \u001b[0;34m\"rb\"\u001b[0m\u001b[0;34m)\u001b[0m \u001b[0;32mas\u001b[0m \u001b[0mhandle\u001b[0m\u001b[0;34m:\u001b[0m\u001b[0;34m\u001b[0m\u001b[0;34m\u001b[0m\u001b[0m\n\u001b[0;32m--> 115\u001b[0;31m             \u001b[0mattr_dict\u001b[0m \u001b[0;34m=\u001b[0m \u001b[0mpickle\u001b[0m\u001b[0;34m.\u001b[0m\u001b[0mload\u001b[0m\u001b[0;34m(\u001b[0m\u001b[0mhandle\u001b[0m\u001b[0;34m)\u001b[0m\u001b[0;34m\u001b[0m\u001b[0;34m\u001b[0m\u001b[0m\n\u001b[0m\u001b[1;32m    116\u001b[0m \u001b[0;34m\u001b[0m\u001b[0m\n\u001b[1;32m    117\u001b[0m         \u001b[0mmodel_state_dict\u001b[0m \u001b[0;34m=\u001b[0m \u001b[0mtorch\u001b[0m\u001b[0;34m.\u001b[0m\u001b[0mload\u001b[0m\u001b[0;34m(\u001b[0m\u001b[0mmodel_path\u001b[0m\u001b[0;34m,\u001b[0m \u001b[0mmap_location\u001b[0m\u001b[0;34m=\u001b[0m\u001b[0mmap_location\u001b[0m\u001b[0;34m)\u001b[0m\u001b[0;34m\u001b[0m\u001b[0;34m\u001b[0m\u001b[0m\n",
      "\u001b[0;31mEOFError\u001b[0m: Ran out of input"
     ]
    }
   ],
   "source": [
    "lataq_query = lataq_model.load_query_data(\n",
    "    adata=target_adata,\n",
    "    reference_model='tmp/',\n",
    "    labeled_indices=[],\n",
    ")"
   ]
  },
  {
   "cell_type": "code",
   "execution_count": null,
   "id": "fdc058ea-2c4c-4c02-bdf1-155c750b1c67",
   "metadata": {},
   "outputs": [],
   "source": [
    "lataq_query.train(\n",
    "    n_epochs=PARAMS['EPOCHS'],\n",
    "    early_stopping_kwargs=PARAMS['EARLY_STOPPING_KWARGS'],\n",
    "    alpha_epoch_anneal=PARAMS['ALPHA_EPOCH_ANNEAL'],\n",
    "    pretraining_epochs=PARAMS['N_PRE_EPOCHS'],\n",
    "    clustering_res=PARAMS['CLUSTERING_RES'],\n",
    "    eta=PARAMS['ETA'],\n",
    "    labeled_loss_metric=PARAMS['LABELED_LOSS_METRIC'],\n",
    "    unlabeled_loss_metric=PARAMS['UNLABELED_LOSS_METRIC'],\n",
    ")"
   ]
  },
  {
   "cell_type": "code",
   "execution_count": 9,
   "id": "a4194592-dcaf-4324-ae44-a0041de8c386",
   "metadata": {},
   "outputs": [],
   "source": [
    "results_dict = lataq_query.classify(\n",
    "    adata.X, \n",
    "    adata.obs[condition_key], \n",
    "    metric=PARAMS['LABELED_LOSS_METRIC'],\n",
    ")\n",
    "for i in range(len(cell_type_key)):\n",
    "    preds = results_dict[cell_type_key[i]]['preds']\n",
    "    probs = results_dict[cell_type_key[i]]['probs']\n",
    "    classification_df = pd.DataFrame(\n",
    "        classification_report(\n",
    "            y_true=adata.obs[cell_type_key[i]], \n",
    "            y_pred=preds,\n",
    "            output_dict=True\n",
    "        )\n",
    "    ).transpose()"
   ]
  }
 ],
 "metadata": {
  "kernelspec": {
   "display_name": "Python 3",
   "language": "python",
   "name": "python3"
  },
  "language_info": {
   "codemirror_mode": {
    "name": "ipython",
    "version": 3
   },
   "file_extension": ".py",
   "mimetype": "text/x-python",
   "name": "python",
   "nbconvert_exporter": "python",
   "pygments_lexer": "ipython3",
   "version": "3.8.0"
  }
 },
 "nbformat": 4,
 "nbformat_minor": 5
}
