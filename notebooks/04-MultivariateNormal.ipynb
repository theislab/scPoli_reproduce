{
 "cells": [
  {
   "cell_type": "code",
   "execution_count": null,
   "id": "c82705b8-d777-4a4a-a382-153f0d9f8550",
   "metadata": {},
   "outputs": [],
   "source": [
    "import torch\n",
    "import numpy as np\n",
    "import scanpy as sc\n",
    "import pandas as pd\n",
    "import matplotlib.pyplot as plt\n",
    "import seaborn as sns\n",
    "from sklearn.metrics import classification_report\n",
    "\n",
    "from scarches.dataset.trvae.data_handling import remove_sparsity\n",
    "from lataq.models import TRANVAE\n",
    "from lataq.exp_dict import EXPERIMENT_INFO\n",
    "\n",
    "sc.settings.set_figure_params(dpi=200, frameon=False)\n",
    "sc.set_figure_params(dpi=200)\n",
    "torch.set_printoptions(precision=3, sci_mode=False, edgeitems=7)\n",
    "\n",
    "%load_ext autoreload\n",
    "%autoreload 2"
   ]
  },
  {
   "cell_type": "code",
   "execution_count": 2,
   "id": "ee6842be-ab08-4566-988b-3c9122b5b804",
   "metadata": {},
   "outputs": [],
   "source": [
    "PARAMS = {\n",
    "    'EPOCHS': 50,                                      #TOTAL TRAINING EPOCHS\n",
    "    'N_PRE_EPOCHS': 30,                                #EPOCHS OF PRETRAINING WITHOUT LANDMARK LOSS\n",
    "    'DATA_DIR': '../data',          #DIRECTORY WHERE THE DATA IS STORED\n",
    "    'DATA': 'pancreas',                                #DATA USED FOR THE EXPERIMENT\n",
    "    'EARLY_STOPPING_KWARGS': {                         #KWARGS FOR EARLY STOPPING\n",
    "        \"early_stopping_metric\": \"val_landmark_loss\",  ####value used for early stopping\n",
    "        \"mode\": \"min\",                                 ####choose if look for min or max\n",
    "        \"threshold\": 0,\n",
    "        \"patience\": 20,\n",
    "        \"reduce_lr\": True,\n",
    "        \"lr_patience\": 13,\n",
    "        \"lr_factor\": 0.1,\n",
    "    },\n",
    "    'LABELED_LOSS_METRIC': 'gaussian',           \n",
    "    'UNLABELED_LOSS_METRIC': 'gaussian',\n",
    "    'LATENT_DIM': 5,\n",
    "    'ALPHA_EPOCH_ANNEAL': 1e3,\n",
    "    'CLUSTERING_RES': 2,\n",
    "    'HIDDEN_LAYERS': 3,\n",
    "    'ETA': 1,\n",
    "}"
   ]
  },
  {
   "cell_type": "code",
   "execution_count": 3,
   "id": "d42044ef-1ada-4fed-a2c3-dad424d648e4",
   "metadata": {},
   "outputs": [],
   "source": [
    "EXP_PARAMS = EXPERIMENT_INFO[PARAMS['DATA']]\n",
    "adata = sc.read(\n",
    "    f'{PARAMS[\"DATA_DIR\"]}/{EXP_PARAMS[\"file_name\"]}'\n",
    ")\n",
    "condition_key = EXP_PARAMS['condition_key']\n",
    "cell_type_key = EXP_PARAMS['cell_type_key']\n",
    "reference = EXP_PARAMS['reference']\n",
    "query = EXP_PARAMS['query']\n",
    "adata.obs['query'] = adata.obs[condition_key].isin(query)\n",
    "adata.obs['query'] = adata.obs['query'].astype('category')\n",
    "source_adata = adata[adata.obs.study.isin(reference)].copy()\n",
    "target_adata = adata[adata.obs.study.isin(query)].copy()"
   ]
  },
  {
   "cell_type": "code",
   "execution_count": 4,
   "id": "37dfb7b7-29c6-41ac-b3af-e5a721a3c478",
   "metadata": {},
   "outputs": [
    {
     "name": "stdout",
     "output_type": "stream",
     "text": [
      "\n",
      "INITIALIZING NEW NETWORK..............\n",
      "Encoder Architecture:\n",
      "\tInput Layer in, out and cond: 4000 128 7\n",
      "\tHidden Layer 1 in/out: 128 128\n",
      "\tHidden Layer 2 in/out: 128 128\n",
      "\tMean/Var Layer in/out: 128 5\n",
      "Decoder Architecture:\n",
      "\tFirst Layer in, out and cond:  5 128 7\n",
      "\tHidden Layer 1 in/out: 128 128\n",
      "\tHidden Layer 2 in/out: 128 128\n",
      "\tOutput Layer in/out:  128 4000 \n",
      "\n"
     ]
    }
   ],
   "source": [
    "lataq_model = TRANVAE(\n",
    "    adata=source_adata,\n",
    "    condition_key=condition_key,\n",
    "    cell_type_keys=cell_type_key,\n",
    "    hidden_layer_sizes=[128]*int(PARAMS['HIDDEN_LAYERS']),\n",
    "    latent_dim=PARAMS['LATENT_DIM'],\n",
    ")"
   ]
  },
  {
   "cell_type": "code",
   "execution_count": 5,
   "id": "32896515-5425-46e1-b2dc-5b517e432f1e",
   "metadata": {},
   "outputs": [
    {
     "name": "stdout",
     "output_type": "stream",
     "text": [
      " |████████████████████| 100.0%  - val_loss: 1001.8018909801 - val_trvae_loss: 1001.3372747248 - val_landmark_loss: 0.4646166400 - val_labeled_loss: 0.4646166400\n",
      "Saving best state of network...\n",
      "Best State was in Epoch 48\n"
     ]
    }
   ],
   "source": [
    "lataq_model.train(\n",
    "    n_epochs=PARAMS['EPOCHS'],\n",
    "    pretraining_epochs=PARAMS['N_PRE_EPOCHS'],\n",
    "    early_stopping_kwargs=PARAMS['EARLY_STOPPING_KWARGS'],\n",
    "    alpha_epoch_anneal=PARAMS['ALPHA_EPOCH_ANNEAL'],\n",
    "    eta=PARAMS['ETA'],\n",
    "    clustering_res=PARAMS['CLUSTERING_RES'],\n",
    "    labeled_loss_metric=PARAMS['LABELED_LOSS_METRIC'],\n",
    "    unlabeled_loss_metric=PARAMS['UNLABELED_LOSS_METRIC'],\n",
    ")"
   ]
  },
  {
   "cell_type": "code",
   "execution_count": 6,
   "id": "0b48a66b-643b-42bc-89e0-8096a03ff773",
   "metadata": {},
   "outputs": [],
   "source": [
    "lataq_model.save('tmp/', overwrite=True)"
   ]
  },
  {
   "cell_type": "code",
   "execution_count": 7,
   "id": "7da78266-0cc2-4c0e-b7ec-2c393a00ef71",
   "metadata": {},
   "outputs": [
    {
     "name": "stdout",
     "output_type": "stream",
     "text": [
      "AnnData object with n_obs × n_vars = 3289 × 4000\n",
      "    obs: 'study', 'cell_type', 'pred_label', 'pred_score', 'query'\n",
      "    obsm: 'X_seurat', 'X_symphony'\n",
      "\n",
      "INITIALIZING NEW NETWORK..............\n",
      "Encoder Architecture:\n",
      "\tInput Layer in, out and cond: 4000 128 9\n",
      "\tHidden Layer 1 in/out: 128 128\n",
      "\tHidden Layer 2 in/out: 128 128\n",
      "\tMean/Var Layer in/out: 128 5\n",
      "Decoder Architecture:\n",
      "\tFirst Layer in, out and cond:  5 128 9\n",
      "\tHidden Layer 1 in/out: 128 128\n",
      "\tHidden Layer 2 in/out: 128 128\n",
      "\tOutput Layer in/out:  128 4000 \n",
      "\n"
     ]
    }
   ],
   "source": [
    "lataq_query = lataq_model.load_query_data(\n",
    "    adata=target_adata,\n",
    "    reference_model='tmp/',\n",
    "    labeled_indices=[],\n",
    ")"
   ]
  },
  {
   "cell_type": "code",
   "execution_count": 8,
   "id": "fdc058ea-2c4c-4c02-bdf1-155c750b1c67",
   "metadata": {},
   "outputs": [
    {
     "name": "stdout",
     "output_type": "stream",
     "text": [
      " |████████████--------| 60.0%  - val_loss: 1828.0123697917 - val_trvae_loss: 1828.0123697917\n",
      "Initializing unlabeled landmarks with Leiden-Clustering with an unknown number of clusters.\n",
      "Leiden Clustering succesful. Found 26 clusters.\n",
      " |████████████████████| 100.0%  - val_loss: 1791.9902343750 - val_trvae_loss: 1791.9893798828 - val_landmark_loss: 0.0008598569 - val_unlabeled_loss: 0.8598568241\n",
      "Saving best state of network...\n",
      "Best State was in Epoch 41\n"
     ]
    }
   ],
   "source": [
    "lataq_query.train(\n",
    "    n_epochs=PARAMS['EPOCHS'],\n",
    "    early_stopping_kwargs=PARAMS['EARLY_STOPPING_KWARGS'],\n",
    "    alpha_epoch_anneal=PARAMS['ALPHA_EPOCH_ANNEAL'],\n",
    "    pretraining_epochs=PARAMS['N_PRE_EPOCHS'],\n",
    "    clustering_res=PARAMS['CLUSTERING_RES'],\n",
    "    eta=PARAMS['ETA'],\n",
    "    labeled_loss_metric=PARAMS['LABELED_LOSS_METRIC'],\n",
    "    unlabeled_loss_metric=PARAMS['UNLABELED_LOSS_METRIC'],\n",
    ")"
   ]
  },
  {
   "cell_type": "code",
   "execution_count": 9,
   "id": "a4194592-dcaf-4324-ae44-a0041de8c386",
   "metadata": {},
   "outputs": [],
   "source": [
    "results_dict = lataq_query.classify(\n",
    "    adata.X, \n",
    "    adata.obs[condition_key], \n",
    "    metric=PARAMS['LABELED_LOSS_METRIC'],\n",
    ")\n",
    "for i in range(len(cell_type_key)):\n",
    "    preds = results_dict[cell_type_key[i]]['preds']\n",
    "    probs = results_dict[cell_type_key[i]]['probs']\n",
    "    classification_df = pd.DataFrame(\n",
    "        classification_report(\n",
    "            y_true=adata.obs[cell_type_key[i]], \n",
    "            y_pred=preds,\n",
    "            output_dict=True\n",
    "        )\n",
    "    ).transpose()"
   ]
  }
 ],
 "metadata": {
  "kernelspec": {
   "display_name": "Python 3",
   "language": "python",
   "name": "python3"
  },
  "language_info": {
   "codemirror_mode": {
    "name": "ipython",
    "version": 3
   },
   "file_extension": ".py",
   "mimetype": "text/x-python",
   "name": "python",
   "nbconvert_exporter": "python",
   "pygments_lexer": "ipython3",
   "version": "3.8.0"
  }
 },
 "nbformat": 4,
 "nbformat_minor": 5
}
