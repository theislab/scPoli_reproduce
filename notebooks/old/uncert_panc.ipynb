{
 "cells": [
  {
   "cell_type": "code",
   "execution_count": 1,
   "metadata": {},
   "outputs": [],
   "source": [
    "import os\n",
    "import scanpy as sc\n",
    "import torch\n",
    "import scarches as sca\n",
    "from scarches.dataset.trvae.data_handling import remove_sparsity\n",
    "import matplotlib.pyplot as plt\n",
    "import numpy as np\n",
    "import time\n",
    "import json"
   ]
  },
  {
   "cell_type": "code",
   "execution_count": 2,
   "metadata": {},
   "outputs": [],
   "source": [
    "sc.settings.set_figure_params(dpi=200, frameon=False)\n",
    "sc.set_figure_params(dpi=200)\n",
    "sc.set_figure_params(figsize=(4, 4))\n",
    "torch.set_printoptions(precision=3, sci_mode=False, edgeitems=7)"
   ]
  },
  {
   "cell_type": "code",
   "execution_count": 3,
   "metadata": {},
   "outputs": [],
   "source": [
    "test_nr = 3\n",
    "eta = 1000\n",
    "\n",
    "surgery_epochs = 500\n",
    "\n",
    "early_stopping_kwargs = {\n",
    "    \"early_stopping_metric\": \"val_unweighted_loss\",\n",
    "    \"threshold\": 0,\n",
    "    \"patience\": 20,\n",
    "    \"reduce_lr\": True,\n",
    "    \"lr_patience\": 13,\n",
    "    \"lr_factor\": 0.1,\n",
    "}\n",
    "dir_path = os.path.expanduser(f'~/Documents/benchmarking_results/rqr/tranvae_{eta}/pancreas/test_{test_nr}/')\n",
    "surg_path = f'{dir_path}query_unsupervised/'"
   ]
  },
  {
   "cell_type": "code",
   "execution_count": 4,
   "metadata": {},
   "outputs": [],
   "source": [
    "adata_all = sc.read(os.path.expanduser(f'~/Documents/benchmarking_datasets/pancreas_normalized.h5ad'))\n",
    "condition_key = 'study'\n",
    "cell_type_key = 'cell_type'\n",
    "if test_nr == 1:\n",
    "    reference = ['Pancreas inDrop']\n",
    "    query = ['Pancreas SS2', 'Pancreas CelSeq2', 'Pancreas CelSeq', 'Pancreas Fluidigm C1']\n",
    "elif test_nr == 2:\n",
    "    reference = ['Pancreas inDrop', 'Pancreas SS2']\n",
    "    query = ['Pancreas CelSeq2', 'Pancreas CelSeq', 'Pancreas Fluidigm C1']\n",
    "elif test_nr == 3:\n",
    "    reference = ['Pancreas inDrop', 'Pancreas SS2', 'Pancreas CelSeq2']\n",
    "    query = ['Pancreas CelSeq', 'Pancreas Fluidigm C1']\n",
    "elif test_nr == 4:\n",
    "    reference = ['Pancreas inDrop', 'Pancreas SS2', 'Pancreas CelSeq2', 'Pancreas CelSeq']\n",
    "    query = ['Pancreas Fluidigm C1']\n",
    "elif test_nr == 5:\n",
    "    reference = ['Pancreas inDrop', 'Pancreas SS2', 'Pancreas CelSeq2', 'Pancreas CelSeq',\n",
    "                 'Pancreas Fluidigm C1']"
   ]
  },
  {
   "cell_type": "code",
   "execution_count": 5,
   "metadata": {},
   "outputs": [],
   "source": [
    "adata = adata_all.raw.to_adata()\n",
    "adata = remove_sparsity(adata)\n",
    "source_adata = adata[~adata.obs.study.isin(query)].copy()\n",
    "target_adata = adata[adata.obs.study.isin(query)].copy()"
   ]
  },
  {
   "cell_type": "code",
   "execution_count": 6,
   "metadata": {},
   "outputs": [],
   "source": [
    "surgery_path = f'{surg_path}surg_model/'"
   ]
  },
  {
   "cell_type": "code",
   "execution_count": 7,
   "metadata": {},
   "outputs": [
    {
     "name": "stdout",
     "output_type": "stream",
     "text": [
      "\n",
      "INITIALIZING NEW NETWORK..............\n",
      "Encoder Architecture:\n",
      "\tInput Layer in, out and cond: 1000 128 5\n",
      "\tHidden Layer 1 in/out: 128 128\n",
      "\tMean/Var Layer in/out: 128 10\n",
      "Decoder Architecture:\n",
      "\tFirst Layer in, out and cond:  10 128 5\n",
      "\tHidden Layer 1 in/out: 128 128\n",
      "\tOutput Layer in/out:  128 1000 \n",
      "\n"
     ]
    }
   ],
   "source": [
    "new_tranvae = sca.models.TRANVAE.load_query_data(\n",
    "    adata=adata,\n",
    "    reference_model=surgery_path,\n",
    ")"
   ]
  },
  {
   "cell_type": "code",
   "execution_count": 8,
   "metadata": {},
   "outputs": [
    {
     "name": "stdout",
     "output_type": "stream",
     "text": [
      "[[ 0.05 -0.04 -0.03  0.04  0.   -0.07  0.19 -0.06 -0.13 -0.05]\n",
      " [ 0.06 -0.02 -0.04  0.08  0.03 -0.04  0.18 -0.02 -0.13 -0.04]\n",
      " [ 0.09 -0.02 -0.17  0.06 -0.03 -0.01  0.19 -0.1  -0.13 -0.08]\n",
      " [ 0.11 -0.08 -0.2  -0.01  0.07 -0.04  0.22 -0.09  0.07 -0.04]\n",
      " [ 0.08 -0.13 -0.14 -0.06 -0.02  0.02  0.17 -0.11 -0.17 -0.02]\n",
      " [ 0.1  -0.01 -0.07  0.06  0.05  0.05  0.15 -0.11 -0.12 -0.05]\n",
      " [ 0.04  0.03 -0.15  0.01 -0.1   0.05  0.19 -0.1  -0.11 -0.16]\n",
      " [ 0.09  0.01 -0.21  0.   -0.03 -0.05  0.06 -0.05 -0.13 -0.12]]\n",
      "(8, 10)\n"
     ]
    }
   ],
   "source": [
    "print(new_tranvae.landmarks_labeled_)\n",
    "print(new_tranvae.landmarks_labeled_.shape)"
   ]
  },
  {
   "cell_type": "code",
   "execution_count": 9,
   "metadata": {},
   "outputs": [
    {
     "data": {
      "text/plain": [
       "torch.Size([8, 10])"
      ]
     },
     "execution_count": 9,
     "metadata": {},
     "output_type": "execute_result"
    }
   ],
   "source": [
    "new_tranvae.model.landmarks_labeled = torch.tensor(new_tranvae.model.landmarks_labeled)\n",
    "new_tranvae.model.landmarks_unlabeled = torch.tensor(new_tranvae.model.landmarks_unlabeled)\n",
    "new_tranvae.model.landmarks_labeled.size()"
   ]
  },
  {
   "cell_type": "code",
   "execution_count": 10,
   "metadata": {},
   "outputs": [
    {
     "name": "stdout",
     "output_type": "stream",
     "text": [
      "[[ 0.03  0.02 -0.17  0.03 -0.1   0.07  0.17 -0.1  -0.1  -0.15]\n",
      " [ 0.1   0.   -0.09  0.06  0.06  0.06  0.15 -0.12 -0.12 -0.04]\n",
      " [ 0.1  -0.   -0.22  0.01 -0.02 -0.04  0.03 -0.05 -0.13 -0.11]\n",
      " [ 0.1  -0.09 -0.2   0.01  0.08 -0.04  0.22 -0.1   0.08 -0.02]\n",
      " [ 0.05 -0.03 -0.03  0.07  0.02 -0.04  0.18 -0.03 -0.13 -0.04]\n",
      " [ 0.07 -0.14 -0.14 -0.05 -0.04  0.04  0.16 -0.13 -0.15  0.  ]\n",
      " [ 0.1  -0.03 -0.21  0.1  -0.02  0.    0.18 -0.1  -0.13 -0.07]\n",
      " [ 0.09 -0.03 -0.15  0.05 -0.03 -0.02  0.17 -0.1  -0.13 -0.05]]\n",
      "(8, 10)\n"
     ]
    }
   ],
   "source": [
    "print(new_tranvae.landmarks_unlabeled_)\n",
    "print(new_tranvae.landmarks_unlabeled_.shape)"
   ]
  },
  {
   "cell_type": "code",
   "execution_count": 11,
   "metadata": {},
   "outputs": [
    {
     "data": {
      "text/plain": [
       "(13778, 10)"
      ]
     },
     "execution_count": 11,
     "metadata": {},
     "output_type": "execute_result"
    }
   ],
   "source": [
    "source_latent = new_tranvae.get_latent(source_adata.X, source_adata.obs.study)\n",
    "source_latent.shape"
   ]
  },
  {
   "cell_type": "code",
   "execution_count": 12,
   "metadata": {},
   "outputs": [
    {
     "data": {
      "text/plain": [
       "(13778,)"
      ]
     },
     "execution_count": 12,
     "metadata": {},
     "output_type": "execute_result"
    }
   ],
   "source": [
    "source_labels = source_adata.obs.cell_type\n",
    "source_labels.shape"
   ]
  },
  {
   "cell_type": "code",
   "execution_count": 13,
   "metadata": {},
   "outputs": [
    {
     "data": {
      "text/plain": [
       "['Pancreas Endothelial',\n",
       " 'Pancreas Acinar',\n",
       " 'Pancreas Beta',\n",
       " 'Pancreas Delta',\n",
       " 'Pancreas Stellate',\n",
       " 'Pancreas Ductal',\n",
       " 'Pancreas Alpha',\n",
       " 'Pancreas Gamma']"
      ]
     },
     "execution_count": 13,
     "metadata": {},
     "output_type": "execute_result"
    }
   ],
   "source": [
    "source_label_uniq = source_adata.obs.cell_type.unique().tolist()\n",
    "source_label_uniq"
   ]
  },
  {
   "cell_type": "code",
   "execution_count": 14,
   "metadata": {},
   "outputs": [],
   "source": [
    "check_prob_ct = 'Pancreas Ductal'"
   ]
  },
  {
   "cell_type": "code",
   "execution_count": 15,
   "metadata": {},
   "outputs": [
    {
     "data": {
      "text/plain": [
       "(1675,)"
      ]
     },
     "execution_count": 15,
     "metadata": {},
     "output_type": "execute_result"
    }
   ],
   "source": [
    "alpha_check = np.where(source_labels == check_prob_ct)[0]\n",
    "alpha_check.shape"
   ]
  },
  {
   "cell_type": "code",
   "execution_count": 16,
   "metadata": {},
   "outputs": [
    {
     "data": {
      "text/plain": [
       "(1675, 10)"
      ]
     },
     "execution_count": 16,
     "metadata": {},
     "output_type": "execute_result"
    }
   ],
   "source": [
    "alpha_latent = source_latent[alpha_check,:]\n",
    "alpha_latent.shape"
   ]
  },
  {
   "cell_type": "code",
   "execution_count": 17,
   "metadata": {},
   "outputs": [
    {
     "data": {
      "text/plain": [
       "array([ 0.1 , -0.01, -0.07,  0.06,  0.05,  0.05,  0.15, -0.11, -0.12,\n",
       "       -0.05], dtype=float32)"
      ]
     },
     "execution_count": 17,
     "metadata": {},
     "output_type": "execute_result"
    }
   ],
   "source": [
    "alpha_landmark = np.mean(alpha_latent, axis=0)\n",
    "alpha_landmark"
   ]
  },
  {
   "cell_type": "code",
   "execution_count": 18,
   "metadata": {},
   "outputs": [
    {
     "data": {
      "text/plain": [
       "array([0.03, 0.03, 0.04, 0.03, 0.04, 0.04, 0.03, 0.04, 0.03, 0.03],\n",
       "      dtype=float32)"
      ]
     },
     "execution_count": 18,
     "metadata": {},
     "output_type": "execute_result"
    }
   ],
   "source": [
    "alpha_std = np.std(alpha_latent, axis=0)\n",
    "alpha_std"
   ]
  },
  {
   "cell_type": "code",
   "execution_count": 19,
   "metadata": {},
   "outputs": [
    {
     "data": {
      "text/plain": [
       "tensor([ 0.101, -0.014, -0.074,  0.059,  0.049,  0.052,  0.153, -0.111, -0.122,\n",
       "        -0.053])"
      ]
     },
     "execution_count": 19,
     "metadata": {},
     "output_type": "execute_result"
    }
   ],
   "source": [
    "normal_dist = torch.distributions.Normal(torch.tensor(alpha_landmark),torch.tensor(alpha_std))\n",
    "normal_dist.mean"
   ]
  },
  {
   "cell_type": "code",
   "execution_count": null,
   "metadata": {},
   "outputs": [],
   "source": [
    "target_alpha_idx = np.where(target_adata.obs.cell_type == check_prob_ct)[0]\n",
    "target_alpha_idx.shape"
   ]
  },
  {
   "cell_type": "code",
   "execution_count": null,
   "metadata": {},
   "outputs": [],
   "source": [
    "target_latent = new_tranvae.get_latent(target_adata.X, target_adata.obs.study)\n",
    "target_latent.shape"
   ]
  },
  {
   "cell_type": "code",
   "execution_count": null,
   "metadata": {},
   "outputs": [],
   "source": [
    "first_prob = normal_dist.cdf(torch.tensor(target_latent[target_alpha_idx[0],:]))"
   ]
  },
  {
   "cell_type": "code",
   "execution_count": null,
   "metadata": {},
   "outputs": [],
   "source": [
    "first_prob"
   ]
  },
  {
   "cell_type": "code",
   "execution_count": null,
   "metadata": {},
   "outputs": [],
   "source": [
    "torch.mean(first_prob,axis=0)"
   ]
  },
  {
   "cell_type": "code",
   "execution_count": null,
   "metadata": {},
   "outputs": [],
   "source": [
    "mean_prob = normal_dist.log_prob(torch.tensor(alpha_landmark)).exp()\n",
    "normalize = torch.mean(mean_prob,axis=0)"
   ]
  },
  {
   "cell_type": "code",
   "execution_count": null,
   "metadata": {},
   "outputs": [],
   "source": [
    "alpha_prob = normal_dist.log_prob(torch.tensor(target_latent[target_alpha_idx,:])).exp() / normalize\n",
    "\n",
    "alpha_prob.size()"
   ]
  },
  {
   "cell_type": "code",
   "execution_count": null,
   "metadata": {},
   "outputs": [],
   "source": [
    "alpha_prob = torch.mean(alpha_prob,axis=1)\n",
    "alpha_prob.size()"
   ]
  },
  {
   "cell_type": "code",
   "execution_count": null,
   "metadata": {},
   "outputs": [],
   "source": [
    "alpha_prob.min()"
   ]
  },
  {
   "cell_type": "code",
   "execution_count": null,
   "metadata": {},
   "outputs": [],
   "source": [
    "alpha_prob.max()"
   ]
  },
  {
   "cell_type": "code",
   "execution_count": null,
   "metadata": {},
   "outputs": [],
   "source": [
    "target_pred = new_tranvae.classify(target_adata.X, target_adata.obs.study)\n",
    "target_pred.shape"
   ]
  },
  {
   "cell_type": "code",
   "execution_count": null,
   "metadata": {},
   "outputs": [],
   "source": [
    "alpha_pred_idx = np.where(target_pred == check_prob_ct)[0]\n",
    "\n",
    "correct_idx = []\n",
    "incorrect_idx = []\n",
    "for idx in target_alpha_idx:\n",
    "    if idx in alpha_pred_idx:\n",
    "        correct_idx.append(idx)\n",
    "    else:\n",
    "        incorrect_idx.append(idx)"
   ]
  },
  {
   "cell_type": "code",
   "execution_count": null,
   "metadata": {},
   "outputs": [],
   "source": [
    "len(correct_idx)"
   ]
  },
  {
   "cell_type": "code",
   "execution_count": null,
   "metadata": {},
   "outputs": [],
   "source": [
    "len(incorrect_idx)"
   ]
  },
  {
   "cell_type": "code",
   "execution_count": null,
   "metadata": {},
   "outputs": [],
   "source": [
    "correct_alpha_probs =  normal_dist.log_prob(torch.tensor(target_latent[correct_idx,:])).exp() / normalize\n",
    "correct_alpha_probs = torch.mean(correct_alpha_probs,axis=1)\n",
    "incorrect_alpha_probs =  normal_dist.log_prob(torch.tensor(target_latent[incorrect_idx,:])).exp() / normalize\n",
    "incorrect_alpha_probs = torch.mean(incorrect_alpha_probs,axis=1)"
   ]
  },
  {
   "cell_type": "code",
   "execution_count": null,
   "metadata": {},
   "outputs": [],
   "source": [
    "correct_alpha_probs.shape"
   ]
  },
  {
   "cell_type": "code",
   "execution_count": null,
   "metadata": {},
   "outputs": [],
   "source": [
    "print(correct_alpha_probs.min())\n",
    "print(correct_alpha_probs.max())"
   ]
  },
  {
   "cell_type": "code",
   "execution_count": null,
   "metadata": {},
   "outputs": [],
   "source": [
    "incorrect_alpha_probs.shape"
   ]
  },
  {
   "cell_type": "code",
   "execution_count": null,
   "metadata": {},
   "outputs": [],
   "source": [
    "print(incorrect_alpha_probs.min())\n",
    "print(incorrect_alpha_probs.max())"
   ]
  },
  {
   "cell_type": "code",
   "execution_count": null,
   "metadata": {},
   "outputs": [],
   "source": [
    "data = [correct_alpha_probs.detach().numpy(), incorrect_alpha_probs.detach().numpy()]"
   ]
  },
  {
   "cell_type": "code",
   "execution_count": null,
   "metadata": {},
   "outputs": [],
   "source": [
    "def set_axis_style(ax, labels):\n",
    "    ax.get_xaxis().set_tick_params(direction='out')\n",
    "    ax.xaxis.set_ticks_position('bottom')\n",
    "    ax.set_xticks(np.arange(1, len(labels) + 1))\n",
    "    ax.set_xticklabels(labels)\n",
    "    ax.set_xlim(0.25, len(labels) + 0.75)\n",
    "    ax.set_xlabel('Sample name')\n",
    "\n",
    "\n",
    "fig, (ax1, ax2) = plt.subplots(nrows=1, ncols=2, figsize=(9, 4), sharey=True)\n",
    "\n",
    "ax1.set_title('Default violin plot')\n",
    "ax1.set_ylabel('Observed values')\n",
    "ax1.violinplot(data)\n",
    "\n",
    "ax2.set_title('Customized violin plot')\n",
    "parts = ax2.violinplot(\n",
    "        data, showmeans=False, showmedians=False,\n",
    "        showextrema=False)\n",
    "\n",
    "for pc in parts['bodies']:\n",
    "    pc.set_facecolor('#D43F3A')\n",
    "    pc.set_edgecolor('black')\n",
    "    pc.set_alpha(1)\n",
    "\n",
    "# set style for the axes\n",
    "labels = ['Correct', 'Incorrect']\n",
    "for ax in [ax1, ax2]:\n",
    "    set_axis_style(ax, labels)\n",
    "\n",
    "plt.subplots_adjust(bottom=0.15, wspace=0.05)\n",
    "plt.show()"
   ]
  },
  {
   "cell_type": "code",
   "execution_count": null,
   "metadata": {},
   "outputs": [],
   "source": []
  },
  {
   "cell_type": "code",
   "execution_count": null,
   "metadata": {},
   "outputs": [],
   "source": []
  },
  {
   "cell_type": "code",
   "execution_count": null,
   "metadata": {},
   "outputs": [],
   "source": []
  },
  {
   "cell_type": "code",
   "execution_count": null,
   "metadata": {},
   "outputs": [],
   "source": []
  },
  {
   "cell_type": "code",
   "execution_count": null,
   "metadata": {},
   "outputs": [],
   "source": []
  },
  {
   "cell_type": "code",
   "execution_count": null,
   "metadata": {},
   "outputs": [],
   "source": []
  },
  {
   "cell_type": "code",
   "execution_count": null,
   "metadata": {},
   "outputs": [],
   "source": []
  }
 ],
 "metadata": {
  "kernelspec": {
   "display_name": "scarches",
   "language": "python",
   "name": "scarches_testing"
  },
  "language_info": {
   "codemirror_mode": {
    "name": "ipython",
    "version": 3
   },
   "file_extension": ".py",
   "mimetype": "text/x-python",
   "name": "python",
   "nbconvert_exporter": "python",
   "pygments_lexer": "ipython3",
   "version": "3.7.7"
  }
 },
 "nbformat": 4,
 "nbformat_minor": 4
}
