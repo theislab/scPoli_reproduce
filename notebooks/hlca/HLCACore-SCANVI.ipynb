{
 "cells": [
  {
   "cell_type": "code",
   "execution_count": 1,
   "id": "319d7f81",
   "metadata": {},
   "outputs": [],
   "source": [
    "import torch\n",
    "import numpy as np\n",
    "import scanpy as sc\n",
    "import pandas as pd\n",
    "import matplotlib.pyplot as plt\n",
    "import seaborn as sns\n",
    "import scarches as sca\n",
    "from sklearn.metrics import classification_report\n",
    "\n",
    "from scarches.dataset.trvae.data_handling import remove_sparsity\n",
    "from lataq.models import EMBEDCVAE\n",
    "from lataq.exp_dict import EXPERIMENT_INFO\n",
    "import time\n",
    "sc.settings.set_figure_params(dpi=200, frameon=False)\n",
    "sc.set_figure_params(dpi=500)\n",
    "plt.rcParams['figure.figsize'] = (5, 5)\n",
    "torch.set_printoptions(precision=3, sci_mode=False, edgeitems=7)\n",
    "\n",
    "%load_ext autoreload\n",
    "%autoreload 2"
   ]
  },
  {
   "cell_type": "code",
   "execution_count": 2,
   "id": "da1be338",
   "metadata": {},
   "outputs": [],
   "source": [
    "adata = sc.read(\n",
    "    '../data/hlca_counts_commonvars.h5ad'\n",
    ")\n",
    "#adata = adata[:, adata.var.highly_variable].copy()\n",
    "#adata.X"
   ]
  },
  {
   "cell_type": "code",
   "execution_count": 3,
   "id": "cb191609",
   "metadata": {},
   "outputs": [],
   "source": [
    "condition_key = 'sample'\n",
    "cell_type_key = ['ann_finest_level']"
   ]
  },
  {
   "cell_type": "code",
   "execution_count": 4,
   "id": "02b41bf6-4246-43c6-a304-befa7a163116",
   "metadata": {},
   "outputs": [],
   "source": [
    "vae_epochs = 50\n",
    "scanvi_epochs = 20\n",
    "\n",
    "early_stopping_kwargs = {\n",
    "    \"early_stopping_metric\": \"elbo\",\n",
    "    \"save_best_state_metric\": \"elbo\",\n",
    "    \"patience\": 10,\n",
    "    \"threshold\": 0,\n",
    "    \"reduce_lr_on_plateau\": True,\n",
    "    \"lr_patience\": 8,\n",
    "    \"lr_factor\": 0.1,\n",
    "}\n",
    "early_stopping_kwargs_scanvi = {\n",
    "    \"early_stopping_metric\": \"accuracy\",\n",
    "    \"save_best_state_metric\": \"accuracy\",\n",
    "    \"on\": \"full_dataset\",\n",
    "    \"patience\": 10,\n",
    "    \"threshold\": 0.001,\n",
    "    \"reduce_lr_on_plateau\": True,\n",
    "    \"lr_patience\": 8,\n",
    "    \"lr_factor\": 0.1,\n",
    "}"
   ]
  },
  {
   "cell_type": "code",
   "execution_count": 5,
   "id": "bb14d130-f3db-41ad-a427-4a52224bb1c4",
   "metadata": {},
   "outputs": [
    {
     "name": "stdout",
     "output_type": "stream",
     "text": [
      "\u001b[34mINFO    \u001b[0m Using batches from adata.obs\u001b[1m[\u001b[0m\u001b[32m\"sample\"\u001b[0m\u001b[1m]\u001b[0m                                              \n",
      "\u001b[34mINFO    \u001b[0m Using labels from adata.obs\u001b[1m[\u001b[0m\u001b[32m\"ann_finest_level\"\u001b[0m\u001b[1m]\u001b[0m                                     \n",
      "\u001b[34mINFO    \u001b[0m Using data from adata.X                                                             \n",
      "\u001b[34mINFO    \u001b[0m Computing library size prior per batch                                              \n",
      "\u001b[34mINFO    \u001b[0m Successfully registered anndata object containing \u001b[1;36m584884\u001b[0m cells, \u001b[1;36m1897\u001b[0m vars, \u001b[1;36m166\u001b[0m      \n",
      "         batches, \u001b[1;36m58\u001b[0m labels, and \u001b[1;36m0\u001b[0m proteins. Also registered \u001b[1;36m0\u001b[0m extra categorical covariates  \n",
      "         and \u001b[1;36m0\u001b[0m extra continuous covariates.                                                  \n",
      "\u001b[34mINFO    \u001b[0m Please do not further modify adata until model is trained.                          \n"
     ]
    },
    {
     "name": "stderr",
     "output_type": "stream",
     "text": [
      "/home/icb/carlo.dedonno/anaconda3/envs/lataq_cuda/lib/python3.8/site-packages/scvi/model/base/_base_model.py:149: UserWarning: Make sure the registered X field in anndata contains unnormalized count data.\n",
      "  warnings.warn(\n"
     ]
    }
   ],
   "source": [
    "sca.dataset.setup_anndata(\n",
    "    adata, batch_key=condition_key, labels_key=cell_type_key[0]\n",
    ")\n",
    "\n",
    "vae = sca.models.SCANVI(\n",
    "    adata,\n",
    "    None,\n",
    "    n_layers=2,\n",
    "    n_latent = 30, # to allow for capturing more heterogeneity\n",
    "    encode_covariates=True,\n",
    "    deeply_inject_covariates=False,\n",
    "    use_layer_norm=\"both\",\n",
    "    use_batch_norm=\"none\",\n",
    "    gene_likelihood=\"nb\", # because we have UMI data\n",
    ")"
   ]
  },
  {
   "cell_type": "code",
   "execution_count": 6,
   "id": "19d425b2",
   "metadata": {},
   "outputs": [
    {
     "name": "stdout",
     "output_type": "stream",
     "text": [
      "\u001b[34mINFO    \u001b[0m Training for \u001b[1;36m50\u001b[0m epochs.                                                             \n"
     ]
    },
    {
     "name": "stderr",
     "output_type": "stream",
     "text": [
      "GPU available: True, used: True\n",
      "TPU available: False, using: 0 TPU cores\n",
      "LOCAL_RANK: 0 - CUDA_VISIBLE_DEVICES: [0]\n"
     ]
    },
    {
     "name": "stdout",
     "output_type": "stream",
     "text": [
      "Epoch 50/50: 100%|██████████| 50/50 [1:15:52<00:00, 91.05s/it, loss=714, v_num=1]\n"
     ]
    }
   ],
   "source": [
    "vae.train(\n",
    "    max_epochs=50\n",
    ")"
   ]
  },
  {
   "cell_type": "code",
   "execution_count": 7,
   "id": "57d42627-830d-493f-8836-4aa0f9cf55cf",
   "metadata": {},
   "outputs": [],
   "source": [
    "vae.save(f\"scanvi_hlca_sample\", overwrite=True)"
   ]
  },
  {
   "cell_type": "code",
   "execution_count": 8,
   "id": "bf69b6ee-082d-4c77-a1e8-4798bb68036d",
   "metadata": {},
   "outputs": [
    {
     "name": "stderr",
     "output_type": "stream",
     "text": [
      "/home/icb/carlo.dedonno/anaconda3/envs/lataq_cuda/lib/python3.8/site-packages/scvi/model/base/_base_model.py:149: UserWarning: Make sure the registered X field in anndata contains unnormalized count data.\n",
      "  warnings.warn(\n"
     ]
    }
   ],
   "source": [
    "adata_latent = sc.AnnData(X=vae.get_latent_representation(), obs=adata.obs)"
   ]
  },
  {
   "cell_type": "code",
   "execution_count": 9,
   "id": "482edab1-ddcb-4436-a57b-880b69b241a3",
   "metadata": {},
   "outputs": [],
   "source": [
    "adata_latent.write('../figure_notebooks/hlca_core_scanvi_sample.h5ad')"
   ]
  },
  {
   "cell_type": "code",
   "execution_count": null,
   "id": "45b468de-c06a-47aa-b52d-9eac96fd38ca",
   "metadata": {},
   "outputs": [],
   "source": []
  }
 ],
 "metadata": {
  "kernelspec": {
   "display_name": "Python 3",
   "language": "python",
   "name": "python3"
  },
  "language_info": {
   "codemirror_mode": {
    "name": "ipython",
    "version": 3
   },
   "file_extension": ".py",
   "mimetype": "text/x-python",
   "name": "python",
   "nbconvert_exporter": "python",
   "pygments_lexer": "ipython3",
   "version": "3.8.0"
  }
 },
 "nbformat": 4,
 "nbformat_minor": 5
}
