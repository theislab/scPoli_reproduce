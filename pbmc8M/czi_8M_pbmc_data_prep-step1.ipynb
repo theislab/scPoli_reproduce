{
 "cells": [
  {
   "cell_type": "code",
   "execution_count": null,
   "id": "f3fc01c9",
   "metadata": {},
   "outputs": [],
   "source": [
    "import numpy as np\n",
    "import scanpy as sc\n",
    "import pandas as pd\n",
    "import matplotlib.pyplot as plt\n",
    "import seaborn as sns"
   ]
  },
  {
   "cell_type": "code",
   "execution_count": null,
   "id": "657fcb06",
   "metadata": {},
   "outputs": [],
   "source": [
    "adata = sc.read('../data/all_raw_counts_clean.h5ad')"
   ]
  },
  {
   "cell_type": "code",
   "execution_count": null,
   "id": "35081fba",
   "metadata": {},
   "outputs": [],
   "source": [
    "pd.set_option('display.max_columns', None)  "
   ]
  },
  {
   "cell_type": "code",
   "execution_count": null,
   "id": "b4be9dfe",
   "metadata": {},
   "outputs": [],
   "source": [
    "adata = adata[~adata.obs.dataset.isin(['villani_pbmc','vento_tormo_pbmc'])]"
   ]
  },
  {
   "cell_type": "code",
   "execution_count": null,
   "id": "f37bea2d",
   "metadata": {},
   "outputs": [],
   "source": [
    "adata.obs['sample_ID_lataq'] = adata.obs['batch_czi'].astype('str') + '_' + adata.obs['dataset'].astype('str') + '_' + adata.obs['subject_ID_czi'].astype('str') + '_' + adata.obs['sample_ID_czi'].astype('str') + '_' + adata.obs['assay'].astype('str') "
   ]
  },
  {
   "cell_type": "code",
   "execution_count": null,
   "id": "07004a00",
   "metadata": {},
   "outputs": [],
   "source": [
    "mdata = adata.obs[['dataset','sample_ID_czi','subject_ID_czi','batch_czi','assay','sex','disease']]\n",
    "mdata.drop_duplicates(inplace = True)"
   ]
  },
  {
   "cell_type": "code",
   "execution_count": null,
   "id": "f23e0c84",
   "metadata": {},
   "outputs": [],
   "source": [
    "len(set(adata.obs['sample_ID_lataq'])) # matches above computations "
   ]
  },
  {
   "cell_type": "code",
   "execution_count": null,
   "id": "98eb8e64",
   "metadata": {},
   "outputs": [],
   "source": [
    "adata.obs['sample_ID_lataq'] = adata.obs['sample_ID_lataq'].astype('category')"
   ]
  },
  {
   "cell_type": "code",
   "execution_count": null,
   "id": "fb8cae9e",
   "metadata": {},
   "outputs": [],
   "source": [
    "dataset_sample = adata.obs[['dataset','sample_ID_lataq']].drop_duplicates(subset = ['sample_ID_lataq'])"
   ]
  },
  {
   "cell_type": "code",
   "execution_count": null,
   "id": "b5cf15a1",
   "metadata": {},
   "outputs": [],
   "source": [
    "dataset_sample.dataset.value_counts()"
   ]
  },
  {
   "cell_type": "code",
   "execution_count": null,
   "id": "f901823c",
   "metadata": {},
   "outputs": [],
   "source": [
    "len(set(adata.obs.dataset))"
   ]
  },
  {
   "cell_type": "code",
   "execution_count": null,
   "id": "cee0b79e",
   "metadata": {},
   "outputs": [],
   "source": [
    "print(len(set(mdata.sample_ID_czi)))\n",
    "print(len(set(mdata.subject_ID_czi)))\n",
    "print('Number of unique ids')\n",
    "mdata.shape[0]"
   ]
  },
  {
   "cell_type": "code",
   "execution_count": null,
   "id": "1ce57931",
   "metadata": {},
   "outputs": [],
   "source": [
    "# make the reference-query split\n",
    "\n",
    "query_dataset = ['10_1126_sciimmunol_abd1554','10_1038_s41591_021_01329_2']\n",
    "\n",
    "query_adata = adata[adata.obs.dataset.isin(query_dataset)].copy()\n",
    "ref_adata = adata[~adata.obs.dataset.isin(query_dataset)].copy()"
   ]
  },
  {
   "cell_type": "code",
   "execution_count": null,
   "id": "c4f08fba",
   "metadata": {},
   "outputs": [],
   "source": [
    "len(set(query_adata.obs.sample_ID_lataq))"
   ]
  },
  {
   "cell_type": "code",
   "execution_count": null,
   "id": "afbfefdc",
   "metadata": {},
   "outputs": [],
   "source": [
    "len(set(ref_adata.obs.sample_ID_lataq))"
   ]
  },
  {
   "cell_type": "code",
   "execution_count": null,
   "id": "c04e912e",
   "metadata": {},
   "outputs": [],
   "source": [
    "sc.pp.highly_variable_genes(\n",
    "    ref_adata,\n",
    "    flavor=\"seurat_v3\",\n",
    "    n_top_genes=10000,\n",
    "    batch_key=\"batch_czi\",\n",
    "    subset=True\n",
    ")"
   ]
  },
  {
   "cell_type": "code",
   "execution_count": null,
   "id": "a2b885b5",
   "metadata": {},
   "outputs": [],
   "source": [
    "query_adata = query_adata[:,ref_adata.var_names]"
   ]
  },
  {
   "cell_type": "code",
   "execution_count": null,
   "id": "a41464a1",
   "metadata": {},
   "outputs": [],
   "source": [
    "query_adata"
   ]
  },
  {
   "cell_type": "code",
   "execution_count": null,
   "id": "c02a040b",
   "metadata": {},
   "outputs": [],
   "source": [
    "ref_adata"
   ]
  },
  {
   "cell_type": "code",
   "execution_count": null,
   "id": "64816d35",
   "metadata": {},
   "outputs": [],
   "source": [
    "ref_adata.write('data/czi_8M_PBMC_lataq_ref_10k_loSuHanifa.h5ad')"
   ]
  },
  {
   "cell_type": "code",
   "execution_count": null,
   "id": "0999f013",
   "metadata": {},
   "outputs": [],
   "source": [
    "query_adata.write('data/czi_8M_PBMC_lataq_querySu_10k_loSuHanifa.h5ad')"
   ]
  }
 ],
 "metadata": {
  "kernelspec": {
   "display_name": "Python 3 (ipykernel)",
   "language": "python",
   "name": "python3"
  },
  "language_info": {
   "codemirror_mode": {
    "name": "ipython",
    "version": 3
   },
   "file_extension": ".py",
   "mimetype": "text/x-python",
   "name": "python",
   "nbconvert_exporter": "python",
   "pygments_lexer": "ipython3",
   "version": "3.8.12"
  }
 },
 "nbformat": 4,
 "nbformat_minor": 5
}
