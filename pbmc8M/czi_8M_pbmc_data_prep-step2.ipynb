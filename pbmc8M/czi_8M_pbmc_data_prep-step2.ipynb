{
 "cells": [
  {
   "cell_type": "code",
   "execution_count": 1,
   "id": "f3fc01c9",
   "metadata": {},
   "outputs": [],
   "source": [
    "import numpy as np\n",
    "import scanpy as sc\n",
    "import pandas as pd\n",
    "import matplotlib.pyplot as plt\n",
    "import seaborn as sns"
   ]
  },
  {
   "cell_type": "code",
   "execution_count": 2,
   "id": "657fcb06",
   "metadata": {},
   "outputs": [],
   "source": [
    "ref_adata = sc.read('data/czi_8M_PBMC_lataq_ref_10k_loSuHanifa.h5ad')"
   ]
  },
  {
   "cell_type": "code",
   "execution_count": 3,
   "id": "35081fba",
   "metadata": {},
   "outputs": [],
   "source": [
    "query_adata = sc.read('data/czi_8M_PBMC_lataq_querySu_10k_loSuHanifa.h5ad')"
   ]
  },
  {
   "cell_type": "code",
   "execution_count": 5,
   "id": "3eaa5da2",
   "metadata": {},
   "outputs": [
    {
     "name": "stderr",
     "output_type": "stream",
     "text": [
      "/home/icb/soroor.hediyeh-zadeh/miniconda3/envs/scvi/lib/python3.8/site-packages/anndata/_core/anndata.py:1785: FutureWarning: X.dtype being converted to np.float32 from float64. In the next version of anndata (0.9) conversion will not be automatic. Pass dtype explicitly to avoid this warning. Pass `AnnData(X, dtype=X.dtype, ...)` to get the future behavour.\n",
      "  [AnnData(sparse.csr_matrix(a.shape), obs=a.obs) for a in all_adatas],\n"
     ]
    }
   ],
   "source": [
    "adata = ref_adata.concatenate(query_adata)"
   ]
  },
  {
   "cell_type": "code",
   "execution_count": 6,
   "id": "3beb0306",
   "metadata": {},
   "outputs": [
    {
     "data": {
      "text/plain": [
       "AnnData object with n_obs × n_vars = 8195299 × 10000\n",
       "    obs: 'dataset', 'sample_ID_czi', 'subject_ID_czi', 'cell_type_ontology_term_id', 'cell_type', 'total_counts_lisa', 'batch_czi', 'assay_ontology_term_id', 'assay', 'development_stage_ontology_term_id', 'development_stage', 'disease_ontology_term_id', 'disease', 'ethnicity_ontology_term_id', 'ethnicity', 'organism_ontology_term_id', 'organism', 'sex_ontology_term_id', 'sex', 'tissue_ontology_term_id', 'tissue', 'cell_type_for_integration', 'sample_ID_lataq', 'batch'\n",
       "    var: 'highly_variable-0', 'highly_variable_rank-0', 'means-0', 'variances-0', 'variances_norm-0', 'highly_variable_nbatches-0'"
      ]
     },
     "execution_count": 6,
     "metadata": {},
     "output_type": "execute_result"
    }
   ],
   "source": [
    "adata"
   ]
  },
  {
   "cell_type": "code",
   "execution_count": 8,
   "id": "b4be9dfe",
   "metadata": {},
   "outputs": [],
   "source": [
    "adata = adata[~adata.obs.dataset.isin(['villani_pbmc','vento_tormo_pbmc'])]"
   ]
  },
  {
   "cell_type": "code",
   "execution_count": 9,
   "id": "29568642",
   "metadata": {},
   "outputs": [
    {
     "data": {
      "text/plain": [
       "View of AnnData object with n_obs × n_vars = 8038294 × 10000\n",
       "    obs: 'dataset', 'sample_ID_czi', 'subject_ID_czi', 'cell_type_ontology_term_id', 'cell_type', 'total_counts_lisa', 'batch_czi', 'assay_ontology_term_id', 'assay', 'development_stage_ontology_term_id', 'development_stage', 'disease_ontology_term_id', 'disease', 'ethnicity_ontology_term_id', 'ethnicity', 'organism_ontology_term_id', 'organism', 'sex_ontology_term_id', 'sex', 'tissue_ontology_term_id', 'tissue', 'cell_type_for_integration', 'sample_ID_lataq', 'batch'\n",
       "    var: 'highly_variable-0', 'highly_variable_rank-0', 'means-0', 'variances-0', 'variances_norm-0', 'highly_variable_nbatches-0'"
      ]
     },
     "execution_count": 9,
     "metadata": {},
     "output_type": "execute_result"
    }
   ],
   "source": [
    "adata"
   ]
  },
  {
   "cell_type": "code",
   "execution_count": 10,
   "id": "07004a00",
   "metadata": {},
   "outputs": [
    {
     "name": "stderr",
     "output_type": "stream",
     "text": [
      "/tmp/ipykernel_44630/127768700.py:2: SettingWithCopyWarning: \n",
      "A value is trying to be set on a copy of a slice from a DataFrame\n",
      "\n",
      "See the caveats in the documentation: https://pandas.pydata.org/pandas-docs/stable/user_guide/indexing.html#returning-a-view-versus-a-copy\n",
      "  mdata.drop_duplicates(inplace = True)\n"
     ]
    }
   ],
   "source": [
    "mdata = adata.obs[['dataset','sample_ID_czi','subject_ID_czi','batch_czi','assay','sex','disease']]\n",
    "mdata.drop_duplicates(inplace = True)"
   ]
  },
  {
   "cell_type": "code",
   "execution_count": 11,
   "id": "f23e0c84",
   "metadata": {},
   "outputs": [
    {
     "data": {
      "text/plain": [
       "2503"
      ]
     },
     "execution_count": 11,
     "metadata": {},
     "output_type": "execute_result"
    }
   ],
   "source": [
    "len(set(adata.obs['sample_ID_lataq'])) # matches above computations "
   ]
  },
  {
   "cell_type": "code",
   "execution_count": 12,
   "id": "98eb8e64",
   "metadata": {},
   "outputs": [
    {
     "name": "stderr",
     "output_type": "stream",
     "text": [
      "/tmp/ipykernel_44630/1489121291.py:1: ImplicitModificationWarning: Trying to modify attribute `.obs` of view, initializing view as actual.\n",
      "  adata.obs['sample_ID_lataq'] = adata.obs['sample_ID_lataq'].astype('category')\n"
     ]
    }
   ],
   "source": [
    "adata.obs['sample_ID_lataq'] = adata.obs['sample_ID_lataq'].astype('category')"
   ]
  },
  {
   "cell_type": "code",
   "execution_count": 13,
   "id": "fb8cae9e",
   "metadata": {},
   "outputs": [],
   "source": [
    "dataset_sample = adata.obs[['dataset','sample_ID_lataq']].drop_duplicates(subset = ['sample_ID_lataq'])"
   ]
  },
  {
   "cell_type": "code",
   "execution_count": 14,
   "id": "b5cf15a1",
   "metadata": {},
   "outputs": [
    {
     "data": {
      "text/plain": [
       "powell_eqtl                                    981\n",
       "10_1126_scitranslmed_abh2624                   179\n",
       "ye_lupus_lupus                                 175\n",
       "10_1038_s41591_021_01329_2                     143\n",
       "10_1016_j_cell_2022_01_012                     140\n",
       "10_1016_j_cell_2021_01_053_convalescence       136\n",
       "powell_pbmc                                    128\n",
       "10_1016_j_cell_2021_01_053_nonconvalescence    106\n",
       "ye_lupus_normal                                 99\n",
       "10_1038_s41586_021_04345_x                      80\n",
       "10_1016_j_cell_2021_02_018_adaptive             67\n",
       "10_1016_j_cell_2021_02_018_innate               67\n",
       "10_1016_j_isci_2021_102404                      52\n",
       "10_1016_j_cell_2020_08_001                      49\n",
       "nygc_pbmc                                       24\n",
       "10_1126_sciimmunol_abd1554                      20\n",
       "10_1038_s41591_020_0944_y                       14\n",
       "10_1126_science_abc6261                         12\n",
       "10_1038_s41467_020_17834_w                       7\n",
       "10_1101_2021_07_19_452956_blood                  6\n",
       "10_1038_s41467_019_12464_3                       4\n",
       "10_1038_s41586_020_2922_4_10x                    2\n",
       "10_1016_j_immuni_2021_03_005_49y2d               1\n",
       "10_1016_j_immuni_2021_03_005_49y3d               1\n",
       "10_1016_j_immuni_2021_03_005_66y2d               1\n",
       "10_1016_j_immuni_2021_03_005_66y4d               1\n",
       "10_1016_j_immuni_2021_03_005_74y3d               1\n",
       "10_1016_j_immuni_2021_03_005_74y7d               1\n",
       "10_1016_j_immuni_2021_03_005_66y3d               1\n",
       "10_1016_j_immuni_2021_03_005_74y8d               1\n",
       "10_1016_j_immuni_2021_03_005_49y1d               1\n",
       "10_1016_j_immuni_2021_03_005_82y1d               1\n",
       "10_1016_j_immuni_2021_03_005_66y7d               1\n",
       "10_1016_j_immuni_2021_03_005_74y4d               1\n",
       "Name: dataset, dtype: int64"
      ]
     },
     "execution_count": 14,
     "metadata": {},
     "output_type": "execute_result"
    }
   ],
   "source": [
    "dataset_sample.dataset.value_counts()"
   ]
  },
  {
   "cell_type": "code",
   "execution_count": 15,
   "id": "f901823c",
   "metadata": {},
   "outputs": [
    {
     "data": {
      "text/plain": [
       "34"
      ]
     },
     "execution_count": 15,
     "metadata": {},
     "output_type": "execute_result"
    }
   ],
   "source": [
    "len(set(adata.obs.dataset))"
   ]
  },
  {
   "cell_type": "code",
   "execution_count": 16,
   "id": "cee0b79e",
   "metadata": {},
   "outputs": [
    {
     "name": "stdout",
     "output_type": "stream",
     "text": [
      "2424\n",
      "1982\n",
      "Number of unique ids\n"
     ]
    },
    {
     "data": {
      "text/plain": [
       "2503"
      ]
     },
     "execution_count": 16,
     "metadata": {},
     "output_type": "execute_result"
    }
   ],
   "source": [
    "print(len(set(mdata.sample_ID_czi)))\n",
    "print(len(set(mdata.subject_ID_czi)))\n",
    "print('Number of unique ids')\n",
    "mdata.shape[0]"
   ]
  },
  {
   "cell_type": "code",
   "execution_count": 19,
   "id": "1ce57931",
   "metadata": {},
   "outputs": [],
   "source": [
    "# make the reference-query split\n",
    "\n",
    "query_dataset = ['10_1126_sciimmunol_abd1554','10_1038_s41591_021_01329_2']\n",
    "\n",
    "query_adata = adata[adata.obs.dataset.isin(query_dataset)].copy()\n",
    "ref_adata = adata[~adata.obs.dataset.isin(query_dataset)].copy()"
   ]
  },
  {
   "cell_type": "code",
   "execution_count": 20,
   "id": "c4f08fba",
   "metadata": {},
   "outputs": [
    {
     "data": {
      "text/plain": [
       "163"
      ]
     },
     "execution_count": 20,
     "metadata": {},
     "output_type": "execute_result"
    }
   ],
   "source": [
    "len(set(query_adata.obs.sample_ID_lataq))"
   ]
  },
  {
   "cell_type": "code",
   "execution_count": 21,
   "id": "afbfefdc",
   "metadata": {},
   "outputs": [
    {
     "data": {
      "text/plain": [
       "2340"
      ]
     },
     "execution_count": 21,
     "metadata": {},
     "output_type": "execute_result"
    }
   ],
   "source": [
    "len(set(ref_adata.obs.sample_ID_lataq))"
   ]
  },
  {
   "cell_type": "code",
   "execution_count": null,
   "id": "bbd706f4",
   "metadata": {},
   "outputs": [],
   "source": []
  }
 ],
 "metadata": {
  "kernelspec": {
   "display_name": "Python 3 (ipykernel)",
   "language": "python",
   "name": "python3"
  },
  "language_info": {
   "codemirror_mode": {
    "name": "ipython",
    "version": 3
   },
   "file_extension": ".py",
   "mimetype": "text/x-python",
   "name": "python",
   "nbconvert_exporter": "python",
   "pygments_lexer": "ipython3",
   "version": "3.8.12"
  }
 },
 "nbformat": 4,
 "nbformat_minor": 5
}
