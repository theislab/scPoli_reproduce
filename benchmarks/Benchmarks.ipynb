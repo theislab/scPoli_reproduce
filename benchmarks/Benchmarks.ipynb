{
 "cells": [
  {
   "cell_type": "code",
   "execution_count": 55,
   "id": "78b0c5c4-f0bc-4ae1-a960-4b3711979dad",
   "metadata": {},
   "outputs": [],
   "source": [
    "import seml\n",
    "import pandas as pd\n",
    "import scanpy as sc\n",
    "import matplotlib.pyplot as plt\n",
    "import seaborn as sns\n",
    "from lataq.metrics.metrics import metrics\n",
    "from lataq_reproduce.exp_dict import EXPERIMENT_INFO"
   ]
  },
  {
   "cell_type": "markdown",
   "id": "662ade19-3f63-49ba-a99b-f62448aa0fd2",
   "metadata": {},
   "source": [
    "# Get results for SCANVI, SCVI, MARS, SVM"
   ]
  },
  {
   "cell_type": "code",
   "execution_count": 56,
   "id": "4f31f561-5250-4659-973f-eb4cdbec40dc",
   "metadata": {},
   "outputs": [],
   "source": [
    "results = {}"
   ]
  },
  {
   "cell_type": "code",
   "execution_count": 57,
   "id": "baeffefe-6a62-4c0c-90cc-d96238b85e93",
   "metadata": {},
   "outputs": [
    {
     "data": {
      "application/vnd.jupyter.widget-view+json": {
       "model_id": "fb1e7e2b1a4f4165850d41155b7531c6",
       "version_major": 2,
       "version_minor": 0
      },
      "text/plain": [
       "  0%|          | 0/6 [00:00<?, ?it/s]"
      ]
     },
     "metadata": {},
     "output_type": "display_data"
    },
    {
     "data": {
      "application/vnd.jupyter.widget-view+json": {
       "model_id": "3a563fc22770421ba78d4576f1c6bf9b",
       "version_major": 2,
       "version_minor": 0
      },
      "text/plain": [
       "  0%|          | 0/6 [00:00<?, ?it/s]"
      ]
     },
     "metadata": {},
     "output_type": "display_data"
    },
    {
     "name": "stderr",
     "output_type": "stream",
     "text": [
      "/home/icb/carlo.dedonno/anaconda3/envs/lataq_cuda/lib/python3.8/site-packages/seml/evaluation.py:80: FutureWarning: pandas.io.json.json_normalize is deprecated, use pandas.json_normalize instead\n",
      "  parsed = pd.io.json.json_normalize(parsed, sep='.')\n"
     ]
    }
   ],
   "source": [
    "results['scanvi'] = seml.get_results('scanvi', to_data_frame=True)\n",
    "for score in list(results['scanvi']['result.integration_scores'].loc[0].columns):\n",
    "    results['scanvi'][f'result.{score}'] = results['scanvi']['result.integration_scores'].apply(\n",
    "        lambda x: x[score]\n",
    "    )\n",
    "results['scanvi']['result.f1-score-macro'] = results['scanvi']['result.classification_report_query'].apply(\n",
    "    lambda x: x.loc['macro avg']['f1-score']\n",
    ")\n",
    "results['scanvi']['result.f1-score-weighted'] = results['scanvi']['result.classification_report_query'].apply(\n",
    "    lambda x: x.loc['weighted avg']['f1-score']\n",
    ")\n",
    "results['scanvi'] = results['scanvi'][[\n",
    "    'config.data',\n",
    "    'result.reference_time',\n",
    "    'result.query_time',\n",
    "    'result.PCR_batch',\n",
    "    'result.graph_conn',\n",
    "    'result.ebm',\n",
    "    'result.knn',\n",
    "    'result.f1-score-macro',\n",
    "    'result.f1-score-weighted'\n",
    "]]\n",
    "results['scanvi'] = results['scanvi'].assign(method='scanvi')"
   ]
  },
  {
   "cell_type": "code",
   "execution_count": 58,
   "id": "c266d9b7-455d-4eb3-8093-29c333307a56",
   "metadata": {},
   "outputs": [
    {
     "data": {
      "application/vnd.jupyter.widget-view+json": {
       "model_id": "49b67dced6924b32a0333df78deef376",
       "version_major": 2,
       "version_minor": 0
      },
      "text/plain": [
       "  0%|          | 0/6 [00:00<?, ?it/s]"
      ]
     },
     "metadata": {},
     "output_type": "display_data"
    },
    {
     "data": {
      "application/vnd.jupyter.widget-view+json": {
       "model_id": "c72789475f1341bda9c5b578418ba4a8",
       "version_major": 2,
       "version_minor": 0
      },
      "text/plain": [
       "  0%|          | 0/6 [00:00<?, ?it/s]"
      ]
     },
     "metadata": {},
     "output_type": "display_data"
    }
   ],
   "source": [
    "results['scvi'] = seml.get_results('scvi', to_data_frame=True)\n",
    "for score in list(results['scvi']['result.integration_scores'].loc[0].columns):\n",
    "    results['scvi'][f'result.{score}'] = results['scvi']['result.integration_scores'].apply(\n",
    "        lambda x: x[score]\n",
    "    )\n",
    "results['scvi'] = results['scvi'][[\n",
    "    'config.data',\n",
    "    'result.reference_time',\n",
    "    'result.query_time',\n",
    "    'result.PCR_batch',\n",
    "    'result.graph_conn',\n",
    "    'result.ebm',\n",
    "    'result.knn',\n",
    "]]\n",
    "results['scvi'] = results['scvi'].assign(method='scvi')"
   ]
  },
  {
   "cell_type": "code",
   "execution_count": 59,
   "id": "171ee36b-6c10-4d37-b9f5-69a1474abcac",
   "metadata": {},
   "outputs": [
    {
     "data": {
      "application/vnd.jupyter.widget-view+json": {
       "model_id": "37614c60da974016a08b98c7d9534f32",
       "version_major": 2,
       "version_minor": 0
      },
      "text/plain": [
       "  0%|          | 0/6 [00:00<?, ?it/s]"
      ]
     },
     "metadata": {},
     "output_type": "display_data"
    },
    {
     "data": {
      "application/vnd.jupyter.widget-view+json": {
       "model_id": "985222c75c62482abb943670e938db35",
       "version_major": 2,
       "version_minor": 0
      },
      "text/plain": [
       "  0%|          | 0/6 [00:00<?, ?it/s]"
      ]
     },
     "metadata": {},
     "output_type": "display_data"
    }
   ],
   "source": [
    "results['svm'] = seml.get_results('svm', to_data_frame=True)\n",
    "results['svm']['result.f1-score-macro'] = results['svm']['result'].apply(\n",
    "    lambda x: x.loc['macro avg']['f1-score']\n",
    ")\n",
    "results['svm']['result.f1-score-weighted'] = results['svm']['result'].apply(\n",
    "    lambda x: x.loc['weighted avg']['f1-score']\n",
    ")\n",
    "results['svm'] = results['svm'][[\n",
    "    'config.data',\n",
    "    'result.f1-score-macro',\n",
    "    'result.f1-score-weighted'\n",
    "]]\n",
    "results['svm'] = results['svm'].assign(method='svm')"
   ]
  },
  {
   "cell_type": "code",
   "execution_count": 60,
   "id": "144afec2-d6d9-4004-94ff-4bfa0c7dc256",
   "metadata": {},
   "outputs": [
    {
     "data": {
      "application/vnd.jupyter.widget-view+json": {
       "model_id": "7c071129f06c499d8d8adbbc6b76636a",
       "version_major": 2,
       "version_minor": 0
      },
      "text/plain": [
       "  0%|          | 0/5 [00:00<?, ?it/s]"
      ]
     },
     "metadata": {},
     "output_type": "display_data"
    },
    {
     "data": {
      "application/vnd.jupyter.widget-view+json": {
       "model_id": "d633cb6984234a86a6e58b3eac2f591e",
       "version_major": 2,
       "version_minor": 0
      },
      "text/plain": [
       "  0%|          | 0/5 [00:00<?, ?it/s]"
      ]
     },
     "metadata": {},
     "output_type": "display_data"
    }
   ],
   "source": [
    "results['mars'] = seml.get_results('mars', to_data_frame=True)\n",
    "results['mars']['result.f1-score-macro'] = results['mars']['result.classification_report_query'].apply(\n",
    "    lambda x: x.loc['macro avg']['f1-score']\n",
    ")\n",
    "results['mars']['result.f1-score-weighted'] = results['mars']['result.classification_report_query'].apply(\n",
    "    lambda x: x.loc['weighted avg']['f1-score']\n",
    ")\n",
    "results['mars'] = results['mars'][[\n",
    "    'config.data',\n",
    "    'result.f1-score-macro',\n",
    "    'result.f1-score-weighted'\n",
    "]]\n",
    "results['mars'] = results['mars'].assign(method='mars')"
   ]
  },
  {
   "cell_type": "markdown",
   "id": "48423d18-9c61-4715-a759-9c8b40d2c335",
   "metadata": {},
   "source": [
    "# Get best results from hyperopt"
   ]
  },
  {
   "cell_type": "code",
   "execution_count": 61,
   "id": "ecd9f44e-0f51-4c28-b887-8b9704699e4e",
   "metadata": {},
   "outputs": [
    {
     "data": {
      "application/vnd.jupyter.widget-view+json": {
       "model_id": "d6e238fbe12f45e4a167e7914e08af35",
       "version_major": 2,
       "version_minor": 0
      },
      "text/plain": [
       "  0%|          | 0/360 [00:00<?, ?it/s]"
      ]
     },
     "metadata": {},
     "output_type": "display_data"
    },
    {
     "data": {
      "application/vnd.jupyter.widget-view+json": {
       "model_id": "29aec12a381d4b929d2e9dbe234190c3",
       "version_major": 2,
       "version_minor": 0
      },
      "text/plain": [
       "  0%|          | 0/360 [00:00<?, ?it/s]"
      ]
     },
     "metadata": {},
     "output_type": "display_data"
    }
   ],
   "source": [
    "results_lataq = seml.get_results('hyperparam_fixed', to_data_frame=True)"
   ]
  },
  {
   "cell_type": "code",
   "execution_count": 62,
   "id": "1ac77bbf-08cb-42e5-960f-69f8e1c7173b",
   "metadata": {},
   "outputs": [
    {
     "name": "stderr",
     "output_type": "stream",
     "text": [
      "<ipython-input-62-4e8dc88e9f0a>:3: SettingWithCopyWarning: \n",
      "A value is trying to be set on a copy of a slice from a DataFrame.\n",
      "Try using .loc[row_indexer,col_indexer] = value instead\n",
      "\n",
      "See the caveats in the documentation: https://pandas.pydata.org/pandas-docs/stable/user_guide/indexing.html#returning-a-view-versus-a-copy\n",
      "  results['tranvae'][f'result.{score}'] = results['tranvae']['result.integration_scores'].apply(\n",
      "<ipython-input-62-4e8dc88e9f0a>:6: SettingWithCopyWarning: \n",
      "A value is trying to be set on a copy of a slice from a DataFrame.\n",
      "Try using .loc[row_indexer,col_indexer] = value instead\n",
      "\n",
      "See the caveats in the documentation: https://pandas.pydata.org/pandas-docs/stable/user_guide/indexing.html#returning-a-view-versus-a-copy\n",
      "  results['tranvae']['result.f1-score-macro'] = results['tranvae']['result.classification_report_query'].apply(\n",
      "<ipython-input-62-4e8dc88e9f0a>:9: SettingWithCopyWarning: \n",
      "A value is trying to be set on a copy of a slice from a DataFrame.\n",
      "Try using .loc[row_indexer,col_indexer] = value instead\n",
      "\n",
      "See the caveats in the documentation: https://pandas.pydata.org/pandas-docs/stable/user_guide/indexing.html#returning-a-view-versus-a-copy\n",
      "  results['tranvae']['result.f1-score-weighted'] = results['tranvae']['result.classification_report_query'].apply(\n"
     ]
    }
   ],
   "source": [
    "results['tranvae'] = results_lataq[results_lataq['config.model']=='tranvae']\n",
    "for score in list(results['tranvae']['result.integration_scores'].iloc[0].columns):\n",
    "    results['tranvae'][f'result.{score}'] = results['tranvae']['result.integration_scores'].apply(\n",
    "        lambda x: x[score]\n",
    "    )\n",
    "results['tranvae']['result.f1-score-macro'] = results['tranvae']['result.classification_report_query'].apply(\n",
    "    lambda x: x.loc['macro avg']['f1-score']\n",
    ")\n",
    "results['tranvae']['result.f1-score-weighted'] = results['tranvae']['result.classification_report_query'].apply(\n",
    "    lambda x: x.loc['weighted avg']['f1-score']\n",
    ")\n",
    "results['tranvae'] = results['tranvae'][[\n",
    "    'config.data',\n",
    "    'result.ebm',\n",
    "    'result.knn',\n",
    "    'result.f1-score-macro',\n",
    "    'result.f1-score-weighted'\n",
    "]]\n",
    "results['tranvae'] = results['tranvae'].assign(method='tranvae')\n",
    "results['tranvae'] = (\n",
    "    results['tranvae']\n",
    "    .sort_values(by='result.f1-score-weighted')\n",
    "    .groupby('config.data')\n",
    "    .last()\n",
    "    .reset_index()\n",
    ")"
   ]
  },
  {
   "cell_type": "code",
   "execution_count": 63,
   "id": "dd968ede-8103-4db7-873c-c6b0a02ea35d",
   "metadata": {},
   "outputs": [
    {
     "name": "stderr",
     "output_type": "stream",
     "text": [
      "<ipython-input-63-0041a85f938e>:3: SettingWithCopyWarning: \n",
      "A value is trying to be set on a copy of a slice from a DataFrame.\n",
      "Try using .loc[row_indexer,col_indexer] = value instead\n",
      "\n",
      "See the caveats in the documentation: https://pandas.pydata.org/pandas-docs/stable/user_guide/indexing.html#returning-a-view-versus-a-copy\n",
      "  results['embedcvae'][f'result.{score}'] = results['embedcvae']['result.integration_scores'].apply(\n",
      "<ipython-input-63-0041a85f938e>:6: SettingWithCopyWarning: \n",
      "A value is trying to be set on a copy of a slice from a DataFrame.\n",
      "Try using .loc[row_indexer,col_indexer] = value instead\n",
      "\n",
      "See the caveats in the documentation: https://pandas.pydata.org/pandas-docs/stable/user_guide/indexing.html#returning-a-view-versus-a-copy\n",
      "  results['embedcvae']['result.f1-score-macro'] = results['embedcvae']['result.classification_report_query'].apply(\n",
      "<ipython-input-63-0041a85f938e>:9: SettingWithCopyWarning: \n",
      "A value is trying to be set on a copy of a slice from a DataFrame.\n",
      "Try using .loc[row_indexer,col_indexer] = value instead\n",
      "\n",
      "See the caveats in the documentation: https://pandas.pydata.org/pandas-docs/stable/user_guide/indexing.html#returning-a-view-versus-a-copy\n",
      "  results['embedcvae']['result.f1-score-weighted'] = results['embedcvae']['result.classification_report_query'].apply(\n"
     ]
    }
   ],
   "source": [
    "results['embedcvae'] = results_lataq[results_lataq['config.model']=='embedcvae']\n",
    "for score in list(results['embedcvae']['result.integration_scores'].iloc[0].columns):\n",
    "    results['embedcvae'][f'result.{score}'] = results['embedcvae']['result.integration_scores'].apply(\n",
    "        lambda x: x[score]\n",
    "    )\n",
    "results['embedcvae']['result.f1-score-macro'] = results['embedcvae']['result.classification_report_query'].apply(\n",
    "    lambda x: x.loc['macro avg']['f1-score']\n",
    ")\n",
    "results['embedcvae']['result.f1-score-weighted'] = results['embedcvae']['result.classification_report_query'].apply(\n",
    "    lambda x: x.loc['weighted avg']['f1-score']\n",
    ")\n",
    "results['embedcvae'] = results['embedcvae'][[\n",
    "    'config.data',\n",
    "    'result.ebm',\n",
    "    'result.knn',\n",
    "    'result.f1-score-macro',\n",
    "    'result.f1-score-weighted'\n",
    "]]\n",
    "results['embedcvae'] = results['embedcvae'].assign(method='embedcvae')\n",
    "results['embedcvae'] = (\n",
    "    results['embedcvae']\n",
    "    .sort_values(by='result.f1-score-weighted')\n",
    "    .groupby('config.data')\n",
    "    .last()\n",
    "    .reset_index()\n",
    ")"
   ]
  },
  {
   "cell_type": "markdown",
   "id": "03f8108c-ad4f-480a-8208-d6103fbfe8d6",
   "metadata": {},
   "source": [
    "# Get results for symphony and seurat"
   ]
  },
  {
   "cell_type": "code",
   "execution_count": 64,
   "id": "e23bad9e-85bc-456c-b743-e6c71886c950",
   "metadata": {},
   "outputs": [],
   "source": [
    "r_scores = pd.read_pickle('seurat/result_seurat_symphony.pickle')\n"
   ]
  },
  {
   "cell_type": "code",
   "execution_count": 65,
   "id": "472d86f7-51eb-4646-9206-79ba7b5e316f",
   "metadata": {},
   "outputs": [],
   "source": [
    "r_scores['method'][~r_scores['classification_report'].isna()] = 'seurat'"
   ]
  },
  {
   "cell_type": "code",
   "execution_count": 66,
   "id": "d1624ca0-3576-4ce2-93fa-a51edde21a6d",
   "metadata": {},
   "outputs": [],
   "source": [
    "results['seurat'] = r_scores[r_scores['method'] == 'seurat']\n",
    "results['symphony'] = r_scores[r_scores['method'] == 'symphony']"
   ]
  },
  {
   "cell_type": "code",
   "execution_count": 67,
   "id": "05788a7c-dba8-46c1-86f7-bf7e06f1e001",
   "metadata": {},
   "outputs": [
    {
     "name": "stderr",
     "output_type": "stream",
     "text": [
      "<ipython-input-67-e6ae020c46ea>:2: SettingWithCopyWarning: \n",
      "A value is trying to be set on a copy of a slice from a DataFrame.\n",
      "Try using .loc[row_indexer,col_indexer] = value instead\n",
      "\n",
      "See the caveats in the documentation: https://pandas.pydata.org/pandas-docs/stable/user_guide/indexing.html#returning-a-view-versus-a-copy\n",
      "  results['seurat'][f'{score}'] = results['seurat']['integration_scores'].apply(\n",
      "<ipython-input-67-e6ae020c46ea>:5: SettingWithCopyWarning: \n",
      "A value is trying to be set on a copy of a slice from a DataFrame.\n",
      "Try using .loc[row_indexer,col_indexer] = value instead\n",
      "\n",
      "See the caveats in the documentation: https://pandas.pydata.org/pandas-docs/stable/user_guide/indexing.html#returning-a-view-versus-a-copy\n",
      "  results['seurat']['f1-score-macro'] = results['seurat']['classification_report_query'].apply(\n",
      "<ipython-input-67-e6ae020c46ea>:8: SettingWithCopyWarning: \n",
      "A value is trying to be set on a copy of a slice from a DataFrame.\n",
      "Try using .loc[row_indexer,col_indexer] = value instead\n",
      "\n",
      "See the caveats in the documentation: https://pandas.pydata.org/pandas-docs/stable/user_guide/indexing.html#returning-a-view-versus-a-copy\n",
      "  results['seurat']['f1-score-weighted'] = results['seurat']['classification_report_query'].apply(\n"
     ]
    }
   ],
   "source": [
    "for score in list(results['seurat']['integration_scores'].iloc[0].columns):\n",
    "    results['seurat'][f'{score}'] = results['seurat']['integration_scores'].apply(\n",
    "        lambda x: x[score]\n",
    "    )\n",
    "results['seurat']['f1-score-macro'] = results['seurat']['classification_report_query'].apply(\n",
    "    lambda x: x.loc['macro avg']['f1-score']\n",
    ")\n",
    "results['seurat']['f1-score-weighted'] = results['seurat']['classification_report_query'].apply(\n",
    "    lambda x: x.loc['weighted avg']['f1-score']\n",
    ")\n",
    "results['seurat'].columns = [\n",
    "    f'result.{x}' \n",
    "    if i > 1 \n",
    "    else f'config.{x}'\n",
    "    for i, x \n",
    "    in enumerate(\n",
    "        results['seurat'].columns\n",
    "    )\n",
    "]\n",
    "results['seurat'] = results['seurat'][[\n",
    "    'config.data',\n",
    "    'result.ebm',\n",
    "    'result.knn',\n",
    "    'result.f1-score-macro',\n",
    "    'result.f1-score-weighted'\n",
    "]]\n",
    "results['seurat'] = results['seurat'].assign(method='seurat')"
   ]
  },
  {
   "cell_type": "code",
   "execution_count": 68,
   "id": "b33da4ba-da5a-4c40-a490-1c7cc9372276",
   "metadata": {},
   "outputs": [
    {
     "name": "stderr",
     "output_type": "stream",
     "text": [
      "<ipython-input-68-8b4aa49d0626>:2: SettingWithCopyWarning: \n",
      "A value is trying to be set on a copy of a slice from a DataFrame.\n",
      "Try using .loc[row_indexer,col_indexer] = value instead\n",
      "\n",
      "See the caveats in the documentation: https://pandas.pydata.org/pandas-docs/stable/user_guide/indexing.html#returning-a-view-versus-a-copy\n",
      "  results['symphony'][f'{score}'] = results['symphony']['integration_scores'].apply(\n"
     ]
    }
   ],
   "source": [
    "for score in list(results['symphony']['integration_scores'].iloc[0].columns):\n",
    "    results['symphony'][f'{score}'] = results['symphony']['integration_scores'].apply(\n",
    "        lambda x: x[score]\n",
    "    )\n",
    "results['symphony'].columns = [\n",
    "    f'result.{x}' \n",
    "    if i > 1 \n",
    "    else f'config.{x}'\n",
    "    for i, x \n",
    "    in enumerate(\n",
    "        results['symphony'].columns\n",
    "    )\n",
    "]\n",
    "results['symphony'] = results['symphony'][[\n",
    "    'config.data',\n",
    "    'result.ebm',\n",
    "    'result.knn',\n",
    "]]\n",
    "results['symphony'] = results['symphony'].assign(method='symphony')"
   ]
  },
  {
   "cell_type": "code",
   "execution_count": 69,
   "id": "86f5a616-e1f8-45c7-803d-0f692440542e",
   "metadata": {},
   "outputs": [],
   "source": [
    "results = pd.concat(results.values())"
   ]
  },
  {
   "cell_type": "markdown",
   "id": "ed9642e8-e2be-41a6-9d27-1a3590f64869",
   "metadata": {},
   "source": [
    "# Visualization"
   ]
  },
  {
   "cell_type": "code",
   "execution_count": 70,
   "id": "ca9aaf58-4c64-46c3-9957-a17b27859a2e",
   "metadata": {},
   "outputs": [],
   "source": [
    "integration_methods = ['scanvi', 'scvi', 'seurat', 'symphony', 'tranvae', 'embedcvae']\n",
    "classification_methods = ['scanvi', 'seurat', 'svm', 'mars', 'tranvae', 'embedcvae']"
   ]
  },
  {
   "cell_type": "code",
   "execution_count": 76,
   "id": "5c2a1f74-6bea-472b-90cd-405cb4680aed",
   "metadata": {},
   "outputs": [
    {
     "data": {
      "text/html": [
       "<div>\n",
       "<style scoped>\n",
       "    .dataframe tbody tr th:only-of-type {\n",
       "        vertical-align: middle;\n",
       "    }\n",
       "\n",
       "    .dataframe tbody tr th {\n",
       "        vertical-align: top;\n",
       "    }\n",
       "\n",
       "    .dataframe thead th {\n",
       "        text-align: right;\n",
       "    }\n",
       "</style>\n",
       "<table border=\"1\" class=\"dataframe\">\n",
       "  <thead>\n",
       "    <tr style=\"text-align: right;\">\n",
       "      <th></th>\n",
       "      <th>config.data</th>\n",
       "      <th>result.reference_time</th>\n",
       "      <th>result.query_time</th>\n",
       "      <th>result.PCR_batch</th>\n",
       "      <th>result.graph_conn</th>\n",
       "      <th>result.ebm</th>\n",
       "      <th>result.knn</th>\n",
       "      <th>result.f1-score-macro</th>\n",
       "      <th>result.f1-score-weighted</th>\n",
       "      <th>method</th>\n",
       "    </tr>\n",
       "  </thead>\n",
       "  <tbody>\n",
       "    <tr>\n",
       "      <th>0</th>\n",
       "      <td>pancreas</td>\n",
       "      <td>343.958084</td>\n",
       "      <td>37.186265</td>\n",
       "      <td>0.673290</td>\n",
       "      <td>0.839503</td>\n",
       "      <td>0.481371</td>\n",
       "      <td>0.880166</td>\n",
       "      <td>0.637686</td>\n",
       "      <td>0.959443</td>\n",
       "      <td>scanvi</td>\n",
       "    </tr>\n",
       "    <tr>\n",
       "      <th>1</th>\n",
       "      <td>pbmc</td>\n",
       "      <td>511.986250</td>\n",
       "      <td>35.446502</td>\n",
       "      <td>0.814409</td>\n",
       "      <td>0.985532</td>\n",
       "      <td>0.488167</td>\n",
       "      <td>0.903543</td>\n",
       "      <td>0.686802</td>\n",
       "      <td>0.893522</td>\n",
       "      <td>scanvi</td>\n",
       "    </tr>\n",
       "    <tr>\n",
       "      <th>2</th>\n",
       "      <td>brain</td>\n",
       "      <td>1030.792785</td>\n",
       "      <td>782.916334</td>\n",
       "      <td>0.000000</td>\n",
       "      <td>0.983772</td>\n",
       "      <td>0.169206</td>\n",
       "      <td>0.921403</td>\n",
       "      <td>0.630583</td>\n",
       "      <td>0.836046</td>\n",
       "      <td>scanvi</td>\n",
       "    </tr>\n",
       "    <tr>\n",
       "      <th>3</th>\n",
       "      <td>scvelo</td>\n",
       "      <td>381.336692</td>\n",
       "      <td>100.982230</td>\n",
       "      <td>0.000000</td>\n",
       "      <td>0.983480</td>\n",
       "      <td>0.514798</td>\n",
       "      <td>0.743141</td>\n",
       "      <td>0.305524</td>\n",
       "      <td>0.397358</td>\n",
       "      <td>scanvi</td>\n",
       "    </tr>\n",
       "    <tr>\n",
       "      <th>4</th>\n",
       "      <td>tumor</td>\n",
       "      <td>1138.518293</td>\n",
       "      <td>689.298029</td>\n",
       "      <td>0.000000</td>\n",
       "      <td>0.757058</td>\n",
       "      <td>0.227003</td>\n",
       "      <td>0.620419</td>\n",
       "      <td>0.281305</td>\n",
       "      <td>0.449389</td>\n",
       "      <td>scanvi</td>\n",
       "    </tr>\n",
       "    <tr>\n",
       "      <th>5</th>\n",
       "      <td>lung</td>\n",
       "      <td>480.391367</td>\n",
       "      <td>130.871448</td>\n",
       "      <td>0.000000</td>\n",
       "      <td>0.809649</td>\n",
       "      <td>0.082713</td>\n",
       "      <td>0.880576</td>\n",
       "      <td>0.404742</td>\n",
       "      <td>0.558878</td>\n",
       "      <td>scanvi</td>\n",
       "    </tr>\n",
       "    <tr>\n",
       "      <th>0</th>\n",
       "      <td>pancreas</td>\n",
       "      <td>305.027829</td>\n",
       "      <td>34.177540</td>\n",
       "      <td>0.739987</td>\n",
       "      <td>0.849049</td>\n",
       "      <td>0.476725</td>\n",
       "      <td>0.859734</td>\n",
       "      <td>NaN</td>\n",
       "      <td>NaN</td>\n",
       "      <td>scvi</td>\n",
       "    </tr>\n",
       "    <tr>\n",
       "      <th>1</th>\n",
       "      <td>pbmc</td>\n",
       "      <td>485.604269</td>\n",
       "      <td>33.067524</td>\n",
       "      <td>0.852156</td>\n",
       "      <td>0.939715</td>\n",
       "      <td>0.487416</td>\n",
       "      <td>0.872595</td>\n",
       "      <td>NaN</td>\n",
       "      <td>NaN</td>\n",
       "      <td>scvi</td>\n",
       "    </tr>\n",
       "    <tr>\n",
       "      <th>2</th>\n",
       "      <td>brain</td>\n",
       "      <td>458.334903</td>\n",
       "      <td>810.245600</td>\n",
       "      <td>0.000000</td>\n",
       "      <td>0.982785</td>\n",
       "      <td>0.154869</td>\n",
       "      <td>0.917096</td>\n",
       "      <td>NaN</td>\n",
       "      <td>NaN</td>\n",
       "      <td>scvi</td>\n",
       "    </tr>\n",
       "    <tr>\n",
       "      <th>3</th>\n",
       "      <td>scvelo</td>\n",
       "      <td>364.298118</td>\n",
       "      <td>94.277753</td>\n",
       "      <td>0.072850</td>\n",
       "      <td>0.982746</td>\n",
       "      <td>0.512711</td>\n",
       "      <td>0.701833</td>\n",
       "      <td>NaN</td>\n",
       "      <td>NaN</td>\n",
       "      <td>scvi</td>\n",
       "    </tr>\n",
       "    <tr>\n",
       "      <th>4</th>\n",
       "      <td>tumor</td>\n",
       "      <td>477.458255</td>\n",
       "      <td>618.550083</td>\n",
       "      <td>0.000000</td>\n",
       "      <td>0.808172</td>\n",
       "      <td>0.192294</td>\n",
       "      <td>0.597222</td>\n",
       "      <td>NaN</td>\n",
       "      <td>NaN</td>\n",
       "      <td>scvi</td>\n",
       "    </tr>\n",
       "    <tr>\n",
       "      <th>5</th>\n",
       "      <td>lung</td>\n",
       "      <td>446.216143</td>\n",
       "      <td>120.256706</td>\n",
       "      <td>0.000000</td>\n",
       "      <td>0.853855</td>\n",
       "      <td>0.068547</td>\n",
       "      <td>0.853698</td>\n",
       "      <td>NaN</td>\n",
       "      <td>NaN</td>\n",
       "      <td>scvi</td>\n",
       "    </tr>\n",
       "    <tr>\n",
       "      <th>0</th>\n",
       "      <td>pancreas</td>\n",
       "      <td>NaN</td>\n",
       "      <td>NaN</td>\n",
       "      <td>NaN</td>\n",
       "      <td>NaN</td>\n",
       "      <td>NaN</td>\n",
       "      <td>NaN</td>\n",
       "      <td>0.941618</td>\n",
       "      <td>0.973401</td>\n",
       "      <td>svm</td>\n",
       "    </tr>\n",
       "    <tr>\n",
       "      <th>1</th>\n",
       "      <td>pbmc</td>\n",
       "      <td>NaN</td>\n",
       "      <td>NaN</td>\n",
       "      <td>NaN</td>\n",
       "      <td>NaN</td>\n",
       "      <td>NaN</td>\n",
       "      <td>NaN</td>\n",
       "      <td>0.871585</td>\n",
       "      <td>0.871369</td>\n",
       "      <td>svm</td>\n",
       "    </tr>\n",
       "    <tr>\n",
       "      <th>2</th>\n",
       "      <td>brain</td>\n",
       "      <td>NaN</td>\n",
       "      <td>NaN</td>\n",
       "      <td>NaN</td>\n",
       "      <td>NaN</td>\n",
       "      <td>NaN</td>\n",
       "      <td>NaN</td>\n",
       "      <td>0.736708</td>\n",
       "      <td>0.850911</td>\n",
       "      <td>svm</td>\n",
       "    </tr>\n",
       "    <tr>\n",
       "      <th>3</th>\n",
       "      <td>scvelo</td>\n",
       "      <td>NaN</td>\n",
       "      <td>NaN</td>\n",
       "      <td>NaN</td>\n",
       "      <td>NaN</td>\n",
       "      <td>NaN</td>\n",
       "      <td>NaN</td>\n",
       "      <td>0.643016</td>\n",
       "      <td>0.808865</td>\n",
       "      <td>svm</td>\n",
       "    </tr>\n",
       "    <tr>\n",
       "      <th>4</th>\n",
       "      <td>tumor</td>\n",
       "      <td>NaN</td>\n",
       "      <td>NaN</td>\n",
       "      <td>NaN</td>\n",
       "      <td>NaN</td>\n",
       "      <td>NaN</td>\n",
       "      <td>NaN</td>\n",
       "      <td>0.574726</td>\n",
       "      <td>0.578521</td>\n",
       "      <td>svm</td>\n",
       "    </tr>\n",
       "    <tr>\n",
       "      <th>5</th>\n",
       "      <td>lung</td>\n",
       "      <td>NaN</td>\n",
       "      <td>NaN</td>\n",
       "      <td>NaN</td>\n",
       "      <td>NaN</td>\n",
       "      <td>NaN</td>\n",
       "      <td>NaN</td>\n",
       "      <td>0.628137</td>\n",
       "      <td>0.688975</td>\n",
       "      <td>svm</td>\n",
       "    </tr>\n",
       "    <tr>\n",
       "      <th>0</th>\n",
       "      <td>pancreas</td>\n",
       "      <td>NaN</td>\n",
       "      <td>NaN</td>\n",
       "      <td>NaN</td>\n",
       "      <td>NaN</td>\n",
       "      <td>NaN</td>\n",
       "      <td>NaN</td>\n",
       "      <td>0.166773</td>\n",
       "      <td>0.295439</td>\n",
       "      <td>mars</td>\n",
       "    </tr>\n",
       "    <tr>\n",
       "      <th>1</th>\n",
       "      <td>pbmc</td>\n",
       "      <td>NaN</td>\n",
       "      <td>NaN</td>\n",
       "      <td>NaN</td>\n",
       "      <td>NaN</td>\n",
       "      <td>NaN</td>\n",
       "      <td>NaN</td>\n",
       "      <td>0.511720</td>\n",
       "      <td>0.541688</td>\n",
       "      <td>mars</td>\n",
       "    </tr>\n",
       "    <tr>\n",
       "      <th>2</th>\n",
       "      <td>scvelo</td>\n",
       "      <td>NaN</td>\n",
       "      <td>NaN</td>\n",
       "      <td>NaN</td>\n",
       "      <td>NaN</td>\n",
       "      <td>NaN</td>\n",
       "      <td>NaN</td>\n",
       "      <td>0.153787</td>\n",
       "      <td>0.268243</td>\n",
       "      <td>mars</td>\n",
       "    </tr>\n",
       "    <tr>\n",
       "      <th>3</th>\n",
       "      <td>tumor</td>\n",
       "      <td>NaN</td>\n",
       "      <td>NaN</td>\n",
       "      <td>NaN</td>\n",
       "      <td>NaN</td>\n",
       "      <td>NaN</td>\n",
       "      <td>NaN</td>\n",
       "      <td>0.159064</td>\n",
       "      <td>0.154138</td>\n",
       "      <td>mars</td>\n",
       "    </tr>\n",
       "    <tr>\n",
       "      <th>4</th>\n",
       "      <td>lung</td>\n",
       "      <td>NaN</td>\n",
       "      <td>NaN</td>\n",
       "      <td>NaN</td>\n",
       "      <td>NaN</td>\n",
       "      <td>NaN</td>\n",
       "      <td>NaN</td>\n",
       "      <td>0.494019</td>\n",
       "      <td>0.519340</td>\n",
       "      <td>mars</td>\n",
       "    </tr>\n",
       "    <tr>\n",
       "      <th>0</th>\n",
       "      <td>brain</td>\n",
       "      <td>NaN</td>\n",
       "      <td>NaN</td>\n",
       "      <td>NaN</td>\n",
       "      <td>NaN</td>\n",
       "      <td>0.294018</td>\n",
       "      <td>0.907351</td>\n",
       "      <td>0.798530</td>\n",
       "      <td>0.877767</td>\n",
       "      <td>tranvae</td>\n",
       "    </tr>\n",
       "    <tr>\n",
       "      <th>1</th>\n",
       "      <td>lung</td>\n",
       "      <td>NaN</td>\n",
       "      <td>NaN</td>\n",
       "      <td>NaN</td>\n",
       "      <td>NaN</td>\n",
       "      <td>0.078674</td>\n",
       "      <td>0.903096</td>\n",
       "      <td>0.627447</td>\n",
       "      <td>0.753090</td>\n",
       "      <td>tranvae</td>\n",
       "    </tr>\n",
       "    <tr>\n",
       "      <th>2</th>\n",
       "      <td>pancreas</td>\n",
       "      <td>NaN</td>\n",
       "      <td>NaN</td>\n",
       "      <td>NaN</td>\n",
       "      <td>NaN</td>\n",
       "      <td>0.490590</td>\n",
       "      <td>0.938338</td>\n",
       "      <td>0.958055</td>\n",
       "      <td>0.975328</td>\n",
       "      <td>tranvae</td>\n",
       "    </tr>\n",
       "    <tr>\n",
       "      <th>3</th>\n",
       "      <td>pbmc</td>\n",
       "      <td>NaN</td>\n",
       "      <td>NaN</td>\n",
       "      <td>NaN</td>\n",
       "      <td>NaN</td>\n",
       "      <td>0.328410</td>\n",
       "      <td>0.920521</td>\n",
       "      <td>0.659510</td>\n",
       "      <td>0.894720</td>\n",
       "      <td>tranvae</td>\n",
       "    </tr>\n",
       "    <tr>\n",
       "      <th>4</th>\n",
       "      <td>scvelo</td>\n",
       "      <td>NaN</td>\n",
       "      <td>NaN</td>\n",
       "      <td>NaN</td>\n",
       "      <td>NaN</td>\n",
       "      <td>0.506290</td>\n",
       "      <td>0.712172</td>\n",
       "      <td>0.588386</td>\n",
       "      <td>0.741005</td>\n",
       "      <td>tranvae</td>\n",
       "    </tr>\n",
       "    <tr>\n",
       "      <th>5</th>\n",
       "      <td>tumor</td>\n",
       "      <td>NaN</td>\n",
       "      <td>NaN</td>\n",
       "      <td>NaN</td>\n",
       "      <td>NaN</td>\n",
       "      <td>0.239675</td>\n",
       "      <td>0.642919</td>\n",
       "      <td>0.576769</td>\n",
       "      <td>0.598025</td>\n",
       "      <td>tranvae</td>\n",
       "    </tr>\n",
       "    <tr>\n",
       "      <th>0</th>\n",
       "      <td>brain</td>\n",
       "      <td>NaN</td>\n",
       "      <td>NaN</td>\n",
       "      <td>NaN</td>\n",
       "      <td>NaN</td>\n",
       "      <td>0.128957</td>\n",
       "      <td>0.924082</td>\n",
       "      <td>0.795153</td>\n",
       "      <td>0.873189</td>\n",
       "      <td>embedcvae</td>\n",
       "    </tr>\n",
       "    <tr>\n",
       "      <th>1</th>\n",
       "      <td>lung</td>\n",
       "      <td>NaN</td>\n",
       "      <td>NaN</td>\n",
       "      <td>NaN</td>\n",
       "      <td>NaN</td>\n",
       "      <td>0.073598</td>\n",
       "      <td>0.897697</td>\n",
       "      <td>0.613680</td>\n",
       "      <td>0.826682</td>\n",
       "      <td>embedcvae</td>\n",
       "    </tr>\n",
       "    <tr>\n",
       "      <th>2</th>\n",
       "      <td>pancreas</td>\n",
       "      <td>NaN</td>\n",
       "      <td>NaN</td>\n",
       "      <td>NaN</td>\n",
       "      <td>NaN</td>\n",
       "      <td>0.600069</td>\n",
       "      <td>0.941493</td>\n",
       "      <td>0.881523</td>\n",
       "      <td>0.978269</td>\n",
       "      <td>embedcvae</td>\n",
       "    </tr>\n",
       "    <tr>\n",
       "      <th>3</th>\n",
       "      <td>pbmc</td>\n",
       "      <td>NaN</td>\n",
       "      <td>NaN</td>\n",
       "      <td>NaN</td>\n",
       "      <td>NaN</td>\n",
       "      <td>0.607788</td>\n",
       "      <td>0.956602</td>\n",
       "      <td>0.656675</td>\n",
       "      <td>0.896651</td>\n",
       "      <td>embedcvae</td>\n",
       "    </tr>\n",
       "    <tr>\n",
       "      <th>4</th>\n",
       "      <td>scvelo</td>\n",
       "      <td>NaN</td>\n",
       "      <td>NaN</td>\n",
       "      <td>NaN</td>\n",
       "      <td>NaN</td>\n",
       "      <td>0.495533</td>\n",
       "      <td>0.713717</td>\n",
       "      <td>0.599528</td>\n",
       "      <td>0.749618</td>\n",
       "      <td>embedcvae</td>\n",
       "    </tr>\n",
       "    <tr>\n",
       "      <th>5</th>\n",
       "      <td>tumor</td>\n",
       "      <td>NaN</td>\n",
       "      <td>NaN</td>\n",
       "      <td>NaN</td>\n",
       "      <td>NaN</td>\n",
       "      <td>0.236487</td>\n",
       "      <td>0.638868</td>\n",
       "      <td>0.592606</td>\n",
       "      <td>0.603855</td>\n",
       "      <td>embedcvae</td>\n",
       "    </tr>\n",
       "    <tr>\n",
       "      <th>1</th>\n",
       "      <td>pancreas</td>\n",
       "      <td>NaN</td>\n",
       "      <td>NaN</td>\n",
       "      <td>NaN</td>\n",
       "      <td>NaN</td>\n",
       "      <td>0.511797</td>\n",
       "      <td>0.874351</td>\n",
       "      <td>0.898567</td>\n",
       "      <td>0.966536</td>\n",
       "      <td>seurat</td>\n",
       "    </tr>\n",
       "    <tr>\n",
       "      <th>3</th>\n",
       "      <td>pbmc</td>\n",
       "      <td>NaN</td>\n",
       "      <td>NaN</td>\n",
       "      <td>NaN</td>\n",
       "      <td>NaN</td>\n",
       "      <td>0.483270</td>\n",
       "      <td>0.848164</td>\n",
       "      <td>0.618890</td>\n",
       "      <td>0.845350</td>\n",
       "      <td>seurat</td>\n",
       "    </tr>\n",
       "    <tr>\n",
       "      <th>5</th>\n",
       "      <td>scvelo</td>\n",
       "      <td>NaN</td>\n",
       "      <td>NaN</td>\n",
       "      <td>NaN</td>\n",
       "      <td>NaN</td>\n",
       "      <td>0.582890</td>\n",
       "      <td>0.694040</td>\n",
       "      <td>0.549169</td>\n",
       "      <td>0.718111</td>\n",
       "      <td>seurat</td>\n",
       "    </tr>\n",
       "    <tr>\n",
       "      <th>7</th>\n",
       "      <td>lung</td>\n",
       "      <td>NaN</td>\n",
       "      <td>NaN</td>\n",
       "      <td>NaN</td>\n",
       "      <td>NaN</td>\n",
       "      <td>0.150534</td>\n",
       "      <td>0.826236</td>\n",
       "      <td>0.554041</td>\n",
       "      <td>0.580921</td>\n",
       "      <td>seurat</td>\n",
       "    </tr>\n",
       "    <tr>\n",
       "      <th>9</th>\n",
       "      <td>tumor</td>\n",
       "      <td>NaN</td>\n",
       "      <td>NaN</td>\n",
       "      <td>NaN</td>\n",
       "      <td>NaN</td>\n",
       "      <td>0.369490</td>\n",
       "      <td>0.593028</td>\n",
       "      <td>0.547613</td>\n",
       "      <td>0.531304</td>\n",
       "      <td>seurat</td>\n",
       "    </tr>\n",
       "    <tr>\n",
       "      <th>11</th>\n",
       "      <td>brain</td>\n",
       "      <td>NaN</td>\n",
       "      <td>NaN</td>\n",
       "      <td>NaN</td>\n",
       "      <td>NaN</td>\n",
       "      <td>0.169152</td>\n",
       "      <td>0.915573</td>\n",
       "      <td>0.654410</td>\n",
       "      <td>0.775595</td>\n",
       "      <td>seurat</td>\n",
       "    </tr>\n",
       "    <tr>\n",
       "      <th>0</th>\n",
       "      <td>pancreas</td>\n",
       "      <td>NaN</td>\n",
       "      <td>NaN</td>\n",
       "      <td>NaN</td>\n",
       "      <td>NaN</td>\n",
       "      <td>0.614438</td>\n",
       "      <td>0.832220</td>\n",
       "      <td>NaN</td>\n",
       "      <td>NaN</td>\n",
       "      <td>symphony</td>\n",
       "    </tr>\n",
       "    <tr>\n",
       "      <th>2</th>\n",
       "      <td>pbmc</td>\n",
       "      <td>NaN</td>\n",
       "      <td>NaN</td>\n",
       "      <td>NaN</td>\n",
       "      <td>NaN</td>\n",
       "      <td>0.549288</td>\n",
       "      <td>0.820770</td>\n",
       "      <td>NaN</td>\n",
       "      <td>NaN</td>\n",
       "      <td>symphony</td>\n",
       "    </tr>\n",
       "    <tr>\n",
       "      <th>4</th>\n",
       "      <td>scvelo</td>\n",
       "      <td>NaN</td>\n",
       "      <td>NaN</td>\n",
       "      <td>NaN</td>\n",
       "      <td>NaN</td>\n",
       "      <td>0.584162</td>\n",
       "      <td>0.713176</td>\n",
       "      <td>NaN</td>\n",
       "      <td>NaN</td>\n",
       "      <td>symphony</td>\n",
       "    </tr>\n",
       "    <tr>\n",
       "      <th>6</th>\n",
       "      <td>lung</td>\n",
       "      <td>NaN</td>\n",
       "      <td>NaN</td>\n",
       "      <td>NaN</td>\n",
       "      <td>NaN</td>\n",
       "      <td>0.226990</td>\n",
       "      <td>0.834298</td>\n",
       "      <td>NaN</td>\n",
       "      <td>NaN</td>\n",
       "      <td>symphony</td>\n",
       "    </tr>\n",
       "    <tr>\n",
       "      <th>8</th>\n",
       "      <td>tumor</td>\n",
       "      <td>NaN</td>\n",
       "      <td>NaN</td>\n",
       "      <td>NaN</td>\n",
       "      <td>NaN</td>\n",
       "      <td>0.363384</td>\n",
       "      <td>0.588396</td>\n",
       "      <td>NaN</td>\n",
       "      <td>NaN</td>\n",
       "      <td>symphony</td>\n",
       "    </tr>\n",
       "    <tr>\n",
       "      <th>10</th>\n",
       "      <td>brain</td>\n",
       "      <td>NaN</td>\n",
       "      <td>NaN</td>\n",
       "      <td>NaN</td>\n",
       "      <td>NaN</td>\n",
       "      <td>0.274561</td>\n",
       "      <td>0.900781</td>\n",
       "      <td>NaN</td>\n",
       "      <td>NaN</td>\n",
       "      <td>symphony</td>\n",
       "    </tr>\n",
       "  </tbody>\n",
       "</table>\n",
       "</div>"
      ],
      "text/plain": [
       "   config.data  result.reference_time  result.query_time  result.PCR_batch  \\\n",
       "0     pancreas             343.958084          37.186265          0.673290   \n",
       "1         pbmc             511.986250          35.446502          0.814409   \n",
       "2        brain            1030.792785         782.916334          0.000000   \n",
       "3       scvelo             381.336692         100.982230          0.000000   \n",
       "4        tumor            1138.518293         689.298029          0.000000   \n",
       "5         lung             480.391367         130.871448          0.000000   \n",
       "0     pancreas             305.027829          34.177540          0.739987   \n",
       "1         pbmc             485.604269          33.067524          0.852156   \n",
       "2        brain             458.334903         810.245600          0.000000   \n",
       "3       scvelo             364.298118          94.277753          0.072850   \n",
       "4        tumor             477.458255         618.550083          0.000000   \n",
       "5         lung             446.216143         120.256706          0.000000   \n",
       "0     pancreas                    NaN                NaN               NaN   \n",
       "1         pbmc                    NaN                NaN               NaN   \n",
       "2        brain                    NaN                NaN               NaN   \n",
       "3       scvelo                    NaN                NaN               NaN   \n",
       "4        tumor                    NaN                NaN               NaN   \n",
       "5         lung                    NaN                NaN               NaN   \n",
       "0     pancreas                    NaN                NaN               NaN   \n",
       "1         pbmc                    NaN                NaN               NaN   \n",
       "2       scvelo                    NaN                NaN               NaN   \n",
       "3        tumor                    NaN                NaN               NaN   \n",
       "4         lung                    NaN                NaN               NaN   \n",
       "0        brain                    NaN                NaN               NaN   \n",
       "1         lung                    NaN                NaN               NaN   \n",
       "2     pancreas                    NaN                NaN               NaN   \n",
       "3         pbmc                    NaN                NaN               NaN   \n",
       "4       scvelo                    NaN                NaN               NaN   \n",
       "5        tumor                    NaN                NaN               NaN   \n",
       "0        brain                    NaN                NaN               NaN   \n",
       "1         lung                    NaN                NaN               NaN   \n",
       "2     pancreas                    NaN                NaN               NaN   \n",
       "3         pbmc                    NaN                NaN               NaN   \n",
       "4       scvelo                    NaN                NaN               NaN   \n",
       "5        tumor                    NaN                NaN               NaN   \n",
       "1     pancreas                    NaN                NaN               NaN   \n",
       "3         pbmc                    NaN                NaN               NaN   \n",
       "5       scvelo                    NaN                NaN               NaN   \n",
       "7         lung                    NaN                NaN               NaN   \n",
       "9        tumor                    NaN                NaN               NaN   \n",
       "11       brain                    NaN                NaN               NaN   \n",
       "0     pancreas                    NaN                NaN               NaN   \n",
       "2         pbmc                    NaN                NaN               NaN   \n",
       "4       scvelo                    NaN                NaN               NaN   \n",
       "6         lung                    NaN                NaN               NaN   \n",
       "8        tumor                    NaN                NaN               NaN   \n",
       "10       brain                    NaN                NaN               NaN   \n",
       "\n",
       "    result.graph_conn  result.ebm  result.knn  result.f1-score-macro  \\\n",
       "0            0.839503    0.481371    0.880166               0.637686   \n",
       "1            0.985532    0.488167    0.903543               0.686802   \n",
       "2            0.983772    0.169206    0.921403               0.630583   \n",
       "3            0.983480    0.514798    0.743141               0.305524   \n",
       "4            0.757058    0.227003    0.620419               0.281305   \n",
       "5            0.809649    0.082713    0.880576               0.404742   \n",
       "0            0.849049    0.476725    0.859734                    NaN   \n",
       "1            0.939715    0.487416    0.872595                    NaN   \n",
       "2            0.982785    0.154869    0.917096                    NaN   \n",
       "3            0.982746    0.512711    0.701833                    NaN   \n",
       "4            0.808172    0.192294    0.597222                    NaN   \n",
       "5            0.853855    0.068547    0.853698                    NaN   \n",
       "0                 NaN         NaN         NaN               0.941618   \n",
       "1                 NaN         NaN         NaN               0.871585   \n",
       "2                 NaN         NaN         NaN               0.736708   \n",
       "3                 NaN         NaN         NaN               0.643016   \n",
       "4                 NaN         NaN         NaN               0.574726   \n",
       "5                 NaN         NaN         NaN               0.628137   \n",
       "0                 NaN         NaN         NaN               0.166773   \n",
       "1                 NaN         NaN         NaN               0.511720   \n",
       "2                 NaN         NaN         NaN               0.153787   \n",
       "3                 NaN         NaN         NaN               0.159064   \n",
       "4                 NaN         NaN         NaN               0.494019   \n",
       "0                 NaN    0.294018    0.907351               0.798530   \n",
       "1                 NaN    0.078674    0.903096               0.627447   \n",
       "2                 NaN    0.490590    0.938338               0.958055   \n",
       "3                 NaN    0.328410    0.920521               0.659510   \n",
       "4                 NaN    0.506290    0.712172               0.588386   \n",
       "5                 NaN    0.239675    0.642919               0.576769   \n",
       "0                 NaN    0.128957    0.924082               0.795153   \n",
       "1                 NaN    0.073598    0.897697               0.613680   \n",
       "2                 NaN    0.600069    0.941493               0.881523   \n",
       "3                 NaN    0.607788    0.956602               0.656675   \n",
       "4                 NaN    0.495533    0.713717               0.599528   \n",
       "5                 NaN    0.236487    0.638868               0.592606   \n",
       "1                 NaN    0.511797    0.874351               0.898567   \n",
       "3                 NaN    0.483270    0.848164               0.618890   \n",
       "5                 NaN    0.582890    0.694040               0.549169   \n",
       "7                 NaN    0.150534    0.826236               0.554041   \n",
       "9                 NaN    0.369490    0.593028               0.547613   \n",
       "11                NaN    0.169152    0.915573               0.654410   \n",
       "0                 NaN    0.614438    0.832220                    NaN   \n",
       "2                 NaN    0.549288    0.820770                    NaN   \n",
       "4                 NaN    0.584162    0.713176                    NaN   \n",
       "6                 NaN    0.226990    0.834298                    NaN   \n",
       "8                 NaN    0.363384    0.588396                    NaN   \n",
       "10                NaN    0.274561    0.900781                    NaN   \n",
       "\n",
       "    result.f1-score-weighted     method  \n",
       "0                   0.959443     scanvi  \n",
       "1                   0.893522     scanvi  \n",
       "2                   0.836046     scanvi  \n",
       "3                   0.397358     scanvi  \n",
       "4                   0.449389     scanvi  \n",
       "5                   0.558878     scanvi  \n",
       "0                        NaN       scvi  \n",
       "1                        NaN       scvi  \n",
       "2                        NaN       scvi  \n",
       "3                        NaN       scvi  \n",
       "4                        NaN       scvi  \n",
       "5                        NaN       scvi  \n",
       "0                   0.973401        svm  \n",
       "1                   0.871369        svm  \n",
       "2                   0.850911        svm  \n",
       "3                   0.808865        svm  \n",
       "4                   0.578521        svm  \n",
       "5                   0.688975        svm  \n",
       "0                   0.295439       mars  \n",
       "1                   0.541688       mars  \n",
       "2                   0.268243       mars  \n",
       "3                   0.154138       mars  \n",
       "4                   0.519340       mars  \n",
       "0                   0.877767    tranvae  \n",
       "1                   0.753090    tranvae  \n",
       "2                   0.975328    tranvae  \n",
       "3                   0.894720    tranvae  \n",
       "4                   0.741005    tranvae  \n",
       "5                   0.598025    tranvae  \n",
       "0                   0.873189  embedcvae  \n",
       "1                   0.826682  embedcvae  \n",
       "2                   0.978269  embedcvae  \n",
       "3                   0.896651  embedcvae  \n",
       "4                   0.749618  embedcvae  \n",
       "5                   0.603855  embedcvae  \n",
       "1                   0.966536     seurat  \n",
       "3                   0.845350     seurat  \n",
       "5                   0.718111     seurat  \n",
       "7                   0.580921     seurat  \n",
       "9                   0.531304     seurat  \n",
       "11                  0.775595     seurat  \n",
       "0                        NaN   symphony  \n",
       "2                        NaN   symphony  \n",
       "4                        NaN   symphony  \n",
       "6                        NaN   symphony  \n",
       "8                        NaN   symphony  \n",
       "10                       NaN   symphony  "
      ]
     },
     "execution_count": 76,
     "metadata": {},
     "output_type": "execute_result"
    }
   ],
   "source": [
    "results"
   ]
  },
  {
   "cell_type": "code",
   "execution_count": 71,
   "id": "f362b355-e374-44cf-82d3-35f2b1981e28",
   "metadata": {},
   "outputs": [
    {
     "data": {
      "text/plain": [
       "<matplotlib.legend.Legend at 0x7f03685808b0>"
      ]
     },
     "execution_count": 71,
     "metadata": {},
     "output_type": "execute_result"
    },
    {
     "data": {
      "image/png": "[encoded data removed]",
      "text/plain": [
       "<Figure size 432x288 with 1 Axes>"
      ]
     },
     "metadata": {
      "needs_background": "light"
     },
     "output_type": "display_data"
    }
   ],
   "source": [
    "sns.barplot(\n",
    "    x='config.data', \n",
    "    y='result.ebm', \n",
    "    hue='method', \n",
    "    data=results[results['method'].isin(integration_methods)]\n",
    ")\n",
    "plt.legend(bbox_to_anchor=(1.05, 1), loc=2, borderaxespad=0.)"
   ]
  },
  {
   "cell_type": "code",
   "execution_count": 77,
   "id": "3bf7b1a4-006a-45ac-820e-1bcdacc0c4f9",
   "metadata": {},
   "outputs": [
    {
     "data": {
      "text/plain": [
       "<matplotlib.legend.Legend at 0x7f036853fc40>"
      ]
     },
     "execution_count": 77,
     "metadata": {},
     "output_type": "execute_result"
    },
    {
     "data": {
      "image/png": "[encoded data removed]",
      "text/plain": [
       "<Figure size 432x288 with 1 Axes>"
      ]
     },
     "metadata": {
      "needs_background": "light"
     },
     "output_type": "display_data"
    }
   ],
   "source": [
    "sns.barplot(\n",
    "    x='config.data', \n",
    "    y='result.graph_conn', \n",
    "    hue='method', \n",
    "    data=results[results['method'].isin(integration_methods)]\n",
    ")\n",
    "plt.legend(bbox_to_anchor=(1.05, 1), loc=2, borderaxespad=0.)"
   ]
  },
  {
   "cell_type": "code",
   "execution_count": 75,
   "id": "7c762f8e-ac9d-4859-ac5d-6355a3f30094",
   "metadata": {},
   "outputs": [
    {
     "data": {
      "text/plain": [
       "<matplotlib.legend.Legend at 0x7f037819e850>"
      ]
     },
     "execution_count": 75,
     "metadata": {},
     "output_type": "execute_result"
    },
    {
     "data": {
      "image/png": "[encoded data removed]",
      "text/plain": [
       "<Figure size 432x288 with 1 Axes>"
      ]
     },
     "metadata": {
      "needs_background": "light"
     },
     "output_type": "display_data"
    }
   ],
   "source": [
    "sns.barplot(\n",
    "    x='config.data', \n",
    "    y='result.knn', \n",
    "    hue='method', \n",
    "    data=results[results['method'].isin(integration_methods)]\n",
    ")\n",
    "plt.ylim([0, 1])\n",
    "sns.despine()\n",
    "plt.legend(bbox_to_anchor=(1.05, 1), loc=2, borderaxespad=0.)"
   ]
  },
  {
   "cell_type": "code",
   "execution_count": 73,
   "id": "91f11792-afd8-4aeb-9fa6-dbb7b37e7174",
   "metadata": {},
   "outputs": [
    {
     "data": {
      "text/plain": [
       "<matplotlib.legend.Legend at 0x7f03780baa00>"
      ]
     },
     "execution_count": 73,
     "metadata": {},
     "output_type": "execute_result"
    },
    {
     "data": {
      "image/png": "[encoded data removed]",
      "text/plain": [
       "<Figure size 432x288 with 1 Axes>"
      ]
     },
     "metadata": {
      "needs_background": "light"
     },
     "output_type": "display_data"
    }
   ],
   "source": [
    "sns.barplot(\n",
    "    x='config.data',\n",
    "    y='result.f1-score-macro',\n",
    "    hue='method',\n",
    "    data=results[results['method'].isin(classification_methods)]\n",
    ")\n",
    "plt.legend(bbox_to_anchor=(1.05, 1), loc=2, borderaxespad=0.)"
   ]
  },
  {
   "cell_type": "code",
   "execution_count": 74,
   "id": "5dc2a45b-0220-4d0c-9572-3e892a5e04bb",
   "metadata": {},
   "outputs": [
    {
     "data": {
      "text/plain": [
       "<matplotlib.legend.Legend at 0x7f03780c9f70>"
      ]
     },
     "execution_count": 74,
     "metadata": {},
     "output_type": "execute_result"
    },
    {
     "data": {
      "image/png": "[encoded data removed]",
      "text/plain": [
       "<Figure size 432x288 with 1 Axes>"
      ]
     },
     "metadata": {
      "needs_background": "light"
     },
     "output_type": "display_data"
    }
   ],
   "source": [
    "sns.barplot(\n",
    "    x='config.data',\n",
    "    y='result.f1-score-weighted',\n",
    "    hue='method',\n",
    "    data=results[results['method'].isin(classification_methods)]\n",
    ")\n",
    "plt.legend(bbox_to_anchor=(1.05, 1), loc=2, borderaxespad=0.)"
   ]
  },
  {
   "cell_type": "code",
   "execution_count": null,
   "id": "399ca054-1a24-4318-9d72-607be3105b1b",
   "metadata": {},
   "outputs": [],
   "source": []
  }
 ],
 "metadata": {
  "kernelspec": {
   "display_name": "Python 3",
   "language": "python",
   "name": "python3"
  },
  "language_info": {
   "codemirror_mode": {
    "name": "ipython",
    "version": 3
   },
   "file_extension": ".py",
   "mimetype": "text/x-python",
   "name": "python",
   "nbconvert_exporter": "python",
   "pygments_lexer": "ipython3",
   "version": "3.8.0"
  }
 },
 "nbformat": 4,
 "nbformat_minor": 5
}
