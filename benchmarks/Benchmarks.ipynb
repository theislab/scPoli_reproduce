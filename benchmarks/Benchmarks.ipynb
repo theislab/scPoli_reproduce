{
 "cells": [
  {
   "cell_type": "code",
   "execution_count": 137,
   "id": "78b0c5c4-f0bc-4ae1-a960-4b3711979dad",
   "metadata": {},
   "outputs": [],
   "source": [
    "import seml\n",
    "import pandas as pd\n",
    "import scanpy as sc\n",
    "import numpy as np\n",
    "import matplotlib.pyplot as plt\n",
    "import seaborn as sns\n",
    "from lataq.metrics.metrics import metrics\n",
    "from lataq_reproduce.exp_dict import EXPERIMENT_INFO"
   ]
  },
  {
   "cell_type": "markdown",
   "id": "662ade19-3f63-49ba-a99b-f62448aa0fd2",
   "metadata": {},
   "source": [
    "# Get results for SCANVI, SCVI, MARS, SVM"
   ]
  },
  {
   "cell_type": "code",
   "execution_count": 138,
   "id": "4f31f561-5250-4659-973f-eb4cdbec40dc",
   "metadata": {},
   "outputs": [],
   "source": [
    "results = {}"
   ]
  },
  {
   "cell_type": "code",
   "execution_count": 139,
   "id": "baeffefe-6a62-4c0c-90cc-d96238b85e93",
   "metadata": {},
   "outputs": [
    {
     "data": {
      "application/vnd.jupyter.widget-view+json": {
       "model_id": "05e0729269e34b4a8e0f5adbf046a4d3",
       "version_major": 2,
       "version_minor": 0
      },
      "text/plain": [
       "  0%|          | 0/6 [00:00<?, ?it/s]"
      ]
     },
     "metadata": {},
     "output_type": "display_data"
    },
    {
     "data": {
      "application/vnd.jupyter.widget-view+json": {
       "model_id": "d316360d7d21455281b99310ca65c192",
       "version_major": 2,
       "version_minor": 0
      },
      "text/plain": [
       "  0%|          | 0/6 [00:00<?, ?it/s]"
      ]
     },
     "metadata": {},
     "output_type": "display_data"
    },
    {
     "name": "stderr",
     "output_type": "stream",
     "text": [
      "/home/icb/carlo.dedonno/anaconda3/envs/lataq_cuda/lib/python3.8/site-packages/seml/evaluation.py:80: FutureWarning: pandas.io.json.json_normalize is deprecated, use pandas.json_normalize instead\n",
      "  parsed = pd.io.json.json_normalize(parsed, sep='.')\n"
     ]
    }
   ],
   "source": [
    "results['scanvi'] = seml.get_results('scanvi', to_data_frame=True)\n",
    "for score in list(results['scanvi']['result.integration_scores'].loc[0].columns):\n",
    "    results['scanvi'][f'result.{score}'] = results['scanvi']['result.integration_scores'].apply(\n",
    "        lambda x: x[score]\n",
    "    )\n",
    "results['scanvi']['result.f1-score-macro'] = results['scanvi']['result.classification_report_query'].apply(\n",
    "    lambda x: x.loc['macro avg']['f1-score']\n",
    ")\n",
    "results['scanvi']['result.f1-score-weighted'] = results['scanvi']['result.classification_report_query'].apply(\n",
    "    lambda x: x.loc['weighted avg']['f1-score']\n",
    ")\n",
    "results['scanvi'] = results['scanvi'][[\n",
    "    'config.data',\n",
    "    'result.reference_time',\n",
    "    'result.query_time',\n",
    "    'result.NMI_cluster/label',\n",
    "    'result.ARI_cluster/label',\n",
    "    'result.ASW_label',\n",
    "    'result.ASW_label/batch',\n",
    "    'result.PCR_batch',\n",
    "    'result.isolated_label_F1',\n",
    "    'result.isolated_label_silhouette',\n",
    "    'result.graph_conn',\n",
    "    'result.f1-score-macro',\n",
    "    'result.f1-score-weighted'\n",
    "]]\n",
    "results['scanvi'] = results['scanvi'].assign(method='scanvi')"
   ]
  },
  {
   "cell_type": "code",
   "execution_count": 140,
   "id": "c266d9b7-455d-4eb3-8093-29c333307a56",
   "metadata": {},
   "outputs": [
    {
     "data": {
      "application/vnd.jupyter.widget-view+json": {
       "model_id": "c7e4a830492c4e45b41ed13a18636982",
       "version_major": 2,
       "version_minor": 0
      },
      "text/plain": [
       "  0%|          | 0/6 [00:00<?, ?it/s]"
      ]
     },
     "metadata": {},
     "output_type": "display_data"
    },
    {
     "data": {
      "application/vnd.jupyter.widget-view+json": {
       "model_id": "5197252eb287454c8503a1e412788be5",
       "version_major": 2,
       "version_minor": 0
      },
      "text/plain": [
       "  0%|          | 0/6 [00:00<?, ?it/s]"
      ]
     },
     "metadata": {},
     "output_type": "display_data"
    }
   ],
   "source": [
    "results['scvi'] = seml.get_results('scvi', to_data_frame=True)\n",
    "for score in list(results['scvi']['result.integration_scores'].loc[0].columns):\n",
    "    results['scvi'][f'result.{score}'] = results['scvi']['result.integration_scores'].apply(\n",
    "        lambda x: x[score]\n",
    "    )\n",
    "results['scvi'] = results['scvi'][[\n",
    "    'config.data',\n",
    "    'result.reference_time',\n",
    "    'result.query_time',\n",
    "    'result.NMI_cluster/label',\n",
    "    'result.ARI_cluster/label',\n",
    "    'result.ASW_label',\n",
    "    'result.ASW_label/batch',\n",
    "    'result.PCR_batch',\n",
    "    'result.isolated_label_F1',\n",
    "    'result.isolated_label_silhouette',\n",
    "    'result.graph_conn',\n",
    "]]\n",
    "results['scvi'] = results['scvi'].assign(method='scvi')"
   ]
  },
  {
   "cell_type": "code",
   "execution_count": 141,
   "id": "171ee36b-6c10-4d37-b9f5-69a1474abcac",
   "metadata": {},
   "outputs": [
    {
     "data": {
      "application/vnd.jupyter.widget-view+json": {
       "model_id": "fed3b2979cfc4cd09d734b43dbcc0aab",
       "version_major": 2,
       "version_minor": 0
      },
      "text/plain": [
       "  0%|          | 0/6 [00:00<?, ?it/s]"
      ]
     },
     "metadata": {},
     "output_type": "display_data"
    },
    {
     "data": {
      "application/vnd.jupyter.widget-view+json": {
       "model_id": "84fc349354934168bea8bbe4aa9efd4e",
       "version_major": 2,
       "version_minor": 0
      },
      "text/plain": [
       "  0%|          | 0/6 [00:00<?, ?it/s]"
      ]
     },
     "metadata": {},
     "output_type": "display_data"
    }
   ],
   "source": [
    "results['svm'] = seml.get_results('svm', to_data_frame=True)\n",
    "results['svm']['result.f1-score-macro'] = results['svm']['result'].apply(\n",
    "    lambda x: x.loc['macro avg']['f1-score']\n",
    ")\n",
    "results['svm']['result.f1-score-weighted'] = results['svm']['result'].apply(\n",
    "    lambda x: x.loc['weighted avg']['f1-score']\n",
    ")\n",
    "results['svm'] = results['svm'][[\n",
    "    'config.data',\n",
    "    'result.f1-score-macro',\n",
    "    'result.f1-score-weighted'\n",
    "]]\n",
    "results['svm'] = results['svm'].assign(method='svm')"
   ]
  },
  {
   "cell_type": "code",
   "execution_count": 142,
   "id": "144afec2-d6d9-4004-94ff-4bfa0c7dc256",
   "metadata": {},
   "outputs": [
    {
     "data": {
      "application/vnd.jupyter.widget-view+json": {
       "model_id": "71a8046991cb467483a13cad24c257e3",
       "version_major": 2,
       "version_minor": 0
      },
      "text/plain": [
       "  0%|          | 0/6 [00:00<?, ?it/s]"
      ]
     },
     "metadata": {},
     "output_type": "display_data"
    },
    {
     "data": {
      "application/vnd.jupyter.widget-view+json": {
       "model_id": "4e1557fb7d614dccb2d28388bf95009e",
       "version_major": 2,
       "version_minor": 0
      },
      "text/plain": [
       "  0%|          | 0/6 [00:00<?, ?it/s]"
      ]
     },
     "metadata": {},
     "output_type": "display_data"
    },
    {
     "data": {
      "application/vnd.jupyter.widget-view+json": {
       "model_id": "724050a709684eecbc24fcd4b72a7653",
       "version_major": 2,
       "version_minor": 0
      },
      "text/plain": [
       "  0%|          | 0/6 [00:00<?, ?it/s]"
      ]
     },
     "metadata": {},
     "output_type": "display_data"
    },
    {
     "data": {
      "application/vnd.jupyter.widget-view+json": {
       "model_id": "d3a4f162ffc847878d9372546d912f39",
       "version_major": 2,
       "version_minor": 0
      },
      "text/plain": [
       "  0%|          | 0/6 [00:00<?, ?it/s]"
      ]
     },
     "metadata": {},
     "output_type": "display_data"
    }
   ],
   "source": [
    "results['mars'] = seml.get_results('mars', to_data_frame=True).set_index('config.data')\n",
    "results['mars']['result.integration_scores'] = seml.get_results(\n",
    "    'mars_metrics', \n",
    "    to_data_frame=True).set_index('config.data')['result.integration_scores']\n",
    "for score in list(results['mars']['result.integration_scores'].iloc[0].columns):\n",
    "    results['mars'][f'result.{score}'] = results['mars']['result.integration_scores'].apply(\n",
    "        lambda x: x[score]\n",
    "    )\n",
    "results['mars']['result.f1-score-macro'] = results['mars']['result.classification_report_query'].apply(\n",
    "    lambda x: x.loc['macro avg']['f1-score']\n",
    ")\n",
    "results['mars']['result.f1-score-weighted'] = results['mars']['result.classification_report_query'].apply(\n",
    "    lambda x: x.loc['weighted avg']['f1-score']\n",
    ")\n",
    "results['mars'] = results['mars'].reset_index()\n",
    "results['mars'] = results['mars'][[\n",
    "    'config.data',\n",
    "    'result.reference_time',\n",
    "    'result.NMI_cluster/label',\n",
    "    'result.ARI_cluster/label',\n",
    "    'result.ASW_label',\n",
    "    'result.ASW_label/batch',\n",
    "    'result.PCR_batch',\n",
    "    'result.isolated_label_F1',\n",
    "    'result.isolated_label_silhouette',\n",
    "    'result.graph_conn',\n",
    "    'result.f1-score-macro',\n",
    "    'result.f1-score-weighted'\n",
    "]]\n",
    "results['mars'] = results['mars'].assign(method='mars')"
   ]
  },
  {
   "cell_type": "markdown",
   "id": "48423d18-9c61-4715-a759-9c8b40d2c335",
   "metadata": {},
   "source": [
    "# Get best results from hyperopt"
   ]
  },
  {
   "cell_type": "code",
   "execution_count": 143,
   "id": "ecd9f44e-0f51-4c28-b887-8b9704699e4e",
   "metadata": {},
   "outputs": [
    {
     "data": {
      "application/vnd.jupyter.widget-view+json": {
       "model_id": "4c59b053fcfb40f09d521ff13f342261",
       "version_major": 2,
       "version_minor": 0
      },
      "text/plain": [
       "  0%|          | 0/216 [00:00<?, ?it/s]"
      ]
     },
     "metadata": {},
     "output_type": "display_data"
    },
    {
     "data": {
      "application/vnd.jupyter.widget-view+json": {
       "model_id": "cd4bb70496bf435f96f0d37b672ddd16",
       "version_major": 2,
       "version_minor": 0
      },
      "text/plain": [
       "  0%|          | 0/216 [00:00<?, ?it/s]"
      ]
     },
     "metadata": {},
     "output_type": "display_data"
    }
   ],
   "source": [
    "results_lataq = seml.get_results('hyperparam_embedcvae', to_data_frame=True)"
   ]
  },
  {
   "cell_type": "code",
   "execution_count": 144,
   "id": "1ac77bbf-08cb-42e5-960f-69f8e1c7173b",
   "metadata": {},
   "outputs": [],
   "source": [
    "#results['tranvae'] = results_lataq[results_lataq['config.model']=='tranvae']\n",
    "#for score in list(results['tranvae']['result.integration_scores'].iloc[0].columns):\n",
    "#    results['tranvae'][f'result.{score}'] = results['tranvae']['result.integration_scores'].apply(\n",
    "#        lambda x: x[score]\n",
    "#    )\n",
    "#results['tranvae']['result.f1-score-macro'] = results['tranvae']['result.classification_report_query'].apply(\n",
    "#    lambda x: x.loc['macro avg']['f1-score']\n",
    "#)\n",
    "#results['tranvae']['result.f1-score-weighted'] = results['tranvae']['result.classification_report_query'].apply(\n",
    "#    lambda x: x.loc['weighted avg']['f1-score']\n",
    "#)\n",
    "#results['tranvae'] = results['tranvae'][[\n",
    "#    'config.data',\n",
    "#    'result.ebm',\n",
    "#    'result.knn',\n",
    "#    'result.f1-score-macro',\n",
    "#    'result.f1-score-weighted'\n",
    "#]]\n",
    "#results['tranvae'] = results['tranvae'].assign(method='tranvae')\n",
    "#results['tranvae'] = (\n",
    "#    results['tranvae']\n",
    "#    .sort_values(by='result.f1-score-weighted')\n",
    "#    .groupby('config.data')\n",
    "#    .last()\n",
    "#    .reset_index()\n",
    "#)"
   ]
  },
  {
   "cell_type": "code",
   "execution_count": 145,
   "id": "dd968ede-8103-4db7-873c-c6b0a02ea35d",
   "metadata": {},
   "outputs": [],
   "source": [
    "get = 'classification'\n",
    "\n",
    "results['embedcvae'] = results_lataq[results_lataq['config.model']=='embedcvae']\n",
    "for score in list(results['embedcvae']['result.integration_scores'].iloc[0].columns):\n",
    "    results['embedcvae'][f'result.{score}'] = results['embedcvae']['result.integration_scores'].apply(\n",
    "        lambda x: x[score]\n",
    "    )\n",
    "results['embedcvae']['result.f1-score-macro'] = results['embedcvae']['result.classification_report_query'].apply(\n",
    "    lambda x: x.loc['macro avg']['f1-score']\n",
    ")\n",
    "results['embedcvae']['result.f1-score-weighted'] = results['embedcvae']['result.classification_report_query'].apply(\n",
    "    lambda x: x.loc['weighted avg']['f1-score']\n",
    ")\n",
    "\n",
    "if get == 'integration':\n",
    "    results['embedcvae']['integration_scores_mean'] = results['embedcvae'][[\n",
    "        'result.NMI_cluster/label',\n",
    "        'result.ARI_cluster/label',\n",
    "        'result.ASW_label',\n",
    "        'result.ASW_label/batch',\n",
    "        'result.PCR_batch',\n",
    "        'result.isolated_label_F1',\n",
    "        'result.isolated_label_silhouette',\n",
    "        'result.graph_conn',\n",
    "    ]].mean(axis=1)\n",
    "    results['embedcvae'] = (\n",
    "        results['embedcvae']\n",
    "        .sort_values(by='integration_scores_mean')\n",
    "        .groupby('config.data')\n",
    "        .last()\n",
    "        .reset_index()\n",
    "    )\n",
    "elif get == 'classification':\n",
    "    results['embedcvae'] = (\n",
    "        results['embedcvae']\n",
    "        .sort_values(by='result.f1-score-macro')\n",
    "        .groupby('config.data')\n",
    "        .last()\n",
    "        .reset_index()\n",
    "    )\n",
    "results['embedcvae'] = results['embedcvae'][[\n",
    "    'config.data',\n",
    "    'result.NMI_cluster/label',\n",
    "    'result.ARI_cluster/label',\n",
    "    'result.ASW_label',\n",
    "    'result.ASW_label/batch',\n",
    "    'result.PCR_batch',\n",
    "    'result.isolated_label_F1',\n",
    "    'result.isolated_label_silhouette',\n",
    "    'result.graph_conn',\n",
    "    'result.f1-score-macro',\n",
    "    'result.f1-score-weighted'\n",
    "]]\n",
    "results['embedcvae'] = results['embedcvae'].assign(method='embedcvae')\n"
   ]
  },
  {
   "cell_type": "markdown",
   "id": "03f8108c-ad4f-480a-8208-d6103fbfe8d6",
   "metadata": {},
   "source": [
    "# Get results for symphony and seurat"
   ]
  },
  {
   "cell_type": "code",
   "execution_count": 146,
   "id": "e23bad9e-85bc-456c-b743-e6c71886c950",
   "metadata": {},
   "outputs": [],
   "source": [
    "r_scores = pd.read_pickle('seurat/result_seurat_symphony.pickle')\n"
   ]
  },
  {
   "cell_type": "code",
   "execution_count": 147,
   "id": "472d86f7-51eb-4646-9206-79ba7b5e316f",
   "metadata": {},
   "outputs": [],
   "source": [
    "r_scores['method'][~r_scores['classification_report'].isna()] = 'seurat'"
   ]
  },
  {
   "cell_type": "code",
   "execution_count": 148,
   "id": "d1624ca0-3576-4ce2-93fa-a51edde21a6d",
   "metadata": {},
   "outputs": [],
   "source": [
    "results['seurat'] = r_scores[r_scores['method'] == 'seurat']\n",
    "results['symphony'] = r_scores[r_scores['method'] == 'symphony']"
   ]
  },
  {
   "cell_type": "code",
   "execution_count": 149,
   "id": "05788a7c-dba8-46c1-86f7-bf7e06f1e001",
   "metadata": {},
   "outputs": [
    {
     "name": "stderr",
     "output_type": "stream",
     "text": [
      "<ipython-input-149-5403c03ac93d>:2: SettingWithCopyWarning: \n",
      "A value is trying to be set on a copy of a slice from a DataFrame.\n",
      "Try using .loc[row_indexer,col_indexer] = value instead\n",
      "\n",
      "See the caveats in the documentation: https://pandas.pydata.org/pandas-docs/stable/user_guide/indexing.html#returning-a-view-versus-a-copy\n",
      "  results['seurat'][f'{score}'] = results['seurat']['integration_scores'].apply(\n",
      "<ipython-input-149-5403c03ac93d>:5: SettingWithCopyWarning: \n",
      "A value is trying to be set on a copy of a slice from a DataFrame.\n",
      "Try using .loc[row_indexer,col_indexer] = value instead\n",
      "\n",
      "See the caveats in the documentation: https://pandas.pydata.org/pandas-docs/stable/user_guide/indexing.html#returning-a-view-versus-a-copy\n",
      "  results['seurat']['f1-score-macro'] = results['seurat']['classification_report_query'].apply(\n",
      "<ipython-input-149-5403c03ac93d>:8: SettingWithCopyWarning: \n",
      "A value is trying to be set on a copy of a slice from a DataFrame.\n",
      "Try using .loc[row_indexer,col_indexer] = value instead\n",
      "\n",
      "See the caveats in the documentation: https://pandas.pydata.org/pandas-docs/stable/user_guide/indexing.html#returning-a-view-versus-a-copy\n",
      "  results['seurat']['f1-score-weighted'] = results['seurat']['classification_report_query'].apply(\n"
     ]
    }
   ],
   "source": [
    "for score in list(results['seurat']['integration_scores'].iloc[0].columns):\n",
    "    results['seurat'][f'{score}'] = results['seurat']['integration_scores'].apply(\n",
    "        lambda x: x[score]\n",
    "    )\n",
    "results['seurat']['f1-score-macro'] = results['seurat']['classification_report_query'].apply(\n",
    "    lambda x: x.loc['macro avg']['f1-score']\n",
    ")\n",
    "results['seurat']['f1-score-weighted'] = results['seurat']['classification_report_query'].apply(\n",
    "    lambda x: x.loc['weighted avg']['f1-score']\n",
    ")\n",
    "results['seurat'].columns = [\n",
    "    f'result.{x}' \n",
    "    if i > 1 \n",
    "    else f'config.{x}'\n",
    "    for i, x \n",
    "    in enumerate(\n",
    "        results['seurat'].columns\n",
    "    )\n",
    "]\n",
    "results['seurat'] = results['seurat'][[\n",
    "    'config.data',\n",
    "    'result.NMI_cluster/label',\n",
    "    'result.ARI_cluster/label',\n",
    "    'result.ASW_label',\n",
    "    'result.ASW_label/batch',\n",
    "    'result.PCR_batch',\n",
    "    'result.isolated_label_F1',\n",
    "    'result.isolated_label_silhouette',\n",
    "    'result.graph_conn',\n",
    "    'result.f1-score-macro',\n",
    "    'result.f1-score-weighted'\n",
    "]]\n",
    "results['seurat'] = results['seurat'].assign(method='seurat')"
   ]
  },
  {
   "cell_type": "code",
   "execution_count": 150,
   "id": "b33da4ba-da5a-4c40-a490-1c7cc9372276",
   "metadata": {},
   "outputs": [
    {
     "name": "stderr",
     "output_type": "stream",
     "text": [
      "<ipython-input-150-e4811c48a5a5>:2: SettingWithCopyWarning: \n",
      "A value is trying to be set on a copy of a slice from a DataFrame.\n",
      "Try using .loc[row_indexer,col_indexer] = value instead\n",
      "\n",
      "See the caveats in the documentation: https://pandas.pydata.org/pandas-docs/stable/user_guide/indexing.html#returning-a-view-versus-a-copy\n",
      "  results['symphony'][f'{score}'] = results['symphony']['integration_scores'].apply(\n"
     ]
    }
   ],
   "source": [
    "for score in list(results['symphony']['integration_scores'].iloc[0].columns):\n",
    "    results['symphony'][f'{score}'] = results['symphony']['integration_scores'].apply(\n",
    "        lambda x: x[score]\n",
    "    )\n",
    "results['symphony'].columns = [\n",
    "    f'result.{x}' \n",
    "    if i > 1 \n",
    "    else f'config.{x}'\n",
    "    for i, x \n",
    "    in enumerate(\n",
    "        results['symphony'].columns\n",
    "    )\n",
    "]\n",
    "results['symphony'] = results['symphony'][[\n",
    "    'config.data',\n",
    "    'result.NMI_cluster/label',\n",
    "    'result.ARI_cluster/label',\n",
    "    'result.ASW_label',\n",
    "    'result.ASW_label/batch',\n",
    "    'result.PCR_batch',\n",
    "    'result.isolated_label_F1',\n",
    "    'result.isolated_label_silhouette',\n",
    "    'result.graph_conn',\n",
    "    #'result.f1-score-macro',\n",
    "    #'result.f1-score-weighted'\n",
    "]]\n",
    "results['symphony'] = results['symphony'].assign(method='symphony')"
   ]
  },
  {
   "cell_type": "code",
   "execution_count": 151,
   "id": "86f5a616-e1f8-45c7-803d-0f692440542e",
   "metadata": {},
   "outputs": [],
   "source": [
    "results_df = pd.concat(results.values())"
   ]
  },
  {
   "cell_type": "markdown",
   "id": "ed9642e8-e2be-41a6-9d27-1a3590f64869",
   "metadata": {},
   "source": [
    "# Visualization"
   ]
  },
  {
   "cell_type": "code",
   "execution_count": 152,
   "id": "ca9aaf58-4c64-46c3-9957-a17b27859a2e",
   "metadata": {},
   "outputs": [],
   "source": [
    "integration_methods = ['scanvi', 'scvi', 'seurat', 'symphony', 'tranvae', 'embedcvae']\n",
    "classification_methods = ['scanvi', 'seurat', 'svm', 'mars', 'tranvae', 'embedcvae']"
   ]
  },
  {
   "cell_type": "code",
   "execution_count": 153,
   "id": "5c2a1f74-6bea-472b-90cd-405cb4680aed",
   "metadata": {},
   "outputs": [],
   "source": [
    "results_df['integration_scores_mean'] = results_df[[\n",
    "    'result.NMI_cluster/label',\n",
    "    'result.ARI_cluster/label',\n",
    "    'result.ASW_label',\n",
    "    'result.ASW_label/batch',\n",
    "    'result.PCR_batch',\n",
    "    'result.isolated_label_F1',\n",
    "    'result.isolated_label_silhouette',\n",
    "    'result.graph_conn',\n",
    "]].mean(axis=1)"
   ]
  },
  {
   "cell_type": "code",
   "execution_count": 154,
   "id": "572724c6-f4ab-4be1-ac11-3525fa7c0cda",
   "metadata": {},
   "outputs": [],
   "source": [
    "results_melt = pd.melt(results_df, id_vars = ['config.data', 'method'])"
   ]
  },
  {
   "cell_type": "code",
   "execution_count": 155,
   "id": "32223c74-aff1-457c-b0e5-e7f01556daaf",
   "metadata": {},
   "outputs": [],
   "source": [
    "results_melt = results_melt[~results_melt['variable'].str.contains('time')]"
   ]
  },
  {
   "cell_type": "code",
   "execution_count": 156,
   "id": "3e589507-281e-492e-97c2-9018ebdcbf54",
   "metadata": {},
   "outputs": [
    {
     "data": {
      "text/html": [
       "<div>\n",
       "<style scoped>\n",
       "    .dataframe tbody tr th:only-of-type {\n",
       "        vertical-align: middle;\n",
       "    }\n",
       "\n",
       "    .dataframe tbody tr th {\n",
       "        vertical-align: top;\n",
       "    }\n",
       "\n",
       "    .dataframe thead th {\n",
       "        text-align: right;\n",
       "    }\n",
       "</style>\n",
       "<table border=\"1\" class=\"dataframe\">\n",
       "  <thead>\n",
       "    <tr style=\"text-align: right;\">\n",
       "      <th></th>\n",
       "      <th>config.data</th>\n",
       "      <th>method</th>\n",
       "      <th>variable</th>\n",
       "      <th>value</th>\n",
       "    </tr>\n",
       "  </thead>\n",
       "  <tbody>\n",
       "    <tr>\n",
       "      <th>84</th>\n",
       "      <td>pancreas</td>\n",
       "      <td>scanvi</td>\n",
       "      <td>result.NMI_cluster/label</td>\n",
       "      <td>0.925007</td>\n",
       "    </tr>\n",
       "    <tr>\n",
       "      <th>85</th>\n",
       "      <td>pbmc</td>\n",
       "      <td>scanvi</td>\n",
       "      <td>result.NMI_cluster/label</td>\n",
       "      <td>0.886107</td>\n",
       "    </tr>\n",
       "    <tr>\n",
       "      <th>86</th>\n",
       "      <td>brain</td>\n",
       "      <td>scanvi</td>\n",
       "      <td>result.NMI_cluster/label</td>\n",
       "      <td>0.711047</td>\n",
       "    </tr>\n",
       "    <tr>\n",
       "      <th>87</th>\n",
       "      <td>scvelo</td>\n",
       "      <td>scanvi</td>\n",
       "      <td>result.NMI_cluster/label</td>\n",
       "      <td>0.612339</td>\n",
       "    </tr>\n",
       "    <tr>\n",
       "      <th>88</th>\n",
       "      <td>tumor</td>\n",
       "      <td>scanvi</td>\n",
       "      <td>result.NMI_cluster/label</td>\n",
       "      <td>0.474573</td>\n",
       "    </tr>\n",
       "    <tr>\n",
       "      <th>...</th>\n",
       "      <td>...</td>\n",
       "      <td>...</td>\n",
       "      <td>...</td>\n",
       "      <td>...</td>\n",
       "    </tr>\n",
       "    <tr>\n",
       "      <th>541</th>\n",
       "      <td>pbmc</td>\n",
       "      <td>symphony</td>\n",
       "      <td>integration_scores_mean</td>\n",
       "      <td>0.751475</td>\n",
       "    </tr>\n",
       "    <tr>\n",
       "      <th>542</th>\n",
       "      <td>scvelo</td>\n",
       "      <td>symphony</td>\n",
       "      <td>integration_scores_mean</td>\n",
       "      <td>0.542324</td>\n",
       "    </tr>\n",
       "    <tr>\n",
       "      <th>543</th>\n",
       "      <td>lung</td>\n",
       "      <td>symphony</td>\n",
       "      <td>integration_scores_mean</td>\n",
       "      <td>0.613099</td>\n",
       "    </tr>\n",
       "    <tr>\n",
       "      <th>544</th>\n",
       "      <td>tumor</td>\n",
       "      <td>symphony</td>\n",
       "      <td>integration_scores_mean</td>\n",
       "      <td>0.546327</td>\n",
       "    </tr>\n",
       "    <tr>\n",
       "      <th>545</th>\n",
       "      <td>brain</td>\n",
       "      <td>symphony</td>\n",
       "      <td>integration_scores_mean</td>\n",
       "      <td>0.657377</td>\n",
       "    </tr>\n",
       "  </tbody>\n",
       "</table>\n",
       "<p>462 rows × 4 columns</p>\n",
       "</div>"
      ],
      "text/plain": [
       "    config.data    method                  variable     value\n",
       "84     pancreas    scanvi  result.NMI_cluster/label  0.925007\n",
       "85         pbmc    scanvi  result.NMI_cluster/label  0.886107\n",
       "86        brain    scanvi  result.NMI_cluster/label  0.711047\n",
       "87       scvelo    scanvi  result.NMI_cluster/label  0.612339\n",
       "88        tumor    scanvi  result.NMI_cluster/label  0.474573\n",
       "..          ...       ...                       ...       ...\n",
       "541        pbmc  symphony   integration_scores_mean  0.751475\n",
       "542      scvelo  symphony   integration_scores_mean  0.542324\n",
       "543        lung  symphony   integration_scores_mean  0.613099\n",
       "544       tumor  symphony   integration_scores_mean  0.546327\n",
       "545       brain  symphony   integration_scores_mean  0.657377\n",
       "\n",
       "[462 rows x 4 columns]"
      ]
     },
     "execution_count": 156,
     "metadata": {},
     "output_type": "execute_result"
    }
   ],
   "source": [
    "results_melt"
   ]
  },
  {
   "cell_type": "code",
   "execution_count": 157,
   "id": "b44450e9-9556-4f0f-a2e1-838904ada499",
   "metadata": {},
   "outputs": [
    {
     "data": {
      "image/png": "[encoded data removed]",
      "text/plain": [
       "<Figure size 1080x576 with 6 Axes>"
      ]
     },
     "metadata": {
      "needs_background": "light"
     },
     "output_type": "display_data"
    }
   ],
   "source": [
    "fig, ax = plt.subplots(2, 3, figsize=(15, 8), sharex=True)\n",
    "ax = ax.flatten()\n",
    "for i, data in enumerate(\n",
    "    ['pancreas', 'pbmc', 'scvelo', 'brain', 'tumor', 'lung']\n",
    "):\n",
    "    sns.barplot(\n",
    "        x='variable', \n",
    "        y='value',\n",
    "        hue='method',\n",
    "        data=results_melt[\n",
    "            (results_melt['config.data']==data)\n",
    "            & (~results_melt['variable'].str.contains('f1|accuracy', regex=True))\n",
    "        ],\n",
    "        ax=ax[i]\n",
    "    )\n",
    "    if i == 2:\n",
    "        ax[i].legend(bbox_to_anchor=(1.05, 1), loc=2, borderaxespad=0.)\n",
    "    else:\n",
    "        ax[i].legend('')\n",
    "    ax[i].set_xticklabels(ax[i].get_xticklabels(), rotation=90)\n",
    "    ax[i].set_title(data)\n",
    "    sns.despine()\n",
    "fig.tight_layout()"
   ]
  },
  {
   "cell_type": "code",
   "execution_count": 159,
   "id": "5497f3f2-3089-415b-9b5a-a584957f946c",
   "metadata": {},
   "outputs": [
    {
     "data": {
      "image/png": "[encoded data removed]",
      "text/plain": [
       "<Figure size 1080x576 with 6 Axes>"
      ]
     },
     "metadata": {
      "needs_background": "light"
     },
     "output_type": "display_data"
    }
   ],
   "source": [
    "fig, ax = plt.subplots(2, 3, figsize=(15, 8), sharex=True)\n",
    "ax = ax.flatten()\n",
    "for i, data in enumerate(\n",
    "    ['pancreas', 'pbmc', 'scvelo', 'brain', 'tumor', 'lung']\n",
    "):\n",
    "    sns.barplot(\n",
    "        x='variable', \n",
    "        y='value',\n",
    "        hue='method',\n",
    "        data=results_melt[\n",
    "            (results_melt['config.data']==data)\n",
    "            & (results_melt['variable'].str.contains('f1|accuracy', regex=True))\n",
    "        ],\n",
    "        ax=ax[i]\n",
    "    )\n",
    "    if i == 2:\n",
    "        ax[i].legend(bbox_to_anchor=(1.05, 1), loc=2, borderaxespad=0.)\n",
    "    else:\n",
    "        ax[i].legend('')\n",
    "    ax[i].set_xticklabels(ax[i].get_xticklabels(), rotation=90)\n",
    "    ax[i].set_title(data)\n",
    "    sns.despine()\n",
    "fig.tight_layout()"
   ]
  },
  {
   "cell_type": "code",
   "execution_count": 161,
   "id": "91f11792-afd8-4aeb-9fa6-dbb7b37e7174",
   "metadata": {},
   "outputs": [
    {
     "data": {
      "text/plain": [
       "<matplotlib.legend.Legend at 0x7f9c4c452940>"
      ]
     },
     "execution_count": 161,
     "metadata": {},
     "output_type": "execute_result"
    },
    {
     "data": {
      "image/png": "[encoded data removed]",
      "text/plain": [
       "<Figure size 432x288 with 1 Axes>"
      ]
     },
     "metadata": {
      "needs_background": "light"
     },
     "output_type": "display_data"
    }
   ],
   "source": [
    "sns.barplot(\n",
    "    x='config.data',\n",
    "    y='result.f1-score-macro',\n",
    "    hue='method',\n",
    "    data=results_df[results_df['method'].isin(classification_methods)]\n",
    ")\n",
    "plt.legend(bbox_to_anchor=(1.05, 1), loc=2, borderaxespad=0.)"
   ]
  },
  {
   "cell_type": "code",
   "execution_count": 41,
   "id": "5dc2a45b-0220-4d0c-9572-3e892a5e04bb",
   "metadata": {},
   "outputs": [
    {
     "data": {
      "text/plain": [
       "<matplotlib.legend.Legend at 0x7f48242469a0>"
      ]
     },
     "execution_count": 41,
     "metadata": {},
     "output_type": "execute_result"
    },
    {
     "data": {
      "image/png": "[encoded data removed]",
      "text/plain": [
       "<Figure size 432x288 with 1 Axes>"
      ]
     },
     "metadata": {
      "needs_background": "light"
     },
     "output_type": "display_data"
    }
   ],
   "source": [
    "sns.barplot(\n",
    "    x='config.data',\n",
    "    y='result.f1-score-weighted',\n",
    "    hue='method',\n",
    "    data=results[results['method'].isin(classification_methods)]\n",
    ")\n",
    "plt.legend(bbox_to_anchor=(1.05, 1), loc=2, borderaxespad=0.)"
   ]
  },
  {
   "cell_type": "code",
   "execution_count": null,
   "id": "399ca054-1a24-4318-9d72-607be3105b1b",
   "metadata": {},
   "outputs": [],
   "source": []
  }
 ],
 "metadata": {
  "kernelspec": {
   "display_name": "Python 3",
   "language": "python",
   "name": "python3"
  },
  "language_info": {
   "codemirror_mode": {
    "name": "ipython",
    "version": 3
   },
   "file_extension": ".py",
   "mimetype": "text/x-python",
   "name": "python",
   "nbconvert_exporter": "python",
   "pygments_lexer": "ipython3",
   "version": "3.8.0"
  }
 },
 "nbformat": 4,
 "nbformat_minor": 5
}
