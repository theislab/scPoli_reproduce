{
 "cells": [
  {
   "cell_type": "code",
   "execution_count": 1,
   "id": "78b0c5c4-f0bc-4ae1-a960-4b3711979dad",
   "metadata": {},
   "outputs": [
    {
     "name": "stderr",
     "output_type": "stream",
     "text": [
      "/home/icb/carlo.dedonno/anaconda3/envs/lataq_cuda/lib/python3.8/site-packages/seml/database.py:5: TqdmExperimentalWarning: Using `tqdm.autonotebook.tqdm` in notebook mode. Use `tqdm.tqdm` instead to force console mode (e.g. in jupyter console)\n",
      "  from tqdm.autonotebook import tqdm\n"
     ]
    }
   ],
   "source": [
    "import seml\n",
    "import pandas as pd\n",
    "import scanpy as sc\n",
    "import matplotlib.pyplot as plt\n",
    "import seaborn as sns\n",
    "from lataq.metrics.metrics import metrics\n",
    "from lataq_reproduce.exp_dict import EXPERIMENT_INFO"
   ]
  },
  {
   "cell_type": "markdown",
   "id": "662ade19-3f63-49ba-a99b-f62448aa0fd2",
   "metadata": {},
   "source": [
    "# Get results for SCANVI, SCVI, MARS, SVM"
   ]
  },
  {
   "cell_type": "code",
   "execution_count": 34,
   "id": "4f31f561-5250-4659-973f-eb4cdbec40dc",
   "metadata": {},
   "outputs": [],
   "source": [
    "results = {}"
   ]
  },
  {
   "cell_type": "code",
   "execution_count": 37,
   "id": "baeffefe-6a62-4c0c-90cc-d96238b85e93",
   "metadata": {},
   "outputs": [
    {
     "data": {
      "application/vnd.jupyter.widget-view+json": {
       "model_id": "f53b36ebcf964c07891776ccecbb6d0c",
       "version_major": 2,
       "version_minor": 0
      },
      "text/plain": [
       "  0%|          | 0/6 [00:00<?, ?it/s]"
      ]
     },
     "metadata": {},
     "output_type": "display_data"
    },
    {
     "data": {
      "application/vnd.jupyter.widget-view+json": {
       "model_id": "1346442cd7c44b66b94192da05516b0a",
       "version_major": 2,
       "version_minor": 0
      },
      "text/plain": [
       "  0%|          | 0/6 [00:00<?, ?it/s]"
      ]
     },
     "metadata": {},
     "output_type": "display_data"
    },
    {
     "name": "stderr",
     "output_type": "stream",
     "text": [
      "/home/icb/carlo.dedonno/anaconda3/envs/lataq_cuda/lib/python3.8/site-packages/seml/evaluation.py:80: FutureWarning: pandas.io.json.json_normalize is deprecated, use pandas.json_normalize instead\n",
      "  parsed = pd.io.json.json_normalize(parsed, sep='.')\n"
     ]
    }
   ],
   "source": [
    "results['scanvi'] = seml.get_results('scanvi', to_data_frame=True)\n",
    "for score in list(results['scanvi']['result.integration_scores'].loc[0].columns):\n",
    "    results['scanvi'][f'result.{score}'] = results['scanvi']['result.integration_scores'].apply(\n",
    "        lambda x: x[score]\n",
    "    )\n",
    "results['scanvi']['result.f1-score-macro'] = results['scanvi']['result.classification_report'].apply(\n",
    "    lambda x: x.loc['macro avg']['f1-score']\n",
    ")\n",
    "results['scanvi']['result.f1-score-weighted'] = results['scanvi']['result.classification_report'].apply(\n",
    "    lambda x: x.loc['weighted avg']['f1-score']\n",
    ")\n",
    "results['scanvi'] = results['scanvi'][[\n",
    "    'config.data',\n",
    "    'result.reference_time',\n",
    "    'result.query_time',\n",
    "    'result.PCR_batch',\n",
    "    'result.graph_conn',\n",
    "    'result.ebm',\n",
    "    'result.knn',\n",
    "    'result.f1-score-macro',\n",
    "    'result.f1-score-weighted'\n",
    "]]\n",
    "results['scanvi'] = results['scanvi'].assign(method='scanvi')"
   ]
  },
  {
   "cell_type": "code",
   "execution_count": 38,
   "id": "c266d9b7-455d-4eb3-8093-29c333307a56",
   "metadata": {},
   "outputs": [
    {
     "data": {
      "application/vnd.jupyter.widget-view+json": {
       "model_id": "d6f1639898024dda8212d7b36f219f4b",
       "version_major": 2,
       "version_minor": 0
      },
      "text/plain": [
       "  0%|          | 0/6 [00:00<?, ?it/s]"
      ]
     },
     "metadata": {},
     "output_type": "display_data"
    },
    {
     "data": {
      "application/vnd.jupyter.widget-view+json": {
       "model_id": "689b2c526b5f46388f0958a296c36cba",
       "version_major": 2,
       "version_minor": 0
      },
      "text/plain": [
       "  0%|          | 0/6 [00:00<?, ?it/s]"
      ]
     },
     "metadata": {},
     "output_type": "display_data"
    }
   ],
   "source": [
    "results['scvi'] = seml.get_results('scvi', to_data_frame=True)\n",
    "for score in list(results['scvi']['result.integration_scores'].loc[0].columns):\n",
    "    results['scvi'][f'result.{score}'] = results['scvi']['result.integration_scores'].apply(\n",
    "        lambda x: x[score]\n",
    "    )\n",
    "results['scvi'] = results['scvi'][[\n",
    "    'config.data',\n",
    "    'result.reference_time',\n",
    "    'result.query_time',\n",
    "    'result.PCR_batch',\n",
    "    'result.graph_conn',\n",
    "    'result.ebm',\n",
    "    'result.knn',\n",
    "]]\n",
    "results['scvi'] = results['scvi'].assign(method='scvi')"
   ]
  },
  {
   "cell_type": "code",
   "execution_count": 40,
   "id": "5919c7ec-ee86-4e19-af54-3bee25d6b812",
   "metadata": {},
   "outputs": [
    {
     "data": {
      "text/html": [
       "<div>\n",
       "<style scoped>\n",
       "    .dataframe tbody tr th:only-of-type {\n",
       "        vertical-align: middle;\n",
       "    }\n",
       "\n",
       "    .dataframe tbody tr th {\n",
       "        vertical-align: top;\n",
       "    }\n",
       "\n",
       "    .dataframe thead th {\n",
       "        text-align: right;\n",
       "    }\n",
       "</style>\n",
       "<table border=\"1\" class=\"dataframe\">\n",
       "  <thead>\n",
       "    <tr style=\"text-align: right;\">\n",
       "      <th></th>\n",
       "      <th>_id</th>\n",
       "      <th>result</th>\n",
       "      <th>config.overwrite</th>\n",
       "      <th>config.db_collection</th>\n",
       "      <th>config.data</th>\n",
       "      <th>config.seed</th>\n",
       "    </tr>\n",
       "  </thead>\n",
       "  <tbody>\n",
       "    <tr>\n",
       "      <th>0</th>\n",
       "      <td>1</td>\n",
       "      <td>precision    recall  f1-sc...</td>\n",
       "      <td>1</td>\n",
       "      <td>svm</td>\n",
       "      <td>pancreas</td>\n",
       "      <td>382930865</td>\n",
       "    </tr>\n",
       "    <tr>\n",
       "      <th>1</th>\n",
       "      <td>2</td>\n",
       "      <td>precision   ...</td>\n",
       "      <td>2</td>\n",
       "      <td>svm</td>\n",
       "      <td>pbmc</td>\n",
       "      <td>964015630</td>\n",
       "    </tr>\n",
       "    <tr>\n",
       "      <th>2</th>\n",
       "      <td>3</td>\n",
       "      <td>precision    r...</td>\n",
       "      <td>3</td>\n",
       "      <td>svm</td>\n",
       "      <td>brain</td>\n",
       "      <td>234138617</td>\n",
       "    </tr>\n",
       "    <tr>\n",
       "      <th>3</th>\n",
       "      <td>4</td>\n",
       "      <td>precision    recall  f1-score  ...</td>\n",
       "      <td>4</td>\n",
       "      <td>svm</td>\n",
       "      <td>scvelo</td>\n",
       "      <td>97454376</td>\n",
       "    </tr>\n",
       "    <tr>\n",
       "      <th>4</th>\n",
       "      <td>5</td>\n",
       "      <td>preci...</td>\n",
       "      <td>5</td>\n",
       "      <td>svm</td>\n",
       "      <td>tumor</td>\n",
       "      <td>930327869</td>\n",
       "    </tr>\n",
       "    <tr>\n",
       "      <th>5</th>\n",
       "      <td>6</td>\n",
       "      <td>precision    recall  f1-...</td>\n",
       "      <td>6</td>\n",
       "      <td>svm</td>\n",
       "      <td>lung</td>\n",
       "      <td>807274329</td>\n",
       "    </tr>\n",
       "  </tbody>\n",
       "</table>\n",
       "</div>"
      ],
      "text/plain": [
       "   _id                                             result  config.overwrite  \\\n",
       "0    1                      precision    recall  f1-sc...                 1   \n",
       "1    2                                    precision   ...                 2   \n",
       "2    3                                  precision    r...                 3   \n",
       "3    4                 precision    recall  f1-score  ...                 4   \n",
       "4    5                                           preci...                 5   \n",
       "5    6                        precision    recall  f1-...                 6   \n",
       "\n",
       "  config.db_collection config.data  config.seed  \n",
       "0                  svm    pancreas    382930865  \n",
       "1                  svm        pbmc    964015630  \n",
       "2                  svm       brain    234138617  \n",
       "3                  svm      scvelo     97454376  \n",
       "4                  svm       tumor    930327869  \n",
       "5                  svm        lung    807274329  "
      ]
     },
     "execution_count": 40,
     "metadata": {},
     "output_type": "execute_result"
    }
   ],
   "source": [
    "results['svm']"
   ]
  },
  {
   "cell_type": "code",
   "execution_count": 42,
   "id": "171ee36b-6c10-4d37-b9f5-69a1474abcac",
   "metadata": {},
   "outputs": [
    {
     "data": {
      "application/vnd.jupyter.widget-view+json": {
       "model_id": "ff98dcdc84474cc2bd6416caaa6d1e2e",
       "version_major": 2,
       "version_minor": 0
      },
      "text/plain": [
       "  0%|          | 0/6 [00:00<?, ?it/s]"
      ]
     },
     "metadata": {},
     "output_type": "display_data"
    },
    {
     "data": {
      "application/vnd.jupyter.widget-view+json": {
       "model_id": "5ffb54bb62024c8b83796b6c8f4384a3",
       "version_major": 2,
       "version_minor": 0
      },
      "text/plain": [
       "  0%|          | 0/6 [00:00<?, ?it/s]"
      ]
     },
     "metadata": {},
     "output_type": "display_data"
    }
   ],
   "source": [
    "results['svm'] = seml.get_results('svm', to_data_frame=True)\n",
    "results['svm']['result.f1-score-macro'] = results['svm']['result'].apply(\n",
    "    lambda x: x.loc['macro avg']['f1-score']\n",
    ")\n",
    "results['svm']['result.f1-score-weighted'] = results['svm']['result'].apply(\n",
    "    lambda x: x.loc['weighted avg']['f1-score']\n",
    ")\n",
    "results['svm'] = results['svm'][[\n",
    "    'config.data',\n",
    "    'result.f1-score-macro',\n",
    "    'result.f1-score-weighted'\n",
    "]]\n",
    "results['svm'] = results['svm'].assign(method='svm')"
   ]
  },
  {
   "cell_type": "code",
   "execution_count": 45,
   "id": "144afec2-d6d9-4004-94ff-4bfa0c7dc256",
   "metadata": {},
   "outputs": [
    {
     "data": {
      "application/vnd.jupyter.widget-view+json": {
       "model_id": "902dc2eac6fc48ac9ca9290f8015ef9a",
       "version_major": 2,
       "version_minor": 0
      },
      "text/plain": [
       "  0%|          | 0/6 [00:00<?, ?it/s]"
      ]
     },
     "metadata": {},
     "output_type": "display_data"
    },
    {
     "data": {
      "application/vnd.jupyter.widget-view+json": {
       "model_id": "800deac734d54cd09b07bbef7981587c",
       "version_major": 2,
       "version_minor": 0
      },
      "text/plain": [
       "  0%|          | 0/6 [00:00<?, ?it/s]"
      ]
     },
     "metadata": {},
     "output_type": "display_data"
    }
   ],
   "source": [
    "results['mars'] = seml.get_results('mars', to_data_frame=True)\n",
    "results['mars']['result.f1-score-macro'] = results['mars']['result.classification_report'].apply(\n",
    "    lambda x: x.loc['macro avg']['f1-score']\n",
    ")\n",
    "results['mars']['result.f1-score-weighted'] = results['mars']['result.classification_report'].apply(\n",
    "    lambda x: x.loc['weighted avg']['f1-score']\n",
    ")\n",
    "results['mars'] = results['mars'][[\n",
    "    'config.data',\n",
    "    'result.f1-score-macro',\n",
    "    'result.f1-score-weighted'\n",
    "]]\n",
    "results['mars'] = results['mars'].assign(method='mars')"
   ]
  },
  {
   "cell_type": "code",
   "execution_count": 47,
   "id": "36de7dd6-4dad-44ab-9406-5e83667aff60",
   "metadata": {},
   "outputs": [],
   "source": [
    "results = pd.concat(results.values())"
   ]
  },
  {
   "cell_type": "code",
   "execution_count": 48,
   "id": "02ffc3b4-cfc1-4271-b086-ca98ccb425c0",
   "metadata": {},
   "outputs": [
    {
     "data": {
      "text/html": [
       "<div>\n",
       "<style scoped>\n",
       "    .dataframe tbody tr th:only-of-type {\n",
       "        vertical-align: middle;\n",
       "    }\n",
       "\n",
       "    .dataframe tbody tr th {\n",
       "        vertical-align: top;\n",
       "    }\n",
       "\n",
       "    .dataframe thead th {\n",
       "        text-align: right;\n",
       "    }\n",
       "</style>\n",
       "<table border=\"1\" class=\"dataframe\">\n",
       "  <thead>\n",
       "    <tr style=\"text-align: right;\">\n",
       "      <th></th>\n",
       "      <th>config.data</th>\n",
       "      <th>result.reference_time</th>\n",
       "      <th>result.query_time</th>\n",
       "      <th>result.PCR_batch</th>\n",
       "      <th>result.graph_conn</th>\n",
       "      <th>result.ebm</th>\n",
       "      <th>result.knn</th>\n",
       "      <th>result.f1-score-macro</th>\n",
       "      <th>result.f1-score-weighted</th>\n",
       "      <th>method</th>\n",
       "    </tr>\n",
       "  </thead>\n",
       "  <tbody>\n",
       "    <tr>\n",
       "      <th>0</th>\n",
       "      <td>pancreas</td>\n",
       "      <td>321.904196</td>\n",
       "      <td>33.797830</td>\n",
       "      <td>0.673290</td>\n",
       "      <td>0.839503</td>\n",
       "      <td>0.481371</td>\n",
       "      <td>0.880166</td>\n",
       "      <td>0.637686</td>\n",
       "      <td>0.959443</td>\n",
       "      <td>scanvi</td>\n",
       "    </tr>\n",
       "    <tr>\n",
       "      <th>1</th>\n",
       "      <td>pbmc</td>\n",
       "      <td>540.251999</td>\n",
       "      <td>35.882633</td>\n",
       "      <td>0.814409</td>\n",
       "      <td>0.985532</td>\n",
       "      <td>0.488167</td>\n",
       "      <td>0.903543</td>\n",
       "      <td>0.686802</td>\n",
       "      <td>0.893522</td>\n",
       "      <td>scanvi</td>\n",
       "    </tr>\n",
       "    <tr>\n",
       "      <th>2</th>\n",
       "      <td>brain</td>\n",
       "      <td>1020.345757</td>\n",
       "      <td>800.859073</td>\n",
       "      <td>0.000000</td>\n",
       "      <td>0.983772</td>\n",
       "      <td>0.169206</td>\n",
       "      <td>0.921403</td>\n",
       "      <td>0.630583</td>\n",
       "      <td>0.836046</td>\n",
       "      <td>scanvi</td>\n",
       "    </tr>\n",
       "    <tr>\n",
       "      <th>3</th>\n",
       "      <td>scvelo</td>\n",
       "      <td>411.428346</td>\n",
       "      <td>104.406015</td>\n",
       "      <td>0.000000</td>\n",
       "      <td>0.983480</td>\n",
       "      <td>0.514798</td>\n",
       "      <td>0.743141</td>\n",
       "      <td>0.305524</td>\n",
       "      <td>0.397358</td>\n",
       "      <td>scanvi</td>\n",
       "    </tr>\n",
       "    <tr>\n",
       "      <th>4</th>\n",
       "      <td>tumor</td>\n",
       "      <td>1024.703243</td>\n",
       "      <td>612.659147</td>\n",
       "      <td>0.000000</td>\n",
       "      <td>0.757058</td>\n",
       "      <td>0.227003</td>\n",
       "      <td>0.620419</td>\n",
       "      <td>0.281305</td>\n",
       "      <td>0.449389</td>\n",
       "      <td>scanvi</td>\n",
       "    </tr>\n",
       "    <tr>\n",
       "      <th>5</th>\n",
       "      <td>lung</td>\n",
       "      <td>481.070197</td>\n",
       "      <td>132.373925</td>\n",
       "      <td>0.000000</td>\n",
       "      <td>0.809649</td>\n",
       "      <td>0.082713</td>\n",
       "      <td>0.880576</td>\n",
       "      <td>0.404742</td>\n",
       "      <td>0.558878</td>\n",
       "      <td>scanvi</td>\n",
       "    </tr>\n",
       "    <tr>\n",
       "      <th>0</th>\n",
       "      <td>pancreas</td>\n",
       "      <td>305.027829</td>\n",
       "      <td>34.177540</td>\n",
       "      <td>0.739987</td>\n",
       "      <td>0.849049</td>\n",
       "      <td>0.476725</td>\n",
       "      <td>0.859734</td>\n",
       "      <td>NaN</td>\n",
       "      <td>NaN</td>\n",
       "      <td>scvi</td>\n",
       "    </tr>\n",
       "    <tr>\n",
       "      <th>1</th>\n",
       "      <td>pbmc</td>\n",
       "      <td>485.604269</td>\n",
       "      <td>33.067524</td>\n",
       "      <td>0.852156</td>\n",
       "      <td>0.939715</td>\n",
       "      <td>0.487416</td>\n",
       "      <td>0.872595</td>\n",
       "      <td>NaN</td>\n",
       "      <td>NaN</td>\n",
       "      <td>scvi</td>\n",
       "    </tr>\n",
       "    <tr>\n",
       "      <th>2</th>\n",
       "      <td>brain</td>\n",
       "      <td>458.334903</td>\n",
       "      <td>810.245600</td>\n",
       "      <td>0.000000</td>\n",
       "      <td>0.982785</td>\n",
       "      <td>0.154869</td>\n",
       "      <td>0.917096</td>\n",
       "      <td>NaN</td>\n",
       "      <td>NaN</td>\n",
       "      <td>scvi</td>\n",
       "    </tr>\n",
       "    <tr>\n",
       "      <th>3</th>\n",
       "      <td>scvelo</td>\n",
       "      <td>364.298118</td>\n",
       "      <td>94.277753</td>\n",
       "      <td>0.072850</td>\n",
       "      <td>0.982746</td>\n",
       "      <td>0.512711</td>\n",
       "      <td>0.701833</td>\n",
       "      <td>NaN</td>\n",
       "      <td>NaN</td>\n",
       "      <td>scvi</td>\n",
       "    </tr>\n",
       "    <tr>\n",
       "      <th>4</th>\n",
       "      <td>tumor</td>\n",
       "      <td>477.458255</td>\n",
       "      <td>618.550083</td>\n",
       "      <td>0.000000</td>\n",
       "      <td>0.808172</td>\n",
       "      <td>0.192294</td>\n",
       "      <td>0.597222</td>\n",
       "      <td>NaN</td>\n",
       "      <td>NaN</td>\n",
       "      <td>scvi</td>\n",
       "    </tr>\n",
       "    <tr>\n",
       "      <th>5</th>\n",
       "      <td>lung</td>\n",
       "      <td>446.216143</td>\n",
       "      <td>120.256706</td>\n",
       "      <td>0.000000</td>\n",
       "      <td>0.853855</td>\n",
       "      <td>0.068547</td>\n",
       "      <td>0.853698</td>\n",
       "      <td>NaN</td>\n",
       "      <td>NaN</td>\n",
       "      <td>scvi</td>\n",
       "    </tr>\n",
       "    <tr>\n",
       "      <th>0</th>\n",
       "      <td>pancreas</td>\n",
       "      <td>NaN</td>\n",
       "      <td>NaN</td>\n",
       "      <td>NaN</td>\n",
       "      <td>NaN</td>\n",
       "      <td>NaN</td>\n",
       "      <td>NaN</td>\n",
       "      <td>0.941618</td>\n",
       "      <td>0.973401</td>\n",
       "      <td>svm</td>\n",
       "    </tr>\n",
       "    <tr>\n",
       "      <th>1</th>\n",
       "      <td>pbmc</td>\n",
       "      <td>NaN</td>\n",
       "      <td>NaN</td>\n",
       "      <td>NaN</td>\n",
       "      <td>NaN</td>\n",
       "      <td>NaN</td>\n",
       "      <td>NaN</td>\n",
       "      <td>0.871585</td>\n",
       "      <td>0.871369</td>\n",
       "      <td>svm</td>\n",
       "    </tr>\n",
       "    <tr>\n",
       "      <th>2</th>\n",
       "      <td>brain</td>\n",
       "      <td>NaN</td>\n",
       "      <td>NaN</td>\n",
       "      <td>NaN</td>\n",
       "      <td>NaN</td>\n",
       "      <td>NaN</td>\n",
       "      <td>NaN</td>\n",
       "      <td>0.736708</td>\n",
       "      <td>0.850911</td>\n",
       "      <td>svm</td>\n",
       "    </tr>\n",
       "    <tr>\n",
       "      <th>3</th>\n",
       "      <td>scvelo</td>\n",
       "      <td>NaN</td>\n",
       "      <td>NaN</td>\n",
       "      <td>NaN</td>\n",
       "      <td>NaN</td>\n",
       "      <td>NaN</td>\n",
       "      <td>NaN</td>\n",
       "      <td>0.643016</td>\n",
       "      <td>0.808865</td>\n",
       "      <td>svm</td>\n",
       "    </tr>\n",
       "    <tr>\n",
       "      <th>4</th>\n",
       "      <td>tumor</td>\n",
       "      <td>NaN</td>\n",
       "      <td>NaN</td>\n",
       "      <td>NaN</td>\n",
       "      <td>NaN</td>\n",
       "      <td>NaN</td>\n",
       "      <td>NaN</td>\n",
       "      <td>0.574726</td>\n",
       "      <td>0.578521</td>\n",
       "      <td>svm</td>\n",
       "    </tr>\n",
       "    <tr>\n",
       "      <th>5</th>\n",
       "      <td>lung</td>\n",
       "      <td>NaN</td>\n",
       "      <td>NaN</td>\n",
       "      <td>NaN</td>\n",
       "      <td>NaN</td>\n",
       "      <td>NaN</td>\n",
       "      <td>NaN</td>\n",
       "      <td>0.628137</td>\n",
       "      <td>0.688975</td>\n",
       "      <td>svm</td>\n",
       "    </tr>\n",
       "    <tr>\n",
       "      <th>0</th>\n",
       "      <td>pancreas</td>\n",
       "      <td>NaN</td>\n",
       "      <td>NaN</td>\n",
       "      <td>NaN</td>\n",
       "      <td>NaN</td>\n",
       "      <td>NaN</td>\n",
       "      <td>NaN</td>\n",
       "      <td>0.166773</td>\n",
       "      <td>0.295439</td>\n",
       "      <td>mars</td>\n",
       "    </tr>\n",
       "    <tr>\n",
       "      <th>1</th>\n",
       "      <td>pbmc</td>\n",
       "      <td>NaN</td>\n",
       "      <td>NaN</td>\n",
       "      <td>NaN</td>\n",
       "      <td>NaN</td>\n",
       "      <td>NaN</td>\n",
       "      <td>NaN</td>\n",
       "      <td>0.511720</td>\n",
       "      <td>0.541688</td>\n",
       "      <td>mars</td>\n",
       "    </tr>\n",
       "    <tr>\n",
       "      <th>2</th>\n",
       "      <td>brain</td>\n",
       "      <td>NaN</td>\n",
       "      <td>NaN</td>\n",
       "      <td>NaN</td>\n",
       "      <td>NaN</td>\n",
       "      <td>NaN</td>\n",
       "      <td>NaN</td>\n",
       "      <td>0.525688</td>\n",
       "      <td>0.725438</td>\n",
       "      <td>mars</td>\n",
       "    </tr>\n",
       "    <tr>\n",
       "      <th>3</th>\n",
       "      <td>scvelo</td>\n",
       "      <td>NaN</td>\n",
       "      <td>NaN</td>\n",
       "      <td>NaN</td>\n",
       "      <td>NaN</td>\n",
       "      <td>NaN</td>\n",
       "      <td>NaN</td>\n",
       "      <td>0.153787</td>\n",
       "      <td>0.268243</td>\n",
       "      <td>mars</td>\n",
       "    </tr>\n",
       "    <tr>\n",
       "      <th>4</th>\n",
       "      <td>tumor</td>\n",
       "      <td>NaN</td>\n",
       "      <td>NaN</td>\n",
       "      <td>NaN</td>\n",
       "      <td>NaN</td>\n",
       "      <td>NaN</td>\n",
       "      <td>NaN</td>\n",
       "      <td>0.159064</td>\n",
       "      <td>0.154138</td>\n",
       "      <td>mars</td>\n",
       "    </tr>\n",
       "    <tr>\n",
       "      <th>5</th>\n",
       "      <td>lung</td>\n",
       "      <td>NaN</td>\n",
       "      <td>NaN</td>\n",
       "      <td>NaN</td>\n",
       "      <td>NaN</td>\n",
       "      <td>NaN</td>\n",
       "      <td>NaN</td>\n",
       "      <td>0.494019</td>\n",
       "      <td>0.519340</td>\n",
       "      <td>mars</td>\n",
       "    </tr>\n",
       "  </tbody>\n",
       "</table>\n",
       "</div>"
      ],
      "text/plain": [
       "  config.data  result.reference_time  result.query_time  result.PCR_batch  \\\n",
       "0    pancreas             321.904196          33.797830          0.673290   \n",
       "1        pbmc             540.251999          35.882633          0.814409   \n",
       "2       brain            1020.345757         800.859073          0.000000   \n",
       "3      scvelo             411.428346         104.406015          0.000000   \n",
       "4       tumor            1024.703243         612.659147          0.000000   \n",
       "5        lung             481.070197         132.373925          0.000000   \n",
       "0    pancreas             305.027829          34.177540          0.739987   \n",
       "1        pbmc             485.604269          33.067524          0.852156   \n",
       "2       brain             458.334903         810.245600          0.000000   \n",
       "3      scvelo             364.298118          94.277753          0.072850   \n",
       "4       tumor             477.458255         618.550083          0.000000   \n",
       "5        lung             446.216143         120.256706          0.000000   \n",
       "0    pancreas                    NaN                NaN               NaN   \n",
       "1        pbmc                    NaN                NaN               NaN   \n",
       "2       brain                    NaN                NaN               NaN   \n",
       "3      scvelo                    NaN                NaN               NaN   \n",
       "4       tumor                    NaN                NaN               NaN   \n",
       "5        lung                    NaN                NaN               NaN   \n",
       "0    pancreas                    NaN                NaN               NaN   \n",
       "1        pbmc                    NaN                NaN               NaN   \n",
       "2       brain                    NaN                NaN               NaN   \n",
       "3      scvelo                    NaN                NaN               NaN   \n",
       "4       tumor                    NaN                NaN               NaN   \n",
       "5        lung                    NaN                NaN               NaN   \n",
       "\n",
       "   result.graph_conn  result.ebm  result.knn  result.f1-score-macro  \\\n",
       "0           0.839503    0.481371    0.880166               0.637686   \n",
       "1           0.985532    0.488167    0.903543               0.686802   \n",
       "2           0.983772    0.169206    0.921403               0.630583   \n",
       "3           0.983480    0.514798    0.743141               0.305524   \n",
       "4           0.757058    0.227003    0.620419               0.281305   \n",
       "5           0.809649    0.082713    0.880576               0.404742   \n",
       "0           0.849049    0.476725    0.859734                    NaN   \n",
       "1           0.939715    0.487416    0.872595                    NaN   \n",
       "2           0.982785    0.154869    0.917096                    NaN   \n",
       "3           0.982746    0.512711    0.701833                    NaN   \n",
       "4           0.808172    0.192294    0.597222                    NaN   \n",
       "5           0.853855    0.068547    0.853698                    NaN   \n",
       "0                NaN         NaN         NaN               0.941618   \n",
       "1                NaN         NaN         NaN               0.871585   \n",
       "2                NaN         NaN         NaN               0.736708   \n",
       "3                NaN         NaN         NaN               0.643016   \n",
       "4                NaN         NaN         NaN               0.574726   \n",
       "5                NaN         NaN         NaN               0.628137   \n",
       "0                NaN         NaN         NaN               0.166773   \n",
       "1                NaN         NaN         NaN               0.511720   \n",
       "2                NaN         NaN         NaN               0.525688   \n",
       "3                NaN         NaN         NaN               0.153787   \n",
       "4                NaN         NaN         NaN               0.159064   \n",
       "5                NaN         NaN         NaN               0.494019   \n",
       "\n",
       "   result.f1-score-weighted  method  \n",
       "0                  0.959443  scanvi  \n",
       "1                  0.893522  scanvi  \n",
       "2                  0.836046  scanvi  \n",
       "3                  0.397358  scanvi  \n",
       "4                  0.449389  scanvi  \n",
       "5                  0.558878  scanvi  \n",
       "0                       NaN    scvi  \n",
       "1                       NaN    scvi  \n",
       "2                       NaN    scvi  \n",
       "3                       NaN    scvi  \n",
       "4                       NaN    scvi  \n",
       "5                       NaN    scvi  \n",
       "0                  0.973401     svm  \n",
       "1                  0.871369     svm  \n",
       "2                  0.850911     svm  \n",
       "3                  0.808865     svm  \n",
       "4                  0.578521     svm  \n",
       "5                  0.688975     svm  \n",
       "0                  0.295439    mars  \n",
       "1                  0.541688    mars  \n",
       "2                  0.725438    mars  \n",
       "3                  0.268243    mars  \n",
       "4                  0.154138    mars  \n",
       "5                  0.519340    mars  "
      ]
     },
     "execution_count": 48,
     "metadata": {},
     "output_type": "execute_result"
    }
   ],
   "source": [
    "results"
   ]
  },
  {
   "cell_type": "markdown",
   "id": "03f8108c-ad4f-480a-8208-d6103fbfe8d6",
   "metadata": {},
   "source": [
    "# Get results for symphony and seurat"
   ]
  },
  {
   "cell_type": "code",
   "execution_count": 87,
   "id": "00ac2c4e-c0dc-48ee-9237-2b5fd4cea832",
   "metadata": {},
   "outputs": [],
   "source": [
    "r_scores = pd.read_pickle('seurat/scores.pickle')\n",
    "r_scores.reset_index(inplace=True)\n",
    "r_scores = r_scores[r_scores['index'].isin(['PCR_batch', 'graph_conn', 'ebm', 'knn'])]\n",
    "r_scores.columns = ['metric', 'value', 'config.data', 'method']"
   ]
  },
  {
   "cell_type": "code",
   "execution_count": 88,
   "id": "65747d20-b4ac-40b5-b45b-1b50fa5506b0",
   "metadata": {},
   "outputs": [],
   "source": [
    "r_scores = r_scores.pivot(index=['config.data', 'method'], columns='metric', values='value')\n",
    "r_scores.columns = ['result.' + x for x in r_scores.columns]"
   ]
  },
  {
   "cell_type": "code",
   "execution_count": 89,
   "id": "082e5d4b-f87a-440a-abdb-b510e5208693",
   "metadata": {},
   "outputs": [],
   "source": [
    "r_scores.reset_index(inplace=True)"
   ]
  },
  {
   "cell_type": "code",
   "execution_count": 92,
   "id": "00cdd619-d1d2-42bd-ac47-b1020dd4a271",
   "metadata": {},
   "outputs": [],
   "source": [
    "results = pd.concat([results, r_scores])"
   ]
  },
  {
   "cell_type": "markdown",
   "id": "ed9642e8-e2be-41a6-9d27-1a3590f64869",
   "metadata": {},
   "source": [
    "# Visualization"
   ]
  },
  {
   "cell_type": "code",
   "execution_count": 99,
   "id": "ca9aaf58-4c64-46c3-9957-a17b27859a2e",
   "metadata": {},
   "outputs": [],
   "source": [
    "integration_methods = ['scanvi', 'scvi', 'seurat', 'symphony']\n",
    "classification_methods = ['scanvi', 'seurat', 'svm', 'mars']"
   ]
  },
  {
   "cell_type": "code",
   "execution_count": 96,
   "id": "f362b355-e374-44cf-82d3-35f2b1981e28",
   "metadata": {},
   "outputs": [
    {
     "data": {
      "text/plain": [
       "<AxesSubplot:xlabel='config.data', ylabel='result.ebm'>"
      ]
     },
     "execution_count": 96,
     "metadata": {},
     "output_type": "execute_result"
    },
    {
     "data": {
      "image/png": "[encoded data removed]",
      "text/plain": [
       "<Figure size 432x288 with 1 Axes>"
      ]
     },
     "metadata": {
      "needs_background": "light"
     },
     "output_type": "display_data"
    }
   ],
   "source": [
    "sns.barplot(\n",
    "    x='config.data', \n",
    "    y='result.ebm', \n",
    "    hue='method', \n",
    "    data=results[results['method'].isin(integration_methods)]\n",
    ")"
   ]
  },
  {
   "cell_type": "code",
   "execution_count": 102,
   "id": "7c762f8e-ac9d-4859-ac5d-6355a3f30094",
   "metadata": {},
   "outputs": [
    {
     "data": {
      "image/png": "[encoded data removed]",
      "text/plain": [
       "<Figure size 432x288 with 1 Axes>"
      ]
     },
     "metadata": {
      "needs_background": "light"
     },
     "output_type": "display_data"
    }
   ],
   "source": [
    "sns.barplot(\n",
    "    x='config.data', \n",
    "    y='result.knn', \n",
    "    hue='method', \n",
    "    data=results[results['method'].isin(integration_methods)]\n",
    ")\n",
    "plt.ylim([0, 1])\n",
    "sns.despine()"
   ]
  },
  {
   "cell_type": "code",
   "execution_count": 98,
   "id": "f0bb56ef-13dd-4435-b83a-3915af13d578",
   "metadata": {},
   "outputs": [
    {
     "data": {
      "text/plain": [
       "<AxesSubplot:xlabel='config.data', ylabel='result.graph_conn'>"
      ]
     },
     "execution_count": 98,
     "metadata": {},
     "output_type": "execute_result"
    },
    {
     "data": {
      "image/png": "[encoded data removed]",
      "text/plain": [
       "<Figure size 432x288 with 1 Axes>"
      ]
     },
     "metadata": {
      "needs_background": "light"
     },
     "output_type": "display_data"
    }
   ],
   "source": [
    "sns.barplot(\n",
    "    x='config.data', \n",
    "    y='result.graph_conn', \n",
    "    hue='method', \n",
    "    data=results[results['method'].isin(integration_methods)]\n",
    ")"
   ]
  },
  {
   "cell_type": "code",
   "execution_count": 100,
   "id": "91f11792-afd8-4aeb-9fa6-dbb7b37e7174",
   "metadata": {},
   "outputs": [
    {
     "data": {
      "text/plain": [
       "<AxesSubplot:xlabel='config.data', ylabel='result.f1-score-macro'>"
      ]
     },
     "execution_count": 100,
     "metadata": {},
     "output_type": "execute_result"
    },
    {
     "data": {
      "image/png": "[encoded data removed]",
      "text/plain": [
       "<Figure size 432x288 with 1 Axes>"
      ]
     },
     "metadata": {
      "needs_background": "light"
     },
     "output_type": "display_data"
    }
   ],
   "source": [
    "sns.barplot(\n",
    "    x='config.data',\n",
    "    y='result.f1-score-macro',\n",
    "    hue='method',\n",
    "    data=results[results['method'].isin(classification_methods)]\n",
    ")"
   ]
  },
  {
   "cell_type": "code",
   "execution_count": null,
   "id": "5dc2a45b-0220-4d0c-9572-3e892a5e04bb",
   "metadata": {},
   "outputs": [],
   "source": []
  }
 ],
 "metadata": {
  "kernelspec": {
   "display_name": "Python 3",
   "language": "python",
   "name": "python3"
  },
  "language_info": {
   "codemirror_mode": {
    "name": "ipython",
    "version": 3
   },
   "file_extension": ".py",
   "mimetype": "text/x-python",
   "name": "python",
   "nbconvert_exporter": "python",
   "pygments_lexer": "ipython3",
   "version": "3.8.0"
  }
 },
 "nbformat": 4,
 "nbformat_minor": 5
}
