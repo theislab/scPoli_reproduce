{
 "cells": [
  {
   "cell_type": "code",
   "execution_count": 1,
   "id": "78b0c5c4-f0bc-4ae1-a960-4b3711979dad",
   "metadata": {},
   "outputs": [
    {
     "name": "stderr",
     "output_type": "stream",
     "text": [
      "/home/icb/carlo.dedonno/anaconda3/envs/lataq_cuda/lib/python3.8/site-packages/seml/database.py:5: TqdmExperimentalWarning: Using `tqdm.autonotebook.tqdm` in notebook mode. Use `tqdm.tqdm` instead to force console mode (e.g. in jupyter console)\n",
      "  from tqdm.autonotebook import tqdm\n"
     ]
    }
   ],
   "source": [
    "import seml\n",
    "import pandas as pd\n",
    "import scanpy as sc\n",
    "import matplotlib.pyplot as plt\n",
    "import seaborn as sns\n",
    "from lataq.metrics.metrics import metrics\n",
    "from lataq_reproduce.exp_dict import EXPERIMENT_INFO"
   ]
  },
  {
   "cell_type": "code",
   "execution_count": 10,
   "id": "c266d9b7-455d-4eb3-8093-29c333307a56",
   "metadata": {},
   "outputs": [
    {
     "data": {
      "application/vnd.jupyter.widget-view+json": {
       "model_id": "051c2f79be1c4ab481ef0d3fb0630802",
       "version_major": 2,
       "version_minor": 0
      },
      "text/plain": [
       "  0%|          | 0/6 [00:00<?, ?it/s]"
      ]
     },
     "metadata": {},
     "output_type": "display_data"
    },
    {
     "data": {
      "application/vnd.jupyter.widget-view+json": {
       "model_id": "75e6c971419049178713951a189c1334",
       "version_major": 2,
       "version_minor": 0
      },
      "text/plain": [
       "  0%|          | 0/6 [00:00<?, ?it/s]"
      ]
     },
     "metadata": {},
     "output_type": "display_data"
    },
    {
     "name": "stderr",
     "output_type": "stream",
     "text": [
      "/home/icb/carlo.dedonno/anaconda3/envs/lataq_cuda/lib/python3.8/site-packages/seml/evaluation.py:80: FutureWarning: pandas.io.json.json_normalize is deprecated, use pandas.json_normalize instead\n",
      "  parsed = pd.io.json.json_normalize(parsed, sep='.')\n"
     ]
    }
   ],
   "source": [
    "scvi_results = seml.get_results('scvi', to_data_frame=True)\n",
    "for score in list(scvi_results['result.integration_scores'].loc[0].columns):\n",
    "    scvi_results[f'result.{score}'] = scvi_results['result.integration_scores'].apply(\n",
    "        lambda x: x[score]\n",
    "    )\n",
    "scvi_results = scvi_results[[\n",
    "    'config.data',\n",
    "    'result.reference_time',\n",
    "    'result.query_time',\n",
    "    'result.PCR_batch',\n",
    "    'result.graph_conn',\n",
    "    'result.ebm',\n",
    "    'result.knn'\n",
    "]]"
   ]
  },
  {
   "cell_type": "code",
   "execution_count": 24,
   "id": "36de7dd6-4dad-44ab-9406-5e83667aff60",
   "metadata": {},
   "outputs": [],
   "source": [
    "scvi_results = scvi_results.assign(method='scvi')"
   ]
  },
  {
   "cell_type": "code",
   "execution_count": 15,
   "id": "8aa989a7-7a78-4b92-bb9f-d55438432886",
   "metadata": {},
   "outputs": [
    {
     "data": {
      "application/vnd.jupyter.widget-view+json": {
       "model_id": "391d6302985047a5a5f8b4cf1f5ffbcb",
       "version_major": 2,
       "version_minor": 0
      },
      "text/plain": [
       "  0%|          | 0/4 [00:00<?, ?it/s]"
      ]
     },
     "metadata": {},
     "output_type": "display_data"
    },
    {
     "data": {
      "application/vnd.jupyter.widget-view+json": {
       "model_id": "040b002959f645cdbffe8145b1f34d03",
       "version_major": 2,
       "version_minor": 0
      },
      "text/plain": [
       "  0%|          | 0/4 [00:00<?, ?it/s]"
      ]
     },
     "metadata": {},
     "output_type": "display_data"
    },
    {
     "name": "stderr",
     "output_type": "stream",
     "text": [
      "/home/icb/carlo.dedonno/anaconda3/envs/lataq_cuda/lib/python3.8/site-packages/seml/evaluation.py:80: FutureWarning: pandas.io.json.json_normalize is deprecated, use pandas.json_normalize instead\n",
      "  parsed = pd.io.json.json_normalize(parsed, sep='.')\n"
     ]
    }
   ],
   "source": [
    "scanvi_results = seml.get_results('scanvi', to_data_frame=True)\n",
    "for score in list(scanvi_results['result.integration_scores'].loc[0].columns):\n",
    "    scanvi_results[f'result.{score}'] = scanvi_results['result.integration_scores'].apply(\n",
    "        lambda x: x[score]\n",
    "    )\n",
    "scanvi_results['result.f1-score-macro'] = scanvi_results['result.classification_report'].apply(\n",
    "    lambda x: x.loc['macro avg']['f1-score']\n",
    ")\n",
    "scanvi_results['result.f1-score-weighted'] = scanvi_results['result.classification_report'].apply(\n",
    "    lambda x: x.loc['weighted avg']['f1-score']\n",
    ")\n",
    "scanvi_results = scanvi_results[[\n",
    "    'config.data',\n",
    "    'result.reference_time',\n",
    "    'result.query_time',\n",
    "    'result.PCR_batch',\n",
    "    'result.graph_conn',\n",
    "    'result.ebm',\n",
    "    'result.knn',\n",
    "    'result.f1-score-macro',\n",
    "    'result.f1-score-weighted'\n",
    "]]"
   ]
  },
  {
   "cell_type": "code",
   "execution_count": 23,
   "id": "52ff8855-de2c-46ae-b12b-29bdc865bb6d",
   "metadata": {},
   "outputs": [],
   "source": [
    "scanvi_results = scanvi_results.assign(method='scanvi')"
   ]
  },
  {
   "cell_type": "code",
   "execution_count": 27,
   "id": "a7e48e5a-1455-4745-9186-94d093d3b766",
   "metadata": {},
   "outputs": [],
   "source": [
    "results = pd.concat([scanvi_results, scvi_results])"
   ]
  },
  {
   "cell_type": "code",
   "execution_count": 28,
   "id": "02ffc3b4-cfc1-4271-b086-ca98ccb425c0",
   "metadata": {},
   "outputs": [
    {
     "data": {
      "text/html": [
       "<div>\n",
       "<style scoped>\n",
       "    .dataframe tbody tr th:only-of-type {\n",
       "        vertical-align: middle;\n",
       "    }\n",
       "\n",
       "    .dataframe tbody tr th {\n",
       "        vertical-align: top;\n",
       "    }\n",
       "\n",
       "    .dataframe thead th {\n",
       "        text-align: right;\n",
       "    }\n",
       "</style>\n",
       "<table border=\"1\" class=\"dataframe\">\n",
       "  <thead>\n",
       "    <tr style=\"text-align: right;\">\n",
       "      <th></th>\n",
       "      <th>config.data</th>\n",
       "      <th>result.reference_time</th>\n",
       "      <th>result.query_time</th>\n",
       "      <th>result.PCR_batch</th>\n",
       "      <th>result.graph_conn</th>\n",
       "      <th>result.ebm</th>\n",
       "      <th>result.knn</th>\n",
       "      <th>result.f1-score-macro</th>\n",
       "      <th>result.f1-score-weighted</th>\n",
       "      <th>method</th>\n",
       "    </tr>\n",
       "  </thead>\n",
       "  <tbody>\n",
       "    <tr>\n",
       "      <th>0</th>\n",
       "      <td>pancreas</td>\n",
       "      <td>309.760305</td>\n",
       "      <td>33.549032</td>\n",
       "      <td>0.708918</td>\n",
       "      <td>0.844052</td>\n",
       "      <td>0.485389</td>\n",
       "      <td>0.873173</td>\n",
       "      <td>0.645804</td>\n",
       "      <td>0.960659</td>\n",
       "      <td>scanvi</td>\n",
       "    </tr>\n",
       "    <tr>\n",
       "      <th>1</th>\n",
       "      <td>pbmc</td>\n",
       "      <td>486.441077</td>\n",
       "      <td>35.019325</td>\n",
       "      <td>0.809077</td>\n",
       "      <td>0.937590</td>\n",
       "      <td>0.531115</td>\n",
       "      <td>0.890246</td>\n",
       "      <td>0.693612</td>\n",
       "      <td>0.899137</td>\n",
       "      <td>scanvi</td>\n",
       "    </tr>\n",
       "    <tr>\n",
       "      <th>2</th>\n",
       "      <td>scvelo</td>\n",
       "      <td>375.594707</td>\n",
       "      <td>99.188645</td>\n",
       "      <td>0.000000</td>\n",
       "      <td>0.983480</td>\n",
       "      <td>0.514798</td>\n",
       "      <td>0.743141</td>\n",
       "      <td>0.305524</td>\n",
       "      <td>0.397358</td>\n",
       "      <td>scanvi</td>\n",
       "    </tr>\n",
       "    <tr>\n",
       "      <th>3</th>\n",
       "      <td>lung</td>\n",
       "      <td>459.023741</td>\n",
       "      <td>125.457334</td>\n",
       "      <td>0.000000</td>\n",
       "      <td>0.804621</td>\n",
       "      <td>0.079837</td>\n",
       "      <td>0.875796</td>\n",
       "      <td>0.358808</td>\n",
       "      <td>0.546606</td>\n",
       "      <td>scanvi</td>\n",
       "    </tr>\n",
       "    <tr>\n",
       "      <th>0</th>\n",
       "      <td>pancreas</td>\n",
       "      <td>326.588772</td>\n",
       "      <td>36.241051</td>\n",
       "      <td>0.704561</td>\n",
       "      <td>0.919743</td>\n",
       "      <td>0.465892</td>\n",
       "      <td>0.853200</td>\n",
       "      <td>NaN</td>\n",
       "      <td>NaN</td>\n",
       "      <td>scvi</td>\n",
       "    </tr>\n",
       "    <tr>\n",
       "      <th>1</th>\n",
       "      <td>pbmc</td>\n",
       "      <td>519.255017</td>\n",
       "      <td>37.268888</td>\n",
       "      <td>0.845524</td>\n",
       "      <td>0.979086</td>\n",
       "      <td>0.525904</td>\n",
       "      <td>0.855542</td>\n",
       "      <td>NaN</td>\n",
       "      <td>NaN</td>\n",
       "      <td>scvi</td>\n",
       "    </tr>\n",
       "    <tr>\n",
       "      <th>2</th>\n",
       "      <td>brain</td>\n",
       "      <td>541.671607</td>\n",
       "      <td>863.084286</td>\n",
       "      <td>0.000000</td>\n",
       "      <td>0.983158</td>\n",
       "      <td>0.146577</td>\n",
       "      <td>0.917934</td>\n",
       "      <td>NaN</td>\n",
       "      <td>NaN</td>\n",
       "      <td>scvi</td>\n",
       "    </tr>\n",
       "    <tr>\n",
       "      <th>3</th>\n",
       "      <td>scvelo</td>\n",
       "      <td>418.374554</td>\n",
       "      <td>113.773172</td>\n",
       "      <td>0.026108</td>\n",
       "      <td>0.982906</td>\n",
       "      <td>0.520926</td>\n",
       "      <td>0.695023</td>\n",
       "      <td>NaN</td>\n",
       "      <td>NaN</td>\n",
       "      <td>scvi</td>\n",
       "    </tr>\n",
       "    <tr>\n",
       "      <th>4</th>\n",
       "      <td>tumor</td>\n",
       "      <td>570.896436</td>\n",
       "      <td>691.082096</td>\n",
       "      <td>0.000000</td>\n",
       "      <td>0.738755</td>\n",
       "      <td>0.188304</td>\n",
       "      <td>0.597787</td>\n",
       "      <td>NaN</td>\n",
       "      <td>NaN</td>\n",
       "      <td>scvi</td>\n",
       "    </tr>\n",
       "    <tr>\n",
       "      <th>5</th>\n",
       "      <td>lung</td>\n",
       "      <td>447.119590</td>\n",
       "      <td>111.013625</td>\n",
       "      <td>0.000000</td>\n",
       "      <td>0.922971</td>\n",
       "      <td>0.091861</td>\n",
       "      <td>0.851654</td>\n",
       "      <td>NaN</td>\n",
       "      <td>NaN</td>\n",
       "      <td>scvi</td>\n",
       "    </tr>\n",
       "  </tbody>\n",
       "</table>\n",
       "</div>"
      ],
      "text/plain": [
       "  config.data  result.reference_time  result.query_time  result.PCR_batch  \\\n",
       "0    pancreas             309.760305          33.549032          0.708918   \n",
       "1        pbmc             486.441077          35.019325          0.809077   \n",
       "2      scvelo             375.594707          99.188645          0.000000   \n",
       "3        lung             459.023741         125.457334          0.000000   \n",
       "0    pancreas             326.588772          36.241051          0.704561   \n",
       "1        pbmc             519.255017          37.268888          0.845524   \n",
       "2       brain             541.671607         863.084286          0.000000   \n",
       "3      scvelo             418.374554         113.773172          0.026108   \n",
       "4       tumor             570.896436         691.082096          0.000000   \n",
       "5        lung             447.119590         111.013625          0.000000   \n",
       "\n",
       "   result.graph_conn  result.ebm  result.knn  result.f1-score-macro  \\\n",
       "0           0.844052    0.485389    0.873173               0.645804   \n",
       "1           0.937590    0.531115    0.890246               0.693612   \n",
       "2           0.983480    0.514798    0.743141               0.305524   \n",
       "3           0.804621    0.079837    0.875796               0.358808   \n",
       "0           0.919743    0.465892    0.853200                    NaN   \n",
       "1           0.979086    0.525904    0.855542                    NaN   \n",
       "2           0.983158    0.146577    0.917934                    NaN   \n",
       "3           0.982906    0.520926    0.695023                    NaN   \n",
       "4           0.738755    0.188304    0.597787                    NaN   \n",
       "5           0.922971    0.091861    0.851654                    NaN   \n",
       "\n",
       "   result.f1-score-weighted  method  \n",
       "0                  0.960659  scanvi  \n",
       "1                  0.899137  scanvi  \n",
       "2                  0.397358  scanvi  \n",
       "3                  0.546606  scanvi  \n",
       "0                       NaN    scvi  \n",
       "1                       NaN    scvi  \n",
       "2                       NaN    scvi  \n",
       "3                       NaN    scvi  \n",
       "4                       NaN    scvi  \n",
       "5                       NaN    scvi  "
      ]
     },
     "execution_count": 28,
     "metadata": {},
     "output_type": "execute_result"
    }
   ],
   "source": [
    "results"
   ]
  },
  {
   "cell_type": "code",
   "execution_count": 29,
   "id": "f362b355-e374-44cf-82d3-35f2b1981e28",
   "metadata": {},
   "outputs": [
    {
     "data": {
      "text/plain": [
       "<AxesSubplot:xlabel='config.data', ylabel='result.ebm'>"
      ]
     },
     "execution_count": 29,
     "metadata": {},
     "output_type": "execute_result"
    },
    {
     "data": {
      "image/png": "[encoded data removed]",
      "text/plain": [
       "<Figure size 432x288 with 1 Axes>"
      ]
     },
     "metadata": {
      "needs_background": "light"
     },
     "output_type": "display_data"
    }
   ],
   "source": [
    "sns.barplot(x='config.data', y='result.ebm', hue='method', data=results)"
   ]
  },
  {
   "cell_type": "code",
   "execution_count": 30,
   "id": "7c762f8e-ac9d-4859-ac5d-6355a3f30094",
   "metadata": {},
   "outputs": [
    {
     "data": {
      "text/plain": [
       "<AxesSubplot:xlabel='config.data', ylabel='result.knn'>"
      ]
     },
     "execution_count": 30,
     "metadata": {},
     "output_type": "execute_result"
    },
    {
     "data": {
      "image/png": "[encoded data removed]",
      "text/plain": [
       "<Figure size 432x288 with 1 Axes>"
      ]
     },
     "metadata": {
      "needs_background": "light"
     },
     "output_type": "display_data"
    }
   ],
   "source": [
    "sns.barplot(x='config.data', y='result.knn', hue='method', data=results)"
   ]
  },
  {
   "cell_type": "code",
   "execution_count": 31,
   "id": "f0bb56ef-13dd-4435-b83a-3915af13d578",
   "metadata": {},
   "outputs": [
    {
     "data": {
      "text/plain": [
       "<AxesSubplot:xlabel='config.data', ylabel='result.graph_conn'>"
      ]
     },
     "execution_count": 31,
     "metadata": {},
     "output_type": "execute_result"
    },
    {
     "data": {
      "image/png": "[encoded data removed]",
      "text/plain": [
       "<Figure size 432x288 with 1 Axes>"
      ]
     },
     "metadata": {
      "needs_background": "light"
     },
     "output_type": "display_data"
    }
   ],
   "source": [
    "sns.barplot(x='config.data', y='result.graph_conn', hue='method', data=results)"
   ]
  },
  {
   "cell_type": "code",
   "execution_count": 32,
   "id": "3d6edda3-db16-41d7-af8e-28ce18740b4a",
   "metadata": {},
   "outputs": [
    {
     "data": {
      "text/plain": [
       "<AxesSubplot:xlabel='config.data', ylabel='result.PCR_batch'>"
      ]
     },
     "execution_count": 32,
     "metadata": {},
     "output_type": "execute_result"
    },
    {
     "data": {
      "image/png": "[encoded data removed]",
      "text/plain": [
       "<Figure size 432x288 with 1 Axes>"
      ]
     },
     "metadata": {
      "needs_background": "light"
     },
     "output_type": "display_data"
    }
   ],
   "source": [
    "sns.barplot(x='config.data', y='result.PCR_batch', hue='method', data=results)"
   ]
  },
  {
   "cell_type": "code",
   "execution_count": null,
   "id": "7d62d52d-8346-40fd-a9e1-96fa4a80057d",
   "metadata": {},
   "outputs": [],
   "source": []
  }
 ],
 "metadata": {
  "kernelspec": {
   "display_name": "Python 3",
   "language": "python",
   "name": "python3"
  },
  "language_info": {
   "codemirror_mode": {
    "name": "ipython",
    "version": 3
   },
   "file_extension": ".py",
   "mimetype": "text/x-python",
   "name": "python",
   "nbconvert_exporter": "python",
   "pygments_lexer": "ipython3",
   "version": "3.8.0"
  }
 },
 "nbformat": 4,
 "nbformat_minor": 5
}
