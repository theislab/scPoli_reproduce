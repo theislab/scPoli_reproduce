{
 "cells": [
  {
   "cell_type": "code",
   "execution_count": 1,
   "id": "f79e232e-722d-40d2-b67b-c26c30617bfe",
   "metadata": {},
   "outputs": [],
   "source": [
    "%load_ext autoreload\n",
    "%autoreload 2"
   ]
  },
  {
   "cell_type": "code",
   "execution_count": 2,
   "id": "319d7f81",
   "metadata": {},
   "outputs": [],
   "source": [
    "import os\n",
    "from pathlib import Path\n",
    "\n",
    "import anndata as ad\n",
    "import numpy as np\n",
    "import scanpy as sc\n",
    "import pandas as pd"
   ]
  },
  {
   "cell_type": "code",
   "execution_count": 3,
   "id": "5e774c36-5778-483c-94b8-8e4be4f93d1d",
   "metadata": {},
   "outputs": [],
   "source": [
    "DATA_FILENAME = os.path.expanduser('~/data/treeArches/M1_counts.h5ad')\n",
    "target_species = ['human']\n",
    "\n",
    "SOURCE_DATA_WRITE_FILENAME = os.path.expanduser('~/data/treeArches/M1_counts_reference.h5ad')\n",
    "TARGET_DATA_WRITE_FILENAME = os.path.expanduser('~/data/treeArches/M1_counts_query.h5ad')"
   ]
  },
  {
   "cell_type": "code",
   "execution_count": 4,
   "id": "1c6c58bb-3cc5-45fe-ade4-1dcfd730699b",
   "metadata": {},
   "outputs": [
    {
     "data": {
      "text/plain": [
       "AnnData object with n_obs × n_vars = 305638 × 15680\n",
       "    obs: 'orig.ident', 'nCount_RNA', 'nFeature_RNA', 'Class', 'Subclass', 'RNA_cluster', 'Cross_species', 'species'\n",
       "    var: 'features'"
      ]
     },
     "execution_count": 4,
     "metadata": {},
     "output_type": "execute_result"
    }
   ],
   "source": [
    "adata = sc.read(DATA_FILENAME)\n",
    "adata.var.drop(columns='_index', inplace=True)\n",
    "adata"
   ]
  },
  {
   "cell_type": "code",
   "execution_count": 5,
   "id": "43e236c2-5e7e-4bf8-a8b3-7bd603241949",
   "metadata": {},
   "outputs": [
    {
     "name": "stdout",
     "output_type": "stream",
     "text": [
      "AnnData object with n_obs × n_vars = 229017 × 15680\n",
      "    obs: 'orig.ident', 'nCount_RNA', 'nFeature_RNA', 'Class', 'Subclass', 'RNA_cluster', 'Cross_species', 'species'\n",
      "    var: 'features'\n",
      "AnnData object with n_obs × n_vars = 76621 × 15680\n",
      "    obs: 'orig.ident', 'nCount_RNA', 'nFeature_RNA', 'Class', 'Subclass', 'RNA_cluster', 'Cross_species', 'species'\n",
      "    var: 'features'\n"
     ]
    }
   ],
   "source": [
    "source_adata = adata[~adata.obs.species.isin(target_species)].copy()\n",
    "target_adata = adata[adata.obs.species.isin(target_species)].copy()\n",
    "print(source_adata)\n",
    "print(target_adata)"
   ]
  },
  {
   "cell_type": "code",
   "execution_count": 6,
   "id": "2124015b-4016-4f73-b3b7-eaf064fb88ee",
   "metadata": {},
   "outputs": [],
   "source": [
    "del adata"
   ]
  },
  {
   "cell_type": "code",
   "execution_count": 7,
   "id": "0678f17a-5ab4-4706-b154-3acd369a902a",
   "metadata": {},
   "outputs": [
    {
     "name": "stderr",
     "output_type": "stream",
     "text": [
      "/home/icb/amirali.moinfar/miniconda3/envs/lataq/lib/python3.8/site-packages/scanpy/preprocessing/_highly_variable_genes.py:485: FutureWarning: The frame.append method is deprecated and will be removed from pandas in a future version. Use pandas.concat instead.\n",
      "  hvg = hvg.append(missing_hvg, ignore_index=True)\n",
      "/home/icb/amirali.moinfar/miniconda3/envs/lataq/lib/python3.8/site-packages/scanpy/preprocessing/_highly_variable_genes.py:485: FutureWarning: The frame.append method is deprecated and will be removed from pandas in a future version. Use pandas.concat instead.\n",
      "  hvg = hvg.append(missing_hvg, ignore_index=True)\n"
     ]
    }
   ],
   "source": [
    "source_adata.raw = source_adata\n",
    "\n",
    "sc.pp.normalize_total(source_adata)\n",
    "sc.pp.log1p(source_adata)\n",
    "\n",
    "sc.pp.highly_variable_genes(\n",
    "    source_adata,\n",
    "    n_top_genes=2000,\n",
    "    batch_key=\"species\",\n",
    "    subset=True)"
   ]
  },
  {
   "cell_type": "code",
   "execution_count": 8,
   "id": "8769d4d1-e192-46e5-b5c8-cdfca77a2926",
   "metadata": {},
   "outputs": [
    {
     "name": "stderr",
     "output_type": "stream",
     "text": [
      "/tmp/ipykernel_1842498/1780026703.py:1: FutureWarning: X.dtype being converted to np.float32 from float64. In the next version of anndata (0.9) conversion will not be automatic. Pass dtype explicitly to avoid this warning. Pass `AnnData(X, dtype=X.dtype, ...)` to get the future behavour.\n",
      "  source_adata = ad.AnnData(source_adata.raw[:, source_adata.var_names].X,\n",
      "/tmp/ipykernel_1842498/1780026703.py:4: FutureWarning: X.dtype being converted to np.float32 from float64. In the next version of anndata (0.9) conversion will not be automatic. Pass dtype explicitly to avoid this warning. Pass `AnnData(X, dtype=X.dtype, ...)` to get the future behavour.\n",
      "  target_adata = ad.AnnData(target_adata.raw[:, source_adata.var_names].X,\n"
     ]
    }
   ],
   "source": [
    "source_adata = ad.AnnData(source_adata.raw[:, source_adata.var_names].X, \n",
    "                          obs=source_adata.obs,\n",
    "                          var=source_adata.var.loc[source_adata.var_names])\n",
    "target_adata = ad.AnnData(target_adata.raw[:, source_adata.var_names].X,\n",
    "                          obs=target_adata.obs,\n",
    "                          var=target_adata.var.loc[source_adata.var_names])"
   ]
  },
  {
   "cell_type": "code",
   "execution_count": 9,
   "id": "cae9586f-fa84-4d14-b780-bf0ac8ed2cb5",
   "metadata": {},
   "outputs": [
    {
     "data": {
      "text/html": [
       "<div>\n",
       "<style scoped>\n",
       "    .dataframe tbody tr th:only-of-type {\n",
       "        vertical-align: middle;\n",
       "    }\n",
       "\n",
       "    .dataframe tbody tr th {\n",
       "        vertical-align: top;\n",
       "    }\n",
       "\n",
       "    .dataframe thead th {\n",
       "        text-align: right;\n",
       "    }\n",
       "</style>\n",
       "<table border=\"1\" class=\"dataframe\">\n",
       "  <thead>\n",
       "    <tr style=\"text-align: right;\">\n",
       "      <th></th>\n",
       "      <th>features</th>\n",
       "      <th>highly_variable</th>\n",
       "      <th>means</th>\n",
       "      <th>dispersions</th>\n",
       "      <th>dispersions_norm</th>\n",
       "      <th>highly_variable_nbatches</th>\n",
       "      <th>highly_variable_intersection</th>\n",
       "    </tr>\n",
       "  </thead>\n",
       "  <tbody>\n",
       "    <tr>\n",
       "      <th>4</th>\n",
       "      <td>ISG15/ISG15/Isg15</td>\n",
       "      <td>True</td>\n",
       "      <td>0.031450</td>\n",
       "      <td>1.041715</td>\n",
       "      <td>1.775931</td>\n",
       "      <td>1</td>\n",
       "      <td>False</td>\n",
       "    </tr>\n",
       "    <tr>\n",
       "      <th>20</th>\n",
       "      <td>MXRA8/MXRA8/Mxra8</td>\n",
       "      <td>True</td>\n",
       "      <td>0.075337</td>\n",
       "      <td>0.695115</td>\n",
       "      <td>1.093447</td>\n",
       "      <td>1</td>\n",
       "      <td>False</td>\n",
       "    </tr>\n",
       "    <tr>\n",
       "      <th>24</th>\n",
       "      <td>TMEM88B/TMEM88B/Tmem88b</td>\n",
       "      <td>True</td>\n",
       "      <td>0.078610</td>\n",
       "      <td>0.860682</td>\n",
       "      <td>1.436497</td>\n",
       "      <td>2</td>\n",
       "      <td>True</td>\n",
       "    </tr>\n",
       "    <tr>\n",
       "      <th>25</th>\n",
       "      <td>VWA1/VWA1/Vwa1</td>\n",
       "      <td>True</td>\n",
       "      <td>0.086747</td>\n",
       "      <td>0.942404</td>\n",
       "      <td>1.585226</td>\n",
       "      <td>1</td>\n",
       "      <td>False</td>\n",
       "    </tr>\n",
       "    <tr>\n",
       "      <th>45</th>\n",
       "      <td>HES5/HES5/Hes5</td>\n",
       "      <td>True</td>\n",
       "      <td>0.128222</td>\n",
       "      <td>1.086468</td>\n",
       "      <td>1.808821</td>\n",
       "      <td>2</td>\n",
       "      <td>True</td>\n",
       "    </tr>\n",
       "    <tr>\n",
       "      <th>...</th>\n",
       "      <td>...</td>\n",
       "      <td>...</td>\n",
       "      <td>...</td>\n",
       "      <td>...</td>\n",
       "      <td>...</td>\n",
       "      <td>...</td>\n",
       "      <td>...</td>\n",
       "    </tr>\n",
       "    <tr>\n",
       "      <th>15534</th>\n",
       "      <td>TFAP2B/TFAP2B/Tfap2b</td>\n",
       "      <td>True</td>\n",
       "      <td>0.010419</td>\n",
       "      <td>0.836281</td>\n",
       "      <td>1.323726</td>\n",
       "      <td>1</td>\n",
       "      <td>False</td>\n",
       "    </tr>\n",
       "    <tr>\n",
       "      <th>15550</th>\n",
       "      <td>TNFSF13/TNFSF13/Tnfsf13</td>\n",
       "      <td>True</td>\n",
       "      <td>0.015290</td>\n",
       "      <td>0.458414</td>\n",
       "      <td>0.933954</td>\n",
       "      <td>1</td>\n",
       "      <td>False</td>\n",
       "    </tr>\n",
       "    <tr>\n",
       "      <th>15605</th>\n",
       "      <td>FGFBP1/FGFBP1/Fgfbp1</td>\n",
       "      <td>True</td>\n",
       "      <td>0.005051</td>\n",
       "      <td>0.686351</td>\n",
       "      <td>1.377602</td>\n",
       "      <td>1</td>\n",
       "      <td>False</td>\n",
       "    </tr>\n",
       "    <tr>\n",
       "      <th>15633</th>\n",
       "      <td>RNASE12/RNASE12/Rnase12</td>\n",
       "      <td>True</td>\n",
       "      <td>0.000278</td>\n",
       "      <td>0.509392</td>\n",
       "      <td>0.921526</td>\n",
       "      <td>1</td>\n",
       "      <td>False</td>\n",
       "    </tr>\n",
       "    <tr>\n",
       "      <th>15649</th>\n",
       "      <td>HOXB4/HOXB4/Hoxb4</td>\n",
       "      <td>True</td>\n",
       "      <td>0.000468</td>\n",
       "      <td>0.473456</td>\n",
       "      <td>0.828907</td>\n",
       "      <td>1</td>\n",
       "      <td>False</td>\n",
       "    </tr>\n",
       "  </tbody>\n",
       "</table>\n",
       "<p>2000 rows × 7 columns</p>\n",
       "</div>"
      ],
      "text/plain": [
       "                      features  highly_variable     means  dispersions  \\\n",
       "4            ISG15/ISG15/Isg15             True  0.031450     1.041715   \n",
       "20           MXRA8/MXRA8/Mxra8             True  0.075337     0.695115   \n",
       "24     TMEM88B/TMEM88B/Tmem88b             True  0.078610     0.860682   \n",
       "25              VWA1/VWA1/Vwa1             True  0.086747     0.942404   \n",
       "45              HES5/HES5/Hes5             True  0.128222     1.086468   \n",
       "...                        ...              ...       ...          ...   \n",
       "15534     TFAP2B/TFAP2B/Tfap2b             True  0.010419     0.836281   \n",
       "15550  TNFSF13/TNFSF13/Tnfsf13             True  0.015290     0.458414   \n",
       "15605     FGFBP1/FGFBP1/Fgfbp1             True  0.005051     0.686351   \n",
       "15633  RNASE12/RNASE12/Rnase12             True  0.000278     0.509392   \n",
       "15649        HOXB4/HOXB4/Hoxb4             True  0.000468     0.473456   \n",
       "\n",
       "       dispersions_norm  highly_variable_nbatches  \\\n",
       "4              1.775931                         1   \n",
       "20             1.093447                         1   \n",
       "24             1.436497                         2   \n",
       "25             1.585226                         1   \n",
       "45             1.808821                         2   \n",
       "...                 ...                       ...   \n",
       "15534          1.323726                         1   \n",
       "15550          0.933954                         1   \n",
       "15605          1.377602                         1   \n",
       "15633          0.921526                         1   \n",
       "15649          0.828907                         1   \n",
       "\n",
       "       highly_variable_intersection  \n",
       "4                             False  \n",
       "20                            False  \n",
       "24                             True  \n",
       "25                            False  \n",
       "45                             True  \n",
       "...                             ...  \n",
       "15534                         False  \n",
       "15550                         False  \n",
       "15605                         False  \n",
       "15633                         False  \n",
       "15649                         False  \n",
       "\n",
       "[2000 rows x 7 columns]"
      ]
     },
     "execution_count": 9,
     "metadata": {},
     "output_type": "execute_result"
    }
   ],
   "source": [
    "source_adata.var"
   ]
  },
  {
   "cell_type": "code",
   "execution_count": 10,
   "id": "09873aa5-6e17-4c1a-a033-061e9a2a18d7",
   "metadata": {},
   "outputs": [],
   "source": [
    "source_adata.write(SOURCE_DATA_WRITE_FILENAME)\n",
    "target_adata.write(TARGET_DATA_WRITE_FILENAME)"
   ]
  },
  {
   "cell_type": "code",
   "execution_count": null,
   "id": "cbafc5c3-c29a-4876-8b46-275071c691ed",
   "metadata": {},
   "outputs": [],
   "source": []
  }
 ],
 "metadata": {
  "kernelspec": {
   "display_name": "lataq",
   "language": "python",
   "name": "lataq"
  },
  "language_info": {
   "codemirror_mode": {
    "name": "ipython",
    "version": 3
   },
   "file_extension": ".py",
   "mimetype": "text/x-python",
   "name": "python",
   "nbconvert_exporter": "python",
   "pygments_lexer": "ipython3",
   "version": "3.8.13"
  }
 },
 "nbformat": 4,
 "nbformat_minor": 5
}
